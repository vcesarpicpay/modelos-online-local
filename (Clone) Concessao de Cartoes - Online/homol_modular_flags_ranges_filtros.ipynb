{
 "cells": [
  {
   "cell_type": "code",
   "execution_count": 0,
   "metadata": {
    "application/vnd.databricks.v1+cell": {
     "cellMetadata": {
      "byteLimit": 2048000,
      "rowLimit": 10000
     },
     "inputWidgets": {},
     "nuid": "6b01e65b-20e0-41f4-9132-0cd228cd517e",
     "showTitle": false,
     "title": ""
    }
   },
   "outputs": [],
   "source": [
    "# Restarta python caso necessário.\n",
    "from databricks.sdk.runtime import *\n",
    "dbutils.library.restartPython()"
   ]
  },
  {
   "cell_type": "markdown",
   "metadata": {
    "application/vnd.databricks.v1+cell": {
     "cellMetadata": {
      "byteLimit": 2048000,
      "rowLimit": 10000
     },
     "inputWidgets": {},
     "nuid": "b3b97d92-0875-4e4c-955e-6a4fd7e0382d",
     "showTitle": false,
     "title": ""
    }
   },
   "source": [
    "# Import de Funções e Libs"
   ]
  },
  {
   "cell_type": "markdown",
   "metadata": {
    "application/vnd.databricks.v1+cell": {
     "cellMetadata": {
      "byteLimit": 2048000,
      "rowLimit": 10000
     },
     "inputWidgets": {},
     "nuid": "405da4ba-d5f5-455b-a186-c9d95020d656",
     "showTitle": false,
     "title": ""
    }
   },
   "source": [
    "As bibliotecas e funções utilizadas ao longo do código devem ser adicionadas aqui"
   ]
  },
  {
   "cell_type": "code",
   "execution_count": 0,
   "metadata": {
    "application/vnd.databricks.v1+cell": {
     "cellMetadata": {
      "byteLimit": 2048000,
      "rowLimit": 10000
     },
     "inputWidgets": {},
     "nuid": "35818e65-0b3a-4169-95bd-6cd1200b6873",
     "showTitle": false,
     "title": ""
    }
   },
   "outputs": [],
   "source": [
    "import numpy as np\n",
    "import pandas as pd\n",
    "import requests\n",
    "import json\n",
    "import sherlock\n",
    "import regras_politica as rp"
   ]
  },
  {
   "cell_type": "markdown",
   "metadata": {
    "application/vnd.databricks.v1+cell": {
     "cellMetadata": {
      "byteLimit": 2048000,
      "rowLimit": 10000
     },
     "inputWidgets": {},
     "nuid": "3b7b68fb-aa65-4c07-9239-80ff0bcf60b8",
     "showTitle": false,
     "title": ""
    }
   },
   "source": [
    "### Testes Modulares - Referente ao tópico 2 - 2.1 Criação de flags, ranges, filtros"
   ]
  },
  {
   "cell_type": "markdown",
   "metadata": {
    "application/vnd.databricks.v1+cell": {
     "cellMetadata": {
      "byteLimit": 2048000,
      "rowLimit": 10000
     },
     "inputWidgets": {},
     "nuid": "53c9e1f4-296e-473a-ae84-1d12f5c9a473",
     "showTitle": false,
     "title": ""
    }
   },
   "source": [
    "### Geração de Massa"
   ]
  },
  {
   "cell_type": "code",
   "execution_count": 0,
   "metadata": {
    "application/vnd.databricks.v1+cell": {
     "cellMetadata": {
      "byteLimit": 2048000,
      "rowLimit": 10000
     },
     "inputWidgets": {},
     "nuid": "3ad16f05-f504-4bef-8a27-b4759d823845",
     "showTitle": false,
     "title": ""
    }
   },
   "outputs": [],
   "source": [
    "#Gerando a massa modelo passando o caminho do JSON como nome da variável\n",
    "base_entrada = pd.DataFrame({'solicitante.numeroDocumento':['123456789'],\n",
    "                             'solicitante.dataAdmissaoFopag':[\"2002-11-05T17:18:43.888Z\"],\n",
    "                             'solicitante.dataRegistroPrimeiroContrato':[\"2002-11-05T17:18:43.888Z\"],\n",
    "                             'solicitante.dataRegistro':[\"2002-11-05T17:18:43.888Z\"],\n",
    "                             'solicitante.flagMAT30d':[0],\n",
    "                             'solicitante.flagMAT60d':[0],\n",
    "                             'solicitante.flagMAT90d':[0],\n",
    "                             'solicitante.fonteRenda':['XYZ'],\n",
    "                             'solicitante.flagPortabilidade':[0],\n",
    "                             'solicitante.rendaLiquidaPicpay':[10000],\n",
    "                             'solicitante.consumerID':[12345678987654321],\n",
    "                             'solicitante.scoreAppSerasa':[999],\n",
    "                             'solicitante.scoreInternoLongo':[999],\n",
    "                             'solicitante.scoreInterno':[999],\n",
    "                             'solicitante.investimentoTotal':[0.0],\n",
    "                             'solicitante.flagInvestimentoPrincipalidade':[0],\n",
    "                             'solicitante.flagPrincipalidadeAll':[0],\n",
    "                             'solicitante.flagPrincipalidade':[0],\n",
    "                             'solicitante.mesFlagPrincipalidade':[0],\n",
    "                             'solicitante.flagAllowlist':[\"-99999\"],\n",
    "                             'solicitante.flagBlocklist':[\"-99999\"],\n",
    "                             'solicitante.scoreInternoCurto':[959],\n",
    "                             'solicitante.scoreExterno':[959],\n",
    "                             'solicitante.flagCartaoCreditoContratado':[0],\n",
    "                             'solicitante.flagLimiteGarantidoContratado':[0]\n",
    "                            })"
   ]
  },
  {
   "cell_type": "code",
   "execution_count": 0,
   "metadata": {
    "application/vnd.databricks.v1+cell": {
     "cellMetadata": {
      "byteLimit": 2048000,
      "rowLimit": 10000
     },
     "inputWidgets": {},
     "nuid": "17fabf92-6aa2-4318-9a02-88c781717310",
     "showTitle": false,
     "title": ""
    }
   },
   "outputs": [],
   "source": [
    "#Criação das massas com casos forçados\n",
    "#Digito CPF Concomitante CP\n",
    "massa_DigitoCPFConcomitanteCP = sherlock.Gera_Massa(base_entrada)\n",
    "massa_DigitoCPFConcomitanteCP.gera_cenario('solicitante.numeroDocumento',['123456789','123450089','123450089','123451189',\n",
    "                                                               '123452289', '123453389','123454489','123455589',\n",
    "                                                               '123456689','123457789','123458889','123459989',\n",
    "                                                               '123452189','123452389','123453289','123457689',\n",
    "                                                               '123450089','987654321','121212121'])\n",
    "massa_DigitoCPFConcomitanteCP = massa_DigitoCPFConcomitanteCP.get_massa_final()\n",
    "\n",
    "#RDG Grupo Small Limits\n",
    "massa_RDGGrupoSmallLimits = sherlock.Gera_Massa(base_entrada)\n",
    "massa_RDGGrupoSmallLimits.gera_cenario('solicitante.numeroDocumento',['123456789','123400789','123411789','123422789','123433789','123455789','123466789',\n",
    "                                                                      '123477789','123488789','123499789','123445789','123454789','123432789','123423789',\n",
    "                                                                      '121212121','987654321'])\n",
    "massa_RDGGrupoSmallLimits = massa_RDGGrupoSmallLimits.get_massa_final()\n",
    "\n",
    "##Data de admissão\n",
    "massa_dataAdmissao = sherlock.Gera_Massa(base_entrada)\n",
    "massa_dataAdmissao.gera_cenario('solicitante.dataAdmissaoFopag',[\"2002-11-05T17:18:43.888Z\",\"2024-12-26T17:18:43.888Z\",\"2024-01-20T00:00:00.888Z\",\"1001-01-01\"])\n",
    "massa_dataAdmissao.gera_cenario('solicitante.dataRegistroPrimeiroContrato',[\"2002-11-05T17:18:43.888Z\",\"2024-12-26T17:18:43.888Z\",\"2024-01-20T00:00:00.888Z\",\"1001-01-01\"])\n",
    "massa_dataAdmissao.gera_cenario('solicitante.dataRegistro',[\"2002-11-05T17:18:43.888Z\",\"2024-12-26T17:18:43.888Z\",\"2024-01-20T00:00:00.888Z\",\"1001-01-01\"])\n",
    "massa_dataAdmissao = massa_dataAdmissao.get_massa_final()\n",
    "\n",
    "#Data de admissão em meses\n",
    "massa_dataAdmissaoMeses = sherlock.Gera_Massa(base_entrada)\n",
    "massa_dataAdmissaoMeses.gera_cenario('solicitante.dataAdmissaoFopag',[\"2023-11-05T17:18:43.888Z\",\"2024-02-26T10:00:00.888Z\",\n",
    "                                                                      \"2024-01-26T10:00:00.888Z\",\"2024-02-20T10:00:00.888Z\",\n",
    "                                                                      \"1001-01-01\"])\n",
    "massa_dataAdmissaoMeses.gera_cenario('solicitante.dataRegistroPrimeiroContrato',[\"2023-11-05T17:18:43.888Z\",\"2024-02-26T10:00:00.888Z\",\n",
    "                                                                                 \"2024-01-26T10:00:00.888Z\",\"2024-02-20T10:00:00.888Z\",\n",
    "                                                                                 \"1001-01-01\"])\n",
    "massa_dataAdmissaoMeses.gera_cenario('solicitante.dataRegistro',[\"2023-11-05T17:18:43.888Z\",\"2024-02-26T10:00:00.888Z\",\n",
    "                                                                 \"2024-01-26T10:00:00.888Z\",\"2024-02-20T10:00:00.888Z\",\n",
    "                                                                 \"1001-01-01\"])\n",
    "massa_dataAdmissaoMeses = massa_dataAdmissaoMeses.get_massa_final()\n",
    "\n",
    "#Cliente existente - 59, 60 e 61 dias de dif, aqui precisamos atualizar a data no momento de gerar a massa.\n",
    "massa_clienteExistente = sherlock.Gera_Massa(base_entrada)\n",
    "massa_clienteExistente.gera_cenario('solicitante.dataRegistro',[\"2024-02-09T16:48:17.760337Z\",\n",
    "                                                                \"2024-02-08T16:48:17.760337Z\",\n",
    "                                                                \"2024-02-07T16:48:17.760337Z\",\n",
    "                                                                \"1001-01-01\"])\n",
    "massa_clienteExistente = massa_clienteExistente.get_massa_final()\n",
    "\n",
    "#Cliente MAT\n",
    "massa_clienteMAT = sherlock.Gera_Massa(base_entrada)\n",
    "massa_clienteMAT.gera_cenario('solicitante.flagMAT30d',[0,1,2,3,4,5,6,7,8,9,-99999])\n",
    "massa_clienteMAT = massa_clienteMAT.get_massa_final()\n",
    "\n",
    "#ClienteMATRecorrencia\n",
    "massa_clienteMATRecorrencia = sherlock.Gera_Massa(base_entrada)\n",
    "massa_clienteMATRecorrencia.gera_cenario('solicitante.flagMAT30d',[0,1,2,3,4,5,6,7,8,9,-99999])\n",
    "massa_clienteMATRecorrencia.gera_cenario('solicitante.flagMAT60d',[0,1,2,3,4,5,6,7,8,9,-99999])\n",
    "massa_clienteMATRecorrencia.gera_cenario('solicitante.flagMAT90d',[0,1,2,3,4,5,6,7,8,9,-99999])\n",
    "massa_clienteMATRecorrencia = massa_clienteMATRecorrencia.get_massa_final()\n",
    "\n",
    "#Cliente Fopag\n",
    "massa_clienteFoPag = sherlock.Gera_Massa(base_entrada)\n",
    "massa_clienteFoPag.gera_cenario('solicitante.fonteRenda',['XYZ ABC','01. Fopag','01. FOPAG','1. Fopag','-1'])\n",
    "massa_clienteFoPag.gera_cenario('solicitante.flagPortabilidade',[0,1,2,3,4,5,6,7,8,9,-99999])\n",
    "massa_clienteFoPag = massa_clienteFoPag.get_massa_final()\n",
    "\n",
    "#Renda inexistente\n",
    "massa_rendaInexistente = sherlock.Gera_Massa(base_entrada)\n",
    "massa_rendaInexistente.gera_cenario('solicitante.rendaLiquidaPicpay',[-99999,0,1,600,1000,10000])\n",
    "massa_rendaInexistente = massa_rendaInexistente.get_massa_final()\n",
    "\n",
    "#Cliente novo - 59, 60 e 61 dias de dif, aqui precisamos atualizar a data no momento de gerar a massa.\n",
    "massa_clienteExistente = sherlock.Gera_Massa(base_entrada)\n",
    "massa_clienteExistente.gera_cenario('solicitante.dataRegistro',[\"2024-02-09T16:48:17.760337Z\",\n",
    "                                                                \"2024-02-08T16:48:17.760337Z\",\n",
    "                                                                \"2024-02-07T16:48:17.760337Z\",\n",
    "                                                                \"1001-01-01\"])\n",
    "massa_clienteExistente = massa_clienteExistente.get_massa_final()\n",
    "\n",
    "#Nao Cliente (mar Aberto)\n",
    "massa_naoCliente = sherlock.Gera_Massa(base_entrada)\n",
    "massa_naoCliente.gera_cenario('solicitante.dataRegistro',[\"2024-01-20T13:27:50.863021Z\",\n",
    "                                                                \"2024-01-19T13:27:50.863021Z\",\n",
    "                                                                \"2024-01-18T13:27:50.863021Z\",\n",
    "                                                                \"1001-01-01\"])\n",
    "massa_naoCliente.gera_cenario('solicitante.consumerID',[-99999,12345678987654321,999999999987654321])\n",
    "massa_naoCliente = massa_naoCliente.get_massa_final()\n",
    "\n",
    "#Score Serasa Inválido\n",
    "massa_scoreSerasaInvalido = sherlock.Gera_Massa(base_entrada)\n",
    "massa_scoreSerasaInvalido.gera_cenario('solicitante.scoreAppSerasa',[-99999,453,454,455,999])\n",
    "massa_scoreSerasaInvalido = massa_scoreSerasaInvalido.get_massa_final()\n",
    "\n",
    "#Sem Informação de Score - 59, 60 e 61 dias de dif, aqui precisamos atualizar a data no momento de gerar a massa.\n",
    "massa_semInfoScore = sherlock.Gera_Massa(base_entrada)\n",
    "massa_semInfoScore.gera_cenario('solicitante.consumerID',[-99999,12345678987654321])\n",
    "massa_semInfoScore.gera_cenario('solicitante.scoreInternoLongo',[-99999,453,999])\n",
    "massa_semInfoScore.gera_cenario('solicitante.scoreInterno',[-99999,453,999])\n",
    "massa_semInfoScore.gera_cenario('solicitante.scoreExterno',[-99999,453,999])\n",
    "massa_semInfoScore.gera_cenario('solicitante.dataRegistro',[\"2023-12-27T10:10:00.888Z\",\n",
    "                                                          \"2023-12-28T10:10:00.888Z\",\n",
    "                                                          \"2023-12-29T10:10:00.888Z\",\n",
    "                                                          \"1001-01-01\"])\n",
    "massa_semInfoScore = massa_semInfoScore.get_massa_final()\n",
    "\n",
    "#Valor Total Investido\n",
    "massa_totalInvestido = sherlock.Gera_Massa(base_entrada)\n",
    "massa_totalInvestido.gera_cenario('solicitante.investimentoTotal',[-99999,0,100,200,300,400,500,600,700,800,900,1000,2000,3000,4000,5000,6000])\n",
    "massa_totalInvestido.gera_cenario('solicitante.investimentoTotal',[-99999,0,100,200,300,400,500,600,700,800,900,1000,2000,3000,4000,5000,6000])\n",
    "massa_totalInvestido = massa_totalInvestido.get_massa_final()\n",
    "\n",
    "#Percentual da Renda em investimento e #Investidor Original\n",
    "massa_pctRendaInvest = sherlock.Gera_Massa(base_entrada)\n",
    "massa_pctRendaInvest.gera_cenario('solicitante.investimentoTotal',[-99999,0,100,200,300,400,500,600,700,800,900,1000,2000,3000,4000,5000,6000])\n",
    "massa_pctRendaInvest.gera_cenario('solicitante.rendaLiquidaPicpay',[-99999,0,200,300,301,1000])\n",
    "massa_pctRendaInvest = massa_pctRendaInvest.get_massa_final()\n",
    "\n",
    "#Principaliadde de investimento\n",
    "massa_principalidadeInvestimento = sherlock.Gera_Massa(base_entrada)\n",
    "massa_principalidadeInvestimento.gera_cenario('solicitante.investimentoTotal',[-99999,0,2000,3000])\n",
    "massa_principalidadeInvestimento.gera_cenario('solicitante.rendaLiquidaPicpay',[-99999,0,1000])\n",
    "massa_principalidadeInvestimento.gera_cenario('solicitante.flagInvestimentoPrincipalidade',[1,0])\n",
    "massa_principalidadeInvestimento = massa_principalidadeInvestimento.get_massa_final()\n",
    "\n",
    "#Principaliadde em todos os critérios\n",
    "massa_principalidadeTodosCriterios = sherlock.Gera_Massa(base_entrada)\n",
    "massa_principalidadeTodosCriterios.gera_cenario('solicitante.flagPrincipalidade',[1,0])\n",
    "massa_principalidadeTodosCriterios.gera_cenario('solicitante.flagPrincipalidadeAll',[1,0])\n",
    "massa_principalidadeTodosCriterios.gera_cenario('solicitante.mesFlagPrincipalidade',[-99999,0,1,2,3,4,5,6,7,8,9,10,11,12])\n",
    "massa_principalidadeTodosCriterios = massa_principalidadeTodosCriterios.get_massa_final()\n",
    "\n",
    "#Principalidade em todos os Critérios com Recorrência\n",
    "massa_principalidadeRecorrencia = sherlock.Gera_Massa(base_entrada)\n",
    "massa_principalidadeRecorrencia.gera_cenario('solicitante.flagPrincipalidade',[1,0])\n",
    "massa_principalidadeRecorrencia.gera_cenario('solicitante.flagPrincipalidadeAll',[1,0])\n",
    "massa_principalidadeRecorrencia.gera_cenario('solicitante.mesFlagPrincipalidade',[-99999,0,1,2,3,4,5,6,7,8,9,10,11,12])\n",
    "massa_principalidadeRecorrencia = massa_principalidadeRecorrencia.get_massa_final()\n",
    "\n",
    "#Cliente Blindado\n",
    "massa_clienteBlindado = sherlock.Gera_Massa(base_entrada)\n",
    "massa_clienteBlindado.gera_cenario('solicitante.flagAllowlist',[\"-99999\",\"CaRtAo picpay CoNcEsSaO\",\"cartao picpay concessao\",\n",
    "                                                                \"Cartao PicPay Concessao\",\"xpto Concessao\",\"Cartao XYZ\",\n",
    "                                                                \"Cartao PicPay ABC\",\"Overall XYZ\",\"Cartao Overall XYZ\",\n",
    "                                                                \"xyz Overall\",\"Overall\",\"overall\"\n",
    "                                                                ])\n",
    "massa_clienteBlindado = massa_clienteBlindado.get_massa_final()\n",
    "\n",
    "#Cliente Bloqueado\n",
    "massa_clienteBloqueado = sherlock.Gera_Massa(base_entrada)\n",
    "massa_clienteBloqueado.gera_cenario('solicitante.flagBlocklist',[\"-99999\",\"CaRtAo picpay CoNcEsSaO\",\"cartao picpay concessao\",\n",
    "                                                                \"Cartao PicPay Concessao\",\"xpto Concessao\",\"Cartao XYZ\",\n",
    "                                                                \"Cartao PicPay ABC\",\"Overall XYZ\",\"Cartao Overall XYZ\",\n",
    "                                                                \"xyz Overall\",\"Overall\",\"overall\"\n",
    "                                                                ])\n",
    "massa_clienteBloqueado = massa_clienteBloqueado.get_massa_final()\n",
    "\n",
    "#Faixa renda liquida\n",
    "massa_faixaRendaLiquida = sherlock.Gera_Massa(base_entrada)\n",
    "massa_faixaRendaLiquida.gera_cenario('solicitante.rendaLiquidaPicpay',[-99999,0,3999,4000,4001,5000,6000,7000,8000,9000,9999,10000,10001,99999])\n",
    "massa_faixaRendaLiquida = massa_faixaRendaLiquida.get_massa_final()\n",
    "\n",
    "#Faixa de Renda Bruta\n",
    "massa_faixaRendaBruta = sherlock.Gera_Massa(base_entrada)\n",
    "massa_faixaRendaBruta.gera_cenario('solicitante.rendaLiquidaPicpay',[-99999,0,3442.36,3442.37,3442.38,7499.15,7499.16,7499.17,11124.15,11124.16,11124.17])\n",
    "massa_faixaRendaBruta = massa_faixaRendaBruta.get_massa_final()\n",
    "\n",
    "#Faixa de Score Interno Curto\n",
    "massa_faixaScoreInternoCurto = sherlock.Gera_Massa(base_entrada)\n",
    "massa_faixaScoreInternoCurto.gera_cenario('solicitante.scoreInternoCurto',[-99999,0,731,732,733,806,807,808,846,847,848,\n",
    "                                                                    882,883,884,899,900,901,913,914,915,925,\n",
    "                                                                    926,927,937,938,939,953, 954,955,999])\n",
    "massa_faixaScoreInternoCurto = massa_faixaScoreInternoCurto.get_massa_final()\n",
    "\n",
    "#Faixa de Score Externo\n",
    "massa_faixaScoreExterno = sherlock.Gera_Massa(base_entrada)\n",
    "massa_faixaScoreExterno.gera_cenario('solicitante.scoreExterno',[-99999,0,879,880,881,907,908,909,922,923,924,934,935,936,943,944,945,951,952,953,958,959,960,965,966,967,970,971,972,999])\n",
    "massa_faixaScoreExterno = massa_faixaScoreExterno.get_massa_final()\n",
    "\n",
    "#Empilha todos casos com 1 caso padrão.\n",
    "massa_final_flags_ranges_filtros = sherlock.Gera_Massa(base_entrada)\n",
    "massa_final_flags_ranges_filtros.empilha_massas([massa_DigitoCPFConcomitanteCP,\n",
    "                                                 massa_RDGGrupoSmallLimits,\n",
    "                                                 massa_dataAdmissao,\n",
    "                                                 massa_dataAdmissaoMeses,\n",
    "                                                 massa_clienteExistente,\n",
    "                                                 massa_clienteMAT,\n",
    "                                                 massa_clienteMATRecorrencia,\n",
    "                                                 massa_clienteFoPag,\n",
    "                                                 massa_rendaInexistente,\n",
    "                                                 massa_clienteExistente,\n",
    "                                                 massa_naoCliente,\n",
    "                                                 massa_scoreSerasaInvalido,\n",
    "                                                 massa_semInfoScore,\n",
    "                                                 massa_totalInvestido,\n",
    "                                                 massa_pctRendaInvest,\n",
    "                                                 massa_principalidadeInvestimento,\n",
    "                                                 massa_principalidadeTodosCriterios,\n",
    "                                                 massa_principalidadeRecorrencia,\n",
    "                                                 massa_clienteBlindado,\n",
    "                                                 massa_clienteBloqueado,\n",
    "                                                 massa_faixaRendaLiquida,\n",
    "                                                 massa_faixaRendaBruta,\n",
    "                                                 massa_faixaScoreInternoCurto,\n",
    "                                                 massa_faixaScoreExterno\n",
    "])\n",
    "\n",
    "massa_final_flags_ranges_filtros.set_bom_arqv()\n",
    "massa_final_flags_ranges_filtros.converte_massa()"
   ]
  },
  {
   "cell_type": "markdown",
   "metadata": {
    "application/vnd.databricks.v1+cell": {
     "cellMetadata": {
      "byteLimit": 2048000,
      "rowLimit": 10000
     },
     "inputWidgets": {},
     "nuid": "eb740731-8c51-4001-b344-5b6c3a5fa1c8",
     "showTitle": false,
     "title": ""
    }
   },
   "source": [
    "### Execução Modular e Geração de CSV"
   ]
  },
  {
   "cell_type": "code",
   "execution_count": 0,
   "metadata": {
    "application/vnd.databricks.v1+cell": {
     "cellMetadata": {
      "byteLimit": 2048000,
      "rowLimit": 10000
     },
     "inputWidgets": {},
     "nuid": "c329dc19-e497-47f5-830a-6863a4bb2de5",
     "showTitle": false,
     "title": ""
    }
   },
   "outputs": [],
   "source": [
    "listaResultado = rp.execucaoModular(massa_final_flags_ranges_filtros.get_massa_json(),rp.CriacaoFlagsRangesFiltros)"
   ]
  },
  {
   "cell_type": "code",
   "execution_count": 0,
   "metadata": {
    "application/vnd.databricks.v1+cell": {
     "cellMetadata": {
      "byteLimit": 2048000,
      "rowLimit": 10000
     },
     "inputWidgets": {},
     "nuid": "fb1a4da4-491a-4232-bb4d-49631921f644",
     "showTitle": false,
     "title": ""
    }
   },
   "outputs": [],
   "source": [
    "import pandas as pd\n",
    "results = []\n",
    "for caso in listaResultado:\n",
    "    results.append(caso['payloadHomol']['intermediarias']['clienteBloqueado'])\n",
    "    \n",
    "freqzinha = pd.DataFrame(results, columns=['valor'])\n",
    "freqzinha['Freq'] = freqzinha['valor'].map(freqzinha['valor'].value_counts())\n",
    "freqzinha = freqzinha.drop_duplicates().reset_index(drop=True)\n",
    "freqzinha"
   ]
  },
  {
   "cell_type": "code",
   "execution_count": 0,
   "metadata": {
    "application/vnd.databricks.v1+cell": {
     "cellMetadata": {
      "byteLimit": 2048000,
      "rowLimit": 10000
     },
     "inputWidgets": {},
     "nuid": "3a715098-78f0-4733-9b11-99b2509efe44",
     "showTitle": false,
     "title": ""
    }
   },
   "outputs": [],
   "source": [
    "# Lógica para validar, pode-se trocar o nome da variável na linha 6 para exibir uma freq dos dominios que essa variável possui.\n",
    "\n",
    "import pandas as pd\n",
    "results = []\n",
    "for caso in listaResultado:\n",
    "    results.append(caso['payloadHomol']['intermediarias']['clienteBlindado'])\n",
    "    \n",
    "freqzinha = pd.DataFrame(results, columns=['valor'])\n",
    "freqzinha['Freq'] = freqzinha['valor'].map(freqzinha['valor'].value_counts())\n",
    "freqzinha = freqzinha.drop_duplicates().reset_index(drop=True)\n",
    "freqzinha"
   ]
  },
  {
   "cell_type": "code",
   "execution_count": 0,
   "metadata": {
    "application/vnd.databricks.v1+cell": {
     "cellMetadata": {
      "byteLimit": 2048000,
      "rowLimit": 10000
     },
     "inputWidgets": {},
     "nuid": "2078b0b0-6495-4f94-98d6-a217b919260e",
     "showTitle": false,
     "title": ""
    }
   },
   "outputs": [],
   "source": [
    "# Renomeação das colunas para o cabeçalho do RMA\n",
    "massa_final_flags_ranges_filtros.rename_cabecalho()"
   ]
  },
  {
   "cell_type": "code",
   "execution_count": 0,
   "metadata": {
    "application/vnd.databricks.v1+cell": {
     "cellMetadata": {
      "byteLimit": 2048000,
      "rowLimit": 10000
     },
     "inputWidgets": {},
     "nuid": "70c8cc47-b4fa-4b18-9081-7194de90794e",
     "showTitle": false,
     "title": ""
    }
   },
   "outputs": [],
   "source": [
    "massa_final_flags_ranges_filtros.atribui_expected(listaResultado,'payloadHomol.intermediarias.digitoCPFConcomitanteCP','cpf6e7Digito')\n",
    "massa_final_flags_ranges_filtros.atribui_expected(listaResultado,'payloadHomol.intermediarias.cpf5e6Digito','cpf5e6Digito')\n",
    "massa_final_flags_ranges_filtros.atribui_expected(listaResultado,'payloadHomol.intermediarias.dataAdmissao','dataAdmissao')\n",
    "massa_final_flags_ranges_filtros.atribui_expected(listaResultado,'payloadHomol.intermediarias.admissaoMeses','dataAdmissaoMeses')\n",
    "massa_final_flags_ranges_filtros.atribui_expected(listaResultado,'payloadHomol.intermediarias.flagClienteExistente','clienteExistente')\n",
    "massa_final_flags_ranges_filtros.atribui_expected(listaResultado,'payloadHomol.intermediarias.clienteMAT','clienteMAT')\n",
    "massa_final_flags_ranges_filtros.atribui_expected(listaResultado,'payloadHomol.intermediarias.MATRecorrente','clienteMATRecorrencia')\n",
    "massa_final_flags_ranges_filtros.atribui_expected(listaResultado,'payloadHomol.intermediarias.clienteFoPag','clienteFopag')\n",
    "massa_final_flags_ranges_filtros.atribui_expected(listaResultado,'payloadHomol.intermediarias.rendaInexistente','rendaInexistente')\n",
    "massa_final_flags_ranges_filtros.atribui_expected(listaResultado,'payloadHomol.intermediarias.flagClienteNovo','clienteNovo')\n",
    "massa_final_flags_ranges_filtros.atribui_expected(listaResultado,'payloadHomol.intermediarias.flagNaoCliente' ,'naoCliente')\n",
    "massa_final_flags_ranges_filtros.atribui_expected(listaResultado,'payloadHomol.intermediarias.serasaInvalido','scoreSerasaInvalido')\n",
    "massa_final_flags_ranges_filtros.atribui_expected(listaResultado,'payloadHomol.intermediarias.semInfoScore','scoreInexistente')\n",
    "massa_final_flags_ranges_filtros.atribui_expected(listaResultado,'payloadHomol.intermediarias.valorTotalInvestido','vlrTotalInvestido')\n",
    "massa_final_flags_ranges_filtros.atribui_expected(listaResultado,'payloadHomol.intermediarias.percentRendaInvestimento','percentRendaInvestimento')\n",
    "massa_final_flags_ranges_filtros.atribui_expected(listaResultado,'payloadHomol.intermediarias.investidorOriginal','investidorOriginal')\n",
    "massa_final_flags_ranges_filtros.atribui_expected(listaResultado,'payloadHomol.intermediarias.principalidadeDeInvestimento','principalidadeInvestimento')\n",
    "massa_final_flags_ranges_filtros.atribui_expected(listaResultado,'payloadHomol.intermediarias.principalidadeAll','principalidadeAll')\n",
    "massa_final_flags_ranges_filtros.atribui_expected(listaResultado,'payloadHomol.intermediarias.recorrenciaPrincipalidade','principalidadeAllRecorrencia')\n",
    "massa_final_flags_ranges_filtros.atribui_expected(listaResultado,'payloadHomol.intermediarias.clienteBlindado','clienteBlindado')\n",
    "massa_final_flags_ranges_filtros.atribui_expected(listaResultado,'payloadHomol.intermediarias.clienteBloqueado','clienteBloqueado')\n",
    "massa_final_flags_ranges_filtros.atribui_expected(listaResultado,'payloadHomol.intermediarias.faixaRendaLiquida','faixaRendaLiquida')\n",
    "massa_final_flags_ranges_filtros.atribui_expected(listaResultado,'payloadHomol.intermediarias.faixaRendaBruta','faixaRendaBruta')\n",
    "massa_final_flags_ranges_filtros.atribui_expected(listaResultado,'payloadHomol.intermediarias.faixaScoreInternoCurto','faixaScoreInternoCurto')\n",
    "massa_final_flags_ranges_filtros.atribui_expected(listaResultado,'payloadHomol.intermediarias.faixaScoreExterno','faixaScoreExterno')\n",
    "massa_final_flags_ranges_filtros.get_massa_dm()"
   ]
  },
  {
   "cell_type": "markdown",
   "metadata": {
    "application/vnd.databricks.v1+cell": {
     "cellMetadata": {
      "byteLimit": 2048000,
      "rowLimit": 10000
     },
     "inputWidgets": {},
     "nuid": "12a6211e-1068-4b86-9a7b-64b0e7d36065",
     "showTitle": false,
     "title": ""
    }
   },
   "source": [
    "### Conversão da massa para CSV"
   ]
  },
  {
   "cell_type": "code",
   "execution_count": 0,
   "metadata": {
    "application/vnd.databricks.v1+cell": {
     "cellMetadata": {
      "byteLimit": 2048000,
      "rowLimit": 10000
     },
     "inputWidgets": {},
     "nuid": "5cd78e58-1843-46b5-86b6-608b7bb094f7",
     "showTitle": false,
     "title": ""
    }
   },
   "outputs": [],
   "source": [
    "massa_final_flags_ranges_filtros.get_massa_dm().to_csv(r'/Workspace/Users/kaue.ongaro@picpaybank.com/2 - Homologação/Concessao de Cartoes - Online/massas/massaFlagsRangesFiltros.csv',index=False)"
   ]
  },
  {
   "cell_type": "markdown",
   "metadata": {
    "application/vnd.databricks.v1+cell": {
     "cellMetadata": {
      "byteLimit": 2048000,
      "rowLimit": 10000
     },
     "inputWidgets": {},
     "nuid": "373dd3ea-b60a-4fd0-ac48-2003faecab6b",
     "showTitle": false,
     "title": ""
    }
   },
   "source": [
    "#### Análises"
   ]
  },
  {
   "cell_type": "code",
   "execution_count": 0,
   "metadata": {
    "application/vnd.databricks.v1+cell": {
     "cellMetadata": {
      "byteLimit": 2048000,
      "rowLimit": 10000
     },
     "inputWidgets": {},
     "nuid": "89d3c6df-6c8a-4a11-9bdf-7f7eadcc0954",
     "showTitle": false,
     "title": ""
    }
   },
   "outputs": [],
   "source": [
    "dataID = 228\n",
    "print(json.dumps(listaResultado[dataID-1],indent=4))"
   ]
  }
 ],
 "metadata": {
  "application/vnd.databricks.v1+notebook": {
   "dashboards": [],
   "language": "python",
   "notebookMetadata": {
    "pythonIndentUnit": 4
   },
   "notebookName": "homol_modular_flags_ranges_filtros",
   "widgets": {}
  },
  "kernelspec": {
   "display_name": "Python 3",
   "language": "python",
   "name": "python3"
  },
  "language_info": {
   "codemirror_mode": {
    "name": "ipython",
    "version": 3
   },
   "file_extension": ".py",
   "mimetype": "text/x-python",
   "name": "python",
   "nbconvert_exporter": "python",
   "pygments_lexer": "ipython3",
   "version": "3.12.0"
  }
 },
 "nbformat": 4,
 "nbformat_minor": 0
}
