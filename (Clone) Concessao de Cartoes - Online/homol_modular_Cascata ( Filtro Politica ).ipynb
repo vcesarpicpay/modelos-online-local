{
 "cells": [
  {
   "cell_type": "code",
   "execution_count": 0,
   "metadata": {
    "application/vnd.databricks.v1+cell": {
     "cellMetadata": {
      "byteLimit": 2048000,
      "rowLimit": 10000
     },
     "inputWidgets": {},
     "nuid": "6b01e65b-20e0-41f4-9132-0cd228cd517e",
     "showTitle": false,
     "title": ""
    }
   },
   "outputs": [],
   "source": [
    "dbutils.library.restartPython()"
   ]
  },
  {
   "cell_type": "markdown",
   "metadata": {
    "application/vnd.databricks.v1+cell": {
     "cellMetadata": {
      "byteLimit": 2048000,
      "rowLimit": 10000
     },
     "inputWidgets": {},
     "nuid": "b3b97d92-0875-4e4c-955e-6a4fd7e0382d",
     "showTitle": false,
     "title": ""
    }
   },
   "source": [
    "# Import de Funções e Libs"
   ]
  },
  {
   "cell_type": "markdown",
   "metadata": {
    "application/vnd.databricks.v1+cell": {
     "cellMetadata": {
      "byteLimit": 2048000,
      "rowLimit": 10000
     },
     "inputWidgets": {},
     "nuid": "405da4ba-d5f5-455b-a186-c9d95020d656",
     "showTitle": false,
     "title": ""
    }
   },
   "source": [
    "As bibliotecas e funções utilizadas ao longo do código devem ser adicionadas aqui"
   ]
  },
  {
   "cell_type": "code",
   "execution_count": 0,
   "metadata": {
    "application/vnd.databricks.v1+cell": {
     "cellMetadata": {
      "byteLimit": 2048000,
      "rowLimit": 10000
     },
     "inputWidgets": {},
     "nuid": "35818e65-0b3a-4169-95bd-6cd1200b6873",
     "showTitle": false,
     "title": ""
    }
   },
   "outputs": [],
   "source": [
    "import numpy as np\n",
    "import pandas as pd\n",
    "import requests\n",
    "import json\n",
    "import sherlock\n",
    "import regras_politica as rp"
   ]
  },
  {
   "cell_type": "markdown",
   "metadata": {
    "application/vnd.databricks.v1+cell": {
     "cellMetadata": {
      "byteLimit": 2048000,
      "rowLimit": 10000
     },
     "inputWidgets": {},
     "nuid": "3b7b68fb-aa65-4c07-9239-80ff0bcf60b8",
     "showTitle": false,
     "title": ""
    }
   },
   "source": [
    "### Testes Modulares - Referente ao tópico 2 - 2.2 Cascata"
   ]
  },
  {
   "cell_type": "markdown",
   "metadata": {
    "application/vnd.databricks.v1+cell": {
     "cellMetadata": {
      "byteLimit": 2048000,
      "rowLimit": 10000
     },
     "inputWidgets": {},
     "nuid": "53c9e1f4-296e-473a-ae84-1d12f5c9a473",
     "showTitle": false,
     "title": ""
    }
   },
   "source": [
    "### Geração de Massa"
   ]
  },
  {
   "cell_type": "code",
   "execution_count": 0,
   "metadata": {
    "application/vnd.databricks.v1+cell": {
     "cellMetadata": {
      "byteLimit": 2048000,
      "rowLimit": 10000
     },
     "inputWidgets": {},
     "nuid": "3ad16f05-f504-4bef-8a27-b4759d823845",
     "showTitle": false,
     "title": ""
    }
   },
   "outputs": [],
   "source": [
    "#Gerando a massa modelo passando o caminho do JSON como nome da variável\n",
    "base_entrada = pd.DataFrame({'solicitante.flagCartaoCreditoContratado':[0],\n",
    "                             'solicitante.flagLimiteGarantidoContratado':[0],\n",
    "                             'payloadHomol.intermediarias.clienteBlindado':[0],\n",
    "                             'payloadHomol.intermediarias.clienteBloqueado':[0],\n",
    "                             'payloadHomol.intermediarias.serasaInvalido':[0],\n",
    "                             'payloadHomol.saidas.mensagemFiltro':['99. Accepted'],\n",
    "                             'payloadHomol.intermediarias.semInfoScore':[0],\n",
    "                             'solicitante.rendaLiquidaPicpayBatch':[10000]\n",
    "                            })"
   ]
  },
  {
   "cell_type": "code",
   "execution_count": 0,
   "metadata": {
    "application/vnd.databricks.v1+cell": {
     "cellMetadata": {
      "byteLimit": 2048000,
      "rowLimit": 10000
     },
     "inputWidgets": {},
     "nuid": "17fabf92-6aa2-4318-9a02-88c781717310",
     "showTitle": false,
     "title": ""
    }
   },
   "outputs": [],
   "source": [
    "#Criação das massas com casos forçados\n",
    "#Digito CPF Concomitante CP\n",
    "massa_Cascata_1 = sherlock.Gera_Massa(base_entrada)\n",
    "massa_Cascata_1.gera_cenario('payloadHomol.saidas.mensagemFiltro',[\"-99999\",\n",
    "                                                           \"02. Cadastro Irregular\",\n",
    "                                                           \"03. Cadastro Negado ou Em Andamento\",\n",
    "                                                           \"04. Conta Inativa ou Conta Teste PicPay\",\n",
    "                                                           \"05. Sistema Operacional Defasado\",\n",
    "                                                           \"06. CPF Invalido\",\n",
    "                                                           \"07. Obito\",\n",
    "                                                           \"09. Fraude PicPay\",\n",
    "                                                           \"10. Chargeback PicPay\",\n",
    "                                                           \"11. Idade <= 20 ou >= 80\",\n",
    "                                                           \"12. Atraso PicPay\",\n",
    "                                                           \"13. Atraso Original\",\n",
    "                                                           \"14. Reneg ou FNV Ativo\",\n",
    "                                                           \"15. Valor de Restritivo BVS >= 10% da Renda\",\n",
    "                                                           \"16. Valor de Restritivo Serasa >= 10% da Renda\",\n",
    "                                                           \"17. Quantidade de IFs = 0\",\n",
    "                                                           \"18. Atraso Bacen >= 10% da Renda\",\n",
    "                                                           \"19. Prejuizo Bacen >= 10% da Renda\",\n",
    "                                                           \"20. Reneg Bacen\",\n",
    "                                                           \"21. Saldo Financiado de Cartao > 70% do Limite\",\n",
    "                                                           \"22. IU Cheque > 90%\",\n",
    "                                                           \"23. AD Bacen\",\n",
    "                                                           \"24. Desenrola\",\n",
    "                                                           \"25. No hit Bureaus\",\n",
    "                                                           \"99. Accepted\"\n",
    "                                                           ])\n",
    "massa_Cascata_1 = massa_Cascata_1.get_massa_final()\n",
    "\n",
    "massa_Cascata_2 = sherlock.Gera_Massa(base_entrada)\n",
    "massa_Cascata_2.gera_cenario('solicitante.flagCartaoCreditoContratado',[0,1]) #2\n",
    "massa_Cascata_2.gera_cenario('solicitante.flagLimiteGarantidoContratado',[0,1]) #4\n",
    "massa_Cascata_2.gera_cenario('payloadHomol.intermediarias.clienteBlindado',[0,1]) #8\n",
    "massa_Cascata_2.gera_cenario('payloadHomol.intermediarias.clienteBloqueado',[0,1]) #16\n",
    "massa_Cascata_2.gera_cenario('payloadHomol.intermediarias.serasaInvalido',[0,1]) #32\n",
    "massa_Cascata_2.gera_cenario('payloadHomol.intermediarias.semInfoScore',[0,1]) #64\n",
    "massa_Cascata_2.gera_cenario('solicitante.rendaLiquidaPicpayBatch',[1000,-99999,0,600]) #256\n",
    "massa_Cascata_2.gera_cenario('payloadHomol.saidas.mensagemFiltro',[\"-99999\",\"24. Desenrola\",\"25. No hit Bureaus\",\"99. Accepted\"]) # 1024\n",
    "massa_Cascata_2 = massa_Cascata_2.get_massa_final()\n",
    "\n",
    "#Empilha todos casos com 1 caso padrão.\n",
    "massa_CascataFinal = sherlock.Gera_Massa(base_entrada)\n",
    "massa_CascataFinal.empilha_massas([massa_Cascata_1,\n",
    "                                   massa_Cascata_2\n",
    "])\n",
    "                        \n",
    "\n",
    "\n",
    "massa_CascataFinal.set_bom_arqv()\n",
    "massa_CascataFinal.converte_massa()"
   ]
  },
  {
   "cell_type": "markdown",
   "metadata": {
    "application/vnd.databricks.v1+cell": {
     "cellMetadata": {
      "byteLimit": 2048000,
      "rowLimit": 10000
     },
     "inputWidgets": {},
     "nuid": "eb740731-8c51-4001-b344-5b6c3a5fa1c8",
     "showTitle": false,
     "title": ""
    }
   },
   "source": [
    "### Execução Modular e Geração de CSV"
   ]
  },
  {
   "cell_type": "code",
   "execution_count": 0,
   "metadata": {
    "application/vnd.databricks.v1+cell": {
     "cellMetadata": {
      "byteLimit": 2048000,
      "rowLimit": 10000
     },
     "inputWidgets": {},
     "nuid": "c329dc19-e497-47f5-830a-6863a4bb2de5",
     "showTitle": false,
     "title": ""
    }
   },
   "outputs": [],
   "source": [
    "listaResultado = rp.execucaoModular(massa_CascataFinal.get_massa_json(),rp.FiltroVisaoPolitica)"
   ]
  },
  {
   "cell_type": "code",
   "execution_count": 0,
   "metadata": {
    "application/vnd.databricks.v1+cell": {
     "cellMetadata": {
      "byteLimit": 2048000,
      "rowLimit": 10000
     },
     "inputWidgets": {},
     "nuid": "18a004ee-2eb0-49ac-959a-9eba6763eaf0",
     "showTitle": false,
     "title": ""
    }
   },
   "outputs": [],
   "source": [
    "# Lógica para validar, pode-se trocar o nome da variável na linha 6 para exibir uma freq dos dominios que essa variável possui.\n",
    "\n",
    "import pandas as pd\n",
    "results = []\n",
    "for caso in listaResultado:\n",
    "    results.append(caso['payloadHomol']['saidas']['mensagemFiltroPolitica'])\n",
    "    \n",
    "freqzinha = pd.DataFrame(results, columns=['valor'])\n",
    "freqzinha['Freq'] = freqzinha['valor'].map(freqzinha['valor'].value_counts())\n",
    "freqzinha = freqzinha.drop_duplicates().reset_index(drop=True)\n",
    "freqzinha"
   ]
  },
  {
   "cell_type": "code",
   "execution_count": 0,
   "metadata": {
    "application/vnd.databricks.v1+cell": {
     "cellMetadata": {
      "byteLimit": 2048000,
      "rowLimit": 10000
     },
     "inputWidgets": {},
     "nuid": "93966ca0-837c-4352-9feb-ff0c037df98a",
     "showTitle": false,
     "title": ""
    }
   },
   "outputs": [],
   "source": [
    "# Lógica para validar, pode-se trocar o nome da variável na linha 6 para exibir uma freq dos dominios que essa variável possui.\n",
    "\n",
    "import pandas as pd\n",
    "results = []\n",
    "for caso in listaResultado:\n",
    "    results.append(caso['payloadHomol']['intermediarias']['passouRegraFiltroPolitica'])\n",
    "    \n",
    "freqzinha = pd.DataFrame(results, columns=['valor'])\n",
    "freqzinha['Freq'] = freqzinha['valor'].map(freqzinha['valor'].value_counts())\n",
    "freqzinha = freqzinha.drop_duplicates().reset_index(drop=True)\n",
    "freqzinha = freqzinha.sort_values(by=['valor'], ascending=True)\n",
    "freqzinha"
   ]
  },
  {
   "cell_type": "code",
   "execution_count": 0,
   "metadata": {
    "application/vnd.databricks.v1+cell": {
     "cellMetadata": {
      "byteLimit": 2048000,
      "rowLimit": 10000
     },
     "inputWidgets": {},
     "nuid": "2078b0b0-6495-4f94-98d6-a217b919260e",
     "showTitle": false,
     "title": ""
    }
   },
   "outputs": [],
   "source": [
    "# Renomeação das colunas para o cabeçalho do RMA\n",
    "massa_CascataFinal.rename_cabecalho()\n",
    "\n",
    "# Adaptando alguns nomes de variaveis para a função de teste.\n",
    "massa_CascataFinal.rename_variavel(\"payloadHomol.intermediarias.clienteBloqueado\",\"clienteBloqueado\")\n",
    "massa_CascataFinal.rename_variavel(\"payloadHomol.intermediarias.clienteBlindado\",\"clienteBlindado\")\n",
    "massa_CascataFinal.rename_variavel(\"flagCartaoCreditoContratado\",\"payloadParam.solicitante.flagCartaoCreditoContratado\")\n",
    "massa_CascataFinal.rename_variavel(\"flagLimiteGarantidoContratado\",\"payloadParam.solicitante.flagLimiteGarantidoContratado\")\n",
    "massa_CascataFinal.rename_variavel(\"rendaLiquidaPicpayBatch\",\"payloadParam.solicitante.rendaLiquidaPicpayBatch\")"
   ]
  },
  {
   "cell_type": "code",
   "execution_count": 0,
   "metadata": {
    "application/vnd.databricks.v1+cell": {
     "cellMetadata": {
      "byteLimit": 2048000,
      "rowLimit": 10000
     },
     "inputWidgets": {},
     "nuid": "70c8cc47-b4fa-4b18-9081-7194de90794e",
     "showTitle": false,
     "title": ""
    }
   },
   "outputs": [],
   "source": [
    "massa_CascataFinal.atribui_expected(listaResultado,\"payloadHomol.saidas.mensagemFiltroPolitica\",\"saida.mensagemFiltroPolitica\")\n",
    "massa_CascataFinal.atribui_expected(listaResultado,\"payloadHomol.saidas.statusDecisao\",\"statusDecisao\")\n",
    "\n",
    "massa_CascataFinal.get_massa_dm()"
   ]
  },
  {
   "cell_type": "markdown",
   "metadata": {
    "application/vnd.databricks.v1+cell": {
     "cellMetadata": {
      "byteLimit": 2048000,
      "rowLimit": 10000
     },
     "inputWidgets": {},
     "nuid": "12a6211e-1068-4b86-9a7b-64b0e7d36065",
     "showTitle": false,
     "title": ""
    }
   },
   "source": [
    "### Conversão da massa para CSV"
   ]
  },
  {
   "cell_type": "code",
   "execution_count": 0,
   "metadata": {
    "application/vnd.databricks.v1+cell": {
     "cellMetadata": {
      "byteLimit": 2048000,
      "rowLimit": 10000
     },
     "inputWidgets": {},
     "nuid": "5cd78e58-1843-46b5-86b6-608b7bb094f7",
     "showTitle": false,
     "title": ""
    }
   },
   "outputs": [],
   "source": [
    "massa_CascataFinal.get_massa_dm().to_csv(r'/Workspace/Users/kaue.ongaro@picpaybank.com/2 - Homologação/Concessao de Cartoes - Online/massas/massaFiltrosVisaoPolitica.csv',index=False)"
   ]
  },
  {
   "cell_type": "code",
   "execution_count": 0,
   "metadata": {
    "application/vnd.databricks.v1+cell": {
     "cellMetadata": {
      "byteLimit": 2048000,
      "rowLimit": 10000
     },
     "inputWidgets": {},
     "nuid": "5c9546da-6f9f-490b-9fe2-ff9bc1860fbb",
     "showTitle": false,
     "title": ""
    }
   },
   "outputs": [],
   "source": [
    "# Análise Divergencias\n",
    "data_id = 94\n",
    "print(json.dumps(listaResultado[data_id-1],indent=4))"
   ]
  },
  {
   "cell_type": "markdown",
   "metadata": {
    "application/vnd.databricks.v1+cell": {
     "cellMetadata": {
      "byteLimit": 2048000,
      "rowLimit": 10000
     },
     "inputWidgets": {},
     "nuid": "66d0294f-9983-4085-b758-bf3b42857bcb",
     "showTitle": false,
     "title": ""
    }
   },
   "source": [
    "#"
   ]
  }
 ],
 "metadata": {
  "application/vnd.databricks.v1+notebook": {
   "dashboards": [],
   "language": "python",
   "notebookMetadata": {
    "pythonIndentUnit": 4
   },
   "notebookName": "homol_modular_Cascata ( Filtro Politica )",
   "widgets": {}
  },
  "kernelspec": {
   "display_name": "Python 3",
   "language": "python",
   "name": "python3"
  },
  "language_info": {
   "codemirror_mode": {
    "name": "ipython",
    "version": 3
   },
   "file_extension": ".py",
   "mimetype": "text/x-python",
   "name": "python",
   "nbconvert_exporter": "python",
   "pygments_lexer": "ipython3",
   "version": "3.12.0"
  }
 },
 "nbformat": 4,
 "nbformat_minor": 0
}
