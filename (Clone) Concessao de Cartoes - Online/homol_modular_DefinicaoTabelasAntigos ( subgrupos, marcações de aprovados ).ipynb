{
 "cells": [
  {
   "cell_type": "code",
   "execution_count": 0,
   "metadata": {
    "application/vnd.databricks.v1+cell": {
     "cellMetadata": {
      "byteLimit": 2048000,
      "rowLimit": 10000
     },
     "inputWidgets": {},
     "nuid": "6b01e65b-20e0-41f4-9132-0cd228cd517e",
     "showTitle": false,
     "title": ""
    }
   },
   "outputs": [],
   "source": [
    "dbutils.library.restartPython()"
   ]
  },
  {
   "cell_type": "markdown",
   "metadata": {
    "application/vnd.databricks.v1+cell": {
     "cellMetadata": {
      "byteLimit": 2048000,
      "rowLimit": 10000
     },
     "inputWidgets": {},
     "nuid": "b3b97d92-0875-4e4c-955e-6a4fd7e0382d",
     "showTitle": false,
     "title": ""
    }
   },
   "source": [
    "# Import de Funções e Libs"
   ]
  },
  {
   "cell_type": "markdown",
   "metadata": {
    "application/vnd.databricks.v1+cell": {
     "cellMetadata": {
      "byteLimit": 2048000,
      "rowLimit": 10000
     },
     "inputWidgets": {},
     "nuid": "405da4ba-d5f5-455b-a186-c9d95020d656",
     "showTitle": false,
     "title": ""
    }
   },
   "source": [
    "As bibliotecas e funções utilizadas ao longo do código devem ser adicionadas aqui"
   ]
  },
  {
   "cell_type": "code",
   "execution_count": 0,
   "metadata": {
    "application/vnd.databricks.v1+cell": {
     "cellMetadata": {
      "byteLimit": 2048000,
      "rowLimit": 10000
     },
     "inputWidgets": {},
     "nuid": "35818e65-0b3a-4169-95bd-6cd1200b6873",
     "showTitle": false,
     "title": ""
    }
   },
   "outputs": [],
   "source": [
    "import numpy as np\n",
    "import pandas as pd\n",
    "import requests\n",
    "import json\n",
    "import sherlock\n",
    "import regras_politica as rp"
   ]
  },
  {
   "cell_type": "markdown",
   "metadata": {
    "application/vnd.databricks.v1+cell": {
     "cellMetadata": {
      "byteLimit": 2048000,
      "rowLimit": 10000
     },
     "inputWidgets": {},
     "nuid": "3b7b68fb-aa65-4c07-9239-80ff0bcf60b8",
     "showTitle": false,
     "title": ""
    }
   },
   "source": [
    "### Testes Modulares - Referente ao tópico 3 - Tabelas tópico 3.5"
   ]
  },
  {
   "cell_type": "markdown",
   "metadata": {
    "application/vnd.databricks.v1+cell": {
     "cellMetadata": {
      "byteLimit": 2048000,
      "rowLimit": 10000
     },
     "inputWidgets": {},
     "nuid": "53c9e1f4-296e-473a-ae84-1d12f5c9a473",
     "showTitle": false,
     "title": ""
    }
   },
   "source": [
    "### Geração de Massa"
   ]
  },
  {
   "cell_type": "code",
   "execution_count": 0,
   "metadata": {
    "application/vnd.databricks.v1+cell": {
     "cellMetadata": {
      "byteLimit": 2048000,
      "rowLimit": 10000
     },
     "inputWidgets": {},
     "nuid": "3ad16f05-f504-4bef-8a27-b4759d823845",
     "showTitle": false,
     "title": ""
    }
   },
   "outputs": [],
   "source": [
    "#Gerando a massa modelo passando o caminho do JSON como nome da variável\n",
    "base_entrada = pd.DataFrame({'payloadHomol.intermediarias.faixaRiscoInternoAgrupada':[\"R10\"],\n",
    "                             'payloadHomol.intermediarias.segmentacaoPolitica':[\"P1 - Funcionarios\"],\n",
    "                             'payloadHomol.intermediarias.faixaRendaBruta':[\"d. >= 15k\"],\n",
    "                             'solicitante.flagFuncionario':[0],\n",
    "                             'payloadHomol.intermediarias.cpf5e6Digito':[99],\n",
    "                             'solicitante.flagCCRot':[1],\n",
    "                             'solicitante.mediaSaldoTotal':[40000]\n",
    "                            })"
   ]
  },
  {
   "cell_type": "code",
   "execution_count": 0,
   "metadata": {
    "application/vnd.databricks.v1+cell": {
     "cellMetadata": {
      "byteLimit": 2048000,
      "rowLimit": 10000
     },
     "inputWidgets": {},
     "nuid": "17fabf92-6aa2-4318-9a02-88c781717310",
     "showTitle": false,
     "title": ""
    }
   },
   "outputs": [],
   "source": [
    "#Criação das massas com casos forçados\n",
    "massa_TabelaJaCliente1 = sherlock.Gera_Massa(base_entrada)\n",
    "massa_TabelaJaCliente1.gera_cenario('payloadHomol.intermediarias.faixaRiscoInternoAgrupada',[\"R1\",\"R2\",\"R3\",\n",
    "                                                                                            \"R4\",\"R5\",\"R6\",\n",
    "                                                                                            \"R7\",\"R8\",\"R9\",\n",
    "                                                                                            \"R10\"])\n",
    "massa_TabelaJaCliente1.gera_cenario('payloadHomol.intermediarias.segmentacaoPolitica',[\"P1 - Funcionarios\",\n",
    "                                                                                      \"P2 - FOPAG\",\n",
    "                                                                                      \"P3 - Investidor Alta Renda\",\n",
    "                                                                                      \"P4.1 - Alta Renda Principalidade\",\n",
    "                                                                                      \"P4.2 - Alta Renda MAT\",\n",
    "                                                                                      \"P4.3 - Alta Renda Inativo\",\n",
    "                                                                                      \"P5.4 - Varejo+ Principalidade Renda < 4k\",\n",
    "                                                                                      \"P5.1 - Varejo+ Principalidade Renda >= 4k\",\n",
    "                                                                                      \"P5.2 - Varejo+ MAT\",\n",
    "                                                                                      \"P5.3 - Varejo+ Inativos\",\n",
    "                                                                                      \"P6.1 - Varejo MAT\",\n",
    "                                                                                      \"P6.2 - Varejo Inativos\",\n",
    "                                                                                      \"P6.2 - Varejo Inativos\"])\n",
    "massa_TabelaJaCliente1.gera_cenario('payloadHomol.intermediarias.faixaRendaBruta',['a. Sem renda',\n",
    "                                                                                  'a. < 4k',\n",
    "                                                                                  'b. 4k - 10k',\n",
    "                                                                                  'c. 10k - 15k',\n",
    "                                                                                  'd. >= 15k',\n",
    "                                                                                  'z. Verificar'])\n",
    "massa_TabelaJaCliente1.gera_cenario('solicitante.flagFuncionario',[0,1])\n",
    "massa_TabelaJaCliente1.gera_cenario('payloadHomol.intermediarias.cpf5e6Digito',[0,43,44,45,46,88,89,90,91,99])\n",
    "massa_TabelaJaCliente1 = massa_TabelaJaCliente1.get_massa_final()\n",
    "\n",
    "# Teste de aplicação da coluna de rotativo e mean total balance para clientes investidor alta renda\n",
    "massa_TabelaJaCliente2 = sherlock.Gera_Massa(base_entrada)\n",
    "massa_TabelaJaCliente2.gera_cenario('payloadHomol.intermediarias.faixaRiscoInternoAgrupada',[\"R1\",\"R2\",\"R3\",\n",
    "                                                                                            \"R4\",\"R5\",\"R6\",\n",
    "                                                                                            \"R7\",\"R8\",\"R9\",\n",
    "                                                                                            \"R10\"])\n",
    "massa_TabelaJaCliente2.gera_cenario('payloadHomol.intermediarias.segmentacaoPolitica',[\"P1 - Funcionarios\",\n",
    "                                                                                       \"P3 - Investidor Alta Renda\",\n",
    "                                                                                       \"P6.2 - Varejo Inativos\"])\n",
    "massa_TabelaJaCliente2.gera_cenario('payloadHomol.intermediarias.faixaRendaBruta',['a. Sem renda',\n",
    "                                                                                   'a. < 4k',\n",
    "                                                                                   'd. >= 15k'])\n",
    "massa_TabelaJaCliente2.gera_cenario('solicitante.flagFuncionario',[0,1])\n",
    "massa_TabelaJaCliente2.gera_cenario('payloadHomol.intermediarias.cpf5e6Digito',[0,99])\n",
    "massa_TabelaJaCliente2.gera_cenario('solicitante.flagCCRot',[0,1])\n",
    "massa_TabelaJaCliente2.gera_cenario('solicitante.mediaSaldoTotal',[39999,40000,40001])\n",
    "massa_TabelaJaCliente2 = massa_TabelaJaCliente2.get_massa_final()\n",
    "\n",
    "#Empilha todos casos com 1 caso padrão.\n",
    "massa_TabelaJaCliente = sherlock.Gera_Massa(base_entrada)\n",
    "massa_TabelaJaCliente.empilha_massas([massa_TabelaJaCliente1,\n",
    "                                      massa_TabelaJaCliente2\n",
    "])\n",
    "\n",
    "massa_TabelaJaCliente.get_massa_final()\n",
    "\n",
    "massa_TabelaJaCliente.set_bom_arqv()\n",
    "massa_TabelaJaCliente.converte_massa()"
   ]
  },
  {
   "cell_type": "markdown",
   "metadata": {
    "application/vnd.databricks.v1+cell": {
     "cellMetadata": {
      "byteLimit": 2048000,
      "rowLimit": 10000
     },
     "inputWidgets": {},
     "nuid": "eb740731-8c51-4001-b344-5b6c3a5fa1c8",
     "showTitle": false,
     "title": ""
    }
   },
   "source": [
    "### Execução Modular e Geração de CSV"
   ]
  },
  {
   "cell_type": "code",
   "execution_count": 0,
   "metadata": {
    "application/vnd.databricks.v1+cell": {
     "cellMetadata": {
      "byteLimit": 2048000,
      "rowLimit": 10000
     },
     "inputWidgets": {},
     "nuid": "c329dc19-e497-47f5-830a-6863a4bb2de5",
     "showTitle": false,
     "title": ""
    }
   },
   "outputs": [],
   "source": [
    "listaResultado = rp.execucaoModular(massa_TabelaJaCliente.get_massa_json(),rp.subGruposAntigo)"
   ]
  },
  {
   "cell_type": "markdown",
   "metadata": {
    "application/vnd.databricks.v1+cell": {
     "cellMetadata": {
      "byteLimit": 2048000,
      "rowLimit": 10000
     },
     "inputWidgets": {},
     "nuid": "fb9de440-abae-4f4f-851b-56bd80fee5f5",
     "showTitle": false,
     "title": ""
    }
   },
   "source": [
    "##### Valida se todas condições estão sendo abordadas"
   ]
  },
  {
   "cell_type": "code",
   "execution_count": 0,
   "metadata": {
    "application/vnd.databricks.v1+cell": {
     "cellMetadata": {
      "byteLimit": 2048000,
      "rowLimit": 10000
     },
     "inputWidgets": {},
     "nuid": "62bd3b85-2b1a-4b16-85af-3056368e2668",
     "showTitle": false,
     "title": ""
    }
   },
   "outputs": [],
   "source": [
    "# buscando um perfil de cliente para análise\n",
    "for payload in listaResultado:\n",
    "    if (payload['payloadHomol']['intermediarias']['faixaRiscoInternoAgrupada']  == \"R1\"\n",
    "        and\n",
    "        payload['payloadHomol']['intermediarias']['segmentacaoPolitica'] == \"P3 - Investidor Alta Renda\"\n",
    "        and \n",
    "        payload['payloadHomol']['intermediarias']['faixaRendaBruta'] == \"a. < 4k\"\n",
    "        and\n",
    "        payload['solicitante']['flagFuncionario'] == 0\n",
    "        and \n",
    "        payload['solicitante']['flagCCRot'] == 0\n",
    "        ):\n",
    "        print(json.dumps(payload,indent = 4))\n",
    "        break"
   ]
  },
  {
   "cell_type": "code",
   "execution_count": 0,
   "metadata": {
    "application/vnd.databricks.v1+cell": {
     "cellMetadata": {
      "byteLimit": 2048000,
      "rowLimit": 10000
     },
     "inputWidgets": {},
     "nuid": "bfeb2e6b-deac-489e-adf7-9f407045e0c5",
     "showTitle": false,
     "title": ""
    }
   },
   "outputs": [],
   "source": [
    "# mudando o max de display de linhas dos dataframes desse notebook\n",
    "pd.set_option('display.max_rows', 300) \n",
    "import pandas as pd\n",
    "\n",
    "# fazendo freq para analisar se todos os cenários da tabela são abordados na massa\n",
    "results = []\n",
    "for caso in listaResultado:\n",
    "    results.append(caso['payloadHomol']['intermediarias']['cenario'])\n",
    "    \n",
    "freqzinha = pd.DataFrame(results, columns=['valor'])\n",
    "freqzinha['Freq'] = freqzinha['valor'].map(freqzinha['valor'].value_counts())\n",
    "freqzinha = freqzinha.drop_duplicates().reset_index(drop=True)\n",
    "freqzinha.sort_values(by='valor', ascending=True)"
   ]
  },
  {
   "cell_type": "code",
   "execution_count": 0,
   "metadata": {
    "application/vnd.databricks.v1+cell": {
     "cellMetadata": {
      "byteLimit": 2048000,
      "rowLimit": 10000
     },
     "inputWidgets": {},
     "nuid": "2078b0b0-6495-4f94-98d6-a217b919260e",
     "showTitle": false,
     "title": ""
    }
   },
   "outputs": [],
   "source": [
    "# Renomeação das colunas para o cabeçalho do RMA\n",
    "massa_TabelaJaCliente.rename_cabecalho()\n",
    "massa_TabelaJaCliente.rename_variavel(\"solicitante.flagCCRot\",\"payloadParam.solicitante.flagCCRot\")\n",
    "massa_TabelaJaCliente.rename_variavel(\"solicitante.mediaSaldoTotal\",\"payloadParam.solicitante.mediaSaldoTotal\")"
   ]
  },
  {
   "cell_type": "code",
   "execution_count": 0,
   "metadata": {
    "application/vnd.databricks.v1+cell": {
     "cellMetadata": {
      "byteLimit": 2048000,
      "rowLimit": 10000
     },
     "inputWidgets": {},
     "nuid": "38b8cfa0-bbde-454a-8161-58eab64c4ee2",
     "showTitle": false,
     "title": ""
    }
   },
   "outputs": [],
   "source": [
    "massa_TabelaJaCliente.get_massa_dm()"
   ]
  },
  {
   "cell_type": "code",
   "execution_count": 0,
   "metadata": {
    "application/vnd.databricks.v1+cell": {
     "cellMetadata": {
      "byteLimit": 2048000,
      "rowLimit": 10000
     },
     "inputWidgets": {},
     "nuid": "70c8cc47-b4fa-4b18-9081-7194de90794e",
     "showTitle": false,
     "title": ""
    }
   },
   "outputs": [],
   "source": [
    "massa_TabelaJaCliente.atribui_expected(listaResultado,\"payloadHomol.intermediarias.segmentacao\",\"segmentacaoSubgrupo\")\n",
    "massa_TabelaJaCliente.atribui_expected(listaResultado,\"payloadHomol.intermediarias.alavancagem\",\"alavancagem\")\n",
    "massa_TabelaJaCliente.atribui_expected(listaResultado,\"payloadHomol.intermediarias.limiteTeto\",\"limiteTeto\")\n",
    "massa_TabelaJaCliente.atribui_expected(listaResultado,\"payloadHomol.intermediarias.limitePiso\",\"limitePiso\")\n",
    "massa_TabelaJaCliente.atribui_expected(listaResultado,\"payloadHomol.intermediarias.limiteFixo\",\"limiteFixo\")\n",
    "massa_TabelaJaCliente.atribui_expected(listaResultado,\"payloadHomol.intermediarias.aprovadoBAUAux\",\"aprovadoBAUAux\")\n",
    "massa_TabelaJaCliente.atribui_expected(listaResultado,\"payloadHomol.intermediarias.aprovadoSLAux\",\"aprovadoSmallLimitsAux\")\n",
    "\n",
    "massa_TabelaJaCliente.get_massa_dm()"
   ]
  },
  {
   "cell_type": "markdown",
   "metadata": {
    "application/vnd.databricks.v1+cell": {
     "cellMetadata": {
      "byteLimit": 2048000,
      "rowLimit": 10000
     },
     "inputWidgets": {},
     "nuid": "12a6211e-1068-4b86-9a7b-64b0e7d36065",
     "showTitle": false,
     "title": ""
    }
   },
   "source": [
    "### Conversão da massa para CSV"
   ]
  },
  {
   "cell_type": "code",
   "execution_count": 0,
   "metadata": {
    "application/vnd.databricks.v1+cell": {
     "cellMetadata": {
      "byteLimit": 2048000,
      "rowLimit": 10000
     },
     "inputWidgets": {},
     "nuid": "5cd78e58-1843-46b5-86b6-608b7bb094f7",
     "showTitle": false,
     "title": ""
    }
   },
   "outputs": [],
   "source": [
    "massa_TabelaJaCliente.get_massa_dm().to_csv(r'/Workspace/Users/kaue.ongaro@picpaybank.com/2 - Homologação/Concessao de Cartoes - Online/massas/massaDefinicaoTabelasSubGruposAntigos.csv',index=False)"
   ]
  },
  {
   "cell_type": "code",
   "execution_count": 0,
   "metadata": {
    "application/vnd.databricks.v1+cell": {
     "cellMetadata": {
      "byteLimit": 2048000,
      "rowLimit": 10000
     },
     "inputWidgets": {},
     "nuid": "8d8708da-90a8-48c2-b85b-7dcbbb0ffb7d",
     "showTitle": false,
     "title": ""
    }
   },
   "outputs": [],
   "source": [
    "dataframeGrande = massa_TabelaJaCliente.get_massa_dm()\n",
    "dataframeGrande"
   ]
  },
  {
   "cell_type": "code",
   "execution_count": 0,
   "metadata": {
    "application/vnd.databricks.v1+cell": {
     "cellMetadata": {
      "byteLimit": 2048000,
      "rowLimit": 10000
     },
     "inputWidgets": {},
     "nuid": "6e04d7df-39e5-4fb3-b2bc-23d3da755e39",
     "showTitle": false,
     "title": ""
    }
   },
   "outputs": [],
   "source": [
    "data_id = 6002\n",
    "print(json.dumps(listaResultado[data_id-1],indent=4))"
   ]
  }
 ],
 "metadata": {
  "application/vnd.databricks.v1+notebook": {
   "dashboards": [],
   "language": "python",
   "notebookMetadata": {
    "pythonIndentUnit": 4
   },
   "notebookName": "homol_modular_DefinicaoTabelasAntigos ( subgrupos, marcações de aprovados )",
   "widgets": {}
  },
  "kernelspec": {
   "display_name": "Python 3",
   "language": "python",
   "name": "python3"
  },
  "language_info": {
   "codemirror_mode": {
    "name": "ipython",
    "version": 3
   },
   "file_extension": ".py",
   "mimetype": "text/x-python",
   "name": "python",
   "nbconvert_exporter": "python",
   "pygments_lexer": "ipython3",
   "version": "3.12.0"
  }
 },
 "nbformat": 4,
 "nbformat_minor": 0
}
