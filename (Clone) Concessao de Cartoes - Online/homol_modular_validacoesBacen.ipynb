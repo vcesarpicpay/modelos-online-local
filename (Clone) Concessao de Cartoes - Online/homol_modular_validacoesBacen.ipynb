{
 "cells": [
  {
   "cell_type": "code",
   "execution_count": 0,
   "metadata": {
    "application/vnd.databricks.v1+cell": {
     "cellMetadata": {
      "byteLimit": 2048000,
      "rowLimit": 10000
     },
     "inputWidgets": {},
     "nuid": "f080c6d5-3c16-4ab8-987c-674652bb70d0",
     "showTitle": false,
     "title": ""
    }
   },
   "outputs": [],
   "source": [
    "dbutils.library.restartPython()"
   ]
  },
  {
   "cell_type": "markdown",
   "metadata": {
    "application/vnd.databricks.v1+cell": {
     "cellMetadata": {
      "byteLimit": 2048000,
      "rowLimit": 10000
     },
     "inputWidgets": {},
     "nuid": "29d9597e-4ddd-48c0-a79c-1c2f1a05d817",
     "showTitle": false,
     "title": ""
    }
   },
   "source": [
    "# Import de Funções e Libs"
   ]
  },
  {
   "cell_type": "markdown",
   "metadata": {
    "application/vnd.databricks.v1+cell": {
     "cellMetadata": {
      "byteLimit": 2048000,
      "rowLimit": 10000
     },
     "inputWidgets": {},
     "nuid": "086ba727-64bb-4ffb-8b2d-8120717eb595",
     "showTitle": false,
     "title": ""
    }
   },
   "source": [
    "As bibliotecas e funções utilizadas ao longo do código devem ser adicionadas aqui"
   ]
  },
  {
   "cell_type": "code",
   "execution_count": 0,
   "metadata": {
    "application/vnd.databricks.v1+cell": {
     "cellMetadata": {
      "byteLimit": 2048000,
      "rowLimit": 10000
     },
     "inputWidgets": {},
     "nuid": "0079f4cf-bd14-4963-a936-614199f354be",
     "showTitle": false,
     "title": ""
    }
   },
   "outputs": [],
   "source": [
    "import numpy as np\n",
    "import pandas as pd\n",
    "import requests\n",
    "import json\n",
    "import sherlock\n",
    "import regras_politica as rp"
   ]
  },
  {
   "cell_type": "markdown",
   "metadata": {
    "application/vnd.databricks.v1+cell": {
     "cellMetadata": {
      "byteLimit": 2048000,
      "rowLimit": 10000
     },
     "inputWidgets": {},
     "nuid": "a40df83c-91bd-4e95-967e-1dbcb0350251",
     "showTitle": false,
     "title": ""
    }
   },
   "source": [
    "# Testes Modulares"
   ]
  },
  {
   "cell_type": "markdown",
   "metadata": {
    "application/vnd.databricks.v1+cell": {
     "cellMetadata": {
      "byteLimit": 2048000,
      "rowLimit": 10000
     },
     "inputWidgets": {},
     "nuid": "7c67e265-5579-4e54-a9ad-5005db8534d5",
     "showTitle": false,
     "title": ""
    }
   },
   "source": [
    "### Geração de Massa"
   ]
  },
  {
   "cell_type": "code",
   "execution_count": 0,
   "metadata": {
    "application/vnd.databricks.v1+cell": {
     "cellMetadata": {
      "byteLimit": 2048000,
      "rowLimit": 10000
     },
     "inputWidgets": {},
     "nuid": "00a378cc-d5a3-4a13-8fdb-6102a850e155",
     "showTitle": false,
     "title": ""
    }
   },
   "outputs": [],
   "source": [
    "#Gerando a massa modelo passando o caminho do JSON como nome da variável\n",
    "\n",
    "base_entrada = pd.DataFrame({'etapa':['BACEN M-1'],\n",
    "                             'flagErroBacen':[False],\n",
    "                             \"marcacaoMesa\":[\"XPTO\"],\n",
    "                             'solicitante.rendaLiquidaPicpay':[2500],\n",
    "                             'solicitante.rendaLiquidaPicpayBatch':[2500],\n",
    "                             'solicitante.listaRestritivosBacen.0.saldoVencido':[0],\n",
    "                             'solicitante.listaRestritivosBacen.0.prejuizo':[0],\n",
    "                             'solicitante.listaRestritivosBacen.0.creditoAVencerAdpos':[0],\n",
    "                             'solicitante.listaRestritivosBacen.0.creditoFinanciadoCartoes':[0],\n",
    "                             'solicitante.listaRestritivosBacen.0.creditoVencidoCartao':[0],\n",
    "                             'solicitante.listaRestritivosBacen.0.creditoAVencerCartao':[0],\n",
    "                             'solicitante.listaRestritivosBacen.0.limiteCartaoDisponivel':[0],\n",
    "                             'solicitante.listaRestritivosBacen.0.limiteChequeDisponivel':[0],\n",
    "                             'solicitante.listaRestritivosBacen.0.saldoBacenCheque':[0],\n",
    "                             'solicitante.listaRestritivosBacen.0.renegociacaoBacen':[0],\n",
    "                             'solicitante.listaRestritivosBacen.1.saldoVencido':[0],\n",
    "                             'solicitante.listaRestritivosBacen.1.prejuizo':[0],\n",
    "                             'solicitante.listaRestritivosBacen.1.creditoAVencerAdpos':[0],\n",
    "                             'solicitante.listaRestritivosBacen.1.creditoFinanciadoCartoes':[0],\n",
    "                             'solicitante.listaRestritivosBacen.1.creditoVencidoCartao':[0],\n",
    "                             'solicitante.listaRestritivosBacen.1.creditoAVencerCartao':[0],\n",
    "                             'solicitante.listaRestritivosBacen.1.limiteCartaoDisponivel':[0],\n",
    "                             'solicitante.listaRestritivosBacen.1.limiteChequeDisponivel':[0],\n",
    "                             'solicitante.listaRestritivosBacen.1.saldoBacenCheque':[0],\n",
    "                             'solicitante.listaRestritivosBacen.1.renegociacaoBacen':[0],\n",
    "                             'solicitante.listaRestritivosBacen.2.saldoVencido':[0],\n",
    "                             'solicitante.listaRestritivosBacen.2.prejuizo':[0],\n",
    "                             'solicitante.listaRestritivosBacen.2.creditoAVencerAdpos':[0],\n",
    "                             'solicitante.listaRestritivosBacen.2.creditoFinanciadoCartoes':[0],\n",
    "                             'solicitante.listaRestritivosBacen.2.creditoVencidoCartao':[0],\n",
    "                             'solicitante.listaRestritivosBacen.2.creditoAVencerCartao':[0],\n",
    "                             'solicitante.listaRestritivosBacen.2.limiteCartaoDisponivel':[0],\n",
    "                             'solicitante.listaRestritivosBacen.2.limiteChequeDisponivel':[0],\n",
    "                             'solicitante.listaRestritivosBacen.2.saldoBacenCheque':[0],\n",
    "                             'solicitante.listaRestritivosBacen.2.renegociacaoBacen':[0]\n",
    "                             #'solicitante.novoGrupo': ['S'],\n",
    "                             #'solicitante.numeroDocumento': ['1111117811111'],\n",
    "                             #'solicitante.elegivelSmallLimit':[False],\n",
    "                             #'solicitante.limites.limiteDisponivel': [1200],\n",
    "                             #'solicitante.qtdIF': [2],\n",
    "                             #'solicitante.rangeScoreInternoCartao': ['X']\n",
    "                             })"
   ]
  },
  {
   "cell_type": "code",
   "execution_count": 0,
   "metadata": {
    "application/vnd.databricks.v1+cell": {
     "cellMetadata": {
      "byteLimit": 2048000,
      "rowLimit": 10000
     },
     "inputWidgets": {},
     "nuid": "42e50835-9f3a-4bb0-9811-f8d19359f35c",
     "showTitle": false,
     "title": ""
    }
   },
   "outputs": [],
   "source": [
    "# Teste de casos de erro na chamada de bacen\n",
    "massa_validacaoBacenErro = sherlock.Gera_Massa(base_entrada)\n",
    "massa_validacaoBacenErro.gera_cenario('marcacaoMesa',['MESA','XPTO'])\n",
    "massa_validacaoBacenErro.gera_cenario('etapa',['BACEN M-1','POLITICA CONCESSAO'])\n",
    "massa_validacaoBacenErro.gera_cenario('flagErroBacen',[False]) # a regra de erro bacen é executada no decision flow, testaremos no e2e\n",
    "massa_validacaoBacenErro = massa_validacaoBacenErro.get_massa_final()\n",
    "\n",
    "# Teste caso a renda vier nula\n",
    "massa_validacaoBacenRenda = sherlock.Gera_Massa(base_entrada)\n",
    "massa_validacaoBacenRenda.gera_cenario('marcacaoMesa',['MESA','XPTO'])\n",
    "massa_validacaoBacenRenda.gera_cenario('etapa',['BACEN M-1','POLITICA CONCESSAO'])\n",
    "massa_validacaoBacenRenda.gera_cenario('solicitante.rendaLiquidaPicpay',[-99999,0,10000])\n",
    "massa_validacaoBacenRenda.gera_cenario('solicitante.rendaLiquidaPicpayBatch',[-99999,0,10000])\n",
    "massa_validacaoBacenRenda = massa_validacaoBacenRenda.get_massa_final()\n",
    "\n",
    "# Teste de erro nos dados - posição 0\n",
    "massa_validacaoeErroDados1 = sherlock.Gera_Massa(base_entrada)\n",
    "massa_validacaoeErroDados1.gera_cenario('marcacaoMesa',['MESA','XPTO'])\n",
    "massa_validacaoeErroDados1.gera_cenario('etapa',['BACEN M-1','POLITICA CONCESSAO'])\n",
    "massa_validacaoeErroDados1.gera_cenario('solicitante.listaRestritivosBacen.0.saldoVencido',[0,-99999])\n",
    "massa_validacaoeErroDados1.gera_cenario('solicitante.listaRestritivosBacen.0.prejuizo',[0,-99999])\n",
    "massa_validacaoeErroDados1.gera_cenario('solicitante.listaRestritivosBacen.0.creditoAVencerAdpos',[0,-99999])\n",
    "massa_validacaoeErroDados1.gera_cenario('solicitante.listaRestritivosBacen.0.creditoFinanciadoCartoes',[0,-99999])\n",
    "massa_validacaoeErroDados1.gera_cenario('solicitante.listaRestritivosBacen.0.creditoVencidoCartao',[0,-99999])\n",
    "massa_validacaoeErroDados1.gera_cenario('solicitante.listaRestritivosBacen.0.creditoAVencerCartao',[0,-99999])\n",
    "massa_validacaoeErroDados1.gera_cenario('solicitante.listaRestritivosBacen.0.limiteCartaoDisponivel',[0,-99999])\n",
    "massa_validacaoeErroDados1.gera_cenario('solicitante.listaRestritivosBacen.0.limiteChequeDisponivel',[0,-99999])\n",
    "massa_validacaoeErroDados1.gera_cenario('solicitante.listaRestritivosBacen.0.saldoBacenCheque',[0,-99999])\n",
    "massa_validacaoeErroDados1.gera_cenario('solicitante.listaRestritivosBacen.0.renegociacaoBacen',[0,-99999])\n",
    "massa_validacaoeErroDados1 = massa_validacaoeErroDados1.get_massa_final()\n",
    "\n",
    "# Teste de erro nos dados - posição 1\n",
    "massa_validacaoeErroDados2 = sherlock.Gera_Massa(base_entrada)\n",
    "massa_validacaoeErroDados2.gera_cenario('marcacaoMesa',['MESA','XPTO'])\n",
    "massa_validacaoeErroDados2.gera_cenario('etapa',['BACEN M-1','POLITICA CONCESSAO'])\n",
    "massa_validacaoeErroDados2.gera_cenario('solicitante.listaRestritivosBacen.1.saldoVencido',[0,-99999])\n",
    "massa_validacaoeErroDados2.gera_cenario('solicitante.listaRestritivosBacen.1.prejuizo',[0,-99999])\n",
    "massa_validacaoeErroDados2.gera_cenario('solicitante.listaRestritivosBacen.1.creditoAVencerAdpos',[0,-99999])\n",
    "massa_validacaoeErroDados2.gera_cenario('solicitante.listaRestritivosBacen.1.creditoFinanciadoCartoes',[0,-99999])\n",
    "massa_validacaoeErroDados2.gera_cenario('solicitante.listaRestritivosBacen.1.creditoVencidoCartao',[0,-99999])\n",
    "massa_validacaoeErroDados2.gera_cenario('solicitante.listaRestritivosBacen.1.creditoAVencerCartao',[0,-99999])\n",
    "massa_validacaoeErroDados2.gera_cenario('solicitante.listaRestritivosBacen.1.limiteCartaoDisponivel',[0,-99999])\n",
    "massa_validacaoeErroDados2.gera_cenario('solicitante.listaRestritivosBacen.1.limiteChequeDisponivel',[0,-99999])\n",
    "massa_validacaoeErroDados2.gera_cenario('solicitante.listaRestritivosBacen.1.saldoBacenCheque',[0,-99999])\n",
    "massa_validacaoeErroDados2.gera_cenario('solicitante.listaRestritivosBacen.1.renegociacaoBacen',[0,-99999])\n",
    "massa_validacaoeErroDados2 = massa_validacaoeErroDados2.get_massa_final()\n",
    "\n",
    "# Teste de erro nos dados - posição 2\n",
    "massa_validacaoeErroDados3 = sherlock.Gera_Massa(base_entrada)\n",
    "massa_validacaoeErroDados3.gera_cenario('marcacaoMesa',['MESA','XPTO'])\n",
    "massa_validacaoeErroDados3.gera_cenario('etapa',['BACEN M-1','POLITICA CONCESSAO'])\n",
    "massa_validacaoeErroDados3.gera_cenario('solicitante.listaRestritivosBacen.2.saldoVencido',[0,-99999])\n",
    "massa_validacaoeErroDados3.gera_cenario('solicitante.listaRestritivosBacen.2.prejuizo',[0,-99999])\n",
    "massa_validacaoeErroDados3.gera_cenario('solicitante.listaRestritivosBacen.2.creditoAVencerAdpos',[0,-99999])\n",
    "massa_validacaoeErroDados3.gera_cenario('solicitante.listaRestritivosBacen.2.creditoFinanciadoCartoes',[0,-99999])\n",
    "massa_validacaoeErroDados3.gera_cenario('solicitante.listaRestritivosBacen.2.creditoVencidoCartao',[0,-99999])\n",
    "massa_validacaoeErroDados3.gera_cenario('solicitante.listaRestritivosBacen.2.creditoAVencerCartao',[0,-99999])\n",
    "massa_validacaoeErroDados3.gera_cenario('solicitante.listaRestritivosBacen.2.limiteCartaoDisponivel',[0,-99999])\n",
    "massa_validacaoeErroDados3.gera_cenario('solicitante.listaRestritivosBacen.2.limiteChequeDisponivel',[0,-99999])\n",
    "massa_validacaoeErroDados3.gera_cenario('solicitante.listaRestritivosBacen.2.saldoBacenCheque',[0,-99999])\n",
    "massa_validacaoeErroDados3.gera_cenario('solicitante.listaRestritivosBacen.2.renegociacaoBacen',[0,-99999])\n",
    "massa_validacaoeErroDados3 = massa_validacaoeErroDados3.get_massa_final()\n",
    "\n",
    "# Cenários regras bacen - saldo vencido - POSIÇÃO 0 DO VETOR\n",
    "massa_validacaoBacen1 = sherlock.Gera_Massa(base_entrada)\n",
    "massa_validacaoBacen1.gera_cenario('etapa',['BACEN M-1','POLITICA CONCESSAO'])\n",
    "massa_validacaoBacen1.gera_cenario('marcacaoMesa',['MESA','XPTO'])\n",
    "massa_validacaoBacen1.gera_cenario('solicitante.rendaLiquidaPicpay',[0,10000])\n",
    "massa_validacaoBacen1.gera_cenario('solicitante.rendaLiquidaPicpayBatch',[0,10000])\n",
    "massa_validacaoBacen1.gera_cenario('solicitante.listaRestritivosBacen.0.saldoVencido',[0,4999,5000,5001,999,1000,1001])\n",
    "massa_validacaoBacen1.gera_cenario('solicitante.listaRestritivosBacen.0.prejuizo',[0])\n",
    "massa_validacaoBacen1.gera_cenario('solicitante.listaRestritivosBacen.0.creditoAVencerAdpos',[0])\n",
    "massa_validacaoBacen1.gera_cenario('solicitante.listaRestritivosBacen.0.creditoFinanciadoCartoes',[0])\n",
    "massa_validacaoBacen1.gera_cenario('solicitante.listaRestritivosBacen.0.creditoVencidoCartao',[0])\n",
    "massa_validacaoBacen1.gera_cenario('solicitante.listaRestritivosBacen.0.creditoAVencerCartao',[0])\n",
    "massa_validacaoBacen1.gera_cenario('solicitante.listaRestritivosBacen.0.limiteCartaoDisponivel',[0])\n",
    "massa_validacaoBacen1.gera_cenario('solicitante.listaRestritivosBacen.0.limiteChequeDisponivel',[0])\n",
    "massa_validacaoBacen1.gera_cenario('solicitante.listaRestritivosBacen.0.saldoBacenCheque',[0])\n",
    "massa_validacaoBacen1.gera_cenario('solicitante.listaRestritivosBacen.0.renegociacaoBacen',[0])\n",
    "massa_validacaoBacen1 = massa_validacaoBacen1.get_massa_final()\n",
    "\n",
    "# Cenários regras bacen - prejuizo - POSIÇÃO 0 DO VETOR\n",
    "massa_validacaoBacen2 = sherlock.Gera_Massa(base_entrada)\n",
    "massa_validacaoBacen2.gera_cenario('etapa',['BACEN M-1','POLITICA CONCESSAO'])\n",
    "massa_validacaoBacen2.gera_cenario('marcacaoMesa',['MESA','XPTO'])\n",
    "massa_validacaoBacen2.gera_cenario('solicitante.rendaLiquidaPicpay',[0,10000])\n",
    "massa_validacaoBacen2.gera_cenario('solicitante.rendaLiquidaPicpayBatch',[0,10000])\n",
    "massa_validacaoBacen2.gera_cenario('solicitante.listaRestritivosBacen.0.saldoVencido',[0])\n",
    "massa_validacaoBacen2.gera_cenario('solicitante.listaRestritivosBacen.0.prejuizo',[0,4999,5000,5001,999,1000,1001])\n",
    "massa_validacaoBacen2.gera_cenario('solicitante.listaRestritivosBacen.0.creditoAVencerAdpos',[0])\n",
    "massa_validacaoBacen2.gera_cenario('solicitante.listaRestritivosBacen.0.creditoFinanciadoCartoes',[0])\n",
    "massa_validacaoBacen2.gera_cenario('solicitante.listaRestritivosBacen.0.creditoVencidoCartao',[0])\n",
    "massa_validacaoBacen2.gera_cenario('solicitante.listaRestritivosBacen.0.creditoAVencerCartao',[0])\n",
    "massa_validacaoBacen2.gera_cenario('solicitante.listaRestritivosBacen.0.limiteCartaoDisponivel',[0])\n",
    "massa_validacaoBacen2.gera_cenario('solicitante.listaRestritivosBacen.0.limiteChequeDisponivel',[0])\n",
    "massa_validacaoBacen2.gera_cenario('solicitante.listaRestritivosBacen.0.saldoBacenCheque',[0])\n",
    "massa_validacaoBacen2.gera_cenario('solicitante.listaRestritivosBacen.0.renegociacaoBacen',[0])\n",
    "massa_validacaoBacen2 = massa_validacaoBacen2.get_massa_final()\n",
    "\n",
    "# Cenários regras bacen - creditoAVencerAdpos - POSIÇÃO 0 DO VETOR\n",
    "massa_validacaoBacen3 = sherlock.Gera_Massa(base_entrada)\n",
    "massa_validacaoBacen3.gera_cenario('etapa',['BACEN M-1','POLITICA CONCESSAO'])\n",
    "massa_validacaoBacen3.gera_cenario('marcacaoMesa',['MESA','XPTO'])\n",
    "massa_validacaoBacen3.gera_cenario('solicitante.rendaLiquidaPicpay',[0,10000])\n",
    "massa_validacaoBacen3.gera_cenario('solicitante.rendaLiquidaPicpayBatch',[0,10000])\n",
    "massa_validacaoBacen3.gera_cenario('solicitante.listaRestritivosBacen.0.saldoVencido',[0])\n",
    "massa_validacaoBacen3.gera_cenario('solicitante.listaRestritivosBacen.0.prejuizo',[0])\n",
    "massa_validacaoBacen3.gera_cenario('solicitante.listaRestritivosBacen.0.creditoAVencerAdpos',[0,4999,5000,5001,999,1000,1001])\n",
    "massa_validacaoBacen3.gera_cenario('solicitante.listaRestritivosBacen.0.creditoFinanciadoCartoes',[0])\n",
    "massa_validacaoBacen3.gera_cenario('solicitante.listaRestritivosBacen.0.creditoVencidoCartao',[0])\n",
    "massa_validacaoBacen3.gera_cenario('solicitante.listaRestritivosBacen.0.creditoAVencerCartao',[0])\n",
    "massa_validacaoBacen3.gera_cenario('solicitante.listaRestritivosBacen.0.limiteCartaoDisponivel',[0])\n",
    "massa_validacaoBacen3.gera_cenario('solicitante.listaRestritivosBacen.0.limiteChequeDisponivel',[0])\n",
    "massa_validacaoBacen3.gera_cenario('solicitante.listaRestritivosBacen.0.saldoBacenCheque',[0])\n",
    "massa_validacaoBacen3.gera_cenario('solicitante.listaRestritivosBacen.0.renegociacaoBacen',[0])\n",
    "massa_validacaoBacen3 = massa_validacaoBacen3.get_massa_final()\n",
    "\n",
    "# Cenários regras bacen - saldoFinanciadoCartoes - POSIÇÃO 0 DO VETOR\n",
    "massa_validacaoBacen4 = sherlock.Gera_Massa(base_entrada)\n",
    "massa_validacaoBacen4.gera_cenario('etapa',['BACEN M-1','POLITICA CONCESSAO'])\n",
    "massa_validacaoBacen4.gera_cenario('marcacaoMesa',['MESA','XPTO'])\n",
    "massa_validacaoBacen4.gera_cenario('solicitante.rendaLiquidaPicpay',[10000])\n",
    "massa_validacaoBacen4.gera_cenario('solicitante.rendaLiquidaPicpayBatch',[10000])\n",
    "massa_validacaoBacen4.gera_cenario('solicitante.listaRestritivosBacen.0.saldoVencido',[0])\n",
    "massa_validacaoBacen4.gera_cenario('solicitante.listaRestritivosBacen.0.prejuizo',[0])\n",
    "massa_validacaoBacen4.gera_cenario('solicitante.listaRestritivosBacen.0.creditoAVencerAdpos',[0])\n",
    "massa_validacaoBacen4.gera_cenario('solicitante.listaRestritivosBacen.0.creditoFinanciadoCartoes',[0,60,70,80,6000,7000,8000,10000])\n",
    "massa_validacaoBacen4.gera_cenario('solicitante.listaRestritivosBacen.0.creditoVencidoCartao',[50,5000])\n",
    "massa_validacaoBacen4.gera_cenario('solicitante.listaRestritivosBacen.0.creditoAVencerCartao',[49,50,51,2500])\n",
    "massa_validacaoBacen4.gera_cenario('solicitante.listaRestritivosBacen.0.limiteCartaoDisponivel',[0,2500])\n",
    "massa_validacaoBacen4.gera_cenario('solicitante.listaRestritivosBacen.0.limiteChequeDisponivel',[0])\n",
    "massa_validacaoBacen4.gera_cenario('solicitante.listaRestritivosBacen.0.saldoBacenCheque',[0])\n",
    "massa_validacaoBacen4.gera_cenario('solicitante.listaRestritivosBacen.0.renegociacaoBacen',[0])\n",
    "massa_validacaoBacen4 = massa_validacaoBacen4.get_massa_final()\n",
    "\n",
    "# Cenários regras bacen - usoChequeEspecial - POSIÇÃO 0 DO VETOR\n",
    "massa_validacaoBacen5 = sherlock.Gera_Massa(base_entrada)\n",
    "massa_validacaoBacen5.gera_cenario('etapa',['BACEN M-1','POLITICA CONCESSAO'])\n",
    "massa_validacaoBacen5.gera_cenario('marcacaoMesa',['MESA','XPTO'])\n",
    "massa_validacaoBacen5.gera_cenario('solicitante.rendaLiquidaPicpay',[10000])\n",
    "massa_validacaoBacen5.gera_cenario('solicitante.rendaLiquidaPicpayBatch',[10000])\n",
    "massa_validacaoBacen5.gera_cenario('solicitante.listaRestritivosBacen.0.saldoVencido',[0])\n",
    "massa_validacaoBacen5.gera_cenario('solicitante.listaRestritivosBacen.0.prejuizo',[0])\n",
    "massa_validacaoBacen5.gera_cenario('solicitante.listaRestritivosBacen.0.creditoAVencerAdpos',[0])\n",
    "massa_validacaoBacen5.gera_cenario('solicitante.listaRestritivosBacen.0.creditoFinanciadoCartoes',[0])\n",
    "massa_validacaoBacen5.gera_cenario('solicitante.listaRestritivosBacen.0.creditoVencidoCartao',[0])\n",
    "massa_validacaoBacen5.gera_cenario('solicitante.listaRestritivosBacen.0.creditoAVencerCartao',[0])\n",
    "massa_validacaoBacen5.gera_cenario('solicitante.listaRestritivosBacen.0.limiteCartaoDisponivel',[0])\n",
    "massa_validacaoBacen5.gera_cenario('solicitante.listaRestritivosBacen.0.limiteChequeDisponivel',[0,1,10,20,8000,9000,10000])\n",
    "massa_validacaoBacen5.gera_cenario('solicitante.listaRestritivosBacen.0.saldoBacenCheque',[0,90,99,100,101,1000])\n",
    "massa_validacaoBacen5.gera_cenario('solicitante.listaRestritivosBacen.0.renegociacaoBacen',[0])\n",
    "massa_validacaoBacen5 = massa_validacaoBacen5.get_massa_final()\n",
    "\n",
    "# Cenários regras bacen - creditoAVencerAdpos - POSIÇÃO 0 DO VETOR\n",
    "massa_validacaoBacen6 = sherlock.Gera_Massa(base_entrada)\n",
    "massa_validacaoBacen6.gera_cenario('etapa',['BACEN M-1','POLITICA CONCESSAO'])\n",
    "massa_validacaoBacen6.gera_cenario('marcacaoMesa',['MESA','XPTO'])\n",
    "massa_validacaoBacen6.gera_cenario('solicitante.rendaLiquidaPicpay',[0,10000])\n",
    "massa_validacaoBacen6.gera_cenario('solicitante.rendaLiquidaPicpayBatch',[0,10000])\n",
    "massa_validacaoBacen6.gera_cenario('solicitante.listaRestritivosBacen.0.saldoVencido',[0])\n",
    "massa_validacaoBacen6.gera_cenario('solicitante.listaRestritivosBacen.0.prejuizo',[0])\n",
    "massa_validacaoBacen6.gera_cenario('solicitante.listaRestritivosBacen.0.creditoAVencerAdpos',[0])\n",
    "massa_validacaoBacen6.gera_cenario('solicitante.listaRestritivosBacen.0.creditoFinanciadoCartoes',[0])\n",
    "massa_validacaoBacen6.gera_cenario('solicitante.listaRestritivosBacen.0.creditoVencidoCartao',[0])\n",
    "massa_validacaoBacen6.gera_cenario('solicitante.listaRestritivosBacen.0.creditoAVencerCartao',[0])\n",
    "massa_validacaoBacen6.gera_cenario('solicitante.listaRestritivosBacen.0.limiteCartaoDisponivel',[0])\n",
    "massa_validacaoBacen6.gera_cenario('solicitante.listaRestritivosBacen.0.limiteChequeDisponivel',[0])\n",
    "massa_validacaoBacen6.gera_cenario('solicitante.listaRestritivosBacen.0.saldoBacenCheque',[0])\n",
    "massa_validacaoBacen6.gera_cenario('solicitante.listaRestritivosBacen.0.renegociacaoBacen',[0,4999,5000,5001,999,1000,1001])\n",
    "massa_validacaoBacen6 = massa_validacaoBacen6.get_massa_final()\n",
    "\n",
    "# Cenários regras bacen - saldo vencido - POSIÇÃO 1 DO VETOR\n",
    "massa_validacaoBacen7 = sherlock.Gera_Massa(base_entrada)\n",
    "massa_validacaoBacen7.gera_cenario('etapa',['BACEN M-1','POLITICA CONCESSAO'])\n",
    "massa_validacaoBacen7.gera_cenario('marcacaoMesa',['MESA','XPTO'])\n",
    "massa_validacaoBacen7.gera_cenario('solicitante.rendaLiquidaPicpay',[0,10000])\n",
    "massa_validacaoBacen7.gera_cenario('solicitante.rendaLiquidaPicpayBatch',[0,10000])\n",
    "massa_validacaoBacen7.gera_cenario('solicitante.listaRestritivosBacen.1.saldoVencido',[0,4999,5000,5001,999,1000,1001])\n",
    "massa_validacaoBacen7.gera_cenario('solicitante.listaRestritivosBacen.1.prejuizo',[0])\n",
    "massa_validacaoBacen7.gera_cenario('solicitante.listaRestritivosBacen.1.creditoAVencerAdpos',[0])\n",
    "massa_validacaoBacen7.gera_cenario('solicitante.listaRestritivosBacen.1.creditoFinanciadoCartoes',[0])\n",
    "massa_validacaoBacen7.gera_cenario('solicitante.listaRestritivosBacen.1.creditoVencidoCartao',[0])\n",
    "massa_validacaoBacen7.gera_cenario('solicitante.listaRestritivosBacen.1.creditoAVencerCartao',[0])\n",
    "massa_validacaoBacen7.gera_cenario('solicitante.listaRestritivosBacen.1.limiteCartaoDisponivel',[0])\n",
    "massa_validacaoBacen7.gera_cenario('solicitante.listaRestritivosBacen.1.limiteChequeDisponivel',[0])\n",
    "massa_validacaoBacen7.gera_cenario('solicitante.listaRestritivosBacen.1.saldoBacenCheque',[0])\n",
    "massa_validacaoBacen7.gera_cenario('solicitante.listaRestritivosBacen.1.renegociacaoBacen',[0])\n",
    "massa_validacaoBacen7 = massa_validacaoBacen7.get_massa_final()\n",
    "\n",
    "# Cenários regras bacen - prejuizo - POSIÇÃO 1 DO VETOR\n",
    "massa_validacaoBacen8 = sherlock.Gera_Massa(base_entrada)\n",
    "massa_validacaoBacen8.gera_cenario('etapa',['BACEN M-1','POLITICA CONCESSAO'])\n",
    "massa_validacaoBacen8.gera_cenario('marcacaoMesa',['MESA','XPTO'])\n",
    "massa_validacaoBacen8.gera_cenario('solicitante.rendaLiquidaPicpay',[0,10000])\n",
    "massa_validacaoBacen8.gera_cenario('solicitante.rendaLiquidaPicpayBatch',[0,10000])\n",
    "massa_validacaoBacen8.gera_cenario('solicitante.listaRestritivosBacen.1.saldoVencido',[0])\n",
    "massa_validacaoBacen8.gera_cenario('solicitante.listaRestritivosBacen.1.prejuizo',[0,4999,5000,5001,999,1000,1001])\n",
    "massa_validacaoBacen8.gera_cenario('solicitante.listaRestritivosBacen.1.creditoAVencerAdpos',[0])\n",
    "massa_validacaoBacen8.gera_cenario('solicitante.listaRestritivosBacen.1.creditoFinanciadoCartoes',[0])\n",
    "massa_validacaoBacen8.gera_cenario('solicitante.listaRestritivosBacen.1.creditoVencidoCartao',[0])\n",
    "massa_validacaoBacen8.gera_cenario('solicitante.listaRestritivosBacen.1.creditoAVencerCartao',[0])\n",
    "massa_validacaoBacen8.gera_cenario('solicitante.listaRestritivosBacen.1.limiteCartaoDisponivel',[0])\n",
    "massa_validacaoBacen8.gera_cenario('solicitante.listaRestritivosBacen.1.limiteChequeDisponivel',[0])\n",
    "massa_validacaoBacen8.gera_cenario('solicitante.listaRestritivosBacen.1.saldoBacenCheque',[0])\n",
    "massa_validacaoBacen8.gera_cenario('solicitante.listaRestritivosBacen.1.renegociacaoBacen',[0])\n",
    "massa_validacaoBacen8 = massa_validacaoBacen8.get_massa_final()\n",
    "\n",
    "# Cenários regras bacen - creditoAVencerAdpos - POSIÇÃO 1 DO VETOR\n",
    "massa_validacaoBacen9 = sherlock.Gera_Massa(base_entrada)\n",
    "massa_validacaoBacen9.gera_cenario('etapa',['BACEN M-1','POLITICA CONCESSAO'])\n",
    "massa_validacaoBacen9.gera_cenario('marcacaoMesa',['MESA','XPTO'])\n",
    "massa_validacaoBacen9.gera_cenario('solicitante.rendaLiquidaPicpay',[0,10000])\n",
    "massa_validacaoBacen9.gera_cenario('solicitante.rendaLiquidaPicpayBatch',[0,10000])\n",
    "massa_validacaoBacen9.gera_cenario('solicitante.listaRestritivosBacen.1.saldoVencido',[0])\n",
    "massa_validacaoBacen9.gera_cenario('solicitante.listaRestritivosBacen.1.prejuizo',[0])\n",
    "massa_validacaoBacen9.gera_cenario('solicitante.listaRestritivosBacen.1.creditoAVencerAdpos',[0,4999,5000,5001,999,1000,1001])\n",
    "massa_validacaoBacen9.gera_cenario('solicitante.listaRestritivosBacen.1.creditoFinanciadoCartoes',[0])\n",
    "massa_validacaoBacen9.gera_cenario('solicitante.listaRestritivosBacen.1.creditoVencidoCartao',[0])\n",
    "massa_validacaoBacen9.gera_cenario('solicitante.listaRestritivosBacen.1.creditoAVencerCartao',[0])\n",
    "massa_validacaoBacen9.gera_cenario('solicitante.listaRestritivosBacen.1.limiteCartaoDisponivel',[0])\n",
    "massa_validacaoBacen9.gera_cenario('solicitante.listaRestritivosBacen.1.limiteChequeDisponivel',[0])\n",
    "massa_validacaoBacen9.gera_cenario('solicitante.listaRestritivosBacen.1.saldoBacenCheque',[0])\n",
    "massa_validacaoBacen9.gera_cenario('solicitante.listaRestritivosBacen.1.renegociacaoBacen',[0])\n",
    "massa_validacaoBacen9 = massa_validacaoBacen9.get_massa_final()\n",
    "\n",
    "# Cenários regras bacen - saldoFinanciadoCartoes - POSIÇÃO 1 DO VETOR\n",
    "massa_validacaoBacen10 = sherlock.Gera_Massa(base_entrada)\n",
    "massa_validacaoBacen10.gera_cenario('etapa',['BACEN M-1','POLITICA CONCESSAO'])\n",
    "massa_validacaoBacen10.gera_cenario('marcacaoMesa',['MESA','XPTO'])\n",
    "massa_validacaoBacen10.gera_cenario('solicitante.rendaLiquidaPicpay',[10000])\n",
    "massa_validacaoBacen10.gera_cenario('solicitante.rendaLiquidaPicpayBatch',[10000])\n",
    "massa_validacaoBacen10.gera_cenario('solicitante.listaRestritivosBacen.1.saldoVencido',[0])\n",
    "massa_validacaoBacen10.gera_cenario('solicitante.listaRestritivosBacen.1.prejuizo',[0])\n",
    "massa_validacaoBacen10.gera_cenario('solicitante.listaRestritivosBacen.1.creditoAVencerAdpos',[0])\n",
    "massa_validacaoBacen10.gera_cenario('solicitante.listaRestritivosBacen.1.creditoFinanciadoCartoes',[0,60,70,80,6000,7000,8000,10000])\n",
    "massa_validacaoBacen10.gera_cenario('solicitante.listaRestritivosBacen.1.creditoVencidoCartao',[50,5000])\n",
    "massa_validacaoBacen10.gera_cenario('solicitante.listaRestritivosBacen.1.creditoAVencerCartao',[49,50,51,2500])\n",
    "massa_validacaoBacen10.gera_cenario('solicitante.listaRestritivosBacen.1.limiteCartaoDisponivel',[0,2500])\n",
    "massa_validacaoBacen10.gera_cenario('solicitante.listaRestritivosBacen.1.limiteChequeDisponivel',[0])\n",
    "massa_validacaoBacen10.gera_cenario('solicitante.listaRestritivosBacen.1.saldoBacenCheque',[0])\n",
    "massa_validacaoBacen10.gera_cenario('solicitante.listaRestritivosBacen.1.renegociacaoBacen',[0])\n",
    "massa_validacaoBacen10 = massa_validacaoBacen10.get_massa_final()\n",
    "\n",
    "# Cenários regras bacen - usoChequeEspecial - POSIÇÃO 1 DO VETOR\n",
    "massa_validacaoBacen11 = sherlock.Gera_Massa(base_entrada)\n",
    "massa_validacaoBacen11.gera_cenario('etapa',['BACEN M-1','POLITICA CONCESSAO'])\n",
    "massa_validacaoBacen11.gera_cenario('marcacaoMesa',['MESA','XPTO'])\n",
    "massa_validacaoBacen11.gera_cenario('solicitante.rendaLiquidaPicpay',[10000])\n",
    "massa_validacaoBacen11.gera_cenario('solicitante.rendaLiquidaPicpayBatch',[10000])\n",
    "massa_validacaoBacen11.gera_cenario('solicitante.listaRestritivosBacen.1.saldoVencido',[0])\n",
    "massa_validacaoBacen11.gera_cenario('solicitante.listaRestritivosBacen.1.prejuizo',[0])\n",
    "massa_validacaoBacen11.gera_cenario('solicitante.listaRestritivosBacen.1.creditoAVencerAdpos',[0])\n",
    "massa_validacaoBacen11.gera_cenario('solicitante.listaRestritivosBacen.1.creditoFinanciadoCartoes',[0])\n",
    "massa_validacaoBacen11.gera_cenario('solicitante.listaRestritivosBacen.1.creditoVencidoCartao',[0])\n",
    "massa_validacaoBacen11.gera_cenario('solicitante.listaRestritivosBacen.1.creditoAVencerCartao',[0])\n",
    "massa_validacaoBacen11.gera_cenario('solicitante.listaRestritivosBacen.1.limiteCartaoDisponivel',[0])\n",
    "massa_validacaoBacen11.gera_cenario('solicitante.listaRestritivosBacen.1.limiteChequeDisponivel',[0,1,10,20,8000,9000,10000])\n",
    "massa_validacaoBacen11.gera_cenario('solicitante.listaRestritivosBacen.1.saldoBacenCheque',[0,90,99,100,101,1000])\n",
    "massa_validacaoBacen11.gera_cenario('solicitante.listaRestritivosBacen.1.renegociacaoBacen',[0])\n",
    "massa_validacaoBacen11 = massa_validacaoBacen11.get_massa_final()\n",
    "\n",
    "# Cenários regras bacen - creditoAVencerAdpos - POSIÇÃO 1 DO VETOR\n",
    "massa_validacaoBacen12 = sherlock.Gera_Massa(base_entrada)\n",
    "massa_validacaoBacen12.gera_cenario('etapa',['BACEN M-1','POLITICA CONCESSAO'])\n",
    "massa_validacaoBacen12.gera_cenario('marcacaoMesa',['MESA','XPTO'])\n",
    "massa_validacaoBacen12.gera_cenario('solicitante.rendaLiquidaPicpay',[0,10000])\n",
    "massa_validacaoBacen12.gera_cenario('solicitante.rendaLiquidaPicpayBatch',[0,10000])\n",
    "massa_validacaoBacen12.gera_cenario('solicitante.listaRestritivosBacen.1.saldoVencido',[0])\n",
    "massa_validacaoBacen12.gera_cenario('solicitante.listaRestritivosBacen.1.prejuizo',[0])\n",
    "massa_validacaoBacen12.gera_cenario('solicitante.listaRestritivosBacen.1.creditoAVencerAdpos',[0])\n",
    "massa_validacaoBacen12.gera_cenario('solicitante.listaRestritivosBacen.1.creditoFinanciadoCartoes',[0])\n",
    "massa_validacaoBacen12.gera_cenario('solicitante.listaRestritivosBacen.1.creditoVencidoCartao',[0])\n",
    "massa_validacaoBacen12.gera_cenario('solicitante.listaRestritivosBacen.1.creditoAVencerCartao',[0])\n",
    "massa_validacaoBacen12.gera_cenario('solicitante.listaRestritivosBacen.1.limiteCartaoDisponivel',[0])\n",
    "massa_validacaoBacen12.gera_cenario('solicitante.listaRestritivosBacen.1.limiteChequeDisponivel',[0])\n",
    "massa_validacaoBacen12.gera_cenario('solicitante.listaRestritivosBacen.1.saldoBacenCheque',[0])\n",
    "massa_validacaoBacen12.gera_cenario('solicitante.listaRestritivosBacen.1.renegociacaoBacen',[0,4999,5000,5001,999,1000,1001])\n",
    "massa_validacaoBacen12 = massa_validacaoBacen12.get_massa_final()\n",
    "\n",
    "# Cenários regras bacen - saldo vencido - POSIÇÃO 2 DO VETOR\n",
    "massa_validacaoBacen13 = sherlock.Gera_Massa(base_entrada)\n",
    "massa_validacaoBacen13.gera_cenario('etapa',['BACEN M-1','POLITICA CONCESSAO'])\n",
    "massa_validacaoBacen13.gera_cenario('marcacaoMesa',['MESA','XPTO'])\n",
    "massa_validacaoBacen13.gera_cenario('solicitante.rendaLiquidaPicpay',[0,10000])\n",
    "massa_validacaoBacen13.gera_cenario('solicitante.rendaLiquidaPicpayBatch',[0,10000])\n",
    "massa_validacaoBacen13.gera_cenario('solicitante.listaRestritivosBacen.2.saldoVencido',[0,4999,5000,5001,999,1000,1001])\n",
    "massa_validacaoBacen13.gera_cenario('solicitante.listaRestritivosBacen.2.prejuizo',[0])\n",
    "massa_validacaoBacen13.gera_cenario('solicitante.listaRestritivosBacen.2.creditoAVencerAdpos',[0])\n",
    "massa_validacaoBacen13.gera_cenario('solicitante.listaRestritivosBacen.2.creditoFinanciadoCartoes',[0])\n",
    "massa_validacaoBacen13.gera_cenario('solicitante.listaRestritivosBacen.2.creditoVencidoCartao',[0])\n",
    "massa_validacaoBacen13.gera_cenario('solicitante.listaRestritivosBacen.2.creditoAVencerCartao',[0])\n",
    "massa_validacaoBacen13.gera_cenario('solicitante.listaRestritivosBacen.2.limiteCartaoDisponivel',[0])\n",
    "massa_validacaoBacen13.gera_cenario('solicitante.listaRestritivosBacen.2.limiteChequeDisponivel',[0])\n",
    "massa_validacaoBacen13.gera_cenario('solicitante.listaRestritivosBacen.2.saldoBacenCheque',[0])\n",
    "massa_validacaoBacen13.gera_cenario('solicitante.listaRestritivosBacen.2.renegociacaoBacen',[0])\n",
    "massa_validacaoBacen13 = massa_validacaoBacen13.get_massa_final()\n",
    "\n",
    "# Cenários regras bacen - prejuizo - POSIÇÃO 2 DO VETOR\n",
    "massa_validacaoBacen14 = sherlock.Gera_Massa(base_entrada)\n",
    "massa_validacaoBacen14.gera_cenario('etapa',['BACEN M-1','POLITICA CONCESSAO'])\n",
    "massa_validacaoBacen14.gera_cenario('marcacaoMesa',['MESA','XPTO'])\n",
    "massa_validacaoBacen14.gera_cenario('solicitante.rendaLiquidaPicpay',[0,10000])\n",
    "massa_validacaoBacen14.gera_cenario('solicitante.listaRestritivosBacen.2.saldoVencido',[0])\n",
    "massa_validacaoBacen14.gera_cenario('solicitante.listaRestritivosBacen.2.prejuizo',[0,4999,5000,5001,999,1000,1001])\n",
    "massa_validacaoBacen14.gera_cenario('solicitante.listaRestritivosBacen.2.creditoAVencerAdpos',[0])\n",
    "massa_validacaoBacen14.gera_cenario('solicitante.listaRestritivosBacen.2.creditoFinanciadoCartoes',[0])\n",
    "massa_validacaoBacen14.gera_cenario('solicitante.listaRestritivosBacen.2.creditoVencidoCartao',[0])\n",
    "massa_validacaoBacen14.gera_cenario('solicitante.listaRestritivosBacen.2.creditoAVencerCartao',[0])\n",
    "massa_validacaoBacen14.gera_cenario('solicitante.listaRestritivosBacen.2.limiteCartaoDisponivel',[0])\n",
    "massa_validacaoBacen14.gera_cenario('solicitante.listaRestritivosBacen.2.limiteChequeDisponivel',[0])\n",
    "massa_validacaoBacen14.gera_cenario('solicitante.listaRestritivosBacen.2.saldoBacenCheque',[0])\n",
    "massa_validacaoBacen14.gera_cenario('solicitante.listaRestritivosBacen.2.renegociacaoBacen',[0])\n",
    "massa_validacaoBacen14 = massa_validacaoBacen14.get_massa_final()\n",
    "\n",
    "# Cenários regras bacen - creditoAVencerAdpos - POSIÇÃO 2 DO VETOR\n",
    "massa_validacaoBacen15 = sherlock.Gera_Massa(base_entrada)\n",
    "massa_validacaoBacen15.gera_cenario('etapa',['BACEN M-1','POLITICA CONCESSAO'])\n",
    "massa_validacaoBacen15.gera_cenario('marcacaoMesa',['MESA','XPTO'])\n",
    "massa_validacaoBacen15.gera_cenario('solicitante.rendaLiquidaPicpay',[0,10000])\n",
    "massa_validacaoBacen15.gera_cenario('solicitante.rendaLiquidaPicpayBatch',[0,10000])\n",
    "massa_validacaoBacen15.gera_cenario('solicitante.listaRestritivosBacen.2.saldoVencido',[0])\n",
    "massa_validacaoBacen15.gera_cenario('solicitante.listaRestritivosBacen.2.prejuizo',[0])\n",
    "massa_validacaoBacen15.gera_cenario('solicitante.listaRestritivosBacen.2.creditoAVencerAdpos',[0,4999,5000,5001,999,1000,1001])\n",
    "massa_validacaoBacen15.gera_cenario('solicitante.listaRestritivosBacen.2.creditoFinanciadoCartoes',[0])\n",
    "massa_validacaoBacen15.gera_cenario('solicitante.listaRestritivosBacen.2.creditoVencidoCartao',[0])\n",
    "massa_validacaoBacen15.gera_cenario('solicitante.listaRestritivosBacen.2.creditoAVencerCartao',[0])\n",
    "massa_validacaoBacen15.gera_cenario('solicitante.listaRestritivosBacen.2.limiteCartaoDisponivel',[0])\n",
    "massa_validacaoBacen15.gera_cenario('solicitante.listaRestritivosBacen.2.limiteChequeDisponivel',[0])\n",
    "massa_validacaoBacen15.gera_cenario('solicitante.listaRestritivosBacen.2.saldoBacenCheque',[0])\n",
    "massa_validacaoBacen15.gera_cenario('solicitante.listaRestritivosBacen.2.renegociacaoBacen',[0])\n",
    "massa_validacaoBacen15 = massa_validacaoBacen15.get_massa_final()\n",
    "\n",
    "# Cenários regras bacen - saldoFinanciadoCartoes - POSIÇÃO 2 DO VETOR\n",
    "massa_validacaoBacen16 = sherlock.Gera_Massa(base_entrada)\n",
    "massa_validacaoBacen16.gera_cenario('etapa',['BACEN M-1','POLITICA CONCESSAO'])\n",
    "massa_validacaoBacen16.gera_cenario('marcacaoMesa',['MESA','XPTO'])\n",
    "massa_validacaoBacen16.gera_cenario('solicitante.rendaLiquidaPicpay',[10000])\n",
    "massa_validacaoBacen16.gera_cenario('solicitante.rendaLiquidaPicpayBatch',[10000])\n",
    "massa_validacaoBacen16.gera_cenario('solicitante.listaRestritivosBacen.1.saldoVencido',[0])\n",
    "massa_validacaoBacen16.gera_cenario('solicitante.listaRestritivosBacen.1.prejuizo',[0])\n",
    "massa_validacaoBacen16.gera_cenario('solicitante.listaRestritivosBacen.1.creditoAVencerAdpos',[0])\n",
    "massa_validacaoBacen16.gera_cenario('solicitante.listaRestritivosBacen.1.creditoFinanciadoCartoes',[0,60,70,80,6000,7000,8000,10000])\n",
    "massa_validacaoBacen16.gera_cenario('solicitante.listaRestritivosBacen.1.creditoVencidoCartao',[50,5000])\n",
    "massa_validacaoBacen16.gera_cenario('solicitante.listaRestritivosBacen.1.creditoAVencerCartao',[49,50,51,2500])\n",
    "massa_validacaoBacen16.gera_cenario('solicitante.listaRestritivosBacen.1.limiteCartaoDisponivel',[0,2500])\n",
    "massa_validacaoBacen16.gera_cenario('solicitante.listaRestritivosBacen.1.limiteChequeDisponivel',[0])\n",
    "massa_validacaoBacen16.gera_cenario('solicitante.listaRestritivosBacen.1.saldoBacenCheque',[0])\n",
    "massa_validacaoBacen16.gera_cenario('solicitante.listaRestritivosBacen.1.renegociacaoBacen',[0])\n",
    "massa_validacaoBacen16 = massa_validacaoBacen16.get_massa_final()\n",
    "\n",
    "# Cenários regras bacen - usoChequeEspecial - POSIÇÃO 2 DO VETOR\n",
    "massa_validacaoBacen17 = sherlock.Gera_Massa(base_entrada)\n",
    "massa_validacaoBacen17.gera_cenario('etapa',['BACEN M-1','POLITICA CONCESSAO'])\n",
    "massa_validacaoBacen17.gera_cenario('marcacaoMesa',['MESA','XPTO'])\n",
    "massa_validacaoBacen17.gera_cenario('solicitante.rendaLiquidaPicpay',[10000])\n",
    "massa_validacaoBacen17.gera_cenario('solicitante.rendaLiquidaPicpayBatch',[10000])\n",
    "massa_validacaoBacen17.gera_cenario('solicitante.listaRestritivosBacen.1.saldoVencido',[0])\n",
    "massa_validacaoBacen17.gera_cenario('solicitante.listaRestritivosBacen.1.prejuizo',[0])\n",
    "massa_validacaoBacen17.gera_cenario('solicitante.listaRestritivosBacen.1.creditoAVencerAdpos',[0])\n",
    "massa_validacaoBacen17.gera_cenario('solicitante.listaRestritivosBacen.1.creditoFinanciadoCartoes',[0])\n",
    "massa_validacaoBacen17.gera_cenario('solicitante.listaRestritivosBacen.1.creditoVencidoCartao',[0])\n",
    "massa_validacaoBacen17.gera_cenario('solicitante.listaRestritivosBacen.1.creditoAVencerCartao',[0])\n",
    "massa_validacaoBacen17.gera_cenario('solicitante.listaRestritivosBacen.1.limiteCartaoDisponivel',[0])\n",
    "massa_validacaoBacen17.gera_cenario('solicitante.listaRestritivosBacen.1.limiteChequeDisponivel',[0,1,10,20,8000,9000,10000])\n",
    "massa_validacaoBacen17.gera_cenario('solicitante.listaRestritivosBacen.1.saldoBacenCheque',[0,90,99,100,101,1000])\n",
    "massa_validacaoBacen17.gera_cenario('solicitante.listaRestritivosBacen.1.renegociacaoBacen',[0])\n",
    "massa_validacaoBacen17 = massa_validacaoBacen17.get_massa_final()\n",
    "\n",
    "# Cenários regras bacen - creditoAVencerAdpos - POSIÇÃO 2 DO VETOR\n",
    "massa_validacaoBacen18 = sherlock.Gera_Massa(base_entrada)\n",
    "massa_validacaoBacen18.gera_cenario('etapa',['BACEN M-1','POLITICA CONCESSAO'])\n",
    "massa_validacaoBacen18.gera_cenario('marcacaoMesa',['MESA','XPTO'])\n",
    "massa_validacaoBacen18.gera_cenario('solicitante.rendaLiquidaPicpay',[0,10000])\n",
    "massa_validacaoBacen18.gera_cenario('solicitante.rendaLiquidaPicpayBatch',[0,10000])\n",
    "massa_validacaoBacen18.gera_cenario('solicitante.listaRestritivosBacen.1.saldoVencido',[0])\n",
    "massa_validacaoBacen18.gera_cenario('solicitante.listaRestritivosBacen.1.prejuizo',[0])\n",
    "massa_validacaoBacen18.gera_cenario('solicitante.listaRestritivosBacen.1.creditoAVencerAdpos',[0])\n",
    "massa_validacaoBacen18.gera_cenario('solicitante.listaRestritivosBacen.1.creditoFinanciadoCartoes',[0])\n",
    "massa_validacaoBacen18.gera_cenario('solicitante.listaRestritivosBacen.1.creditoVencidoCartao',[0])\n",
    "massa_validacaoBacen18.gera_cenario('solicitante.listaRestritivosBacen.1.creditoAVencerCartao',[0])\n",
    "massa_validacaoBacen18.gera_cenario('solicitante.listaRestritivosBacen.1.limiteCartaoDisponivel',[0])\n",
    "massa_validacaoBacen18.gera_cenario('solicitante.listaRestritivosBacen.1.limiteChequeDisponivel',[0])\n",
    "massa_validacaoBacen18.gera_cenario('solicitante.listaRestritivosBacen.1.saldoBacenCheque',[0])\n",
    "massa_validacaoBacen18.gera_cenario('solicitante.listaRestritivosBacen.1.renegociacaoBacen',[0,4999,5000,5001,999,1000,1001])\n",
    "massa_validacaoBacen18 = massa_validacaoBacen18.get_massa_final()\n",
    "\n",
    "massa_validacaoBacen = sherlock.Gera_Massa(base_entrada)\n",
    "massa_validacaoBacen.empilha_massas([massa_validacaoBacenErro,\n",
    "                                     massa_validacaoBacenRenda,\n",
    "                                     massa_validacaoeErroDados1,\n",
    "                                     massa_validacaoeErroDados2,\n",
    "                                     massa_validacaoeErroDados3,\n",
    "                                     massa_validacaoBacen1,\n",
    "                                     massa_validacaoBacen2,\n",
    "                                     massa_validacaoBacen3,\n",
    "                                     massa_validacaoBacen4,\n",
    "                                     massa_validacaoBacen5,\n",
    "                                     massa_validacaoBacen6,\n",
    "                                     massa_validacaoBacen7,\n",
    "                                     massa_validacaoBacen8,\n",
    "                                     massa_validacaoBacen9,\n",
    "                                     massa_validacaoBacen10,\n",
    "                                     massa_validacaoBacen11,\n",
    "                                     massa_validacaoBacen12,\n",
    "                                     massa_validacaoBacen13,\n",
    "                                     massa_validacaoBacen14,\n",
    "                                     massa_validacaoBacen15,\n",
    "                                     massa_validacaoBacen16,\n",
    "                                     massa_validacaoBacen17,\n",
    "                                     massa_validacaoBacen18\n",
    "                                     ])\n",
    "\n",
    "massa_validacaoBacen.set_bom_arqv()\n",
    "massa_validacaoBacen.converte_massa()"
   ]
  },
  {
   "cell_type": "markdown",
   "metadata": {
    "application/vnd.databricks.v1+cell": {
     "cellMetadata": {
      "byteLimit": 2048000,
      "rowLimit": 10000
     },
     "inputWidgets": {},
     "nuid": "5349f7f7-35c9-432c-9dd2-ca690129bc1a",
     "showTitle": false,
     "title": ""
    }
   },
   "source": [
    "### Execução Modular e Geração de CSV"
   ]
  },
  {
   "cell_type": "code",
   "execution_count": 0,
   "metadata": {
    "application/vnd.databricks.v1+cell": {
     "cellMetadata": {
      "byteLimit": 2048000,
      "rowLimit": 10000
     },
     "inputWidgets": {},
     "nuid": "e62974bd-d966-4928-82b2-137ede797bfe",
     "showTitle": false,
     "title": ""
    }
   },
   "outputs": [],
   "source": [
    "#Execução modular\n",
    "listaResultado = rp.execucaoModular(massa_validacaoBacen.get_massa_json(),rp.validaBacen)"
   ]
  },
  {
   "cell_type": "code",
   "execution_count": 0,
   "metadata": {
    "application/vnd.databricks.v1+cell": {
     "cellMetadata": {
      "byteLimit": 2048000,
      "rowLimit": 10000
     },
     "inputWidgets": {},
     "nuid": "db36f68d-3c3a-4601-a458-ce6e8748330a",
     "showTitle": false,
     "title": ""
    }
   },
   "outputs": [],
   "source": [
    "import pandas as pd\n",
    "results = []\n",
    "for caso in listaResultado:\n",
    "    results.append(caso['payloadHomol']['intermediarias']['passouRegraBacen'])\n",
    "    \n",
    "freqzinha = pd.DataFrame(results, columns=['valor'])\n",
    "freqzinha['Freq'] = freqzinha['valor'].map(freqzinha['valor'].value_counts())\n",
    "freqzinha = freqzinha.drop_duplicates().reset_index(drop=True)\n",
    "\n",
    "freqzinha = freqzinha.sort_values('valor', ascending=True)\n",
    "freqzinha"
   ]
  },
  {
   "cell_type": "code",
   "execution_count": 0,
   "metadata": {
    "application/vnd.databricks.v1+cell": {
     "cellMetadata": {
      "byteLimit": 2048000,
      "rowLimit": 10000
     },
     "inputWidgets": {},
     "nuid": "5da40499-2c00-464c-8176-5d7764b2f654",
     "showTitle": false,
     "title": ""
    }
   },
   "outputs": [],
   "source": [
    "# Renomeação das colunas para o cabeçalho do RMA\n",
    "massa_validacaoBacen.rename_cabecalho()\n",
    "\n",
    "#Contagem da qtd de regras negativas em que o cliente se enquadrou\n",
    "tam = 0\n",
    "for x in listaResultado:\n",
    "    t = len(x['payloadHomol']['saidas']['regrasNegativas'])\n",
    "    x['payloadHomol']['saidas']['qtdNegativas'] = t\n",
    "    if t > tam:\n",
    "        tam = t\n",
    "\n",
    "print(\"tam: \"+str(tam))\n",
    "\n",
    "for y in range (0,tam):\n",
    "    massa_validacaoBacen.atribui_expected(listaResultado,\"payloadHomol.saidas.regrasNegativas.\"+str(y)+\".nomeRegra\",\"regrasNegativas#\"+str(y+1)+\".nomeRegra\")\n",
    "    massa_validacaoBacen.atribui_expected(listaResultado,\"payloadHomol.saidas.regrasNegativas.\"+str(y)+\".descricao\",\"regrasNegativas#\"+str(y+1)+\".descRegra\")\n",
    "\n",
    "massa_validacaoBacen.atribui_expected(listaResultado,'payloadHomol.saidas.statusDecisao','statusDecisao')\n",
    "massa_validacaoBacen.atribui_expected(listaResultado,'payloadHomol.saidas.qtdNegativas','versionamentoPolitica')\n",
    "\n",
    "massa_validacaoBacen.get_massa_dm()"
   ]
  },
  {
   "cell_type": "markdown",
   "metadata": {
    "application/vnd.databricks.v1+cell": {
     "cellMetadata": {
      "byteLimit": 2048000,
      "rowLimit": 10000
     },
     "inputWidgets": {},
     "nuid": "1483061c-0274-484f-be51-212755c89044",
     "showTitle": false,
     "title": ""
    }
   },
   "source": [
    "### Conversão da massa para CSV"
   ]
  },
  {
   "cell_type": "code",
   "execution_count": 0,
   "metadata": {
    "application/vnd.databricks.v1+cell": {
     "cellMetadata": {
      "byteLimit": 2048000,
      "rowLimit": 10000
     },
     "inputWidgets": {},
     "nuid": "b545c6ca-1290-44be-8c6e-d122bcb6f7c6",
     "showTitle": false,
     "title": ""
    }
   },
   "outputs": [],
   "source": [
    "massa_validacaoBacen.get_massa_dm().to_csv(r'/Workspace/Users/kaue.ongaro@picpaybank.com/2 - Homologação/Concessao de Cartoes - Online/massas/massaValidacoesBacen.csv',index=False)"
   ]
  },
  {
   "cell_type": "markdown",
   "metadata": {
    "application/vnd.databricks.v1+cell": {
     "cellMetadata": {
      "byteLimit": 2048000,
      "rowLimit": 10000
     },
     "inputWidgets": {},
     "nuid": "45dec028-c61d-42c7-ab73-85971764fde1",
     "showTitle": false,
     "title": ""
    }
   },
   "source": [
    "#"
   ]
  },
  {
   "cell_type": "code",
   "execution_count": 0,
   "metadata": {
    "application/vnd.databricks.v1+cell": {
     "cellMetadata": {
      "byteLimit": 2048000,
      "rowLimit": 10000
     },
     "inputWidgets": {},
     "nuid": "d347e39b-e9ac-43aa-9108-af5159400a56",
     "showTitle": false,
     "title": ""
    }
   },
   "outputs": [],
   "source": [
    "dataID = 7406\n",
    "print(json.dumps(listaResultado[dataID-1],indent=4))"
   ]
  }
 ],
 "metadata": {
  "application/vnd.databricks.v1+notebook": {
   "dashboards": [],
   "language": "python",
   "notebookMetadata": {
    "pythonIndentUnit": 4
   },
   "notebookName": "homol_modular_validacoesBacen",
   "widgets": {}
  },
  "kernelspec": {
   "display_name": "Python 3",
   "language": "python",
   "name": "python3"
  },
  "language_info": {
   "codemirror_mode": {
    "name": "ipython",
    "version": 3
   },
   "file_extension": ".py",
   "mimetype": "text/x-python",
   "name": "python",
   "nbconvert_exporter": "python",
   "pygments_lexer": "ipython3",
   "version": "3.12.0"
  }
 },
 "nbformat": 4,
 "nbformat_minor": 0
}
