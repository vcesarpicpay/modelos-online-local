{
 "cells": [
  {
   "cell_type": "code",
   "execution_count": 0,
   "metadata": {
    "application/vnd.databricks.v1+cell": {
     "cellMetadata": {
      "byteLimit": 2048000,
      "rowLimit": 10000
     },
     "inputWidgets": {},
     "nuid": "6b01e65b-20e0-41f4-9132-0cd228cd517e",
     "showTitle": false,
     "title": ""
    }
   },
   "outputs": [],
   "source": [
    "dbutils.library.restartPython()"
   ]
  },
  {
   "cell_type": "markdown",
   "metadata": {
    "application/vnd.databricks.v1+cell": {
     "cellMetadata": {
      "byteLimit": 2048000,
      "rowLimit": 10000
     },
     "inputWidgets": {},
     "nuid": "b3b97d92-0875-4e4c-955e-6a4fd7e0382d",
     "showTitle": false,
     "title": ""
    }
   },
   "source": [
    "# Import de Funções e Libs"
   ]
  },
  {
   "cell_type": "markdown",
   "metadata": {
    "application/vnd.databricks.v1+cell": {
     "cellMetadata": {
      "byteLimit": 2048000,
      "rowLimit": 10000
     },
     "inputWidgets": {},
     "nuid": "405da4ba-d5f5-455b-a186-c9d95020d656",
     "showTitle": false,
     "title": ""
    }
   },
   "source": [
    "As bibliotecas e funções utilizadas ao longo do código devem ser adicionadas aqui"
   ]
  },
  {
   "cell_type": "code",
   "execution_count": 0,
   "metadata": {
    "application/vnd.databricks.v1+cell": {
     "cellMetadata": {
      "byteLimit": 2048000,
      "rowLimit": 10000
     },
     "inputWidgets": {},
     "nuid": "35818e65-0b3a-4169-95bd-6cd1200b6873",
     "showTitle": false,
     "title": ""
    }
   },
   "outputs": [],
   "source": [
    "import numpy as np\n",
    "import pandas as pd\n",
    "import requests\n",
    "import json\n",
    "import sherlock\n",
    "import regras_politica as rp"
   ]
  },
  {
   "cell_type": "markdown",
   "metadata": {
    "application/vnd.databricks.v1+cell": {
     "cellMetadata": {
      "byteLimit": 2048000,
      "rowLimit": 10000
     },
     "inputWidgets": {},
     "nuid": "3b7b68fb-aa65-4c07-9239-80ff0bcf60b8",
     "showTitle": false,
     "title": ""
    }
   },
   "source": [
    "### Testes Modulares - Referente ao tópico 4 - Tabelas tópico 4.3"
   ]
  },
  {
   "cell_type": "markdown",
   "metadata": {
    "application/vnd.databricks.v1+cell": {
     "cellMetadata": {
      "byteLimit": 2048000,
      "rowLimit": 10000
     },
     "inputWidgets": {},
     "nuid": "53c9e1f4-296e-473a-ae84-1d12f5c9a473",
     "showTitle": false,
     "title": ""
    }
   },
   "source": [
    "### Geração de Massa"
   ]
  },
  {
   "cell_type": "code",
   "execution_count": 0,
   "metadata": {
    "application/vnd.databricks.v1+cell": {
     "cellMetadata": {
      "byteLimit": 2048000,
      "rowLimit": 10000
     },
     "inputWidgets": {},
     "nuid": "3ad16f05-f504-4bef-8a27-b4759d823845",
     "showTitle": false,
     "title": ""
    }
   },
   "outputs": [],
   "source": [
    "#Gerando a massa modelo passando o caminho do JSON como nome da variável\n",
    "base_entrada = pd.DataFrame({'payloadHomol.intermediarias.faixaScoreExterno':[\"R10\"],\n",
    "                             'payloadHomol.intermediarias.segmentacaoPolitica':[\"P1 - Funcionarios\"],\n",
    "                             'payloadHomol.intermediarias.faixaRendaLiquida':[\"d. >= 10k\"],\n",
    "                             'payloadHomol.intermediarias.admissaoMeses':[0],\n",
    "                             'payloadHomol.intermediarias.cpf5e6Digito':[99]\n",
    "                            })"
   ]
  },
  {
   "cell_type": "code",
   "execution_count": 0,
   "metadata": {
    "application/vnd.databricks.v1+cell": {
     "cellMetadata": {
      "byteLimit": 2048000,
      "rowLimit": 10000
     },
     "inputWidgets": {},
     "nuid": "17fabf92-6aa2-4318-9a02-88c781717310",
     "showTitle": false,
     "title": ""
    }
   },
   "outputs": [],
   "source": [
    "#Criação das massas com casos forçados\n",
    "massa_TabelaMarAberto = sherlock.Gera_Massa(base_entrada)\n",
    "massa_TabelaMarAberto.gera_cenario('payloadHomol.intermediarias.faixaScoreExterno',[\"R1\",\"R2\",\"R3\",\n",
    "                                                                                            \"R4\",\"R5\",\"R6\",\n",
    "                                                                                            \"R7\",\"R8\",\"R9\",\n",
    "                                                                                            \"R10\"])\n",
    "massa_TabelaMarAberto.gera_cenario('payloadHomol.intermediarias.segmentacaoPolitica',[\"N1 - FOPAG\",\n",
    "                                                                                      \"N2.1 - Varejo\",\n",
    "                                                                                      \"N2.2 - Varejo+\",\n",
    "                                                                                      \"N2.3 - Alta Renda\",\n",
    "                                                                                      \"N2.1 - Varejo\"])\n",
    "massa_TabelaMarAberto.gera_cenario('payloadHomol.intermediarias.faixaRendaLiquida',['a. Sem renda',\n",
    "                                                                                  'b. < 4k',\n",
    "                                                                                  'c. 4k - 10k',\n",
    "                                                                                  'd. >= 10k',\n",
    "                                                                                  'z. Verificar'])\n",
    "massa_TabelaMarAberto.gera_cenario('payloadHomol.intermediarias.admissaoMeses',[0,1,2,3,4,5])\n",
    "massa_TabelaMarAberto.gera_cenario('payloadHomol.intermediarias.cpf5e6Digito',[0,43,44,45,46,88,89,90,91,99])\n",
    "\n",
    "\n",
    "massa_TabelaMarAberto.get_massa_final()\n",
    "\n",
    "massa_TabelaMarAberto.set_bom_arqv()\n",
    "massa_TabelaMarAberto.converte_massa()"
   ]
  },
  {
   "cell_type": "code",
   "execution_count": 0,
   "metadata": {
    "application/vnd.databricks.v1+cell": {
     "cellMetadata": {
      "byteLimit": 2048000,
      "rowLimit": 10000
     },
     "inputWidgets": {},
     "nuid": "75db4464-f28d-428f-8931-bef5f3c148e0",
     "showTitle": false,
     "title": ""
    }
   },
   "outputs": [],
   "source": [
    "massa_TabelaMarAberto.get_massa_final()"
   ]
  },
  {
   "cell_type": "markdown",
   "metadata": {
    "application/vnd.databricks.v1+cell": {
     "cellMetadata": {
      "byteLimit": 2048000,
      "rowLimit": 10000
     },
     "inputWidgets": {},
     "nuid": "eb740731-8c51-4001-b344-5b6c3a5fa1c8",
     "showTitle": false,
     "title": ""
    }
   },
   "source": [
    "### Execução Modular e Geração de CSV"
   ]
  },
  {
   "cell_type": "code",
   "execution_count": 0,
   "metadata": {
    "application/vnd.databricks.v1+cell": {
     "cellMetadata": {
      "byteLimit": 2048000,
      "rowLimit": 10000
     },
     "inputWidgets": {},
     "nuid": "8aeca2b3-ed0d-463d-97f4-dd3f48444bcb",
     "showTitle": false,
     "title": ""
    }
   },
   "outputs": [],
   "source": [
    "#EXEC MULTI NUCLEOS\n",
    "#listaResultado = rp.execucaoModularConcurrent(massa_TabelaMarAberto.get_massa_json(),rp.SubGruposMarAberto)"
   ]
  },
  {
   "cell_type": "code",
   "execution_count": 0,
   "metadata": {
    "application/vnd.databricks.v1+cell": {
     "cellMetadata": {
      "byteLimit": 2048000,
      "rowLimit": 10000
     },
     "inputWidgets": {},
     "nuid": "c329dc19-e497-47f5-830a-6863a4bb2de5",
     "showTitle": false,
     "title": ""
    }
   },
   "outputs": [],
   "source": [
    "#EXEC NORMAL\n",
    "listaResultado = rp.execucaoModular(massa_TabelaMarAberto.get_massa_json(),rp.SubGruposMarAberto)"
   ]
  },
  {
   "cell_type": "code",
   "execution_count": 0,
   "metadata": {
    "application/vnd.databricks.v1+cell": {
     "cellMetadata": {
      "byteLimit": 2048000,
      "rowLimit": 10000
     },
     "inputWidgets": {},
     "nuid": "a1b38fc4-4f05-4532-adcb-b302064f9d53",
     "showTitle": false,
     "title": ""
    }
   },
   "outputs": [],
   "source": [
    "print(json.dumps(listaResultado[0],indent = 4))"
   ]
  },
  {
   "cell_type": "markdown",
   "metadata": {
    "application/vnd.databricks.v1+cell": {
     "cellMetadata": {
      "byteLimit": 2048000,
      "rowLimit": 10000
     },
     "inputWidgets": {},
     "nuid": "fb9de440-abae-4f4f-851b-56bd80fee5f5",
     "showTitle": false,
     "title": ""
    }
   },
   "source": [
    "##### Valida se todas condições estão sendo abordadas"
   ]
  },
  {
   "cell_type": "code",
   "execution_count": 0,
   "metadata": {
    "application/vnd.databricks.v1+cell": {
     "cellMetadata": {
      "byteLimit": 2048000,
      "rowLimit": 10000
     },
     "inputWidgets": {},
     "nuid": "62bd3b85-2b1a-4b16-85af-3056368e2668",
     "showTitle": false,
     "title": ""
    }
   },
   "outputs": [],
   "source": [
    "# buscando um perfil de cliente para análise\n",
    "for payload in listaResultado:\n",
    "    if (payload['payloadHomol']['intermediarias']['faixaScoreExterno']  == \"R1\"\n",
    "        and\n",
    "        payload['payloadHomol']['intermediarias']['segmentacaoPolitica'] == \"N1 - FOPAG\"\n",
    "        and \n",
    "        payload['payloadHomol']['intermediarias']['faixaRendaLiquida'] == \"b. < 4k\"\n",
    "        and\n",
    "        payload['payloadHomol']['intermediarias']['admissaoMeses'] == 1\n",
    "        ):\n",
    "        print(json.dumps(payload,indent = 4))\n",
    "        break"
   ]
  },
  {
   "cell_type": "code",
   "execution_count": 0,
   "metadata": {
    "application/vnd.databricks.v1+cell": {
     "cellMetadata": {
      "byteLimit": 2048000,
      "rowLimit": 10000
     },
     "inputWidgets": {},
     "nuid": "bfeb2e6b-deac-489e-adf7-9f407045e0c5",
     "showTitle": false,
     "title": ""
    }
   },
   "outputs": [],
   "source": [
    "# mudando o max de display de linhas dos dataframes desse notebook\n",
    "pd.set_option('display.max_rows', 300) \n",
    "import pandas as pd\n",
    "\n",
    "# fazendo freq para analisar se todos os cenários da tabela são abordados na massa\n",
    "results = []\n",
    "for caso in listaResultado:\n",
    "    results.append(caso['payloadHomol']['intermediarias']['cenario'])\n",
    "    \n",
    "freqzinha = pd.DataFrame(results, columns=['valor'])\n",
    "freqzinha['Freq'] = freqzinha['valor'].map(freqzinha['valor'].value_counts())\n",
    "freqzinha = freqzinha.drop_duplicates().reset_index(drop=True)\n",
    "freqzinha.sort_values(by='valor', ascending=True)"
   ]
  },
  {
   "cell_type": "code",
   "execution_count": 0,
   "metadata": {
    "application/vnd.databricks.v1+cell": {
     "cellMetadata": {
      "byteLimit": 2048000,
      "rowLimit": 10000
     },
     "inputWidgets": {},
     "nuid": "2078b0b0-6495-4f94-98d6-a217b919260e",
     "showTitle": false,
     "title": ""
    }
   },
   "outputs": [],
   "source": [
    "# Renomeação das colunas para o cabeçalho do RMA\n",
    "massa_TabelaMarAberto.rename_cabecalho()"
   ]
  },
  {
   "cell_type": "code",
   "execution_count": 0,
   "metadata": {
    "application/vnd.databricks.v1+cell": {
     "cellMetadata": {
      "byteLimit": 2048000,
      "rowLimit": 10000
     },
     "inputWidgets": {},
     "nuid": "38b8cfa0-bbde-454a-8161-58eab64c4ee2",
     "showTitle": false,
     "title": ""
    }
   },
   "outputs": [],
   "source": [
    "massa_TabelaMarAberto.get_massa_dm()"
   ]
  },
  {
   "cell_type": "code",
   "execution_count": 0,
   "metadata": {
    "application/vnd.databricks.v1+cell": {
     "cellMetadata": {
      "byteLimit": 2048000,
      "rowLimit": 10000
     },
     "inputWidgets": {},
     "nuid": "70c8cc47-b4fa-4b18-9081-7194de90794e",
     "showTitle": false,
     "title": ""
    }
   },
   "outputs": [],
   "source": [
    "massa_TabelaMarAberto.atribui_expected(listaResultado,\"payloadHomol.intermediarias.segmentacao\",\"segmentacaoSubgrupo\")\n",
    "massa_TabelaMarAberto.atribui_expected(listaResultado,\"payloadHomol.intermediarias.alavancagem\",\"alavancagem\")\n",
    "massa_TabelaMarAberto.atribui_expected(listaResultado,\"payloadHomol.intermediarias.limiteTeto\",\"limiteTeto\")\n",
    "massa_TabelaMarAberto.atribui_expected(listaResultado,\"payloadHomol.intermediarias.limitePiso\",\"limitePiso\")\n",
    "massa_TabelaMarAberto.atribui_expected(listaResultado,\"payloadHomol.intermediarias.limiteFixo\",\"limiteFixo\")\n",
    "massa_TabelaMarAberto.atribui_expected(listaResultado,\"payloadHomol.intermediarias.aprovadoBAUAux\",\"aprovadoBAUAux\")\n",
    "massa_TabelaMarAberto.atribui_expected(listaResultado,\"payloadHomol.intermediarias.aprovadoSLAux\",\"aprovadoSmallLimitsAux\")\n",
    "\n",
    "massa_TabelaMarAberto.get_massa_dm()"
   ]
  },
  {
   "cell_type": "markdown",
   "metadata": {
    "application/vnd.databricks.v1+cell": {
     "cellMetadata": {
      "byteLimit": 2048000,
      "rowLimit": 10000
     },
     "inputWidgets": {},
     "nuid": "12a6211e-1068-4b86-9a7b-64b0e7d36065",
     "showTitle": false,
     "title": ""
    }
   },
   "source": [
    "### Conversão da massa para CSV"
   ]
  },
  {
   "cell_type": "code",
   "execution_count": 0,
   "metadata": {
    "application/vnd.databricks.v1+cell": {
     "cellMetadata": {
      "byteLimit": 2048000,
      "rowLimit": 10000
     },
     "inputWidgets": {},
     "nuid": "5cd78e58-1843-46b5-86b6-608b7bb094f7",
     "showTitle": false,
     "title": ""
    }
   },
   "outputs": [],
   "source": [
    "massa_TabelaMarAberto.get_massa_dm().to_csv(r'/Workspace/Users/kaue.ongaro@picpaybank.com/2 - Homologação/Concessao de Cartoes - Online/massas/massaDefinicaoTabelasSubGruposMarAberto.csv',index=False)"
   ]
  }
 ],
 "metadata": {
  "application/vnd.databricks.v1+notebook": {
   "dashboards": [],
   "language": "python",
   "notebookMetadata": {
    "pythonIndentUnit": 4
   },
   "notebookName": "homol_modular_DefinicaoTabelasMarAberto ( subgrupos, marcações de aprovados )",
   "widgets": {}
  },
  "kernelspec": {
   "display_name": "Python 3",
   "language": "python",
   "name": "python3"
  },
  "language_info": {
   "codemirror_mode": {
    "name": "ipython",
    "version": 3
   },
   "file_extension": ".py",
   "mimetype": "text/x-python",
   "name": "python",
   "nbconvert_exporter": "python",
   "pygments_lexer": "ipython3",
   "version": "3.12.0"
  }
 },
 "nbformat": 4,
 "nbformat_minor": 0
}
