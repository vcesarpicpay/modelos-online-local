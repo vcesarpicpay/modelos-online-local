{
 "cells": [
  {
   "cell_type": "code",
   "execution_count": 0,
   "metadata": {
    "application/vnd.databricks.v1+cell": {
     "cellMetadata": {
      "byteLimit": 2048000,
      "rowLimit": 10000
     },
     "inputWidgets": {},
     "nuid": "263fda57-3469-4d1d-bd43-9dc4df959605",
     "showTitle": false,
     "title": ""
    }
   },
   "outputs": [],
   "source": [
    "from pyspark.sql import SQLContext, SparkSession, Window, Row\n",
    "from pyspark.sql import SparkSession\n",
    "from pyspark.sql.functions import *\n",
    "\n",
    "r_fraud_annotations             = spark.table('annotations.cred_annotations')\n",
    "tab_desenrola = (r_fraud_annotations\n",
    "                 .select('*')\n",
    "                 .filter(col('annotation_description').isin('flag_desenrola_materialidade'))\n",
    "                 .withColumnRenamed('document', 'cpf')\n",
    "                 .limit(10)\n",
    "                 .select('*', lit(1).alias('is_user_desenrola'))\n",
    ")\n",
    "tab_desenrola.toPandas()"
   ]
  },
  {
   "cell_type": "code",
   "execution_count": 0,
   "metadata": {
    "application/vnd.databricks.v1+cell": {
     "cellMetadata": {
      "byteLimit": 2048000,
      "rowLimit": 10000
     },
     "inputWidgets": {},
     "nuid": "73bffb8b-d711-4397-828b-115a36fe9cee",
     "showTitle": false,
     "title": ""
    }
   },
   "outputs": [],
   "source": [
    "from datetime import datetime, timedelta\n",
    "\n",
    "dataCriacaoConta = \"2024-02-26T10:57:00.888Z\"\n",
    "dataCriacaoContaDate = datetime.strptime(dataCriacaoConta,\"%Y-%m-%dT%H:%M:%S.%fZ\")\n",
    "\n",
    "d = dataCriacaoContaDate - timedelta(days=61)\n",
    "\n",
    "print(d)"
   ]
  },
  {
   "cell_type": "code",
   "execution_count": 0,
   "metadata": {
    "application/vnd.databricks.v1+cell": {
     "cellMetadata": {
      "byteLimit": 2048000,
      "rowLimit": 10000
     },
     "inputWidgets": {},
     "nuid": "d36b8fd0-0a97-4917-b38e-501486555eb1",
     "showTitle": false,
     "title": ""
    }
   },
   "outputs": [],
   "source": [
    "import os\n",
    "\n",
    "# Me mostre o caminho absoluto para a pasta arquivos dessa pasta\n",
    "folder_path = os.path.abspath('arquivos')\n",
    "folder_path = str(folder_path)\n",
    "\n",
    "print(folder_path)"
   ]
  },
  {
   "cell_type": "code",
   "execution_count": 0,
   "metadata": {
    "application/vnd.databricks.v1+cell": {
     "cellMetadata": {
      "byteLimit": 2048000,
      "rowLimit": 10000
     },
     "inputWidgets": {},
     "nuid": "415592c6-e024-42e4-a316-a7d286927aec",
     "showTitle": false,
     "title": ""
    }
   },
   "outputs": [],
   "source": [
    "import json\n",
    "pasta = \"/Workspace/Users/kaue.ongaro@picpaybank.com/2 - Homologação/Concessao de Cartoes - Online/\"\n",
    "file_name = \"arquivos/payload_inicial.txt\"\n",
    "file_path = pasta + file_name\n",
    "with open(file_path,'r') as f:\n",
    "    x = f.read()\n",
    "    jsonzada = json.loads(x)\n"
   ]
  },
  {
   "cell_type": "code",
   "execution_count": 0,
   "metadata": {
    "application/vnd.databricks.v1+cell": {
     "cellMetadata": {
      "byteLimit": 2048000,
      "rowLimit": 10000
     },
     "inputWidgets": {},
     "nuid": "207bb7a8-6f40-4bc8-ad9a-cda9e0d4af1b",
     "showTitle": false,
     "title": ""
    }
   },
   "outputs": [],
   "source": [
    "jsonzada"
   ]
  },
  {
   "cell_type": "code",
   "execution_count": 0,
   "metadata": {
    "application/vnd.databricks.v1+cell": {
     "cellMetadata": {
      "byteLimit": 2048000,
      "rowLimit": 10000
     },
     "inputWidgets": {},
     "nuid": "cd0b15db-72e4-4da4-a8fa-37065de1ffa0",
     "showTitle": false,
     "title": ""
    }
   },
   "outputs": [],
   "source": [
    "jsonzada['idSolicitacao']"
   ]
  },
  {
   "cell_type": "code",
   "execution_count": 0,
   "metadata": {
    "application/vnd.databricks.v1+cell": {
     "cellMetadata": {
      "byteLimit": 2048000,
      "rowLimit": 10000
     },
     "inputWidgets": {},
     "nuid": "a20845df-52ff-43f2-b6ec-8fd93ba0e8e4",
     "showTitle": false,
     "title": ""
    }
   },
   "outputs": [],
   "source": [
    "def execucaoModular (payload_entrada, modulo):\n",
    "    \n",
    "    lista_payloads = payload_entrada\n",
    "\n",
    "    lista_resultado = []\n",
    "\n",
    "    for caso in lista_payloads:\n",
    "        payload = json.load(caso) \n",
    "        payload = modulo(payload)\n",
    "        lista_resultado.append(payload)\n",
    "\n",
    "    return lista_resultado"
   ]
  },
  {
   "cell_type": "code",
   "execution_count": 0,
   "metadata": {
    "application/vnd.databricks.v1+cell": {
     "cellMetadata": {
      "byteLimit": 2048000,
      "rowLimit": 10000
     },
     "inputWidgets": {},
     "nuid": "45249700-d2d7-4b21-90ec-6994f8b36fb9",
     "showTitle": false,
     "title": ""
    }
   },
   "outputs": [],
   "source": [
    "from datetime import datetime\n",
    "from datetime import date\n",
    "import pandas as pd\n",
    "\n",
    "hojeDate = pd.Timestamp(date.today()) # Avaliar como pegar o dia da execução, pois teremos problemas no Pós acomp pois talvez a data da execução não será a mesma na qualavaliaremos a log\n",
    "dataCriacaoConta = \"2024-02-26T17:18:43.888Z\"\n",
    "######################################################################################################################\n",
    "if dataCriacaoConta == \"\":\n",
    "    flagClienteExistente = False\n",
    "else:\n",
    "    dataCriacaoContaDate = datetime.strptime(dataCriacaoConta,\"%Y-%m-%dT%H:%M:%S.%fZ\")\n",
    "    delta = hojeDate - dataCriacaoContaDate\n",
    "    print(delta)\n",
    "    if delta.days > 60:\n",
    "        flagClienteExistente = True\n",
    "    else:\n",
    "        flagClienteExistente = False\n",
    "print(flagClienteExistente)"
   ]
  },
  {
   "cell_type": "code",
   "execution_count": 0,
   "metadata": {
    "application/vnd.databricks.v1+cell": {
     "cellMetadata": {
      "byteLimit": 2048000,
      "rowLimit": 10000
     },
     "inputWidgets": {},
     "nuid": "0033854f-338f-45f0-82d7-d48d77c8298e",
     "showTitle": false,
     "title": ""
    }
   },
   "outputs": [],
   "source": [
    "dbutils.library.restartPython()"
   ]
  },
  {
   "cell_type": "code",
   "execution_count": 0,
   "metadata": {
    "application/vnd.databricks.v1+cell": {
     "cellMetadata": {
      "byteLimit": 2048000,
      "rowLimit": 10000
     },
     "inputWidgets": {},
     "nuid": "5ccf6437-a0ea-458a-9d49-0269b306719b",
     "showTitle": false,
     "title": ""
    }
   },
   "outputs": [],
   "source": [
    "import sherlock"
   ]
  },
  {
   "cell_type": "code",
   "execution_count": 0,
   "metadata": {
    "application/vnd.databricks.v1+cell": {
     "cellMetadata": {
      "byteLimit": 2048000,
      "rowLimit": 10000
     },
     "inputWidgets": {},
     "nuid": "e02caa6e-c6bd-42a0-b60f-d11feeab42c7",
     "showTitle": false,
     "title": ""
    }
   },
   "outputs": [],
   "source": [
    "import pandas as pd\n",
    "# Import the csv file into a pandas dataframe\n",
    "pasta  = \"/Workspace/Users/kaue.ongaro@picpaybank.com/2 - Homologação/Concessao de Cartoes - Online/arquivos/tabelasHomologacao/\"\n",
    "#\n",
    "arquivo = \"Ja_Cliente_Segmentacao_codigo_motor.csv\"\n",
    "file_path = pasta + arquivo\n",
    "pd.set_option('display.max_rows', 5)\n",
    "tabela = pd.read_csv(file_path)\n",
    "tabela"
   ]
  },
  {
   "cell_type": "code",
   "execution_count": 0,
   "metadata": {
    "application/vnd.databricks.v1+cell": {
     "cellMetadata": {
      "byteLimit": 2048000,
      "rowLimit": 10000
     },
     "inputWidgets": {},
     "nuid": "d2629994-c4cb-4df4-b3cc-42b41f0808eb",
     "showTitle": false,
     "title": ""
    }
   },
   "outputs": [],
   "source": [
    "rangeScoreInterno = \"R1\"\n",
    "segmentacaoPolitica = \"P1 - Funcionarios\"\n",
    "faixaRendaBruta = \"a. < 4k\"\n",
    "flagFuncionario = 1\n",
    "cpf5e6Digito = 99\n",
    "\n",
    "# Faixas de CPF\n",
    "if (0 <= cpf5e6Digito <= 44):\n",
    "    faixaCPF = \"0 <= ..<= 44\"\n",
    "if (45 <= cpf5e6Digito <= 89):\n",
    "    faixaCPF = \"45 <= ..<= 89\"\n",
    "if (90 <= cpf5e6Digito <= 99):\n",
    "    faixaCPF = \"90 <= ..<= 99\"\n",
    "\n",
    "# Primeiro Filtro - Nível rangeScoreInterno\n",
    "filtroNivelRangeScoreInterno = tabela.loc[(tabela['rangeScoreInterno'] == rangeScoreInterno)]\n",
    "if filtroNivelRangeScoreInterno.empty:\n",
    "    filtroNivelRangeScoreInterno = tabela.loc[(tabela['rangeScoreInterno'] == \"QUALQUER\")]\n",
    "\n",
    "# Segundo Filtro - Nível segmentacaoPolitica\n",
    "filtroNivelSegmentacaoPolitica = filtroNivelRangeScoreInterno.loc[(filtroNivelRangeScoreInterno['segmentacaoPolitica'] == segmentacaoPolitica)]\n",
    "if filtroNivelSegmentacaoPolitica.empty:\n",
    "    filtroNivelSegmentacaoPolitica = filtroNivelRangeScoreInterno.loc[(filtroNivelRangeScoreInterno['segmentacaoPolitica'] == \"QUALQUER\")]\n",
    "\n",
    "# Terceiro Filtro - Nível faixaRendaBruta\n",
    "filtroNivelFaixaRendaBruta = filtroNivelSegmentacaoPolitica.loc[(filtroNivelSegmentacaoPolitica['faixaRendaBruta'] == faixaRendaBruta)]\n",
    "if filtroNivelFaixaRendaBruta.empty:\n",
    "    filtroNivelFaixaRendaBruta = filtroNivelSegmentacaoPolitica.loc[(filtroNivelSegmentacaoPolitica['faixaRendaBruta'] == \"QUALQUER\")]\n",
    "\n",
    "# Quarto Filtro - Nível flagFuncionario\n",
    "filtroNivelflagFuncionario = filtroNivelFaixaRendaBruta.loc[(filtroNivelFaixaRendaBruta['flagFuncionario'] == flagFuncionario)]\n",
    "if filtroNivelflagFuncionario.empty:\n",
    "    filtroNivelflagFuncionario = filtroNivelFaixaRendaBruta.loc[(filtroNivelFaixaRendaBruta['flagFuncionario'] == \"QUALQUER\")]\n",
    "\n",
    "# Quinto Filtro - Nível 5e6 Digito CPF\n",
    "filtroNivelCPF = filtroNivelflagFuncionario.loc[(filtroNivelflagFuncionario['cpf5e6Digito'] == faixaCPF)]\n",
    "if filtroNivelCPF.empty:\n",
    "    filtroNivelCPF = filtroNivelflagFuncionario.loc[(filtroNivelflagFuncionario['cpf5e6Digito'] == \"QUALQUER\")]\n",
    "\n",
    "linha_tab = filtroNivelCPF\n",
    "# Teste para ver se após filtrar na tabela o cliente foi encontrado\n",
    "if linha_tab.empty:\n",
    "    segmentacao = \"-1\"\n",
    "    alavancagem = -1\n",
    "    limiteTeto = -1\n",
    "    limitePiso = -1\n",
    "else:\n",
    "    segmentacao = linha_tab.iloc[0]['SEGMENTAÇÃO FINAL']\n",
    "    alavancagem = linha_tab.iloc[0]['alavancagem']\n",
    "    limiteTeto = linha_tab.iloc[0]['limiteTeto']\n",
    "    limitePiso = linha_tab.iloc[0]['limitePiso']   \n",
    "\n",
    "#print(segmentacao, alavancagem, limiteTeto, limitePiso)"
   ]
  },
  {
   "cell_type": "code",
   "execution_count": 0,
   "metadata": {
    "application/vnd.databricks.v1+cell": {
     "cellMetadata": {
      "byteLimit": 2048000,
      "rowLimit": 10000
     },
     "inputWidgets": {},
     "nuid": "d2bc4d36-e3fd-4b2c-a635-2013c46833e7",
     "showTitle": false,
     "title": ""
    }
   },
   "outputs": [],
   "source": [
    "filtroNivelflagFuncionario"
   ]
  },
  {
   "cell_type": "code",
   "execution_count": 0,
   "metadata": {
    "application/vnd.databricks.v1+cell": {
     "cellMetadata": {
      "byteLimit": 2048000,
      "rowLimit": 10000
     },
     "inputWidgets": {},
     "nuid": "de9f164f-2ce2-4aaa-9bad-4124c79ac628",
     "showTitle": false,
     "title": ""
    }
   },
   "outputs": [],
   "source": [
    "filtroNivelCPF"
   ]
  },
  {
   "cell_type": "code",
   "execution_count": 0,
   "metadata": {
    "application/vnd.databricks.v1+cell": {
     "cellMetadata": {
      "byteLimit": 2048000,
      "rowLimit": 10000
     },
     "inputWidgets": {},
     "nuid": "7a841535-8ff7-4b19-acd6-f4ebc926ee83",
     "showTitle": false,
     "title": ""
    }
   },
   "outputs": [],
   "source": [
    "import pandas as pd\n",
    "from datetime import datetime\n",
    "from datetime import date\n",
    "dataAdmissao = \"2002-11-05T17:18:43.888Z\"\n",
    "hojeDate = pd.Timestamp(date.today())  # Avaliar como pegar o dia da execução, pois teremos problemas no Pós acomp pois talvez a data da execução nãoserá a mesma na qual avaliaremos a log\n",
    "######################################################################################################################\n",
    "\n",
    "admissaoDate = datetime.strptime(dataAdmissao, \"%Y-%m-%dT%H:%M:%S.%fZ\")\n",
    "print(\"print 1: \",admissaoDate)\n",
    "admissaoMeses = (hojeDate.year - admissaoDate.year) * 12 + (hojeDate.month - admissaoDate.month)\n",
    "print(\"print 2: \",(hojeDate.year - admissaoDate.year) * 12)\n",
    "print(\"print 3: \",(hojeDate.month - admissaoDate.month))\n",
    "\n",
    "\n",
    "\n",
    "print(admissaoMeses)"
   ]
  },
  {
   "cell_type": "code",
   "execution_count": 0,
   "metadata": {
    "application/vnd.databricks.v1+cell": {
     "cellMetadata": {
      "byteLimit": 2048000,
      "rowLimit": 10000
     },
     "inputWidgets": {},
     "nuid": "3e97bb4c-79c4-4d38-8e7c-4561ba6a8811",
     "showTitle": false,
     "title": ""
    }
   },
   "outputs": [],
   "source": [
    "dataAdmissao = \"2002-11-05T17:18:43.888Z\"\n",
    "hojeDate = pd.Timestamp(date.today())\n",
    "admissaoDate = datetime.strptime(dataAdmissao, \"%Y-%m-%dT%H:%M:%S.%fZ\")\n",
    "admissaoMeses = (hojeDate.year - admissaoDate.year) * 12 + (hojeDate.month - admissaoDate.month)\n",
    "admissaoMeses"
   ]
  },
  {
   "cell_type": "code",
   "execution_count": 0,
   "metadata": {
    "application/vnd.databricks.v1+cell": {
     "cellMetadata": {
      "byteLimit": 2048000,
      "rowLimit": 10000
     },
     "inputWidgets": {},
     "nuid": "ab3f9370-2ce4-4353-b321-06494c8bd928",
     "showTitle": false,
     "title": ""
    }
   },
   "outputs": [],
   "source": [
    "# GERANDO DATA DIFS PARA ADICIONAR NA MASSA\n",
    "\n",
    "from datetime import datetime, timedelta\n",
    "\n",
    "today = datetime.today()\n",
    "target_date = today - timedelta(days=60)\n",
    "dif60 = target_date.strftime(\"%Y-%m-%dT%H:%M:%S.%fZ\")\n",
    "\n",
    "target_date = today - timedelta(days=59)\n",
    "dif59 = target_date.strftime(\"%Y-%m-%dT%H:%M:%S.%fZ\")\n",
    "\n",
    "target_date = today - timedelta(days=61)\n",
    "dif61 = target_date.strftime(\"%Y-%m-%dT%H:%M:%S.%fZ\")\n",
    "\n",
    "print(\"data de 59 dias :\",dif59)\n",
    "print(\"data de 60 dias :\",dif60)\n",
    "print(\"data de 61 dias :\",dif61)"
   ]
  },
  {
   "cell_type": "code",
   "execution_count": 0,
   "metadata": {
    "application/vnd.databricks.v1+cell": {
     "cellMetadata": {
      "byteLimit": 2048000,
      "rowLimit": 10000
     },
     "inputWidgets": {},
     "nuid": "fd473b48-da22-4917-972f-bf8706d73a67",
     "showTitle": false,
     "title": ""
    }
   },
   "outputs": [],
   "source": [
    "# como splitar uma massa em partes iguais\n",
    "\n",
    "#import numpy as np\n",
    "#dataframeGrande = {}\n",
    "#num_dataframes = 3\n",
    "#\n",
    "#split_dataframes = np.array_split(dataframeGrande, num_dataframes)\n",
    "#\n",
    "#for i, df in enumerate(split_dataframes):\n",
    "#    df.to_csv(f'dataframe{i}.csv', index=False)"
   ]
  },
  {
   "cell_type": "code",
   "execution_count": 0,
   "metadata": {
    "application/vnd.databricks.v1+cell": {
     "cellMetadata": {
      "byteLimit": 2048000,
      "rowLimit": 10000
     },
     "inputWidgets": {},
     "nuid": "8bf6bc73-6f94-47d1-b06c-8879dd34bfd9",
     "showTitle": false,
     "title": ""
    }
   },
   "outputs": [],
   "source": [
    "def round_with_steps(number):\n",
    "    return round(number/50) * 50\n",
    "\n",
    "round_with_steps(47.33)"
   ]
  },
  {
   "cell_type": "code",
   "execution_count": 0,
   "metadata": {
    "application/vnd.databricks.v1+cell": {
     "cellMetadata": {
      "byteLimit": 2048000,
      "rowLimit": 10000
     },
     "inputWidgets": {},
     "nuid": "1af1a0b9-e72e-4523-93ab-9a15934714c7",
     "showTitle": false,
     "title": ""
    }
   },
   "outputs": [],
   "source": [
    "today = date.today()\n",
    "\n",
    "dataCriacaoConta = '2024-01-17T18:35:34.748956Z'\n",
    "dataCriacaoConta = datetime.datetime.strptime(dataCriacaoConta[:10], \"%Y-%m-%d\").date()\n",
    "\n",
    "type(today)"
   ]
  },
  {
   "cell_type": "code",
   "execution_count": 0,
   "metadata": {
    "application/vnd.databricks.v1+cell": {
     "cellMetadata": {
      "byteLimit": 2048000,
      "rowLimit": 10000
     },
     "inputWidgets": {},
     "nuid": "8d357e71-84ec-4319-b2e0-887e80ec613c",
     "showTitle": false,
     "title": ""
    }
   },
   "outputs": [],
   "source": [
    "delta = today - dataCriacaoConta\n",
    "delta.days"
   ]
  },
  {
   "cell_type": "code",
   "execution_count": 0,
   "metadata": {
    "application/vnd.databricks.v1+cell": {
     "cellMetadata": {
      "byteLimit": 2048000,
      "rowLimit": 10000
     },
     "inputWidgets": {},
     "nuid": "2a478072-a07c-49a7-8447-b0483052d6ca",
     "showTitle": false,
     "title": ""
    }
   },
   "outputs": [],
   "source": [
    "import pandas as pd\n",
    "\n",
    "data = spark.read.parquet(\"s3://picpay-credit-laboratory/modeling/income/3v5/income3v5_backtest\")\n",
    "distinct_df = data.select(\"source_income\").distinct().toPandas()\n",
    "distinct_df"
   ]
  }
 ],
 "metadata": {
  "application/vnd.databricks.v1+notebook": {
   "dashboards": [],
   "language": "python",
   "notebookMetadata": {
    "pythonIndentUnit": 4
   },
   "notebookName": "Testes_e_rascunhos",
   "widgets": {}
  }
 },
 "nbformat": 4,
 "nbformat_minor": 0
}
