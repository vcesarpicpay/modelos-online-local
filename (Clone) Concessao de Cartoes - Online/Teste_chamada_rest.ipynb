{
 "cells": [
  {
   "cell_type": "markdown",
   "metadata": {
    "application/vnd.databricks.v1+cell": {
     "cellMetadata": {},
     "inputWidgets": {},
     "nuid": "78df6f89-dcc4-4e1c-90dc-99e10ec9604c",
     "showTitle": false,
     "title": ""
    }
   },
   "source": [
    "###### Funções"
   ]
  },
  {
   "cell_type": "code",
   "execution_count": 0,
   "metadata": {
    "application/vnd.databricks.v1+cell": {
     "cellMetadata": {
      "byteLimit": 2048000,
      "rowLimit": 10000
     },
     "inputWidgets": {},
     "nuid": "81d12a17-df0c-49b6-b236-01285dae06f9",
     "showTitle": false,
     "title": ""
    }
   },
   "outputs": [],
   "source": [
    "import requests\n",
    "import json\n",
    "import warnings\n",
    "from urllib3.exceptions import InsecureRequestWarning\n",
    "warnings.simplefilter('ignore', InsecureRequestWarning)\n",
    "\n",
    "class erroStatusCode(Exception):\n",
    "    pass\n",
    "\n",
    "def chamadaRestDMPS(caso, url, headers):\n",
    "    payloadJson = json.dumps(caso)\n",
    "    response = requests.put(url, headers=headers, data=payloadJson, verify=False)\n",
    "    statusCode = response.status_code\n",
    "    if statusCode != 200:\n",
    "        raise erroStatusCode(f\"Erro na chamada do DMPS: {response.text}\")\n",
    "    return response.json()"
   ]
  },
  {
   "cell_type": "markdown",
   "metadata": {
    "application/vnd.databricks.v1+cell": {
     "cellMetadata": {},
     "inputWidgets": {},
     "nuid": "0132fd17-3945-4f42-a182-c87b3d98c0ee",
     "showTitle": false,
     "title": ""
    }
   },
   "source": [
    "###### Parametros"
   ]
  },
  {
   "cell_type": "code",
   "execution_count": 0,
   "metadata": {
    "application/vnd.databricks.v1+cell": {
     "cellMetadata": {
      "byteLimit": 2048000,
      "rowLimit": 10000
     },
     "inputWidgets": {},
     "nuid": "872cbe35-2d65-4075-a8cd-baebdd63208c",
     "showTitle": false,
     "title": ""
    }
   },
   "outputs": [],
   "source": [
    "url = 'https://fico-dmps-lb-1479769718.us-east-1.elb.amazonaws.com/dmip-gw/dmip/request/servicosinteste12/response/servicosoutteste123'\n",
    "\n",
    "dmpipTenantId = '1'\n",
    "dmipApplicationName = 'PicPayDev'\n",
    "dmipToken = '44d23b71-d44d-4759-b438-f73117e4dfbe'\n",
    "contentType = 'application/vnd.fico.dmip.v3.0+text;charset=UTF-8'\n",
    "cookie = 'JSESSIONID=93EAF2878176A0803A72F1BB66DA7935; AWSALB=8RWW5Bzifqu2tibNntmXzHbDN/5wGt861nvJnNq5NqSDjAlWAm1WaiGyelJP2tiqapQZeFWkU1VkATs/Qyeza8F0PJLkuNb0pelK2/xO6rgMTIeGC+Gk01II2lWX; AWSALBCORS=8RWW5Bzifqu2tibNntmXzHbDN/5wGt861nvJnNq5NqSDjAlWAm1WaiGyelJP2tiqapQZeFWkU1VkATs/Qyeza8F0PJLkuNb0pelK2/xO6rgMTIeGC+Gk01II2lWX; AWSALBTG=Snji2K/Av0g2zgKkZCj6slZu5nTpYvwBEhJn/IaPMvqZhrLbeqmMVSFj1+u17O0sILgRtRITMXapEB00gKV1hVYzDhEu0H4mnS07/vzrepSbTjKzB29JBxrV9MqiCuid/Hf7B9NE/MgY53neqXdpoLePzCB5fMAD4q6ZF5W+1q7/GIvI75s=; AWSALBTGCORS=Snji2K/Av0g2zgKkZCj6slZu5nTpYvwBEhJn/IaPMvqZhrLbeqmMVSFj1+u17O0sILgRtRITMXapEB00gKV1hVYzDhEu0H4mnS07/vzrepSbTjKzB29JBxrV9MqiCuid/Hf7B9NE/MgY53neqXdpoLePzCB5fMAD4q6ZF5W+1q7/GIvI75s='\n",
    "\n",
    "headers = {\n",
    "    'dmip-tenant-id': dmpipTenantId,\n",
    "    'dmip-application-name': dmipApplicationName,\n",
    "    'dmip-token': dmipToken,\n",
    "    'Content-Type': contentType,\n",
    "    'Cookie': cookie\n",
    "}\n",
    "\n",
    "body = {'marcacaoMesa': 'N', 'etapa': '', 'flagErroBacen': False, 'flagErroSerasa': False, 'flagErroAurora': False, 'flagErroVisaoCliente': False, 'flagErroReceitaFederal': False, 'flagErroCredilink': False, 'limitePoliticaConcessao': 2500, 'mensagemFiltro': '99. Accepted', 'mensagemFiltroPolitica': '99. Accepted', 'mensagemFiltroFinal': '99. Accepted', 'solicitante': {'credilink': {'situacaoDocumento': 'regular', 'obito': 'NAO'}, 'limites': {'limiteDisponivel': 100000, 'valorContratadoCartao': 0}, 'atrasos': {'qtdDiasAtrasoCartao': 0, 'qtdDiasAtrasoParcelados': 0, 'qtdDiasAtrasoBNPLMova': 0, 'qtdDiasAtrasoP2PL': 0}, 'restritivosBVS': {'vlrMaxRestritivosBVSM1': 0, 'vlrMaxRestritivosBVSM2': 0, 'vlrMaxRestritivosBVSM3': 0}, 'idade': 30, 'vlrMaxRestritivosSerasa90Dias': 0, 'indFNV': False, 'indReneg': False, 'maxDiasAtraso': 0, 'rangeScoreInternoCartao': 'X', 'qtdIF': 1, 'novoGrupo': 'S', 'numeroDocumento': '12345678909', 'dataAdmissaoFopag': '2002-11-05T17:18:43.888Z', 'dataRegistroPrimeiroContrato': '2002-11-05T17:18:43.888Z', 'dataRegistro': '2002-11-05T17:18:43.888Z', 'saldoMinimo30d': 101, 'flagFuncionario': 0, 'flagMAT': 0, 'flagMAT30d': 0, 'flagMAT60d': 0, 'flagMAT90d': 0, 'fonteRenda': '01. Fopag', 'flagPortabilidade': 0, 'rendaLiquidaPicpay': 100000.0, 'rendaLiquidaPicpayBatch': 10000.0, 'consumerID': 101010101, 'scoreAppSerasa': 999, 'scoreInternoLongo': 999, 'scoreInterno': 999, 'investimentoTotal': 0.0, 'saldoInvestimento': 0.0, 'flagInvestimentoPrincipalidade': 1, 'flagPrincipalidadeAll': 1, 'flagPrincipalidade': 1, 'mesFlagPrincipalidade': 3, 'flagAllowlist': '-99999', 'flagBlocklist': '-99999', 'scoreInternoCurto': 959, 'scoreExterno': 999, 'flagCartaoCreditoContratado': 0, 'flagLimiteGarantidoContratado': 0, 'saldoMedio': 0.0, 'flagCadastroIrregular': 0, 'flagCadastroNegado': 0, 'flagCadastroEmAndamento': 0, 'flagContaInativa': 0, 'flagContaTeste': 0, 'flagOSDefasado': 0, 'flagSistemaOperacionalDefasado': 0, 'statusCPF': 'REGULAR', 'flagFraudePicpay': 0, 'flagFraudeCartaoPicpay': 0, 'flagHoldForced': 0, 'flagChargebackPicpay': 0, 'flagIdadeForaPolitica': 0, 'flagAtrasoPicpay': 0, 'flagAtrasoOriginal': 0, 'flagReneg': 0, 'flagBloqueados': 0, 'flagRestritivoBVS': 0, 'flagRestricaoSerasa': 0, 'flagZeroIF': 0, 'flagAtrasoBacen': 0, 'flagPrejuizoBacen': 0, 'flagRenegBacen': 0, 'flagSaldoFinanciadoCartao': 0, 'flagIUCheque': 0, 'flagADBacen': 0, 'flagDesenrola': 0, 'flagFNV': 0, 'flagNoHitBureaus': 0, 'flagCartaoDebitoContratado': 0, 'flagSmallLimits': 0, 'mensagemFiltro': '99. Accepted', 'flagCCRot': 0, 'mediaSaldoTotal': 40000, 'listaRestritivosSerasa': [{'tipo': 'N', 'montanteTotal': 0, 'valorTotal': 0}], 'listaRestritivosBacen': [{'saldoVencido': 0, 'prejuizo': 0, 'creditoAVencerAdpos': 0, 'creditoFinanciadoCartoes': 0, 'creditoVencidoCartao': 0, 'creditoAVencerCartao': 0, 'limiteCartaoDisponivel': 0, 'limiteChequeDisponivel': 0, 'saldoBacenCheque': 0, 'renegociacaoBacen': 0}, {'saldoVencido': 0, 'prejuizo': 0, 'creditoAVencerAdpos': 0, 'creditoFinanciadoCartoes': 0, 'creditoVencidoCartao': 0, 'creditoAVencerCartao': 0, 'limiteCartaoDisponivel': 0, 'limiteChequeDisponivel': 0, 'saldoBacenCheque': 0, 'renegociacaoBacen': 0}, {'saldoVencido': 0, 'prejuizo': 0, 'creditoAVencerAdpos': 0, 'creditoFinanciadoCartoes': 0, 'creditoVencidoCartao': 0, 'creditoAVencerCartao': 0, 'limiteCartaoDisponivel': 0, 'limiteChequeDisponivel': 0, 'saldoBacenCheque': 0, 'renegociacaoBacen': 0}]}, 'payloadHomol': {'saidas': {'mensagemFiltro': '99. Accepted', 'mensagemFinal': '99. Accepted', 'statusDecisao': 'APROVADO', 'regrasNegativas': [], 'vlrLimiteAprovado': 0}, 'intermediarias': {'clienteBlindado': 0, 'clienteBloqueado': 0, 'MATRecorrente': 0, 'alavancagem': 0.0, 'limitePiso': 0, 'limiteTeto': 0, 'flagConcomitanteSLCP': 0, 'digitoCPFConcomitanteCP': 99, 'aprovadoBAUAux': 0, 'aprovadoSLAux': 0, 'admissaoMeses': 0, 'cpf5e6Digito': 99, 'faixaRendaBruta': 'z. Verificar', 'faixaRendaLiquida': 'z. Verificar', 'faixaRiscoInternoAgrupada': 'R1', 'faixaScoreExterno': 'R1', 'segmentacaoPolitica': 'P1 - Funcionarios', 'principalidadeDeInvestimento': 0, 'faixaScoreInternoCurto': 'R1', 'principalidadeAll': 0, 'clienteFoPag': 0, 'segmentacaoNegocio': 'xpto', 'recorrenciaPrincipalidade': 0, 'flagClienteExistente': 0, 'serasaInvalido': 0, 'semInfoScore': 0, 'saldoFinanciadoCartoes': 0, 'usoChequeEspecial': 0, 'limiteFixo': 0}}, 'idSolicitacao': 0}"
   ]
  },
  {
   "cell_type": "markdown",
   "metadata": {
    "application/vnd.databricks.v1+cell": {
     "cellMetadata": {},
     "inputWidgets": {},
     "nuid": "df3c4b7a-bab0-4341-a8b2-f6971669eca6",
     "showTitle": false,
     "title": ""
    }
   },
   "source": [
    "###### Execução"
   ]
  },
  {
   "cell_type": "code",
   "execution_count": 0,
   "metadata": {
    "application/vnd.databricks.v1+cell": {
     "cellMetadata": {
      "byteLimit": 2048000,
      "rowLimit": 10000
     },
     "inputWidgets": {},
     "nuid": "60ea3131-7663-48c2-b0af-c3901a6ce9ad",
     "showTitle": false,
     "title": ""
    }
   },
   "outputs": [],
   "source": [
    "chamadaRestDMPS(body, url, headers)"
   ]
  }
 ],
 "metadata": {
  "application/vnd.databricks.v1+notebook": {
   "dashboards": [],
   "language": "python",
   "notebookMetadata": {
    "pythonIndentUnit": 4
   },
   "notebookName": "Teste_chamada_rest",
   "widgets": {}
  }
 },
 "nbformat": 4,
 "nbformat_minor": 0
}
