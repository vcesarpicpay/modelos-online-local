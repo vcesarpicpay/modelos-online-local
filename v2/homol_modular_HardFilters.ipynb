{
 "cells": [
  {
   "cell_type": "code",
   "execution_count": null,
   "metadata": {
    "application/vnd.databricks.v1+cell": {
     "cellMetadata": {
      "byteLimit": 2048000,
      "rowLimit": 10000
     },
     "inputWidgets": {},
     "nuid": "6b01e65b-20e0-41f4-9132-0cd228cd517e",
     "showTitle": false,
     "title": ""
    }
   },
   "outputs": [],
   "source": [
    "dbutils.library.restartPython()"
   ]
  },
  {
   "cell_type": "markdown",
   "metadata": {
    "application/vnd.databricks.v1+cell": {
     "cellMetadata": {
      "byteLimit": 2048000,
      "rowLimit": 10000
     },
     "inputWidgets": {},
     "nuid": "b3b97d92-0875-4e4c-955e-6a4fd7e0382d",
     "showTitle": false,
     "title": ""
    }
   },
   "source": [
    "# Import de Funções e Libs"
   ]
  },
  {
   "cell_type": "markdown",
   "metadata": {
    "application/vnd.databricks.v1+cell": {
     "cellMetadata": {
      "byteLimit": 2048000,
      "rowLimit": 10000
     },
     "inputWidgets": {},
     "nuid": "405da4ba-d5f5-455b-a186-c9d95020d656",
     "showTitle": false,
     "title": ""
    }
   },
   "source": [
    "As bibliotecas e funções utilizadas ao longo do código devem ser adicionadas aqui"
   ]
  },
  {
   "cell_type": "code",
   "execution_count": null,
   "metadata": {
    "application/vnd.databricks.v1+cell": {
     "cellMetadata": {
      "byteLimit": 2048000,
      "rowLimit": 10000
     },
     "inputWidgets": {},
     "nuid": "35818e65-0b3a-4169-95bd-6cd1200b6873",
     "showTitle": false,
     "title": ""
    }
   },
   "outputs": [],
   "source": [
    "import numpy as np\n",
    "import pandas as pd\n",
    "import requests\n",
    "import json\n",
    "import sherlock\n",
    "import regras_politica as rp"
   ]
  },
  {
   "cell_type": "markdown",
   "metadata": {
    "application/vnd.databricks.v1+cell": {
     "cellMetadata": {
      "byteLimit": 2048000,
      "rowLimit": 10000
     },
     "inputWidgets": {},
     "nuid": "3b7b68fb-aa65-4c07-9239-80ff0bcf60b8",
     "showTitle": false,
     "title": ""
    }
   },
   "source": [
    "### Testes Modulares - Referente ao tópico 2 - 2.1 Hard Filters ( Esse tópico será tratado em um RMA separado )"
   ]
  },
  {
   "cell_type": "markdown",
   "metadata": {
    "application/vnd.databricks.v1+cell": {
     "cellMetadata": {
      "byteLimit": 2048000,
      "rowLimit": 10000
     },
     "inputWidgets": {},
     "nuid": "53c9e1f4-296e-473a-ae84-1d12f5c9a473",
     "showTitle": false,
     "title": ""
    }
   },
   "source": [
    "### Geração de Massa"
   ]
  },
  {
   "cell_type": "code",
   "execution_count": null,
   "metadata": {
    "application/vnd.databricks.v1+cell": {
     "cellMetadata": {
      "byteLimit": 2048000,
      "rowLimit": 10000
     },
     "inputWidgets": {},
     "nuid": "3ad16f05-f504-4bef-8a27-b4759d823845",
     "showTitle": false,
     "title": ""
    }
   },
   "outputs": [],
   "source": [
    "#Gerando a massa modelo passando o caminho do JSON como nome da variável\n",
    "base_entrada = pd.DataFrame({'etapa':[\"\"],\n",
    "                             'solicitante.flagCadastroIrregular':[0],\n",
    "                             'solicitante.flagCadastroNegado':[0],\n",
    "                             'solicitante.flagCadastroEmAndamento':[0],\n",
    "                             'solicitante.flagContaInativa':[0],\n",
    "                             'solicitante.flagContaTeste':[0],\n",
    "                             'solicitante.flagOSDefasado':[0],\n",
    "                             'solicitante.statusCPF':['OK'],\n",
    "                             'solicitante.flagFraudeCartaoPicpay':[0],\n",
    "                             'solicitante.flagFraudePicpay':[0],\n",
    "                             'solicitante.flagChargebackPicpay':[0],\n",
    "                             'solicitante.flagHoldForced':[0],\n",
    "                             'solicitante.idade':[21],\n",
    "                             'solicitante.atrasos.qtdDiasAtrasoCartao':[0],\n",
    "                             'solicitante.atrasos.qtdDiasAtrasoParcelados':[0],\n",
    "                             'solicitante.atrasos.qtdDiasAtrasoBNPLMova':[0],\n",
    "                             'solicitante.atrasos.qtdDiasAtrasoP2PL':[0],\n",
    "                             'solicitante.restritivosBVS.vlrMaxRestritivosBVSM1':[0],\n",
    "                             'solicitante.restritivosBVS.vlrMaxRestritivosBVSM2':[0],\n",
    "                             'solicitante.restritivosBVS.vlrMaxRestritivosBVSM3':[0],\n",
    "                             'solicitante.vlrMaxRestritivosSerasa90Dias':[0],\n",
    "                             'solicitante.flagDesenrola':[0],\n",
    "                             'solicitante.flagFNV':[0],\n",
    "                             'solicitante.flagReneg':[0],\n",
    "                             'solicitante.flagBloqueados':[0],\n",
    "                             'solicitante.rendaLiquidaPicpay':[10000],\n",
    "                             'solicitante.rendaLiquidaPicpayBatch':[10000]\n",
    "                            })"
   ]
  },
  {
   "cell_type": "code",
   "execution_count": null,
   "metadata": {
    "application/vnd.databricks.v1+cell": {
     "cellMetadata": {
      "byteLimit": 2048000,
      "rowLimit": 10000
     },
     "inputWidgets": {},
     "nuid": "17fabf92-6aa2-4318-9a02-88c781717310",
     "showTitle": false,
     "title": ""
    }
   },
   "outputs": [],
   "source": [
    "#Criação das massas com casos forçados\n",
    "#flagCadastroIrregular\n",
    "massa_flagCadastroIrregular = sherlock.Gera_Massa(base_entrada)\n",
    "massa_flagCadastroIrregular.gera_cenario('etapa',[\"\",\"BACEN M-2, M-3\"])\n",
    "massa_flagCadastroIrregular.gera_cenario('solicitante.flagCadastroIrregular',[-99999,0,1])\n",
    "massa_flagCadastroIrregular = massa_flagCadastroIrregular.get_massa_final()\n",
    "\n",
    "#flagCadastroNegado ou andamento\n",
    "massa_flagCadastroNegadoOuEmAndamento = sherlock.Gera_Massa(base_entrada)\n",
    "massa_flagCadastroNegadoOuEmAndamento.gera_cenario('etapa',[\"\",\"BACEN M-2, M-3\"])\n",
    "massa_flagCadastroNegadoOuEmAndamento.gera_cenario('solicitante.flagCadastroNegado',[-99999,0,1])\n",
    "massa_flagCadastroNegadoOuEmAndamento.gera_cenario('solicitante.flagCadastroEmAndamento',[-99999,0,1])\n",
    "massa_flagCadastroNegadoOuEmAndamento = massa_flagCadastroNegadoOuEmAndamento.get_massa_final()\n",
    "\n",
    "#flagContaInativa ou teste \n",
    "massa_flagContaInativaOuTestePicpay = sherlock.Gera_Massa(base_entrada)\n",
    "massa_flagContaInativaOuTestePicpay.gera_cenario('etapa',[\"\",\"BACEN M-2, M-3\"])\n",
    "massa_flagContaInativaOuTestePicpay.gera_cenario('solicitante.flagContaInativa',[-99999,0,1])\n",
    "massa_flagContaInativaOuTestePicpay.gera_cenario('solicitante.flagContaTeste',[-99999,0,1])\n",
    "massa_flagContaInativaOuTestePicpay = massa_flagContaInativaOuTestePicpay.get_massa_final()\n",
    "\n",
    "#flagSistemaOperacionalDefasado\n",
    "massa_flagSistemaOperacionalDefasado = sherlock.Gera_Massa(base_entrada)\n",
    "massa_flagSistemaOperacionalDefasado.gera_cenario('etapa',[\"\",\"BACEN M-2, M-3\"])\n",
    "massa_flagSistemaOperacionalDefasado.gera_cenario('solicitante.flagOSDefasado',[-99999,0,1])\n",
    "massa_flagSistemaOperacionalDefasado = massa_flagSistemaOperacionalDefasado.get_massa_final()\n",
    "\n",
    "#flagCPFInvalido\n",
    "massa_flagCPFInvalido = sherlock.Gera_Massa(base_entrada)\n",
    "massa_flagCPFInvalido.gera_cenario('etapa',[\"\",\"BACEN M-2, M-3\"])\n",
    "massa_flagCPFInvalido.gera_cenario('solicitante.statusCPF',['PENDENTE','CANCELADO','SUSPENSA','-99999','OK'])\n",
    "massa_flagCPFInvalido = massa_flagCPFInvalido.get_massa_final()\n",
    "\n",
    "#flagObito\n",
    "massa_flagObito = sherlock.Gera_Massa(base_entrada)\n",
    "massa_flagObito.gera_cenario('etapa',[\"\",\"BACEN M-2, M-3\"])\n",
    "massa_flagObito.gera_cenario('solicitante.statusCPF',['TITULAR FALECIDO','-99999','OK'])\n",
    "massa_flagObito = massa_flagObito.get_massa_final()\n",
    "\n",
    "#flagFraudePicPay\n",
    "massa_flagFraudePicPay = sherlock.Gera_Massa(base_entrada)\n",
    "massa_flagFraudePicPay.gera_cenario('etapa',[\"\",\"BACEN M-2, M-3\"])\n",
    "massa_flagFraudePicPay.gera_cenario('solicitante.flagFraudeCartaoPicpay',[-99999,0,1])\n",
    "massa_flagFraudePicPay.gera_cenario('solicitante.flagFraudePicpay',[-99999,0,1])\n",
    "massa_flagFraudePicPay.gera_cenario('solicitante.flagHoldForced',[-99999,0,1])\n",
    "massa_flagFraudePicPay = massa_flagFraudePicPay.get_massa_final()\n",
    "\n",
    "#flagChargebackPicPay\n",
    "massa_flagChargebackPicPay = sherlock.Gera_Massa(base_entrada)\n",
    "massa_flagChargebackPicPay.gera_cenario('etapa',[\"\",\"BACEN M-2, M-3\"])\n",
    "massa_flagChargebackPicPay.gera_cenario('solicitante.flagChargebackPicpay',[-99999,0,1])\n",
    "massa_flagChargebackPicPay = massa_flagChargebackPicPay.get_massa_final()\n",
    "\n",
    "#flagIdadeForaPolitica\n",
    "massa_flagIdadeForaPolitica = sherlock.Gera_Massa(base_entrada)\n",
    "massa_flagIdadeForaPolitica.gera_cenario('etapa',[\"\",\"BACEN M-2, M-3\"])\n",
    "massa_flagIdadeForaPolitica.gera_cenario('solicitante.idade',[-99999,0,19,20,21,79,80,81,99,100,99999])\n",
    "massa_flagIdadeForaPolitica = massa_flagIdadeForaPolitica.get_massa_final()\n",
    "\n",
    "#flag atraso pp ou original\n",
    "massa_flagAtrasoPicpayOriginal = sherlock.Gera_Massa(base_entrada)\n",
    "massa_flagAtrasoPicpayOriginal.gera_cenario('etapa',[\"\",\"BACEN M-2, M-3\"])\n",
    "massa_flagAtrasoPicpayOriginal.gera_cenario('solicitante.atrasos.qtdDiasAtrasoCartao',[-99999,0,4,5,6])\n",
    "massa_flagAtrasoPicpayOriginal.gera_cenario('solicitante.atrasos.qtdDiasAtrasoParcelados',[-99999,0,4,5,6])\n",
    "massa_flagAtrasoPicpayOriginal.gera_cenario('solicitante.atrasos.qtdDiasAtrasoBNPLMova',[-99999,0,4,5,6])\n",
    "massa_flagAtrasoPicpayOriginal.gera_cenario('solicitante.atrasos.qtdDiasAtrasoP2PL',[-99999,0,4,5,6])\n",
    "massa_flagAtrasoPicpayOriginal = massa_flagAtrasoPicpayOriginal.get_massa_final()\n",
    "\n",
    "#flag FNV\n",
    "massa_flagFNVReneg = sherlock.Gera_Massa(base_entrada)\n",
    "massa_flagFNVReneg.gera_cenario('etapa',[\"\",\"BACEN M-2, M-3\"])\n",
    "massa_flagFNVReneg.gera_cenario('solicitante.flagFNV',[-99999,0,1])\n",
    "massa_flagFNVReneg.gera_cenario('solicitante.flagReneg',[-99999,0,1])\n",
    "massa_flagFNVReneg.gera_cenario('solicitante.flagBloqueados',[-99999,0,1])\n",
    "massa_flagFNVReneg = massa_flagFNVReneg.get_massa_final()\n",
    "\n",
    "#Restritivo BVS\n",
    "massa_flagRestritivoBVS = sherlock.Gera_Massa(base_entrada)\n",
    "massa_flagRestritivoBVS.gera_cenario('etapa',[\"\",\"BACEN M-2, M-3\"])\n",
    "massa_flagRestritivoBVS.gera_cenario('solicitante.restritivosBVS.vlrMaxRestritivosBVSM3',[-99999,0,999,1000,2000,4000,5000,6000])\n",
    "massa_flagRestritivoBVS.gera_cenario('solicitante.restritivosBVS.vlrMaxRestritivosBVSM2',[-99999,0,999,1000,2000,4000,5000,6000])\n",
    "massa_flagRestritivoBVS.gera_cenario('solicitante.restritivosBVS.vlrMaxRestritivosBVSM3',[-99999,0,999,1000,2000,4000,5000,6000])\n",
    "massa_flagRestritivoBVS.gera_cenario('solicitante.rendaLiquidaPicpay',[-99999,600,10000])\n",
    "massa_flagRestritivoBVS.gera_cenario('solicitante.rendaLiquidaPicpayBatch',[-99999,600,10000])\n",
    "massa_flagRestritivoBVS = massa_flagRestritivoBVS.get_massa_final()\n",
    "\n",
    "#flagRestricaoSerasa\n",
    "massa_flagRestricaoSerasa = sherlock.Gera_Massa(base_entrada)\n",
    "massa_flagRestricaoSerasa.gera_cenario('etapa',[\"\",\"BACEN M-2, M-3\"])\n",
    "massa_flagRestricaoSerasa.gera_cenario('solicitante.vlrMaxRestritivosSerasa90Dias',[-99999,0,999,1000,2000,4000,5000,6000])\n",
    "massa_flagRestricaoSerasa.gera_cenario('solicitante.rendaLiquidaPicpay',[-99999,600,10000])\n",
    "massa_flagRestricaoSerasa.gera_cenario('solicitante.rendaLiquidaPicpayBatch',[-99999,600,10000])\n",
    "massa_flagRestricaoSerasa = massa_flagRestricaoSerasa.get_massa_final()\n",
    "\n",
    "#flagDesenrola\n",
    "massa_flagDesenrola = sherlock.Gera_Massa(base_entrada)\n",
    "massa_flagDesenrola.gera_cenario('etapa',[\"\",\"BACEN M-2, M-3\"])\n",
    "massa_flagDesenrola.gera_cenario('solicitante.flagDesenrola',[-99999,0,1])\n",
    "massa_flagDesenrola = massa_flagDesenrola.get_massa_final()\n",
    "\n",
    "# no hit bureau\n",
    "massa_nohitbureau = sherlock.Gera_Massa(base_entrada)\n",
    "massa_nohitbureau.gera_cenario('solicitante.rendaLiquidaPicpay',[-99999,10000])\n",
    "massa_nohitbureau.gera_cenario('solicitante.rendaLiquidaPicpayBatch',[-99999,10000])\n",
    "massa_nohitbureau.gera_cenario('solicitante.flagCadastroIrregular',[1])\n",
    "massa_nohitbureau.gera_cenario('solicitante.flagCadastroNegado',[1])\n",
    "massa_nohitbureau.gera_cenario('solicitante.flagCadastroEmAndamento',[1])\n",
    "massa_nohitbureau.gera_cenario('solicitante.flagContaInativa',[1])\n",
    "massa_nohitbureau.gera_cenario('solicitante.flagContaTeste',[1])\n",
    "massa_nohitbureau.gera_cenario('solicitante.flagOSDefasado',[1])\n",
    "massa_nohitbureau.gera_cenario('solicitante.statusCPF',['TITULAR FALECIDO'])\n",
    "massa_nohitbureau.gera_cenario('solicitante.flagFraudeCartaoPicpay',[1])\n",
    "massa_nohitbureau.gera_cenario('solicitante.flagFraudePicpay',[1])\n",
    "massa_nohitbureau.gera_cenario('solicitante.flagHoldForced',[1])\n",
    "massa_nohitbureau.gera_cenario('solicitante.flagChargebackPicpay',[1])\n",
    "massa_nohitbureau.gera_cenario('solicitante.idade',[80])\n",
    "massa_nohitbureau.gera_cenario('solicitante.atrasos.qtdDiasAtrasoCartao',[6])\n",
    "massa_nohitbureau.gera_cenario('solicitante.atrasos.qtdDiasAtrasoParcelados',[6])\n",
    "massa_nohitbureau.gera_cenario('solicitante.atrasos.qtdDiasAtrasoBNPLMova',[6])\n",
    "massa_nohitbureau.gera_cenario('solicitante.atrasos.qtdDiasAtrasoP2PL',[6])\n",
    "massa_nohitbureau.gera_cenario('solicitante.flagFNV',[1])\n",
    "massa_nohitbureau.gera_cenario('solicitante.flagReneg',[1])\n",
    "massa_nohitbureau.gera_cenario('solicitante.flagBloqueados',[1])\n",
    "massa_nohitbureau.gera_cenario('etapa',[\"\",\"BACEN M-2, M-3\"])\n",
    "massa_nohitbureau.gera_cenario('solicitante.restritivosBVS.vlrMaxRestritivosBVSM3',[10000])\n",
    "massa_nohitbureau.gera_cenario('solicitante.restritivosBVS.vlrMaxRestritivosBVSM2',[10000])\n",
    "massa_nohitbureau.gera_cenario('solicitante.restritivosBVS.vlrMaxRestritivosBVSM3',[10000])\n",
    "massa_nohitbureau.gera_cenario('solicitante.flagDesenrola',[1])\n",
    "massa_nohitbureau = massa_nohitbureau.get_massa_final()\n",
    "\n",
    "# teste de priorizações\n",
    "massa_TestePriorizacao_1 = sherlock.Gera_Massa(base_entrada)\n",
    "massa_TestePriorizacao_1.gera_cenario('solicitante.rendaLiquidaPicpay',[10000])\n",
    "massa_TestePriorizacao_1.gera_cenario('solicitante.rendaLiquidaPicpayBatch',[10000])\n",
    "massa_TestePriorizacao_1.gera_cenario('solicitante.flagCadastroIrregular',[0,1])\n",
    "massa_TestePriorizacao_1.gera_cenario('solicitante.flagCadastroNegado',[0,1])\n",
    "massa_TestePriorizacao_1.gera_cenario('solicitante.flagCadastroEmAndamento',[0,1])\n",
    "massa_TestePriorizacao_1.gera_cenario('solicitante.flagContaInativa',[0,1])\n",
    "massa_TestePriorizacao_1.gera_cenario('solicitante.flagContaTeste',[0,1])\n",
    "massa_TestePriorizacao_1.gera_cenario('solicitante.flagOSDefasado',[0,1])\n",
    "massa_TestePriorizacao_1.gera_cenario('solicitante.statusCPF',['TITULAR FALECIDO','OK','CANCELADO'])\n",
    "massa_TestePriorizacao_1.gera_cenario('solicitante.flagFraudeCartaoPicpay',[0,1])\n",
    "massa_TestePriorizacao_1.gera_cenario('solicitante.flagFraudePicpay',[0,1])\n",
    "massa_TestePriorizacao_1.gera_cenario('solicitante.flagHoldForced',[0,1])\n",
    "massa_TestePriorizacao_1.gera_cenario('solicitante.flagChargebackPicpay',[0,1])\n",
    "massa_TestePriorizacao_1.gera_cenario('solicitante.idade',[30])\n",
    "massa_TestePriorizacao_1.gera_cenario('solicitante.atrasos.qtdDiasAtrasoCartao',[0])\n",
    "massa_TestePriorizacao_1.gera_cenario('solicitante.atrasos.qtdDiasAtrasoParcelados',[0])\n",
    "massa_TestePriorizacao_1.gera_cenario('solicitante.atrasos.qtdDiasAtrasoBNPLMova',[0])\n",
    "massa_TestePriorizacao_1.gera_cenario('solicitante.atrasos.qtdDiasAtrasoP2PL',[0])\n",
    "massa_TestePriorizacao_1.gera_cenario('solicitante.flagFNV',[0])\n",
    "massa_TestePriorizacao_1.gera_cenario('solicitante.flagReneg',[0])\n",
    "massa_TestePriorizacao_1.gera_cenario('solicitante.flagBloqueados',[0])\n",
    "massa_TestePriorizacao_1.gera_cenario('etapa',[\"\",\"BACEN M-2, M-3\"])\n",
    "massa_TestePriorizacao_1.gera_cenario('solicitante.restritivosBVS.vlrMaxRestritivosBVSM3',[0])\n",
    "massa_TestePriorizacao_1.gera_cenario('solicitante.restritivosBVS.vlrMaxRestritivosBVSM2',[0])\n",
    "massa_TestePriorizacao_1.gera_cenario('solicitante.restritivosBVS.vlrMaxRestritivosBVSM3',[0])\n",
    "massa_TestePriorizacao_1.gera_cenario('solicitante.flagDesenrola',[0])\n",
    "massa_TestePriorizacao_1 = massa_TestePriorizacao_1.get_massa_final()\n",
    "\n",
    "massa_TestePriorizacao_2 = sherlock.Gera_Massa(base_entrada)\n",
    "massa_TestePriorizacao_2.gera_cenario('solicitante.rendaLiquidaPicpay',[10000])\n",
    "massa_TestePriorizacao_2.gera_cenario('solicitante.rendaLiquidaPicpayBatch',[10000])\n",
    "massa_TestePriorizacao_2.gera_cenario('solicitante.flagCadastroIrregular',[0])\n",
    "massa_TestePriorizacao_2.gera_cenario('solicitante.flagCadastroNegado',[0])\n",
    "massa_TestePriorizacao_2.gera_cenario('solicitante.flagCadastroEmAndamento',[0])\n",
    "massa_TestePriorizacao_2.gera_cenario('solicitante.flagContaInativa',[0])\n",
    "massa_TestePriorizacao_2.gera_cenario('solicitante.flagContaTeste',[0])\n",
    "massa_TestePriorizacao_2.gera_cenario('solicitante.flagOSDefasado',[0])\n",
    "massa_TestePriorizacao_2.gera_cenario('solicitante.statusCPF',['OK'])\n",
    "massa_TestePriorizacao_2.gera_cenario('solicitante.flagFraudeCartaoPicpay',[0,1])\n",
    "massa_TestePriorizacao_2.gera_cenario('solicitante.flagFraudePicpay',[0,1])\n",
    "massa_TestePriorizacao_2.gera_cenario('solicitante.flagHoldForced',[0,1])\n",
    "massa_TestePriorizacao_2.gera_cenario('solicitante.flagChargebackPicpay',[0,1])\n",
    "massa_TestePriorizacao_2.gera_cenario('solicitante.idade',[20,21])\n",
    "massa_TestePriorizacao_2.gera_cenario('solicitante.atrasos.qtdDiasAtrasoCartao',[0,6])\n",
    "massa_TestePriorizacao_2.gera_cenario('solicitante.atrasos.qtdDiasAtrasoParcelados',[0])\n",
    "massa_TestePriorizacao_2.gera_cenario('solicitante.atrasos.qtdDiasAtrasoBNPLMova',[0])\n",
    "massa_TestePriorizacao_2.gera_cenario('solicitante.atrasos.qtdDiasAtrasoP2PL',[0])\n",
    "massa_TestePriorizacao_2.gera_cenario('solicitante.flagFNV',[0,1])\n",
    "massa_TestePriorizacao_2.gera_cenario('solicitante.flagReneg',[0,1])\n",
    "massa_TestePriorizacao_2.gera_cenario('etapa',[\"\",\"BACEN M-2, M-3\"])\n",
    "massa_TestePriorizacao_2.gera_cenario('solicitante.restritivosBVS.vlrMaxRestritivosBVSM3',[0])\n",
    "massa_TestePriorizacao_2.gera_cenario('solicitante.restritivosBVS.vlrMaxRestritivosBVSM2',[0])\n",
    "massa_TestePriorizacao_2.gera_cenario('solicitante.restritivosBVS.vlrMaxRestritivosBVSM3',[0])\n",
    "massa_TestePriorizacao_2.gera_cenario('solicitante.flagDesenrola',[0])\n",
    "massa_TestePriorizacao_2 = massa_TestePriorizacao_2.get_massa_final()\n",
    "\n",
    "massa_TestePriorizacao_3 = sherlock.Gera_Massa(base_entrada)\n",
    "massa_TestePriorizacao_3.gera_cenario('solicitante.rendaLiquidaPicpay',[10000])\n",
    "massa_TestePriorizacao_3.gera_cenario('solicitante.rendaLiquidaPicpayBatch',[10000])\n",
    "massa_TestePriorizacao_3.gera_cenario('solicitante.flagCadastroIrregular',[0])\n",
    "massa_TestePriorizacao_3.gera_cenario('solicitante.flagCadastroNegado',[0])\n",
    "massa_TestePriorizacao_3.gera_cenario('solicitante.flagCadastroEmAndamento',[0])\n",
    "massa_TestePriorizacao_3.gera_cenario('solicitante.flagContaInativa',[0])\n",
    "massa_TestePriorizacao_3.gera_cenario('solicitante.flagContaTeste',[0])\n",
    "massa_TestePriorizacao_3.gera_cenario('solicitante.flagOSDefasado',[0])\n",
    "massa_TestePriorizacao_3.gera_cenario('solicitante.statusCPF',['OK'])\n",
    "massa_TestePriorizacao_3.gera_cenario('solicitante.flagFraudeCartaoPicpay',[0])\n",
    "massa_TestePriorizacao_3.gera_cenario('solicitante.flagFraudePicpay',[0])\n",
    "massa_TestePriorizacao_3.gera_cenario('solicitante.flagHoldForced',[0])\n",
    "massa_TestePriorizacao_3.gera_cenario('solicitante.flagChargebackPicpay',[0])\n",
    "massa_TestePriorizacao_3.gera_cenario('solicitante.idade',[30])\n",
    "massa_TestePriorizacao_3.gera_cenario('solicitante.atrasos.qtdDiasAtrasoCartao',[0])\n",
    "massa_TestePriorizacao_3.gera_cenario('solicitante.atrasos.qtdDiasAtrasoParcelados',[0])\n",
    "massa_TestePriorizacao_3.gera_cenario('solicitante.atrasos.qtdDiasAtrasoBNPLMova',[0])\n",
    "massa_TestePriorizacao_3.gera_cenario('solicitante.atrasos.qtdDiasAtrasoP2PL',[0])\n",
    "massa_TestePriorizacao_3.gera_cenario('solicitante.flagFNV',[0])\n",
    "massa_TestePriorizacao_3.gera_cenario('solicitante.flagReneg',[0])\n",
    "massa_TestePriorizacao_3.gera_cenario('etapa',[\"\",\"BACEN M-2, M-3\"])\n",
    "massa_TestePriorizacao_3.gera_cenario('solicitante.restritivosBVS.vlrMaxRestritivosBVSM3',[0,900,1000,5000,6000])\n",
    "massa_TestePriorizacao_3.gera_cenario('solicitante.restritivosBVS.vlrMaxRestritivosBVSM2',[0])\n",
    "massa_TestePriorizacao_3.gera_cenario('solicitante.restritivosBVS.vlrMaxRestritivosBVSM3',[0])\n",
    "massa_TestePriorizacao_3.gera_cenario('solicitante.flagDesenrola',[0,1])\n",
    "massa_TestePriorizacao_3 = massa_TestePriorizacao_3.get_massa_final()\n",
    "\n",
    "massa_TestePriorizacaoMistos = sherlock.Gera_Massa(base_entrada)\n",
    "massa_TestePriorizacaoMistos.gera_cenario('solicitante.rendaLiquidaPicpay',[10000])\n",
    "massa_TestePriorizacaoMistos.gera_cenario('solicitante.rendaLiquidaPicpayBatch',[10000])\n",
    "massa_TestePriorizacaoMistos.gera_cenario('solicitante.flagCadastroIrregular',[0,1])\n",
    "massa_TestePriorizacaoMistos.gera_cenario('solicitante.flagCadastroNegado',[0])\n",
    "massa_TestePriorizacaoMistos.gera_cenario('solicitante.flagCadastroEmAndamento',[0])\n",
    "massa_TestePriorizacaoMistos.gera_cenario('solicitante.flagContaInativa',[0])\n",
    "massa_TestePriorizacaoMistos.gera_cenario('solicitante.flagContaTeste',[0,1])\n",
    "massa_TestePriorizacaoMistos.gera_cenario('solicitante.flagOSDefasado',[0])\n",
    "massa_TestePriorizacaoMistos.gera_cenario('solicitante.statusCPF',['TITULAR FALECIDO','OK'])\n",
    "massa_TestePriorizacaoMistos.gera_cenario('solicitante.flagFraudeCartaoPicpay',[0,1])\n",
    "massa_TestePriorizacaoMistos.gera_cenario('solicitante.flagFraudePicpay',[0])\n",
    "massa_TestePriorizacaoMistos.gera_cenario('solicitante.flagHoldForced',[0])\n",
    "massa_TestePriorizacaoMistos.gera_cenario('solicitante.flagChargebackPicpay',[0])\n",
    "massa_TestePriorizacaoMistos.gera_cenario('solicitante.idade',[20,30])\n",
    "massa_TestePriorizacaoMistos.gera_cenario('solicitante.atrasos.qtdDiasAtrasoCartao',[0,1])\n",
    "massa_TestePriorizacaoMistos.gera_cenario('solicitante.atrasos.qtdDiasAtrasoParcelados',[0])\n",
    "massa_TestePriorizacaoMistos.gera_cenario('solicitante.atrasos.qtdDiasAtrasoBNPLMova',[0])\n",
    "massa_TestePriorizacaoMistos.gera_cenario('solicitante.atrasos.qtdDiasAtrasoP2PL',[0])\n",
    "massa_TestePriorizacaoMistos.gera_cenario('solicitante.flagFNV',[0,1])\n",
    "massa_TestePriorizacaoMistos.gera_cenario('solicitante.flagReneg',[0])\n",
    "massa_TestePriorizacaoMistos.gera_cenario('etapa',[\"\",\"BACEN M-2, M-3\"])\n",
    "massa_TestePriorizacaoMistos.gera_cenario('solicitante.restritivosBVS.vlrMaxRestritivosBVSM3',[0,900,1000])\n",
    "massa_TestePriorizacaoMistos.gera_cenario('solicitante.restritivosBVS.vlrMaxRestritivosBVSM2',[0])\n",
    "massa_TestePriorizacaoMistos.gera_cenario('solicitante.restritivosBVS.vlrMaxRestritivosBVSM3',[0])\n",
    "massa_TestePriorizacaoMistos.gera_cenario('solicitante.flagDesenrola',[0,1])\n",
    "massa_TestePriorizacaoMistos = massa_TestePriorizacaoMistos.get_massa_final()\n",
    "\n",
    "\n",
    "#Empilha todos casos com 1 caso padrão.\n",
    "massa_final_HardFilters = sherlock.Gera_Massa(base_entrada)\n",
    "massa_final_HardFilters.empilha_massas([massa_flagCadastroIrregular,\n",
    "                                        massa_flagCadastroNegadoOuEmAndamento,\n",
    "                                        massa_flagContaInativaOuTestePicpay,\n",
    "                                        massa_flagSistemaOperacionalDefasado,\n",
    "                                        massa_flagCPFInvalido,\n",
    "                                        massa_flagObito,\n",
    "                                        massa_flagFraudePicPay,\n",
    "                                        massa_flagChargebackPicPay,\n",
    "                                        massa_flagIdadeForaPolitica,\n",
    "                                        massa_flagAtrasoPicpayOriginal,\n",
    "                                        massa_flagFNVReneg,\n",
    "                                        massa_flagRestritivoBVS,\n",
    "                                        massa_flagRestricaoSerasa,\n",
    "                                        massa_flagDesenrola,\n",
    "                                        massa_nohitbureau,\n",
    "                                        massa_TestePriorizacao_1,\n",
    "                                        massa_TestePriorizacao_2,\n",
    "                                        massa_TestePriorizacao_3,\n",
    "                                        massa_TestePriorizacaoMistos\n",
    "])\n",
    "                        \n",
    "\n",
    "massa_final_HardFilters.set_bom_arqv()\n",
    "massa_final_HardFilters.converte_massa()"
   ]
  },
  {
   "cell_type": "markdown",
   "metadata": {
    "application/vnd.databricks.v1+cell": {
     "cellMetadata": {
      "byteLimit": 2048000,
      "rowLimit": 10000
     },
     "inputWidgets": {},
     "nuid": "eb740731-8c51-4001-b344-5b6c3a5fa1c8",
     "showTitle": false,
     "title": ""
    }
   },
   "source": [
    "### Execução Modular e Geração de CSV"
   ]
  },
  {
   "cell_type": "code",
   "execution_count": null,
   "metadata": {
    "application/vnd.databricks.v1+cell": {
     "cellMetadata": {
      "byteLimit": 2048000,
      "rowLimit": 10000
     },
     "inputWidgets": {},
     "nuid": "c329dc19-e497-47f5-830a-6863a4bb2de5",
     "showTitle": false,
     "title": ""
    }
   },
   "outputs": [],
   "source": [
    "listaResultado = rp.execucaoModular(massa_final_HardFilters.get_massa_json(),rp.HardFilters)"
   ]
  },
  {
   "cell_type": "markdown",
   "metadata": {
    "application/vnd.databricks.v1+cell": {
     "cellMetadata": {
      "byteLimit": 2048000,
      "rowLimit": 10000
     },
     "inputWidgets": {},
     "nuid": "5aa4635b-4248-4682-aad9-5c7446ffa037",
     "showTitle": false,
     "title": ""
    }
   },
   "source": [
    "#### Valida se todos casos estão cobertos na massa"
   ]
  },
  {
   "cell_type": "code",
   "execution_count": null,
   "metadata": {
    "application/vnd.databricks.v1+cell": {
     "cellMetadata": {
      "byteLimit": 2048000,
      "rowLimit": 10000
     },
     "inputWidgets": {},
     "nuid": "9fb9e6b3-a641-4c8f-8220-456f68dd50d3",
     "showTitle": false,
     "title": ""
    }
   },
   "outputs": [],
   "source": [
    "results = []\n",
    "for caso in listaResultado:\n",
    "    results.append(caso['payloadHomol']['saidas']['statusDecisao'])\n",
    "    \n",
    "freqzinha = pd.DataFrame(results, columns=['valor'])\n",
    "freqzinha['Freq'] = freqzinha['valor'].map(freqzinha['valor'].value_counts())\n",
    "freqzinha = freqzinha.drop_duplicates().reset_index(drop=True)\n",
    "freqzinha"
   ]
  },
  {
   "cell_type": "code",
   "execution_count": null,
   "metadata": {
    "application/vnd.databricks.v1+cell": {
     "cellMetadata": {
      "byteLimit": 2048000,
      "rowLimit": 10000
     },
     "inputWidgets": {},
     "nuid": "df241513-2bec-4c51-922e-b5347e0bf6fc",
     "showTitle": false,
     "title": ""
    }
   },
   "outputs": [],
   "source": [
    "results = []\n",
    "for caso in listaResultado:\n",
    "    results.append(caso['payloadHomol']['saidas']['mensagemFinal'])\n",
    "    \n",
    "freqzinha = pd.DataFrame(results, columns=['valor'])\n",
    "freqzinha['Freq'] = freqzinha['valor'].map(freqzinha['valor'].value_counts())\n",
    "freqzinha = freqzinha.drop_duplicates().reset_index(drop=True)\n",
    "freqzinha"
   ]
  },
  {
   "cell_type": "code",
   "execution_count": null,
   "metadata": {
    "application/vnd.databricks.v1+cell": {
     "cellMetadata": {
      "byteLimit": 2048000,
      "rowLimit": 10000
     },
     "inputWidgets": {},
     "nuid": "fa3ccefe-7bb2-48bf-b0ca-87c37fc4ba83",
     "showTitle": false,
     "title": ""
    }
   },
   "outputs": [],
   "source": [
    "results = []\n",
    "for caso in listaResultado:\n",
    "    results.append(caso['payloadHomol']['saidas']['mensagemFiltro'])\n",
    "    \n",
    "freqzinha = pd.DataFrame(results, columns=['valor'])\n",
    "freqzinha['Freq'] = freqzinha['valor'].map(freqzinha['valor'].value_counts())\n",
    "freqzinha = freqzinha.drop_duplicates().reset_index(drop=True)\n",
    "freqzinha"
   ]
  },
  {
   "cell_type": "code",
   "execution_count": null,
   "metadata": {
    "application/vnd.databricks.v1+cell": {
     "cellMetadata": {
      "byteLimit": 2048000,
      "rowLimit": 10000
     },
     "inputWidgets": {},
     "nuid": "f3190464-337f-40fe-9baa-e9eeabe17e63",
     "showTitle": false,
     "title": ""
    }
   },
   "outputs": [],
   "source": [
    "# CENARIOS QUANDO ETAPA FOR \"\" ( PRIMEIRA CHAMADA DE HARD FILTER )\n",
    "results = []\n",
    "for caso in listaResultado:\n",
    "    if caso['etapa'] == \"\":\n",
    "        results.append(caso['payloadHomol']['intermediarias']['passouFlagHardFilter'])\n",
    "    \n",
    "freqzinha = pd.DataFrame(results, columns=['valor'])\n",
    "freqzinha = freqzinha.sort_values('valor', ascending=True) # Order valor column ascendant\n",
    "freqzinha['Freq'] = freqzinha['valor'].map(freqzinha['valor'].value_counts())\n",
    "freqzinha = freqzinha.drop_duplicates().reset_index(drop=True)\n",
    "freqzinha"
   ]
  },
  {
   "cell_type": "code",
   "execution_count": null,
   "metadata": {
    "application/vnd.databricks.v1+cell": {
     "cellMetadata": {
      "byteLimit": 2048000,
      "rowLimit": 10000
     },
     "inputWidgets": {},
     "nuid": "c3894715-11f8-42a5-8b48-e9f0755252c9",
     "showTitle": false,
     "title": ""
    }
   },
   "outputs": [],
   "source": [
    "# CENARIOS QUANDO ETAPA NÃO FOR \"\" ( SEGUNDA CHAMADA DE HARD FILTER )\n",
    "results = []\n",
    "for caso in listaResultado:\n",
    "    if caso['etapa'] != \"\":\n",
    "        results.append(caso['payloadHomol']['intermediarias']['passouFlagHardFilter'])\n",
    "    \n",
    "freqzinha = pd.DataFrame(results, columns=['valor'])\n",
    "freqzinha = freqzinha.sort_values('valor', ascending=True) # Order valor column ascendant\n",
    "freqzinha['Freq'] = freqzinha['valor'].map(freqzinha['valor'].value_counts())\n",
    "freqzinha = freqzinha.drop_duplicates().reset_index(drop=True)\n",
    "freqzinha"
   ]
  },
  {
   "cell_type": "markdown",
   "metadata": {
    "application/vnd.databricks.v1+cell": {
     "cellMetadata": {
      "byteLimit": 2048000,
      "rowLimit": 10000
     },
     "inputWidgets": {},
     "nuid": "ef7536a0-5fb8-4026-84cc-4d73e2f4a4d6",
     "showTitle": false,
     "title": ""
    }
   },
   "source": [
    "### Prepara arquivo final"
   ]
  },
  {
   "cell_type": "code",
   "execution_count": null,
   "metadata": {
    "application/vnd.databricks.v1+cell": {
     "cellMetadata": {
      "byteLimit": 2048000,
      "rowLimit": 10000
     },
     "inputWidgets": {},
     "nuid": "2078b0b0-6495-4f94-98d6-a217b919260e",
     "showTitle": false,
     "title": ""
    }
   },
   "outputs": [],
   "source": [
    "# Renomeação das colunas para o cabeçalho do RMA\n",
    "massa_final_HardFilters.rename_cabecalho()"
   ]
  },
  {
   "cell_type": "code",
   "execution_count": null,
   "metadata": {
    "application/vnd.databricks.v1+cell": {
     "cellMetadata": {
      "byteLimit": 2048000,
      "rowLimit": 10000
     },
     "inputWidgets": {},
     "nuid": "70c8cc47-b4fa-4b18-9081-7194de90794e",
     "showTitle": false,
     "title": ""
    }
   },
   "outputs": [],
   "source": [
    "#saidas\n",
    "massa_final_HardFilters.atribui_expected(listaResultado,\"payloadHomol.saidas.mensagemFiltro\",\"mensagemFiltro\")\n",
    "massa_final_HardFilters.atribui_expected(listaResultado,\"payloadHomol.saidas.mensagemFinal\",\"mensagemFiltroFinal\")\n",
    "massa_final_HardFilters.atribui_expected(listaResultado,\"payloadHomol.saidas.statusDecisao\",\"statusDecisao\")\n",
    "\n",
    "#flags\n",
    "massa_final_HardFilters.atribui_expected(listaResultado,\"payloadHomol.saidas.hasInvalidRegistration\",\"hasInvalidRegistration\")\n",
    "massa_final_HardFilters.atribui_expected(listaResultado,\"payloadHomol.saidas.hasDeniedOngoingRegistration\",\"hasDeniedOngoingRegistration\")\n",
    "massa_final_HardFilters.atribui_expected(listaResultado,\"payloadHomol.saidas.hasDeactivatedOrTestAccount\",\"hasDeactivatedOrTestAccount\")\n",
    "massa_final_HardFilters.atribui_expected(listaResultado,\"payloadHomol.saidas.hasOutdatedOs\",\"hasOutdatedOs\")\n",
    "massa_final_HardFilters.atribui_expected(listaResultado,\"payloadHomol.saidas.isInvalidCpf\",\"isInvalidCpf\")\n",
    "massa_final_HardFilters.atribui_expected(listaResultado,\"payloadHomol.saidas.isDeadUser\",\"isDeadUser\")\n",
    "massa_final_HardFilters.atribui_expected(listaResultado,\"payloadHomol.saidas.isFraudPP\",\"isFraudPp\")\n",
    "massa_final_HardFilters.atribui_expected(listaResultado,\"payloadHomol.saidas.isChargebackPP\",\"isChargebackPp\")\n",
    "massa_final_HardFilters.atribui_expected(listaResultado,\"payloadHomol.saidas.isOutAgeRange\",\"isOutAgeRange\")\n",
    "massa_final_HardFilters.atribui_expected(listaResultado,\"payloadHomol.saidas.isDelayPP\",\"isDelayPp\")\n",
    "massa_final_HardFilters.atribui_expected(listaResultado,\"payloadHomol.saidas.isDelayOr\",\"isDelayOr\")\n",
    "massa_final_HardFilters.atribui_expected(listaResultado,\"payloadHomol.saidas.isRenegFNV\",\"isRenegFnv\")\n",
    "massa_final_HardFilters.atribui_expected(listaResultado,\"payloadHomol.saidas.hasRestrictionBVS\",\"hasRestrictionBvs\")\n",
    "massa_final_HardFilters.atribui_expected(listaResultado,\"payloadHomol.saidas.hasRestrictionSerasa\",\"hasRestrictionSerasa\")\n",
    "massa_final_HardFilters.atribui_expected(listaResultado,\"payloadHomol.saidas.isUserDesenrola\",\"isUserDesenrola\")\n",
    "massa_final_HardFilters.atribui_expected(listaResultado,\"payloadHomol.saidas.isNoHitBureau\",\"isNoHitBureaus\")\n",
    "\n",
    "massa_final_HardFilters.get_massa_dm()"
   ]
  },
  {
   "cell_type": "markdown",
   "metadata": {
    "application/vnd.databricks.v1+cell": {
     "cellMetadata": {
      "byteLimit": 2048000,
      "rowLimit": 10000
     },
     "inputWidgets": {},
     "nuid": "12a6211e-1068-4b86-9a7b-64b0e7d36065",
     "showTitle": false,
     "title": ""
    }
   },
   "source": [
    "### Conversão da massa para CSV"
   ]
  },
  {
   "cell_type": "code",
   "execution_count": null,
   "metadata": {
    "application/vnd.databricks.v1+cell": {
     "cellMetadata": {
      "byteLimit": 2048000,
      "rowLimit": 10000
     },
     "inputWidgets": {},
     "nuid": "5cd78e58-1843-46b5-86b6-608b7bb094f7",
     "showTitle": false,
     "title": ""
    }
   },
   "outputs": [],
   "source": [
    "massa_final_HardFilters.get_massa_dm().to_csv('C:/Users/T51657/Desktop/Homologação/Modelos Online/v2/massas/Modulares/massaHardFilters.csv',index=False)"
   ]
  }
 ],
 "metadata": {
  "application/vnd.databricks.v1+notebook": {
   "dashboards": [],
   "language": "python",
   "notebookMetadata": {
    "pythonIndentUnit": 4
   },
   "notebookName": "homol_modular_HardFilters",
   "widgets": {}
  },
  "kernelspec": {
   "display_name": "Python 3",
   "language": "python",
   "name": "python3"
  },
  "language_info": {
   "codemirror_mode": {
    "name": "ipython",
    "version": 3
   },
   "file_extension": ".py",
   "mimetype": "text/x-python",
   "name": "python",
   "nbconvert_exporter": "python",
   "pygments_lexer": "ipython3",
   "version": "3.12.0"
  }
 },
 "nbformat": 4,
 "nbformat_minor": 0
}
