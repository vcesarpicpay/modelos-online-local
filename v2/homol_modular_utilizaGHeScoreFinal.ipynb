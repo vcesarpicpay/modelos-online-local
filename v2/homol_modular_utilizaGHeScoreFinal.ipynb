{
 "cells": [
  {
   "cell_type": "code",
   "execution_count": 1,
   "metadata": {
    "application/vnd.databricks.v1+cell": {
     "cellMetadata": {
      "byteLimit": 2048000,
      "rowLimit": 10000
     },
     "inputWidgets": {},
     "nuid": "6b01e65b-20e0-41f4-9132-0cd228cd517e",
     "showTitle": false,
     "title": ""
    }
   },
   "outputs": [],
   "source": [
    "# Restarta python caso necessário.\n",
    "# from databricks.sdk.runtime import *\n",
    "# dbutils.library.restartPython()"
   ]
  },
  {
   "cell_type": "markdown",
   "metadata": {
    "application/vnd.databricks.v1+cell": {
     "cellMetadata": {
      "byteLimit": 2048000,
      "rowLimit": 10000
     },
     "inputWidgets": {},
     "nuid": "b3b97d92-0875-4e4c-955e-6a4fd7e0382d",
     "showTitle": false,
     "title": ""
    }
   },
   "source": [
    "# Import de Funções e Libs"
   ]
  },
  {
   "cell_type": "markdown",
   "metadata": {
    "application/vnd.databricks.v1+cell": {
     "cellMetadata": {
      "byteLimit": 2048000,
      "rowLimit": 10000
     },
     "inputWidgets": {},
     "nuid": "405da4ba-d5f5-455b-a186-c9d95020d656",
     "showTitle": false,
     "title": ""
    }
   },
   "source": [
    "As bibliotecas e funções utilizadas ao longo do código devem ser adicionadas aqui"
   ]
  },
  {
   "cell_type": "code",
   "execution_count": 2,
   "metadata": {
    "application/vnd.databricks.v1+cell": {
     "cellMetadata": {
      "byteLimit": 2048000,
      "rowLimit": 10000
     },
     "inputWidgets": {},
     "nuid": "35818e65-0b3a-4169-95bd-6cd1200b6873",
     "showTitle": false,
     "title": ""
    }
   },
   "outputs": [],
   "source": [
    "import numpy as np\n",
    "import pandas as pd\n",
    "import requests\n",
    "import json\n",
    "import sherlock\n",
    "import regras_politica as rp\n",
    "\n",
    "\n",
    "pd.set_option(\"display.max_columns\", None)"
   ]
  },
  {
   "cell_type": "markdown",
   "metadata": {
    "application/vnd.databricks.v1+cell": {
     "cellMetadata": {
      "byteLimit": 2048000,
      "rowLimit": 10000
     },
     "inputWidgets": {},
     "nuid": "3b7b68fb-aa65-4c07-9239-80ff0bcf60b8",
     "showTitle": false,
     "title": ""
    }
   },
   "source": [
    "### Testes Modulares - Referente ao tópico 3 - Sem info Score\n"
   ]
  },
  {
   "cell_type": "markdown",
   "metadata": {
    "application/vnd.databricks.v1+cell": {
     "cellMetadata": {
      "byteLimit": 2048000,
      "rowLimit": 10000
     },
     "inputWidgets": {},
     "nuid": "53c9e1f4-296e-473a-ae84-1d12f5c9a473",
     "showTitle": false,
     "title": ""
    }
   },
   "source": [
    "### Geração de Massa"
   ]
  },
  {
   "cell_type": "code",
   "execution_count": 3,
   "metadata": {
    "application/vnd.databricks.v1+cell": {
     "cellMetadata": {
      "byteLimit": 2048000,
      "rowLimit": 10000
     },
     "inputWidgets": {},
     "nuid": "3ad16f05-f504-4bef-8a27-b4759d823845",
     "showTitle": false,
     "title": ""
    }
   },
   "outputs": [],
   "source": [
    "#Gerando a massa modelo passando o caminho do JSON como nome da variável\n",
    "base_entrada = pd.DataFrame({\n",
    "                             'solicitante.numeroDocumento':['123456789'],\n",
    "                             'solicitante.dataAdmissaoFopag':[\"2002-11-05T17:18:43.888Z\"],\n",
    "                             'solicitante.dataRegistroPrimeiroContrato':[\"2002-11-05T17:18:43.888Z\"],\n",
    "                             'solicitante.dataRegistro':[\"2002-11-05T17:18:43.888Z\"],\n",
    "                             'solicitante.flagMAT30d':[0],\n",
    "                             'solicitante.flagMAT35d':[0],\n",
    "                             'solicitante.flagMAT60d':[0],\n",
    "                             'solicitante.flagMAT90d':[0],\n",
    "                             'solicitante.fonteRenda':['XYZ'],\n",
    "                             'solicitante.flagPortabilidade':[0],\n",
    "                             'solicitante.rendaLiquidaPicpay':[10000],\n",
    "                             'solicitante.consumerID':[12345678987654321],\n",
    "                             'solicitante.investimentoTotal':[0],\n",
    "                             'solicitante.flagInvestimentoPrincipalidade':[0],\n",
    "                             'solicitante.flagPrincipalidadeAll':[0],\n",
    "                             'solicitante.flagPrincipalidade':[0],\n",
    "                             'solicitante.mesFlagPrincipalidade':[0],\n",
    "                             'solicitante.flagAllowlist':[\"-99999\"],\n",
    "                             'solicitante.flagBlocklist':[\"-99999\"],\n",
    "                             'solicitante.flagCartaoCreditoContratado':[0],\n",
    "                             'solicitante.flagLimiteGarantidoContratado':[0],\n",
    "                             \n",
    "            \n",
    "                             'solicitante.ghAppcardsBlendInternoOnline':[\"B\"],\n",
    "                             'solicitante.scoreAppcardsBlendInternoOnline':[650],\n",
    "                             'solicitante.ghAppcardsBlendExternoOnline':[\"C\"],\n",
    "                             'solicitante.scoreAppcardsBlendExternoOnline':[650],\n",
    "                             'solicitante.ghBlendIntExt':[\"E\"],\n",
    "                             'solicitante.scoreBlendIntExt':[500],\n",
    "                             'solicitante.ghSerasa':[\"F\"],\n",
    "                             'solicitante.scoreSerasaAl':[450],\n",
    "                             \n",
    "                        \n",
    "                             'solicitante.blendFinalAl':[450],\n",
    "                             'solicitante.ghFinalScr':[\"G\"],\n",
    "                             'solicitante.origemBlend':[\"Interno + Serasa\"],\n",
    "                             \n",
    "    \n",
    "                            #  'payloadHomol.intermediarias.flagClienteExistente':[0],\n",
    "                            #  'payloadHomol.intermediarias.flagNaoCliente':[0],\n",
    "                            #  'payloadHomol.intermediarias.flagClienteNovo':[0]\n",
    "    \n",
    "                            })"
   ]
  },
  {
   "cell_type": "code",
   "execution_count": 4,
   "metadata": {
    "application/vnd.databricks.v1+cell": {
     "cellMetadata": {
      "byteLimit": 2048000,
      "rowLimit": 10000
     },
     "inputWidgets": {},
     "nuid": "17fabf92-6aa2-4318-9a02-88c781717310",
     "showTitle": false,
     "title": ""
    }
   },
   "outputs": [
    {
     "name": "stdout",
     "output_type": "stream",
     "text": [
      "--------------------------------------\n",
      "Quantidade de Linhas da Massa: 19\n",
      "--------------------------------------\n",
      "Payload setado com sucesso\n",
      "--------------------------------------\n",
      "Conversao concluida com sucesso\n"
     ]
    }
   ],
   "source": [
    "#Criação das massas com casos forçados\n",
    "\n",
    "\n",
    "# Criacao Modelos de Priorização - TESTADO EM ARQUIVO MODULAR A PARTE \n",
    "\n",
    "#TESTE CLIENTENOVO E NAOCLIENTE\n",
    "# massa_testaClientes = sherlock.Gera_Massa(base_entrada)\n",
    "# massa_testaClientes.gera_cenario('solicitante.dataRegistro',[\"2024-01-20T13:27:50.863021Z\",\n",
    "#                                                                 \"2024-01-19T13:27:50.863021Z\",\n",
    "#                                                                 \"2024-01-18T13:27:50.863021Z\",\n",
    "#                                                                 \"1001-01-01\"])\n",
    "# massa_testaClientes.gera_cenario('solicitante.consumerID',[-99999,12345678987654321,999999999987654321])\n",
    "# massa_testaClientes = massa_testaClientes.get_massa_final()\n",
    "\n",
    "# TESTE SEM INFO SCORE \n",
    "massa_semInfoScore = sherlock.Gera_Massa(base_entrada)\n",
    "massa_semInfoScore.gera_cenario('solicitante.ghAppcardsBlendInternoOnline',[\"B\"])\n",
    "massa_semInfoScore.gera_cenario('solicitante.scoreAppcardsBlendInternoOnline',[-99999])\n",
    "massa_semInfoScore.gera_cenario('solicitante.ghAppcardsBlendExternoOnline',['-99999'])\n",
    "massa_semInfoScore.gera_cenario('solicitante.scoreAppcardsBlendExternoOnline',[-99999])\n",
    "massa_semInfoScore.gera_cenario('solicitante.ghBlendIntExt',['E'])\n",
    "massa_semInfoScore.gera_cenario('solicitante.scoreBlendIntExt',[100])\n",
    "massa_semInfoScore.gera_cenario('solicitante.ghSerasa',['F'])\n",
    "massa_semInfoScore.gera_cenario('solicitante.scoreSerasaAl',[1000])\n",
    "massa_semInfoScore.gera_cenario('solicitante.blendFinalAl',[-500,0,100])   # TESTANDO SEM INFO SCORE COM 3 SCORES DIFERENTES\n",
    "massa_semInfoScore.gera_cenario('solicitante.ghFinalScr',[\"B\"])\n",
    "massa_semInfoScore.gera_cenario('solicitante.origemBlend',[\"04.SERASA\"])\n",
    "# massa_semInfoScore.gera_cenario('payloadHomol.intermediarias.flagClienteExistente',[1,0])\n",
    "# massa_semInfoScore.gera_cenario('payloadHomol.intermediarias.flagNaoCliente',[1,0])\n",
    "# massa_semInfoScore.gera_cenario('payloadHomol.intermediarias.flagClienteNovo',[1,0])\n",
    "massa_semInfoScore = massa_semInfoScore.get_massa_final()\n",
    "\n",
    "\n",
    "# TESTE FAIXA SCORE INTERNO CURTO E FAIXA SCORE EXTERNO\n",
    "\n",
    "massa_FaixasScore = sherlock.Gera_Massa(base_entrada)\n",
    "massa_FaixasScore.gera_cenario('solicitante.ghAppcardsBlendInternoOnline',[\"B\"])\n",
    "massa_FaixasScore.gera_cenario('solicitante.scoreAppcardsBlendInternoOnline',[-99999])\n",
    "massa_FaixasScore.gera_cenario('solicitante.ghAppcardsBlendExternoOnline',['-99999'])\n",
    "massa_FaixasScore.gera_cenario('solicitante.scoreAppcardsBlendExternoOnline',[-99999])\n",
    "massa_FaixasScore.gera_cenario('solicitante.ghBlendIntExt',['E'])\n",
    "massa_FaixasScore.gera_cenario('solicitante.scoreBlendIntExt',[100])\n",
    "massa_FaixasScore.gera_cenario('solicitante.ghSerasa',['F'])\n",
    "massa_FaixasScore.gera_cenario('solicitante.scoreSerasaAl',[1000])\n",
    "massa_FaixasScore.gera_cenario('solicitante.blendFinalAl',[100])\n",
    "massa_FaixasScore.gera_cenario('solicitante.ghFinalScr',[\"K\",\"I\",\"J\",\"H\",\"G\",\"F\",\"E\",\"D\",\"C\",\"B\",\"A\",\"AA\",\"LL\",\"missing\",\"0\"])\n",
    "massa_FaixasScore.gera_cenario('solicitante.origemBlend',[\"04.SERASA\"])\n",
    "massa_FaixasScore = massa_FaixasScore.get_massa_final()\n",
    "\n",
    "\n",
    "massa_utilizaGHeScoreFinal = sherlock.Gera_Massa(base_entrada)\n",
    "massa_utilizaGHeScoreFinal.empilha_massas([massa_semInfoScore,massa_FaixasScore])\n",
    "# massa_semInfoScore.gera_cenario('payloadHomol.saidas.scoreFinal',[-500,-1,0,1000])\n",
    "\n",
    "\n",
    "\n",
    "\n",
    "\n",
    "\n",
    "#Sem Informação de Score - 59, 60 e 61 dias de dif, aqui precisamos atualizar a data no momento de gerar a massa.\n",
    "# massa_semInfoScore = sherlock.Gera_Massa(base_entrada)\n",
    "# massa_semInfoScore.gera_cenario('solicitante.consumerID',[-99999,12345678987654321])\n",
    "# massa_semInfoScore.gera_cenario('solicitante.ghAppcardsBlendInternoOnline',['B','missing','C','0',-99999])\n",
    "# massa_semInfoScore.gera_cenario('solicitante.scoreAppcardsBlendInternoOnline',['650',-1,0,-10,-99999])\n",
    "# massa_semInfoScore.gera_cenario('solicitante.ghAppcardsBlendExternoOnline',['D','missing','C','0',-99999])\n",
    "# massa_semInfoScore.gera_cenario('solicitante.scoreAppcardsBlendExternoOnline',[500,-1,0,-10,-99999])\n",
    "# massa_semInfoScore.gera_cenario('solicitante.ghBlendIntExt',['E','missing','C','0'])\n",
    "# massa_semInfoScore.gera_cenario('solicitante.scoreBlendIntExt',[100,0,-1])\n",
    "# massa_semInfoScore.gera_cenario('solicitante.ghSerasa',['F','missing','C','0'])\n",
    "# massa_semInfoScore.gera_cenario('solicitante.scoreSerasaAl',[1000,0,-1,-99999])\n",
    "\n",
    "# massa_semInfoScore.gera_cenario('solicitante.blendFinalAl',[1000,0,-1,-99999])\n",
    "# massa_semInfoScore.gera_cenario('solicitante.ghFinalScr',[\"B\",\"missing\",\"C\",\"0\"])\n",
    "# massa_semInfoScore.gera_cenario('solicitante.origemBlend',[\"04.SERASA\",\"missing\"])\n",
    "# massa_semInfoScore.gera_cenario('solicitante.dataRegistro',[\"2023-12-27T10:10:00.888Z\",\n",
    "#                                                           \"2023-12-28T10:10:00.888Z\",\n",
    "#                                                           \"2023-12-29T10:10:00.888Z\",\n",
    "#                                                           \"1001-01-01\"])\n",
    "# massa_semInfoScore = massa_semInfoScore.get_massa_final()\n",
    "\n",
    "\n",
    "\n",
    "\n",
    "massa_utilizaGHeScoreFinal.set_bom_arqv()\n",
    "massa_utilizaGHeScoreFinal.converte_massa()"
   ]
  },
  {
   "cell_type": "markdown",
   "metadata": {
    "application/vnd.databricks.v1+cell": {
     "cellMetadata": {
      "byteLimit": 2048000,
      "rowLimit": 10000
     },
     "inputWidgets": {},
     "nuid": "eb740731-8c51-4001-b344-5b6c3a5fa1c8",
     "showTitle": false,
     "title": ""
    }
   },
   "source": [
    "### Execução Modular e Geração de CSV"
   ]
  },
  {
   "cell_type": "code",
   "execution_count": 5,
   "metadata": {
    "application/vnd.databricks.v1+cell": {
     "cellMetadata": {
      "byteLimit": 2048000,
      "rowLimit": 10000
     },
     "inputWidgets": {},
     "nuid": "c329dc19-e497-47f5-830a-6863a4bb2de5",
     "showTitle": false,
     "title": ""
    }
   },
   "outputs": [],
   "source": [
    "listaResultado = rp.execucaoModular(massa_utilizaGHeScoreFinal.get_massa_json(),rp.criaPriorizaçãoeFaixas)"
   ]
  },
  {
   "cell_type": "code",
   "execution_count": 6,
   "metadata": {
    "application/vnd.databricks.v1+cell": {
     "cellMetadata": {
      "byteLimit": 2048000,
      "rowLimit": 10000
     },
     "inputWidgets": {},
     "nuid": "2078b0b0-6495-4f94-98d6-a217b919260e",
     "showTitle": false,
     "title": ""
    }
   },
   "outputs": [],
   "source": [
    "# Renomeação das colunas para o cabeçalho do RMA\n",
    "massa_utilizaGHeScoreFinal.rename_cabecalho()"
   ]
  },
  {
   "cell_type": "code",
   "execution_count": 7,
   "metadata": {
    "application/vnd.databricks.v1+cell": {
     "cellMetadata": {
      "byteLimit": 2048000,
      "rowLimit": 10000
     },
     "inputWidgets": {},
     "nuid": "70c8cc47-b4fa-4b18-9081-7194de90794e",
     "showTitle": false,
     "title": ""
    }
   },
   "outputs": [
    {
     "name": "stdout",
     "output_type": "stream",
     "text": [
      "tam: 0\n"
     ]
    }
   ],
   "source": [
    "#Contagem da qtd de regras negativas em que o cliente se enquadrou\n",
    "tam = 0\n",
    "a = 0\n",
    "\n",
    "for x in listaResultado:\n",
    "    # print(a)\n",
    "    t = len(x['payloadHomol']['saidas']['regrasNegativas'])\n",
    "    x['payloadHomol']['saidas']['qtdNegativas'] = t\n",
    "    if t > tam:\n",
    "        tam = t\n",
    "    a +=1\n",
    "\n",
    "print(\"tam: \"+str(tam))\n",
    "\n",
    "for y in range (0,tam):\n",
    "    massa_utilizaGHeScoreFinal.atribui_expected(listaResultado,\"payloadHomol.saidas.regrasNegativas.\"+str(y)+\".nomeRegra\",\"regrasNegativas#\"+str(y+1)+\".nomeRegra\")\n",
    "    massa_utilizaGHeScoreFinal.atribui_expected(listaResultado,\"payloadHomol.saidas.regrasNegativas.\"+str(y)+\".descricao\",\"regrasNegativas#\"+str(y+1)+\".descRegra\")\n",
    "    \n",
    "    # massa_semInfoScore.atribui_expected(listaResultado,\"payloadHomol.saidas.listaLogs.\"+str(y)+\".nome\",\"listaLogs#\"+str(y+1)+\".nome\")\n",
    "    # massa_semInfoScore.atribui_expected(listaResultado,\"payloadHomol.saidas.listaLogs.\"+str(y)+\".valor\",\"listaLogs#\"+str(y+1)+\".valor\")\n",
    "\n",
    "\n",
    "#saidas\n",
    "massa_utilizaGHeScoreFinal.atribui_expected(listaResultado,'payloadHomol.intermediarias.flagClienteNovo','clienteNovo')\n",
    "massa_utilizaGHeScoreFinal.atribui_expected(listaResultado,'payloadHomol.intermediarias.flagNaoCliente' ,'naoCliente')\n",
    "massa_utilizaGHeScoreFinal.atribui_expected(listaResultado,'payloadHomol.intermediarias.semInfoScore','scoreInexistente')\n",
    "massa_utilizaGHeScoreFinal.atribui_expected(listaResultado,'payloadHomol.intermediarias.faixaScoreAppcardBlend','faixaScoreAppcardBlend')\n",
    "massa_utilizaGHeScoreFinal.atribui_expected(listaResultado,'payloadHomol.intermediarias.faixaScoreExterno','faixaScoreExterno')\n",
    "massa_utilizaGHeScoreFinal.atribui_expected(listaResultado,'payloadHomol.saidas.scoreFinal','scoreFinal')\n",
    "massa_utilizaGHeScoreFinal.atribui_expected(listaResultado,'payloadHomol.saidas.ghFinal','ghFinal')\n",
    "# massa_semInfoScore.atribui_expected(listaResultado,'payloadHomol.saidas.origemModeloApplication','origemModeloApplication')\n",
    "\n",
    "\n",
    "\n",
    "massa_utilizaGHeScoreFinal.get_massa_dm()\n",
    "\n",
    "\n",
    "massa_utilizaGHeScoreFinal.rename_variavel('numeroDocumento',\"payloadParam.solicitante.numeroDocumento\")\n",
    "massa_utilizaGHeScoreFinal.rename_variavel('dataAdmissaoFopag',\"payloadParam.solicitante.dataAdmissaoFopag\")\n",
    "massa_utilizaGHeScoreFinal.rename_variavel('dataRegistroPrimeiroContrato',\"payloadParam.solicitante.dataRegistroPrimeiroContrato\")\n",
    "massa_utilizaGHeScoreFinal.rename_variavel('dataRegistro',\"payloadParam.solicitante.dataRegistro\")\n",
    "massa_utilizaGHeScoreFinal.rename_variavel('flagMAT30d',\"payloadParam.solicitante.flagMAT30d\")\n",
    "massa_utilizaGHeScoreFinal.rename_variavel('flagMAT35d',\"payloadParam.solicitante.flagMAT35d\")\n",
    "massa_utilizaGHeScoreFinal.rename_variavel('flagMAT60d',\"payloadParam.solicitante.flagMAT60d\")\n",
    "massa_utilizaGHeScoreFinal.rename_variavel('flagMAT90d',\"payloadParam.solicitante.flagMAT90d\")\n",
    "massa_utilizaGHeScoreFinal.rename_variavel('fonteRenda',\"payloadParam.solicitante.fonteRenda\")\n",
    "massa_utilizaGHeScoreFinal.rename_variavel('flagPortabilidade',\"payloadParam.solicitante.flagPortabilidade\")\n",
    "massa_utilizaGHeScoreFinal.rename_variavel('rendaLiquidaPicpay',\"payloadParam.solicitante.rendaLiquidaPicpay\")\n",
    "massa_utilizaGHeScoreFinal.rename_variavel('consumerID',\"payloadParam.solicitante.consumerID\")\n",
    "massa_utilizaGHeScoreFinal.rename_variavel('investimentoTotal',\"payloadParam.solicitante.investimentoTotal\")\n",
    "massa_utilizaGHeScoreFinal.rename_variavel('flagInvestimentoPrincipalidade',\"payloadParam.solicitante.flagInvestimentoPrincipalidade\")\n",
    "massa_utilizaGHeScoreFinal.rename_variavel('flagPrincipalidade',\"payloadParam.solicitante.flagPrincipalidade\")\n",
    "massa_utilizaGHeScoreFinal.rename_variavel('mesFlagPrincipalidade',\"payloadParam.solicitante.mesFlagPrincipalidade\")\n",
    "massa_utilizaGHeScoreFinal.rename_variavel('flagAllowlist',\"payloadParam.solicitante.flagAllowlist\")\n",
    "massa_utilizaGHeScoreFinal.rename_variavel('flagBlocklist',\"payloadParam.solicitante.flagBlocklist\")\n",
    "massa_utilizaGHeScoreFinal.rename_variavel('flagCartaoCreditoContratado',\"payloadParam.solicitante.flagCartaoCreditoContratado\")\n",
    "massa_utilizaGHeScoreFinal.rename_variavel('flagLimiteGarantidoContratado',\"payloadParam.solicitante.flagLimiteGarantidoContratado\")\n",
    "massa_utilizaGHeScoreFinal.rename_variavel('ghAppcardsBlendInternoOnline',\"payloadParam.solicitante.ghAppcardsBlendInternoOnline\")\n",
    "massa_utilizaGHeScoreFinal.rename_variavel('scoreAppcardsBlendInternoOnline',\"payloadParam.solicitante.scoreAppcardsBlendInternoOnline\")\n",
    "massa_utilizaGHeScoreFinal.rename_variavel('ghAppcardsBlendExternoOnline',\"payloadParam.solicitante.ghAppcardsBlendExternoOnline\")\n",
    "massa_utilizaGHeScoreFinal.rename_variavel('scoreAppcardsBlendExternoOnline',\"payloadParam.solicitante.scoreAppcardsBlendExternoOnline\")\n",
    "massa_utilizaGHeScoreFinal.rename_variavel('ghBlendIntExt',\"payloadParam.solicitante.ghBlendIntExt\")\n",
    "massa_utilizaGHeScoreFinal.rename_variavel('scoreBlendIntExt',\"payloadParam.solicitante.scoreBlendIntExt\")\n",
    "massa_utilizaGHeScoreFinal.rename_variavel('ghSerasa',\"payloadParam.solicitante.ghSerasa\")\n",
    "massa_utilizaGHeScoreFinal.rename_variavel('scoreSerasaAl',\"payloadParam.solicitante.scoreSerasaAl\")\n",
    "massa_utilizaGHeScoreFinal.rename_variavel('blendFinalAl',\"payloadParam.solicitante.blendFinalAl\")\n",
    "massa_utilizaGHeScoreFinal.rename_variavel('ghFinalScr',\"payloadParam.solicitante.ghFinalScr\")\n",
    "massa_utilizaGHeScoreFinal.rename_variavel('origemBlend',\"payloadParam.solicitante.origemBlend\")\n"
   ]
  },
  {
   "cell_type": "markdown",
   "metadata": {
    "application/vnd.databricks.v1+cell": {
     "cellMetadata": {
      "byteLimit": 2048000,
      "rowLimit": 10000
     },
     "inputWidgets": {},
     "nuid": "12a6211e-1068-4b86-9a7b-64b0e7d36065",
     "showTitle": false,
     "title": ""
    }
   },
   "source": [
    "### Conversão da massa para CSV"
   ]
  },
  {
   "cell_type": "code",
   "execution_count": 8,
   "metadata": {
    "application/vnd.databricks.v1+cell": {
     "cellMetadata": {
      "byteLimit": 2048000,
      "rowLimit": 10000
     },
     "inputWidgets": {},
     "nuid": "5cd78e58-1843-46b5-86b6-608b7bb094f7",
     "showTitle": false,
     "title": ""
    }
   },
   "outputs": [],
   "source": [
    "massa_utilizaGHeScoreFinal.get_massa_dm().to_csv('C:/Users/T51657/Desktop/Homologação/Modelos Online/v2/massas/Modulares/massa_utilizaGHeScoreFinal-2.csv',index=False)"
   ]
  },
  {
   "cell_type": "markdown",
   "metadata": {},
   "source": [
    "### Quebra da massa em pedaços"
   ]
  },
  {
   "cell_type": "code",
   "execution_count": 9,
   "metadata": {},
   "outputs": [],
   "source": [
    "\n",
    "# dataframeGrande = massa_modelosPriorizacao.get_massa_dm()\n",
    "# # dataframeGrande\n",
    "\n",
    "# num_dataframes = 4\n",
    "\n",
    "# split_dataframes = np.array_split(dataframeGrande, num_dataframes)\n",
    "\n",
    "# for i, df in enumerate(split_dataframes):\n",
    "#     df.to_csv(f'Massas/Modulares/massaModelosPriorizacaoV2-part{i+1}.csv', index=False)"
   ]
  },
  {
   "cell_type": "markdown",
   "metadata": {
    "application/vnd.databricks.v1+cell": {
     "cellMetadata": {
      "byteLimit": 2048000,
      "rowLimit": 10000
     },
     "inputWidgets": {},
     "nuid": "373dd3ea-b60a-4fd0-ac48-2003faecab6b",
     "showTitle": false,
     "title": ""
    }
   },
   "source": [
    "#### Análises"
   ]
  },
  {
   "cell_type": "code",
   "execution_count": 10,
   "metadata": {
    "application/vnd.databricks.v1+cell": {
     "cellMetadata": {
      "byteLimit": 2048000,
      "rowLimit": 10000
     },
     "inputWidgets": {},
     "nuid": "89d3c6df-6c8a-4a11-9bdf-7f7eadcc0954",
     "showTitle": false,
     "title": ""
    }
   },
   "outputs": [
    {
     "name": "stdout",
     "output_type": "stream",
     "text": [
      "{\n",
      "    \"marcacaoMesa\": \"\",\n",
      "    \"etapa\": \"\",\n",
      "    \"flagErroBacen\": false,\n",
      "    \"flagErroSerasa\": false,\n",
      "    \"flagErroAurora\": false,\n",
      "    \"flagErroVisaoCliente\": false,\n",
      "    \"flagErroReceitaFederal\": false,\n",
      "    \"flagErroCredilink\": false,\n",
      "    \"limitePoliticaConcessao\": -1,\n",
      "    \"mensagemFiltro\": \"99. Accepted\",\n",
      "    \"mensagemFiltroPolitica\": \"99. Accepted\",\n",
      "    \"mensagemFiltroFinal\": \"99. Accepted\",\n",
      "    \"solicitante\": {\n",
      "        \"credilink\": {\n",
      "            \"situacaoDocumento\": \"REGULAR\",\n",
      "            \"obito\": \"NAO\"\n",
      "        },\n",
      "        \"limites\": {\n",
      "            \"limiteDisponivel\": 10000,\n",
      "            \"valorContratadoCartao\": 0\n",
      "        },\n",
      "        \"atrasos\": {\n",
      "            \"qtdDiasAtrasoCartao\": 0,\n",
      "            \"qtdDiasAtrasoParcelados\": 0,\n",
      "            \"qtdDiasAtrasoBNPLMova\": 0,\n",
      "            \"qtdDiasAtrasoP2PL\": 0\n",
      "        },\n",
      "        \"restritivosBVS\": {\n",
      "            \"vlrMaxRestritivosBVSM1\": 0,\n",
      "            \"vlrMaxRestritivosBVSM2\": 0,\n",
      "            \"vlrMaxRestritivosBVSM3\": 0\n",
      "        },\n",
      "        \"ghAppcardsBlendInternoOnline\": \"B\",\n",
      "        \"scoreAppcardsBlendInternoOnline\": 650,\n",
      "        \"ghAppcardsBlendExternoOnline\": \"C\",\n",
      "        \"scoreAppcardsBlendExternoOnline\": 650,\n",
      "        \"ghBlendIntExt\": \"E\",\n",
      "        \"scoreBlendIntExt\": 500,\n",
      "        \"ghSerasa\": \"F\",\n",
      "        \"scoreSerasaAl\": 450,\n",
      "        \"blendFinalAl\": 450,\n",
      "        \"ghFinalScr\": \"G\",\n",
      "        \"origemBlend\": \"Interno + Serasa\",\n",
      "        \"idade\": 30,\n",
      "        \"vlrMaxRestritivosSerasa90Dias\": 0,\n",
      "        \"indFNV\": false,\n",
      "        \"indReneg\": false,\n",
      "        \"maxDiasAtraso\": 0,\n",
      "        \"qtdIF\": 3,\n",
      "        \"numeroDocumento\": \"123456789\",\n",
      "        \"dataAdmissaoFopag\": \"2002-11-05T17:18:43.888Z\",\n",
      "        \"dataRegistroPrimeiroContrato\": \"2002-11-05T17:18:43.888Z\",\n",
      "        \"dataRegistro\": \"2002-11-05T17:18:43.888Z\",\n",
      "        \"saldoMinimo30d\": 0,\n",
      "        \"flagFuncionario\": 0,\n",
      "        \"flagMAT30d\": 0,\n",
      "        \"flagMAT35d\": 0,\n",
      "        \"flagMAT60d\": 0,\n",
      "        \"flagMAT90d\": 0,\n",
      "        \"fonteRenda\": \"XYZ\",\n",
      "        \"flagPortabilidade\": 0,\n",
      "        \"rendaLiquidaPicpay\": 10000,\n",
      "        \"rendaLiquidaPicpayBatch\": 10000,\n",
      "        \"consumerID\": 12345678987654321,\n",
      "        \"scoreAppSerasa\": 999,\n",
      "        \"scoreInternoLongo\": 999,\n",
      "        \"scoreInterno\": 999,\n",
      "        \"investimentoTotal\": 0,\n",
      "        \"saldoInvestimento\": 0,\n",
      "        \"flagInvestimentoPrincipalidade\": 0,\n",
      "        \"flagPrincipalidadeAll\": 0,\n",
      "        \"flagPrincipalidade\": 0,\n",
      "        \"mesFlagPrincipalidade\": 0,\n",
      "        \"flagAllowlist\": \"-99999\",\n",
      "        \"flagBlocklist\": \"-99999\",\n",
      "        \"scoreInternoCurto\": 959,\n",
      "        \"scoreExterno\": 959,\n",
      "        \"flagCartaoCreditoContratado\": 0,\n",
      "        \"flagLimiteGarantidoContratado\": 0,\n",
      "        \"saldoMedio\": 0,\n",
      "        \"flagCadastroIrregular\": 0,\n",
      "        \"flagCadastroNegado\": 0,\n",
      "        \"flagCadastroEmAndamento\": 0,\n",
      "        \"flagContaInativa\": 0,\n",
      "        \"flagContaTeste\": 0,\n",
      "        \"flagOSDefasado\": 0,\n",
      "        \"statusCPF\": 0,\n",
      "        \"flagFraudePicpay\": 0,\n",
      "        \"flagFraudeCartaoPicpay\": 0,\n",
      "        \"flagHoldForced\": 0,\n",
      "        \"flagChargebackPicpay\": 0,\n",
      "        \"flagReneg\": 0,\n",
      "        \"flagBloqueados\": 0,\n",
      "        \"flagDesenrola\": 0,\n",
      "        \"flagFNV\": 0,\n",
      "        \"flagCartaoDebitoContratado\": 0,\n",
      "        \"flagSmallLimits\": 0,\n",
      "        \"mensagemFiltro\": \"99. Accepted\",\n",
      "        \"flagCCRot\": 0,\n",
      "        \"mediaSaldoTotal\": 0,\n",
      "        \"listaRestritivosSerasa\": [\n",
      "            {\n",
      "                \"tipo\": \"N\",\n",
      "                \"montanteTotal\": 0,\n",
      "                \"valorTotal\": 0\n",
      "            }\n",
      "        ],\n",
      "        \"listaRestritivosBacen\": [\n",
      "            {\n",
      "                \"saldoVencido\": 0,\n",
      "                \"prejuizo\": 0,\n",
      "                \"creditoAVencerAdpos\": 0,\n",
      "                \"creditoFinanciadoCartoes\": 0,\n",
      "                \"creditoVencidoCartao\": 0,\n",
      "                \"creditoAVencerCartao\": 0,\n",
      "                \"limiteCartaoDisponivel\": 0,\n",
      "                \"limiteChequeDisponivel\": 0,\n",
      "                \"saldoBacenCheque\": 0,\n",
      "                \"renegociacaoBacen\": 0\n",
      "            }\n",
      "        ]\n",
      "    },\n",
      "    \"payloadHomol\": {\n",
      "        \"saidas\": {\n",
      "            \"mensagemFiltro\": \"99. Accepted\",\n",
      "            \"mensagemFinal\": \"99. Accepted\",\n",
      "            \"statusDecisao\": \"APROVADO\",\n",
      "            \"regrasNegativas\": [],\n",
      "            \"listaLogs\": [],\n",
      "            \"vlrLimiteAprovado\": 0,\n",
      "            \"ghFinal\": \"B\",\n",
      "            \"scoreFinal\": 650,\n",
      "            \"origemModeloApplication\": \"Interno + Serasa + SCR\",\n",
      "            \"qtdNegativas\": 0\n",
      "        },\n",
      "        \"intermediarias\": {\n",
      "            \"clienteBlindado\": 0,\n",
      "            \"clienteBloqueado\": 0,\n",
      "            \"MATRecorrente\": 0,\n",
      "            \"alavancagem\": 0,\n",
      "            \"limitePiso\": 0,\n",
      "            \"limiteTeto\": 0,\n",
      "            \"flagConcomitanteSLCP\": 0,\n",
      "            \"digitoCPFConcomitanteCP\": 99,\n",
      "            \"aprovadoBAUAux\": 0,\n",
      "            \"aprovadoSLAux\": 0,\n",
      "            \"admissaoMeses\": 0,\n",
      "            \"cpf6e7Digito\": 99,\n",
      "            \"faixaRendaBruta\": \"z. Verificar\",\n",
      "            \"faixaRendaLiquida\": \"z. Verificar\",\n",
      "            \"faixaRiscoInternoAgrupada\": \"R1\",\n",
      "            \"faixaScoreExterno\": \"R3\",\n",
      "            \"segmentacaoPolitica\": \"P1 - Funcionarios\",\n",
      "            \"principalidadeDeInvestimento\": 0,\n",
      "            \"faixaScoreAppcardBlend\": \"R3\",\n",
      "            \"principalidadeAll\": 0,\n",
      "            \"clienteFoPag\": 0,\n",
      "            \"segmentacaoNegocio\": \"xpto\",\n",
      "            \"recorrenciaPrincipalidade\": 0,\n",
      "            \"flagClienteExistente\": 0,\n",
      "            \"serasaInvalido\": 0,\n",
      "            \"semInfoScore\": 0,\n",
      "            \"saldoFinanciadoCartoes\": 0,\n",
      "            \"usoChequeEspecial\": 0,\n",
      "            \"limiteFixo\": 0,\n",
      "            \"flagNaoCliente\": 0,\n",
      "            \"flagClienteNovo\": 0,\n",
      "            \"regraGhFinal\": 1,\n",
      "            \"regraScoreFinal\": 1\n",
      "        }\n",
      "    },\n",
      "    \"idSolicitacao\": 0\n",
      "}\n"
     ]
    }
   ],
   "source": [
    "dataID = 1\n",
    "print(json.dumps(listaResultado[dataID-1],indent=4))"
   ]
  },
  {
   "cell_type": "code",
   "execution_count": 11,
   "metadata": {},
   "outputs": [
    {
     "ename": "KeyError",
     "evalue": "'regraorigemModeloApplication'",
     "output_type": "error",
     "traceback": [
      "\u001b[1;31m---------------------------------------------------------------------------\u001b[0m",
      "\u001b[1;31mKeyError\u001b[0m                                  Traceback (most recent call last)",
      "Cell \u001b[1;32mIn[11], line 4\u001b[0m\n\u001b[0;32m      2\u001b[0m results \u001b[38;5;241m=\u001b[39m []\n\u001b[0;32m      3\u001b[0m \u001b[38;5;28;01mfor\u001b[39;00m caso \u001b[38;5;129;01min\u001b[39;00m listaResultado:\n\u001b[1;32m----> 4\u001b[0m     results\u001b[38;5;241m.\u001b[39mappend(\u001b[43mcaso\u001b[49m\u001b[43m[\u001b[49m\u001b[38;5;124;43m'\u001b[39;49m\u001b[38;5;124;43mpayloadHomol\u001b[39;49m\u001b[38;5;124;43m'\u001b[39;49m\u001b[43m]\u001b[49m\u001b[43m[\u001b[49m\u001b[38;5;124;43m'\u001b[39;49m\u001b[38;5;124;43mintermediarias\u001b[39;49m\u001b[38;5;124;43m'\u001b[39;49m\u001b[43m]\u001b[49m\u001b[43m[\u001b[49m\u001b[38;5;124;43m'\u001b[39;49m\u001b[38;5;124;43mregraorigemModeloApplication\u001b[39;49m\u001b[38;5;124;43m'\u001b[39;49m\u001b[43m]\u001b[49m)\n\u001b[0;32m      6\u001b[0m freqzinha \u001b[38;5;241m=\u001b[39m pd\u001b[38;5;241m.\u001b[39mDataFrame(results, columns\u001b[38;5;241m=\u001b[39m[\u001b[38;5;124m'\u001b[39m\u001b[38;5;124mvalor\u001b[39m\u001b[38;5;124m'\u001b[39m])\n\u001b[0;32m      7\u001b[0m freqzinha[\u001b[38;5;124m'\u001b[39m\u001b[38;5;124mFreq\u001b[39m\u001b[38;5;124m'\u001b[39m] \u001b[38;5;241m=\u001b[39m freqzinha[\u001b[38;5;124m'\u001b[39m\u001b[38;5;124mvalor\u001b[39m\u001b[38;5;124m'\u001b[39m]\u001b[38;5;241m.\u001b[39mmap(freqzinha[\u001b[38;5;124m'\u001b[39m\u001b[38;5;124mvalor\u001b[39m\u001b[38;5;124m'\u001b[39m]\u001b[38;5;241m.\u001b[39mvalue_counts())\n",
      "\u001b[1;31mKeyError\u001b[0m: 'regraorigemModeloApplication'"
     ]
    }
   ],
   "source": [
    "import pandas as pd\n",
    "results = []\n",
    "for caso in listaResultado:\n",
    "    results.append(caso['payloadHomol']['intermediarias']['regraorigemModeloApplication'])\n",
    "    \n",
    "freqzinha = pd.DataFrame(results, columns=['valor'])\n",
    "freqzinha['Freq'] = freqzinha['valor'].map(freqzinha['valor'].value_counts())\n",
    "freqzinha = freqzinha.drop_duplicates().reset_index(drop=True)\n",
    "freqzinha"
   ]
  },
  {
   "cell_type": "code",
   "execution_count": null,
   "metadata": {},
   "outputs": [
    {
     "data": {
      "text/html": [
       "<div>\n",
       "<style scoped>\n",
       "    .dataframe tbody tr th:only-of-type {\n",
       "        vertical-align: middle;\n",
       "    }\n",
       "\n",
       "    .dataframe tbody tr th {\n",
       "        vertical-align: top;\n",
       "    }\n",
       "\n",
       "    .dataframe thead th {\n",
       "        text-align: right;\n",
       "    }\n",
       "</style>\n",
       "<table border=\"1\" class=\"dataframe\">\n",
       "  <thead>\n",
       "    <tr style=\"text-align: right;\">\n",
       "      <th></th>\n",
       "      <th>valor</th>\n",
       "      <th>Freq</th>\n",
       "    </tr>\n",
       "  </thead>\n",
       "  <tbody>\n",
       "    <tr>\n",
       "      <th>0</th>\n",
       "      <td>1</td>\n",
       "      <td>24576</td>\n",
       "    </tr>\n",
       "    <tr>\n",
       "      <th>1</th>\n",
       "      <td>2</td>\n",
       "      <td>12288</td>\n",
       "    </tr>\n",
       "    <tr>\n",
       "      <th>2</th>\n",
       "      <td>3</td>\n",
       "      <td>6144</td>\n",
       "    </tr>\n",
       "    <tr>\n",
       "      <th>3</th>\n",
       "      <td>4</td>\n",
       "      <td>3072</td>\n",
       "    </tr>\n",
       "    <tr>\n",
       "      <th>4</th>\n",
       "      <td>5</td>\n",
       "      <td>3072</td>\n",
       "    </tr>\n",
       "  </tbody>\n",
       "</table>\n",
       "</div>"
      ],
      "text/plain": [
       "   valor   Freq\n",
       "0      1  24576\n",
       "1      2  12288\n",
       "2      3   6144\n",
       "3      4   3072\n",
       "4      5   3072"
      ]
     },
     "execution_count": 12,
     "metadata": {},
     "output_type": "execute_result"
    }
   ],
   "source": [
    "import pandas as pd\n",
    "results = []\n",
    "for caso in listaResultado:\n",
    "    results.append(caso['payloadHomol']['intermediarias']['regraGhFinal'])\n",
    "    \n",
    "freqzinha = pd.DataFrame(results, columns=['valor'])\n",
    "freqzinha['Freq'] = freqzinha['valor'].map(freqzinha['valor'].value_counts())\n",
    "freqzinha = freqzinha.drop_duplicates().reset_index(drop=True)\n",
    "freqzinha"
   ]
  },
  {
   "cell_type": "code",
   "execution_count": null,
   "metadata": {},
   "outputs": [
    {
     "data": {
      "text/html": [
       "<div>\n",
       "<style scoped>\n",
       "    .dataframe tbody tr th:only-of-type {\n",
       "        vertical-align: middle;\n",
       "    }\n",
       "\n",
       "    .dataframe tbody tr th {\n",
       "        vertical-align: top;\n",
       "    }\n",
       "\n",
       "    .dataframe thead th {\n",
       "        text-align: right;\n",
       "    }\n",
       "</style>\n",
       "<table border=\"1\" class=\"dataframe\">\n",
       "  <thead>\n",
       "    <tr style=\"text-align: right;\">\n",
       "      <th></th>\n",
       "      <th>valor</th>\n",
       "      <th>Freq</th>\n",
       "    </tr>\n",
       "  </thead>\n",
       "  <tbody>\n",
       "    <tr>\n",
       "      <th>0</th>\n",
       "      <td>1</td>\n",
       "      <td>36864</td>\n",
       "    </tr>\n",
       "    <tr>\n",
       "      <th>1</th>\n",
       "      <td>2</td>\n",
       "      <td>8192</td>\n",
       "    </tr>\n",
       "    <tr>\n",
       "      <th>2</th>\n",
       "      <td>3</td>\n",
       "      <td>3072</td>\n",
       "    </tr>\n",
       "    <tr>\n",
       "      <th>3</th>\n",
       "      <td>4</td>\n",
       "      <td>768</td>\n",
       "    </tr>\n",
       "    <tr>\n",
       "      <th>4</th>\n",
       "      <td>5</td>\n",
       "      <td>256</td>\n",
       "    </tr>\n",
       "  </tbody>\n",
       "</table>\n",
       "</div>"
      ],
      "text/plain": [
       "   valor   Freq\n",
       "0      1  36864\n",
       "1      2   8192\n",
       "2      3   3072\n",
       "3      4    768\n",
       "4      5    256"
      ]
     },
     "execution_count": 13,
     "metadata": {},
     "output_type": "execute_result"
    }
   ],
   "source": [
    "import pandas as pd\n",
    "results = []\n",
    "for caso in listaResultado:\n",
    "    results.append(caso['payloadHomol']['intermediarias']['regraScoreFinal'])\n",
    "    \n",
    "freqzinha = pd.DataFrame(results, columns=['valor'])\n",
    "freqzinha['Freq'] = freqzinha['valor'].map(freqzinha['valor'].value_counts())\n",
    "freqzinha = freqzinha.drop_duplicates().reset_index(drop=True)\n",
    "freqzinha"
   ]
  },
  {
   "cell_type": "markdown",
   "metadata": {},
   "source": [
    "### <b>TESTE CASOS ESPECIFICOS "
   ]
  },
  {
   "cell_type": "code",
   "execution_count": null,
   "metadata": {},
   "outputs": [],
   "source": [
    "#Criação das massas com casos forçados\n",
    "\n",
    "\n",
    "# Criacao Modelos de Priorização - TESTADO EM ARQUIVO MODULAR A PARTE \n",
    "\n",
    "# TESTE SEM INFO SCORE \n",
    "massa_semInfoScore = sherlock.Gera_Massa(base_entrada)\n",
    "massa_semInfoScore.gera_cenario('solicitante.ghAppcardsBlendInternoOnline',[\"B\"])\n",
    "massa_semInfoScore.gera_cenario('solicitante.scoreAppcardsBlendInternoOnline',[-99999])\n",
    "massa_semInfoScore.gera_cenario('solicitante.ghAppcardsBlendExternoOnline',['-99999'])\n",
    "massa_semInfoScore.gera_cenario('solicitante.scoreAppcardsBlendExternoOnline',[-99999])\n",
    "massa_semInfoScore.gera_cenario('solicitante.ghBlendIntExt',['E'])\n",
    "massa_semInfoScore.gera_cenario('solicitante.scoreBlendIntExt',[100])\n",
    "massa_semInfoScore.gera_cenario('solicitante.ghSerasa',['F'])\n",
    "massa_semInfoScore.gera_cenario('solicitante.scoreSerasaAl',[1000])\n",
    "massa_semInfoScore.gera_cenario('solicitante.blendFinalAl',[-500,0,100])   # TESTANDO SEM INFO SCORE COM 3 SCORES DIFERENTES\n",
    "massa_semInfoScore.gera_cenario('solicitante.ghFinalScr',[\"B\"])\n",
    "massa_semInfoScore.gera_cenario('solicitante.origemBlend',[\"04.SERASA\"])\n",
    "massa_semInfoScore.gera_cenario('payloadHomol.intermediarias.flagClienteExistente',[1,0])\n",
    "massa_semInfoScore.gera_cenario('payloadHomol.intermediarias.flagNaoCliente',[1,0])\n",
    "massa_semInfoScore.gera_cenario('payloadHomol.intermediarias.flagClienteNovo',[1,0])\n",
    "# massa_semInfoScore = massa_semInfoScore.get_massa_final()\n",
    "\n",
    "\n",
    "# TESTE FAIXA SCORE INTERNO CURTO E FAIXA SCORE EXTERNO\n",
    "\n",
    "# massa_FaixasScore = sherlock.Gera_Massa(base_entrada)\n",
    "# massa_FaixasScore.gera_cenario('solicitante.ghAppcardsBlendInternoOnline',[\"B\"])\n",
    "# massa_FaixasScore.gera_cenario('solicitante.scoreAppcardsBlendInternoOnline',[-99999])\n",
    "# massa_FaixasScore.gera_cenario('solicitante.ghAppcardsBlendExternoOnline',['-99999'])\n",
    "# massa_FaixasScore.gera_cenario('solicitante.scoreAppcardsBlendExternoOnline',[-99999])\n",
    "# massa_FaixasScore.gera_cenario('solicitante.ghBlendIntExt',['E'])\n",
    "# massa_FaixasScore.gera_cenario('solicitante.scoreBlendIntExt',[100])\n",
    "# massa_FaixasScore.gera_cenario('solicitante.ghSerasa',['F'])\n",
    "# massa_FaixasScore.gera_cenario('solicitante.scoreSerasaAl',[1000])\n",
    "# massa_FaixasScore.gera_cenario('solicitante.blendFinalAl',[100])\n",
    "# massa_FaixasScore.gera_cenario('solicitante.ghFinalScr',[\"K\",\"I\",\"J\",\"H\",\"G\",\"F\",\"E\",\"D\",\"C\",\"B\",\"A\",\"AA\",\"LL\",\"missing\",\"0\"])\n",
    "# massa_FaixasScore.gera_cenario('solicitante.origemBlend',[\"04.SERASA\"])\n",
    "# massa_FaixasScore = massa_FaixasScore.get_massa_final()\n",
    "\n",
    "\n",
    "# massa_utilizaGHeScoreFinal = sherlock.Gera_Massa(base_entrada)\n",
    "# massa_utilizaGHeScoreFinal.empilha_massas([massa_semInfoScore,massa_FaixasScore])\n",
    "\n",
    "\n",
    "massa_semInfoScore.set_bom_arqv()\n",
    "massa_semInfoScore.converte_massa()\n",
    "\n",
    "listaResultado = rp.execucaoModular(massa_semInfoScore.get_massa_json(),rp.criaPriorizaçãoeFaixas)\n",
    "\n",
    "massa_semInfoScore.rename_cabecalho()\n",
    "\n",
    "\n",
    "#Contagem da qtd de regras negativas em que o cliente se enquadrou\n",
    "tam = 0\n",
    "a = 0\n",
    "\n",
    "for x in listaResultado:\n",
    "    # print(a)\n",
    "    t = len(x['payloadHomol']['saidas']['regrasNegativas'])\n",
    "    x['payloadHomol']['saidas']['qtdNegativas'] = t\n",
    "    if t > tam:\n",
    "        tam = t\n",
    "    a +=1\n",
    "\n",
    "print(\"tam: \"+str(tam))\n",
    "\n",
    "for y in range (0,tam):\n",
    "    massa_semInfoScore.atribui_expected(listaResultado,\"payloadHomol.saidas.regrasNegativas.\"+str(y)+\".nomeRegra\",\"regrasNegativas#\"+str(y+1)+\".nomeRegra\")\n",
    "    massa_semInfoScore.atribui_expected(listaResultado,\"payloadHomol.saidas.regrasNegativas.\"+str(y)+\".descricao\",\"regrasNegativas#\"+str(y+1)+\".descRegra\")\n",
    "    \n",
    "    # massa_semInfoScore.atribui_expected(listaResultado,\"payloadHomol.saidas.listaLogs.\"+str(y)+\".nome\",\"listaLogs#\"+str(y+1)+\".nome\")\n",
    "    # massa_semInfoScore.atribui_expected(listaResultado,\"payloadHomol.saidas.listaLogs.\"+str(y)+\".valor\",\"listaLogs#\"+str(y+1)+\".valor\")\n",
    "\n",
    "\n",
    "#saidas\n",
    "\n",
    "massa_semInfoScore.atribui_expected(listaResultado,'payloadHomol.intermediarias.flagClienteNovo','clienteNovo')\n",
    "massa_semInfoScore.atribui_expected(listaResultado,'payloadHomol.intermediarias.flagNaoCliente' ,'naoCliente')\n",
    "massa_semInfoScore.atribui_expected(listaResultado,'payloadHomol.intermediarias.semInfoScore','scoreInexistente')\n",
    "massa_semInfoScore.atribui_expected(listaResultado,'payloadHomol.saidas.scoreFinal','scoreFinal')\n",
    "massa_semInfoScore.atribui_expected(listaResultado,'payloadHomol.saidas.ghFinal','ghFinal')\n",
    "massa_semInfoScore.atribui_expected(listaResultado,'payloadHomol.intermediarias.faixaRendaLiquida','faixaRendaLiquida')\n",
    "massa_semInfoScore.atribui_expected(listaResultado,'payloadHomol.intermediarias.faixaRendaBruta','faixaRendaBruta')\n",
    "# massa_semInfoScore.atribui_expected(listaResultado,'payloadHomol.saidas.origemModeloApplication','origemModeloApplication')\n",
    "\n",
    "\n",
    "\n",
    "massa_semInfoScore.get_massa_dm()\n",
    "\n",
    "\n"
   ]
  }
 ],
 "metadata": {
  "application/vnd.databricks.v1+notebook": {
   "dashboards": [],
   "language": "python",
   "notebookMetadata": {
    "pythonIndentUnit": 4
   },
   "notebookName": "homol_modular_flags_ranges_filtros",
   "widgets": {}
  },
  "kernelspec": {
   "display_name": "Python 3",
   "language": "python",
   "name": "python3"
  },
  "language_info": {
   "codemirror_mode": {
    "name": "ipython",
    "version": 3
   },
   "file_extension": ".py",
   "mimetype": "text/x-python",
   "name": "python",
   "nbconvert_exporter": "python",
   "pygments_lexer": "ipython3",
   "version": "3.11.8"
  }
 },
 "nbformat": 4,
 "nbformat_minor": 0
}
