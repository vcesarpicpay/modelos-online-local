{
 "cells": [
  {
   "cell_type": "code",
   "execution_count": 1,
   "metadata": {
    "application/vnd.databricks.v1+cell": {
     "cellMetadata": {
      "byteLimit": 2048000,
      "rowLimit": 10000
     },
     "inputWidgets": {},
     "nuid": "f080c6d5-3c16-4ab8-987c-674652bb70d0",
     "showTitle": false,
     "title": ""
    }
   },
   "outputs": [],
   "source": [
    "# dbutils.library.restartPython()"
   ]
  },
  {
   "cell_type": "markdown",
   "metadata": {
    "application/vnd.databricks.v1+cell": {
     "cellMetadata": {
      "byteLimit": 2048000,
      "rowLimit": 10000
     },
     "inputWidgets": {},
     "nuid": "29d9597e-4ddd-48c0-a79c-1c2f1a05d817",
     "showTitle": false,
     "title": ""
    }
   },
   "source": [
    "# Import de Funções e Libs"
   ]
  },
  {
   "cell_type": "markdown",
   "metadata": {
    "application/vnd.databricks.v1+cell": {
     "cellMetadata": {
      "byteLimit": 2048000,
      "rowLimit": 10000
     },
     "inputWidgets": {},
     "nuid": "086ba727-64bb-4ffb-8b2d-8120717eb595",
     "showTitle": false,
     "title": ""
    }
   },
   "source": [
    "As bibliotecas e funções utilizadas ao longo do código devem ser adicionadas aqui"
   ]
  },
  {
   "cell_type": "code",
   "execution_count": 2,
   "metadata": {
    "application/vnd.databricks.v1+cell": {
     "cellMetadata": {
      "byteLimit": 2048000,
      "rowLimit": 10000
     },
     "inputWidgets": {},
     "nuid": "0079f4cf-bd14-4963-a936-614199f354be",
     "showTitle": false,
     "title": ""
    }
   },
   "outputs": [],
   "source": [
    "import numpy as np\n",
    "import pandas as pd\n",
    "import requests\n",
    "import json\n",
    "import sherlock\n",
    "import regras_politica as rp"
   ]
  },
  {
   "cell_type": "markdown",
   "metadata": {
    "application/vnd.databricks.v1+cell": {
     "cellMetadata": {
      "byteLimit": 2048000,
      "rowLimit": 10000
     },
     "inputWidgets": {},
     "nuid": "a40df83c-91bd-4e95-967e-1dbcb0350251",
     "showTitle": false,
     "title": ""
    }
   },
   "source": [
    "# Testes Modulares"
   ]
  },
  {
   "cell_type": "markdown",
   "metadata": {
    "application/vnd.databricks.v1+cell": {
     "cellMetadata": {
      "byteLimit": 2048000,
      "rowLimit": 10000
     },
     "inputWidgets": {},
     "nuid": "7c67e265-5579-4e54-a9ad-5005db8534d5",
     "showTitle": false,
     "title": ""
    }
   },
   "source": [
    "### Geração de Massa"
   ]
  },
  {
   "cell_type": "code",
   "execution_count": 3,
   "metadata": {
    "application/vnd.databricks.v1+cell": {
     "cellMetadata": {
      "byteLimit": 2048000,
      "rowLimit": 10000
     },
     "inputWidgets": {},
     "nuid": "00a378cc-d5a3-4a13-8fdb-6102a850e155",
     "showTitle": false,
     "title": ""
    }
   },
   "outputs": [],
   "source": [
    "#Gerando a massa modelo passando o caminho do JSON como nome da variável\n",
    "base_entrada = pd.DataFrame({'etapa':['FILTROS POLITICA'],\n",
    "                             'flagErroAurora':[False],\n",
    "                             'flagErroVisaoCliente':[False],\n",
    "                             \"marcacaoMesa\":[\"XPTO\"],\n",
    "                             'solicitante.limites.limiteDisponivel':[10000],\n",
    "                             'solicitante.limites.valorContratadoCartao':[0],\n",
    "                             'solicitante.maxDiasAtraso':[0],\n",
    "                             'solicitante.indFNV':[False],\n",
    "                             'solicitante.indReneg':[False]\n",
    "                             })"
   ]
  },
  {
   "cell_type": "code",
   "execution_count": 4,
   "metadata": {
    "application/vnd.databricks.v1+cell": {
     "cellMetadata": {
      "byteLimit": 2048000,
      "rowLimit": 10000
     },
     "inputWidgets": {},
     "nuid": "42e50835-9f3a-4bb0-9811-f8d19359f35c",
     "showTitle": false,
     "title": ""
    }
   },
   "outputs": [
    {
     "name": "stdout",
     "output_type": "stream",
     "text": [
      "--------------------------------------\n",
      "Quantidade de Linhas da Massa: 1202\n",
      "--------------------------------------\n",
      "Payload setado com sucesso\n",
      "--------------------------------------\n",
      "Conversao concluida com sucesso\n"
     ]
    }
   ],
   "source": [
    "# Teste de casos de erro na chamada de origens\n",
    "massa_validacaoErros = sherlock.Gera_Massa(base_entrada)\n",
    "massa_validacaoErros.gera_cenario('etapa',['FILTROS POLITICA'])\n",
    "massa_validacaoErros.gera_cenario('flagErroAurora',[False]) # a regra de erro bacen é executada no decision flow, testaremos no e2e\n",
    "massa_validacaoErros.gera_cenario('flagErroVisaoCliente',[False]) # a regra de erro bacen é executada no decision flow, testaremos no e2e\n",
    "massa_validacaoErros = massa_validacaoErros.get_massa_final()\n",
    "\n",
    "# Teste de erro nos dados \n",
    "massa_validacaoeErroEDados = sherlock.Gera_Massa(base_entrada)\n",
    "massa_validacaoeErroEDados.gera_cenario('etapa',['FILTROS POLITICA'])\n",
    "massa_validacaoeErroEDados.gera_cenario('marcacaoMesa',['-99999',\"XPTO\",\"MESA\"])\n",
    "massa_validacaoeErroEDados.gera_cenario('solicitante.limites.limiteDisponivel',[-1,0,1,10000,-99999])\n",
    "massa_validacaoeErroEDados.gera_cenario('solicitante.limites.valorContratadoCartao',[-1,0,1,-99999])\n",
    "massa_validacaoeErroEDados.gera_cenario('solicitante.maxDiasAtraso',[0,4,5,6,-99999])\n",
    "massa_validacaoeErroEDados.gera_cenario('solicitante.indFNV',[True,False])\n",
    "massa_validacaoeErroEDados.gera_cenario('solicitante.indReneg',[True,False])\n",
    "massa_validacaoeErroEDados = massa_validacaoeErroEDados.get_massa_final()\n",
    "\n",
    "massa_validacaoInterna = sherlock.Gera_Massa(base_entrada)\n",
    "massa_validacaoInterna.empilha_massas([massa_validacaoErros,\n",
    "                                     massa_validacaoeErroEDados\n",
    "                                     ])\n",
    "\n",
    "massa_validacaoInterna.set_bom_arqv()\n",
    "massa_validacaoInterna.converte_massa()"
   ]
  },
  {
   "cell_type": "markdown",
   "metadata": {
    "application/vnd.databricks.v1+cell": {
     "cellMetadata": {
      "byteLimit": 2048000,
      "rowLimit": 10000
     },
     "inputWidgets": {},
     "nuid": "5349f7f7-35c9-432c-9dd2-ca690129bc1a",
     "showTitle": false,
     "title": ""
    }
   },
   "source": [
    "### Execução Modular e Geração de CSV"
   ]
  },
  {
   "cell_type": "code",
   "execution_count": 5,
   "metadata": {
    "application/vnd.databricks.v1+cell": {
     "cellMetadata": {
      "byteLimit": 2048000,
      "rowLimit": 10000
     },
     "inputWidgets": {},
     "nuid": "e62974bd-d966-4928-82b2-137ede797bfe",
     "showTitle": false,
     "title": ""
    }
   },
   "outputs": [],
   "source": [
    "#Execução modular\n",
    "listaResultado = rp.execucaoModular(massa_validacaoInterna.get_massa_json(),rp.validacoesInternas)"
   ]
  },
  {
   "cell_type": "code",
   "execution_count": 6,
   "metadata": {
    "application/vnd.databricks.v1+cell": {
     "cellMetadata": {
      "byteLimit": 2048000,
      "rowLimit": 10000
     },
     "inputWidgets": {},
     "nuid": "db36f68d-3c3a-4601-a458-ce6e8748330a",
     "showTitle": false,
     "title": ""
    }
   },
   "outputs": [
    {
     "data": {
      "text/html": [
       "<div>\n",
       "<style scoped>\n",
       "    .dataframe tbody tr th:only-of-type {\n",
       "        vertical-align: middle;\n",
       "    }\n",
       "\n",
       "    .dataframe tbody tr th {\n",
       "        vertical-align: top;\n",
       "    }\n",
       "\n",
       "    .dataframe thead th {\n",
       "        text-align: right;\n",
       "    }\n",
       "</style>\n",
       "<table border=\"1\" class=\"dataframe\">\n",
       "  <thead>\n",
       "    <tr style=\"text-align: right;\">\n",
       "      <th></th>\n",
       "      <th>valor</th>\n",
       "      <th>Freq</th>\n",
       "    </tr>\n",
       "  </thead>\n",
       "  <tbody>\n",
       "    <tr>\n",
       "      <th>0</th>\n",
       "      <td>0</td>\n",
       "      <td>414</td>\n",
       "    </tr>\n",
       "    <tr>\n",
       "      <th>9</th>\n",
       "      <td>1</td>\n",
       "      <td>48</td>\n",
       "    </tr>\n",
       "    <tr>\n",
       "      <th>8</th>\n",
       "      <td>2</td>\n",
       "      <td>80</td>\n",
       "    </tr>\n",
       "    <tr>\n",
       "      <th>1</th>\n",
       "      <td>3</td>\n",
       "      <td>320</td>\n",
       "    </tr>\n",
       "    <tr>\n",
       "      <th>2</th>\n",
       "      <td>4</td>\n",
       "      <td>160</td>\n",
       "    </tr>\n",
       "    <tr>\n",
       "      <th>5</th>\n",
       "      <td>7</td>\n",
       "      <td>12</td>\n",
       "    </tr>\n",
       "    <tr>\n",
       "      <th>7</th>\n",
       "      <td>8</td>\n",
       "      <td>12</td>\n",
       "    </tr>\n",
       "    <tr>\n",
       "      <th>6</th>\n",
       "      <td>10</td>\n",
       "      <td>12</td>\n",
       "    </tr>\n",
       "    <tr>\n",
       "      <th>4</th>\n",
       "      <td>11</td>\n",
       "      <td>48</td>\n",
       "    </tr>\n",
       "    <tr>\n",
       "      <th>3</th>\n",
       "      <td>12</td>\n",
       "      <td>96</td>\n",
       "    </tr>\n",
       "  </tbody>\n",
       "</table>\n",
       "</div>"
      ],
      "text/plain": [
       "   valor  Freq\n",
       "0      0   414\n",
       "9      1    48\n",
       "8      2    80\n",
       "1      3   320\n",
       "2      4   160\n",
       "5      7    12\n",
       "7      8    12\n",
       "6     10    12\n",
       "4     11    48\n",
       "3     12    96"
      ]
     },
     "execution_count": 6,
     "metadata": {},
     "output_type": "execute_result"
    }
   ],
   "source": [
    "import pandas as pd\n",
    "results = []\n",
    "for caso in listaResultado:\n",
    "    results.append(caso['payloadHomol']['intermediarias']['passouValidacaoInterna'])\n",
    "    \n",
    "freqzinha = pd.DataFrame(results, columns=['valor'])\n",
    "freqzinha['Freq'] = freqzinha['valor'].map(freqzinha['valor'].value_counts())\n",
    "freqzinha = freqzinha.drop_duplicates().reset_index(drop=True)\n",
    "\n",
    "freqzinha = freqzinha.sort_values('valor', ascending=True)\n",
    "freqzinha"
   ]
  },
  {
   "cell_type": "code",
   "execution_count": 7,
   "metadata": {
    "application/vnd.databricks.v1+cell": {
     "cellMetadata": {
      "byteLimit": 2048000,
      "rowLimit": 10000
     },
     "inputWidgets": {},
     "nuid": "5da40499-2c00-464c-8176-5d7764b2f654",
     "showTitle": false,
     "title": ""
    }
   },
   "outputs": [
    {
     "name": "stdout",
     "output_type": "stream",
     "text": [
      "tam: 5\n"
     ]
    },
    {
     "data": {
      "text/html": [
       "<div>\n",
       "<style scoped>\n",
       "    .dataframe tbody tr th:only-of-type {\n",
       "        vertical-align: middle;\n",
       "    }\n",
       "\n",
       "    .dataframe tbody tr th {\n",
       "        vertical-align: top;\n",
       "    }\n",
       "\n",
       "    .dataframe thead th {\n",
       "        text-align: right;\n",
       "    }\n",
       "</style>\n",
       "<table border=\"1\" class=\"dataframe\">\n",
       "  <thead>\n",
       "    <tr style=\"text-align: right;\">\n",
       "      <th></th>\n",
       "      <th>Data-ID</th>\n",
       "      <th>Result-State</th>\n",
       "      <th>Result-Detail</th>\n",
       "      <th>payloadParam.etapa</th>\n",
       "      <th>flagErroAurora</th>\n",
       "      <th>flagErroVisaoCliente</th>\n",
       "      <th>marcacaoMesa</th>\n",
       "      <th>limiteDisponivel</th>\n",
       "      <th>valorContratadoCartao</th>\n",
       "      <th>maxDiasAtraso</th>\n",
       "      <th>...</th>\n",
       "      <th>result:listaLogs#5.nome</th>\n",
       "      <th>expected:listaLogs#5.nome</th>\n",
       "      <th>result:listaLogs#5.valor</th>\n",
       "      <th>expected:listaLogs#5.valor</th>\n",
       "      <th>result:statusDecisao</th>\n",
       "      <th>expected:statusDecisao</th>\n",
       "      <th>result:vlrLimiteAprovado</th>\n",
       "      <th>expected:vlrLimiteAprovado</th>\n",
       "      <th>result:versionamentoPolitica</th>\n",
       "      <th>expected:versionamentoPolitica</th>\n",
       "    </tr>\n",
       "  </thead>\n",
       "  <tbody>\n",
       "    <tr>\n",
       "      <th>0</th>\n",
       "      <td>1</td>\n",
       "      <td></td>\n",
       "      <td></td>\n",
       "      <td>FILTROS POLITICA</td>\n",
       "      <td>false</td>\n",
       "      <td>false</td>\n",
       "      <td>XPTO</td>\n",
       "      <td>10000</td>\n",
       "      <td>0</td>\n",
       "      <td>0</td>\n",
       "      <td>...</td>\n",
       "      <td></td>\n",
       "      <td></td>\n",
       "      <td></td>\n",
       "      <td></td>\n",
       "      <td></td>\n",
       "      <td>APROVADO</td>\n",
       "      <td></td>\n",
       "      <td>0</td>\n",
       "      <td></td>\n",
       "      <td>0</td>\n",
       "    </tr>\n",
       "    <tr>\n",
       "      <th>1</th>\n",
       "      <td>2</td>\n",
       "      <td></td>\n",
       "      <td></td>\n",
       "      <td>FILTROS POLITICA</td>\n",
       "      <td>false</td>\n",
       "      <td>false</td>\n",
       "      <td>XPTO</td>\n",
       "      <td>10000</td>\n",
       "      <td>0</td>\n",
       "      <td>0</td>\n",
       "      <td>...</td>\n",
       "      <td></td>\n",
       "      <td></td>\n",
       "      <td></td>\n",
       "      <td></td>\n",
       "      <td></td>\n",
       "      <td>APROVADO</td>\n",
       "      <td></td>\n",
       "      <td>0</td>\n",
       "      <td></td>\n",
       "      <td>0</td>\n",
       "    </tr>\n",
       "    <tr>\n",
       "      <th>2</th>\n",
       "      <td>3</td>\n",
       "      <td></td>\n",
       "      <td></td>\n",
       "      <td>FILTROS POLITICA</td>\n",
       "      <td>false</td>\n",
       "      <td>false</td>\n",
       "      <td>-99999</td>\n",
       "      <td>-1</td>\n",
       "      <td>-1</td>\n",
       "      <td>0</td>\n",
       "      <td>...</td>\n",
       "      <td></td>\n",
       "      <td></td>\n",
       "      <td></td>\n",
       "      <td></td>\n",
       "      <td></td>\n",
       "      <td>NEGADO</td>\n",
       "      <td></td>\n",
       "      <td>0</td>\n",
       "      <td></td>\n",
       "      <td>1</td>\n",
       "    </tr>\n",
       "    <tr>\n",
       "      <th>3</th>\n",
       "      <td>4</td>\n",
       "      <td></td>\n",
       "      <td></td>\n",
       "      <td>FILTROS POLITICA</td>\n",
       "      <td>false</td>\n",
       "      <td>false</td>\n",
       "      <td>-99999</td>\n",
       "      <td>-1</td>\n",
       "      <td>-1</td>\n",
       "      <td>0</td>\n",
       "      <td>...</td>\n",
       "      <td></td>\n",
       "      <td></td>\n",
       "      <td></td>\n",
       "      <td></td>\n",
       "      <td></td>\n",
       "      <td>NEGADO</td>\n",
       "      <td></td>\n",
       "      <td>0</td>\n",
       "      <td></td>\n",
       "      <td>1</td>\n",
       "    </tr>\n",
       "    <tr>\n",
       "      <th>4</th>\n",
       "      <td>5</td>\n",
       "      <td></td>\n",
       "      <td></td>\n",
       "      <td>FILTROS POLITICA</td>\n",
       "      <td>false</td>\n",
       "      <td>false</td>\n",
       "      <td>-99999</td>\n",
       "      <td>-1</td>\n",
       "      <td>-1</td>\n",
       "      <td>0</td>\n",
       "      <td>...</td>\n",
       "      <td></td>\n",
       "      <td></td>\n",
       "      <td></td>\n",
       "      <td></td>\n",
       "      <td></td>\n",
       "      <td>NEGADO</td>\n",
       "      <td></td>\n",
       "      <td>0</td>\n",
       "      <td></td>\n",
       "      <td>1</td>\n",
       "    </tr>\n",
       "    <tr>\n",
       "      <th>...</th>\n",
       "      <td>...</td>\n",
       "      <td>...</td>\n",
       "      <td>...</td>\n",
       "      <td>...</td>\n",
       "      <td>...</td>\n",
       "      <td>...</td>\n",
       "      <td>...</td>\n",
       "      <td>...</td>\n",
       "      <td>...</td>\n",
       "      <td>...</td>\n",
       "      <td>...</td>\n",
       "      <td>...</td>\n",
       "      <td>...</td>\n",
       "      <td>...</td>\n",
       "      <td>...</td>\n",
       "      <td>...</td>\n",
       "      <td>...</td>\n",
       "      <td>...</td>\n",
       "      <td>...</td>\n",
       "      <td>...</td>\n",
       "      <td>...</td>\n",
       "    </tr>\n",
       "    <tr>\n",
       "      <th>1197</th>\n",
       "      <td>1198</td>\n",
       "      <td></td>\n",
       "      <td></td>\n",
       "      <td>FILTROS POLITICA</td>\n",
       "      <td>false</td>\n",
       "      <td>false</td>\n",
       "      <td>MESA</td>\n",
       "      <td>-99999</td>\n",
       "      <td>-99999</td>\n",
       "      <td>6</td>\n",
       "      <td>...</td>\n",
       "      <td></td>\n",
       "      <td></td>\n",
       "      <td></td>\n",
       "      <td></td>\n",
       "      <td></td>\n",
       "      <td>APROVADO</td>\n",
       "      <td></td>\n",
       "      <td>0</td>\n",
       "      <td></td>\n",
       "      <td>0</td>\n",
       "    </tr>\n",
       "    <tr>\n",
       "      <th>1198</th>\n",
       "      <td>1199</td>\n",
       "      <td></td>\n",
       "      <td></td>\n",
       "      <td>FILTROS POLITICA</td>\n",
       "      <td>false</td>\n",
       "      <td>false</td>\n",
       "      <td>MESA</td>\n",
       "      <td>-99999</td>\n",
       "      <td>-99999</td>\n",
       "      <td>-99999</td>\n",
       "      <td>...</td>\n",
       "      <td></td>\n",
       "      <td></td>\n",
       "      <td></td>\n",
       "      <td></td>\n",
       "      <td></td>\n",
       "      <td>APROVADO</td>\n",
       "      <td></td>\n",
       "      <td>0</td>\n",
       "      <td></td>\n",
       "      <td>0</td>\n",
       "    </tr>\n",
       "    <tr>\n",
       "      <th>1199</th>\n",
       "      <td>1200</td>\n",
       "      <td></td>\n",
       "      <td></td>\n",
       "      <td>FILTROS POLITICA</td>\n",
       "      <td>false</td>\n",
       "      <td>false</td>\n",
       "      <td>MESA</td>\n",
       "      <td>-99999</td>\n",
       "      <td>-99999</td>\n",
       "      <td>-99999</td>\n",
       "      <td>...</td>\n",
       "      <td></td>\n",
       "      <td></td>\n",
       "      <td></td>\n",
       "      <td></td>\n",
       "      <td></td>\n",
       "      <td>APROVADO</td>\n",
       "      <td></td>\n",
       "      <td>0</td>\n",
       "      <td></td>\n",
       "      <td>0</td>\n",
       "    </tr>\n",
       "    <tr>\n",
       "      <th>1200</th>\n",
       "      <td>1201</td>\n",
       "      <td></td>\n",
       "      <td></td>\n",
       "      <td>FILTROS POLITICA</td>\n",
       "      <td>false</td>\n",
       "      <td>false</td>\n",
       "      <td>MESA</td>\n",
       "      <td>-99999</td>\n",
       "      <td>-99999</td>\n",
       "      <td>-99999</td>\n",
       "      <td>...</td>\n",
       "      <td></td>\n",
       "      <td></td>\n",
       "      <td></td>\n",
       "      <td></td>\n",
       "      <td></td>\n",
       "      <td>APROVADO</td>\n",
       "      <td></td>\n",
       "      <td>0</td>\n",
       "      <td></td>\n",
       "      <td>0</td>\n",
       "    </tr>\n",
       "    <tr>\n",
       "      <th>1201</th>\n",
       "      <td>1202</td>\n",
       "      <td></td>\n",
       "      <td></td>\n",
       "      <td>FILTROS POLITICA</td>\n",
       "      <td>false</td>\n",
       "      <td>false</td>\n",
       "      <td>MESA</td>\n",
       "      <td>-99999</td>\n",
       "      <td>-99999</td>\n",
       "      <td>-99999</td>\n",
       "      <td>...</td>\n",
       "      <td></td>\n",
       "      <td></td>\n",
       "      <td></td>\n",
       "      <td></td>\n",
       "      <td></td>\n",
       "      <td>APROVADO</td>\n",
       "      <td></td>\n",
       "      <td>0</td>\n",
       "      <td></td>\n",
       "      <td>0</td>\n",
       "    </tr>\n",
       "  </tbody>\n",
       "</table>\n",
       "<p>1202 rows × 58 columns</p>\n",
       "</div>"
      ],
      "text/plain": [
       "      Data-ID Result-State Result-Detail payloadParam.etapa flagErroAurora  \\\n",
       "0           1                              FILTROS POLITICA          false   \n",
       "1           2                              FILTROS POLITICA          false   \n",
       "2           3                              FILTROS POLITICA          false   \n",
       "3           4                              FILTROS POLITICA          false   \n",
       "4           5                              FILTROS POLITICA          false   \n",
       "...       ...          ...           ...                ...            ...   \n",
       "1197     1198                              FILTROS POLITICA          false   \n",
       "1198     1199                              FILTROS POLITICA          false   \n",
       "1199     1200                              FILTROS POLITICA          false   \n",
       "1200     1201                              FILTROS POLITICA          false   \n",
       "1201     1202                              FILTROS POLITICA          false   \n",
       "\n",
       "     flagErroVisaoCliente marcacaoMesa  limiteDisponivel  \\\n",
       "0                   false         XPTO             10000   \n",
       "1                   false         XPTO             10000   \n",
       "2                   false       -99999                -1   \n",
       "3                   false       -99999                -1   \n",
       "4                   false       -99999                -1   \n",
       "...                   ...          ...               ...   \n",
       "1197                false         MESA            -99999   \n",
       "1198                false         MESA            -99999   \n",
       "1199                false         MESA            -99999   \n",
       "1200                false         MESA            -99999   \n",
       "1201                false         MESA            -99999   \n",
       "\n",
       "      valorContratadoCartao  maxDiasAtraso  ... result:listaLogs#5.nome  \\\n",
       "0                         0              0  ...                           \n",
       "1                         0              0  ...                           \n",
       "2                        -1              0  ...                           \n",
       "3                        -1              0  ...                           \n",
       "4                        -1              0  ...                           \n",
       "...                     ...            ...  ...                     ...   \n",
       "1197                 -99999              6  ...                           \n",
       "1198                 -99999         -99999  ...                           \n",
       "1199                 -99999         -99999  ...                           \n",
       "1200                 -99999         -99999  ...                           \n",
       "1201                 -99999         -99999  ...                           \n",
       "\n",
       "     expected:listaLogs#5.nome result:listaLogs#5.valor  \\\n",
       "0                                                         \n",
       "1                                                         \n",
       "2                                                         \n",
       "3                                                         \n",
       "4                                                         \n",
       "...                        ...                      ...   \n",
       "1197                                                      \n",
       "1198                                                      \n",
       "1199                                                      \n",
       "1200                                                      \n",
       "1201                                                      \n",
       "\n",
       "     expected:listaLogs#5.valor result:statusDecisao expected:statusDecisao  \\\n",
       "0                                                                  APROVADO   \n",
       "1                                                                  APROVADO   \n",
       "2                                                                    NEGADO   \n",
       "3                                                                    NEGADO   \n",
       "4                                                                    NEGADO   \n",
       "...                         ...                  ...                    ...   \n",
       "1197                                                               APROVADO   \n",
       "1198                                                               APROVADO   \n",
       "1199                                                               APROVADO   \n",
       "1200                                                               APROVADO   \n",
       "1201                                                               APROVADO   \n",
       "\n",
       "     result:vlrLimiteAprovado expected:vlrLimiteAprovado  \\\n",
       "0                                                      0   \n",
       "1                                                      0   \n",
       "2                                                      0   \n",
       "3                                                      0   \n",
       "4                                                      0   \n",
       "...                       ...                        ...   \n",
       "1197                                                   0   \n",
       "1198                                                   0   \n",
       "1199                                                   0   \n",
       "1200                                                   0   \n",
       "1201                                                   0   \n",
       "\n",
       "     result:versionamentoPolitica expected:versionamentoPolitica  \n",
       "0                                                              0  \n",
       "1                                                              0  \n",
       "2                                                              1  \n",
       "3                                                              1  \n",
       "4                                                              1  \n",
       "...                           ...                            ...  \n",
       "1197                                                           0  \n",
       "1198                                                           0  \n",
       "1199                                                           0  \n",
       "1200                                                           0  \n",
       "1201                                                           0  \n",
       "\n",
       "[1202 rows x 58 columns]"
      ]
     },
     "execution_count": 7,
     "metadata": {},
     "output_type": "execute_result"
    }
   ],
   "source": [
    "# Renomeação das colunas para o cabeçalho do RMA\n",
    "massa_validacaoInterna.rename_cabecalho()\n",
    "\n",
    "#Contagem da qtd de regras negativas em que o cliente se enquadrou\n",
    "tam = 0\n",
    "for x in listaResultado:\n",
    "    t = len(x['payloadHomol']['saidas']['regrasNegativas'])\n",
    "    x['payloadHomol']['saidas']['qtdNegativas'] = t\n",
    "    if t > tam:\n",
    "        tam = t\n",
    "\n",
    "print(\"tam: \"+str(tam))\n",
    "\n",
    "for y in range (0,tam):\n",
    "    massa_validacaoInterna.atribui_expected(listaResultado,\"payloadHomol.saidas.regrasNegativas.\"+str(y)+\".nomeRegra\",\"regrasNegativas#\"+str(y+1)+\".nomeRegra\")\n",
    "    massa_validacaoInterna.atribui_expected(listaResultado,\"payloadHomol.saidas.regrasNegativas.\"+str(y)+\".descricao\",\"regrasNegativas#\"+str(y+1)+\".descRegra\")\n",
    "    \n",
    "    massa_validacaoInterna.atribui_expected(listaResultado,\"payloadHomol.saidas.listaLogs.\"+str(y)+\".nome\",\"listaLogs#\"+str(y+1)+\".nome\")\n",
    "    massa_validacaoInterna.atribui_expected(listaResultado,\"payloadHomol.saidas.listaLogs.\"+str(y)+\".valor\",\"listaLogs#\"+str(y+1)+\".valor\")\n",
    "\n",
    "massa_validacaoInterna.atribui_expected(listaResultado,'payloadHomol.saidas.statusDecisao','statusDecisao')\n",
    "massa_validacaoInterna.atribui_expected(listaResultado,'payloadHomol.saidas.vlrLimiteAprovado','vlrLimiteAprovado')\n",
    "massa_validacaoInterna.atribui_expected(listaResultado,'payloadHomol.saidas.qtdNegativas','versionamentoPolitica')\n",
    "# massa_validacaoInterna.atribui_expected(listaResultado,'payloadHomol.saidas.listaLogs','ListaLogs')\n",
    "\n",
    "massa_validacaoInterna.get_massa_dm()"
   ]
  },
  {
   "cell_type": "markdown",
   "metadata": {
    "application/vnd.databricks.v1+cell": {
     "cellMetadata": {
      "byteLimit": 2048000,
      "rowLimit": 10000
     },
     "inputWidgets": {},
     "nuid": "1483061c-0274-484f-be51-212755c89044",
     "showTitle": false,
     "title": ""
    }
   },
   "source": [
    "### Conversão da massa para CSV"
   ]
  },
  {
   "cell_type": "code",
   "execution_count": 8,
   "metadata": {
    "application/vnd.databricks.v1+cell": {
     "cellMetadata": {
      "byteLimit": 2048000,
      "rowLimit": 10000
     },
     "inputWidgets": {},
     "nuid": "b545c6ca-1290-44be-8c6e-d122bcb6f7c6",
     "showTitle": false,
     "title": ""
    }
   },
   "outputs": [],
   "source": [
    "massa_validacaoInterna.get_massa_dm().to_csv('C:/Users/T51657/Desktop/Homologação/Modelos Online/v2/massas/Modulares/massaValidacoesInterna.csv',index=False)"
   ]
  },
  {
   "cell_type": "markdown",
   "metadata": {
    "application/vnd.databricks.v1+cell": {
     "cellMetadata": {
      "byteLimit": 2048000,
      "rowLimit": 10000
     },
     "inputWidgets": {},
     "nuid": "45dec028-c61d-42c7-ab73-85971764fde1",
     "showTitle": false,
     "title": ""
    }
   },
   "source": [
    "#"
   ]
  }
 ],
 "metadata": {
  "application/vnd.databricks.v1+notebook": {
   "dashboards": [],
   "language": "python",
   "notebookMetadata": {
    "pythonIndentUnit": 4
   },
   "notebookName": "homol_modular_validacoesInternas",
   "widgets": {}
  },
  "kernelspec": {
   "display_name": "Python 3",
   "language": "python",
   "name": "python3"
  },
  "language_info": {
   "codemirror_mode": {
    "name": "ipython",
    "version": 3
   },
   "file_extension": ".py",
   "mimetype": "text/x-python",
   "name": "python",
   "nbconvert_exporter": "python",
   "pygments_lexer": "ipython3",
   "version": "3.11.8"
  }
 },
 "nbformat": 4,
 "nbformat_minor": 0
}
