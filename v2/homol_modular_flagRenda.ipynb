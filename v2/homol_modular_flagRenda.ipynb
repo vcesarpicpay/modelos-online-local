{
 "cells": [
  {
   "cell_type": "code",
   "execution_count": null,
   "metadata": {
    "application/vnd.databricks.v1+cell": {
     "cellMetadata": {
      "byteLimit": 2048000,
      "rowLimit": 10000
     },
     "inputWidgets": {},
     "nuid": "6b01e65b-20e0-41f4-9132-0cd228cd517e",
     "showTitle": false,
     "title": ""
    }
   },
   "outputs": [],
   "source": [
    "dbutils.library.restartPython()"
   ]
  },
  {
   "cell_type": "markdown",
   "metadata": {
    "application/vnd.databricks.v1+cell": {
     "cellMetadata": {
      "byteLimit": 2048000,
      "rowLimit": 10000
     },
     "inputWidgets": {},
     "nuid": "b3b97d92-0875-4e4c-955e-6a4fd7e0382d",
     "showTitle": false,
     "title": ""
    }
   },
   "source": [
    "# Import de Funções e Libs"
   ]
  },
  {
   "cell_type": "markdown",
   "metadata": {
    "application/vnd.databricks.v1+cell": {
     "cellMetadata": {
      "byteLimit": 2048000,
      "rowLimit": 10000
     },
     "inputWidgets": {},
     "nuid": "405da4ba-d5f5-455b-a186-c9d95020d656",
     "showTitle": false,
     "title": ""
    }
   },
   "source": [
    "As bibliotecas e funções utilizadas ao longo do código devem ser adicionadas aqui"
   ]
  },
  {
   "cell_type": "code",
   "execution_count": null,
   "metadata": {
    "application/vnd.databricks.v1+cell": {
     "cellMetadata": {
      "byteLimit": 2048000,
      "rowLimit": 10000
     },
     "inputWidgets": {},
     "nuid": "35818e65-0b3a-4169-95bd-6cd1200b6873",
     "showTitle": false,
     "title": ""
    }
   },
   "outputs": [],
   "source": [
    "import numpy as np\n",
    "import pandas as pd\n",
    "import requests\n",
    "import json\n",
    "import sherlock\n",
    "import regras_politica as rp"
   ]
  },
  {
   "cell_type": "markdown",
   "metadata": {
    "application/vnd.databricks.v1+cell": {
     "cellMetadata": {
      "byteLimit": 2048000,
      "rowLimit": 10000
     },
     "inputWidgets": {},
     "nuid": "3b7b68fb-aa65-4c07-9239-80ff0bcf60b8",
     "showTitle": false,
     "title": ""
    }
   },
   "source": [
    "### Testes Modulares - Referente ao tópico 3/4 - 3.6/4.4 Marcação de Aprovados"
   ]
  },
  {
   "cell_type": "markdown",
   "metadata": {
    "application/vnd.databricks.v1+cell": {
     "cellMetadata": {
      "byteLimit": 2048000,
      "rowLimit": 10000
     },
     "inputWidgets": {},
     "nuid": "53c9e1f4-296e-473a-ae84-1d12f5c9a473",
     "showTitle": false,
     "title": ""
    }
   },
   "source": [
    "### Geração de Massa"
   ]
  },
  {
   "cell_type": "code",
   "execution_count": null,
   "metadata": {
    "application/vnd.databricks.v1+cell": {
     "cellMetadata": {
      "byteLimit": 2048000,
      "rowLimit": 10000
     },
     "inputWidgets": {},
     "nuid": "3ad16f05-f504-4bef-8a27-b4759d823845",
     "showTitle": false,
     "title": ""
    }
   },
   "outputs": [],
   "source": [
    "#Gerando a massa modelo passando o caminho do JSON como nome da variável\n",
    "base_entrada = pd.DataFrame({'solicitante.fonteRenda':[\"01. Fopag\"]\n",
    "                            })\n",
    "                            "
   ]
  },
  {
   "cell_type": "code",
   "execution_count": null,
   "metadata": {
    "application/vnd.databricks.v1+cell": {
     "cellMetadata": {
      "byteLimit": 2048000,
      "rowLimit": 10000
     },
     "inputWidgets": {},
     "nuid": "17fabf92-6aa2-4318-9a02-88c781717310",
     "showTitle": false,
     "title": ""
    }
   },
   "outputs": [],
   "source": [
    "#Criação das massas com casos forçados\n",
    "#Digito CPF Concomitante CP\n",
    "massa_flagRenda = sherlock.Gera_Massa(base_entrada)\n",
    "massa_flagRenda.gera_cenario('solicitante.fonteRenda',[\"02. Funcionários Não FOPAG (J&F)\",\n",
    "                                                                           \"04. Renda OPF Confirmada\",\n",
    "                                                                           \"08. Blend Externo\",\n",
    "                                                                           \"06. Servidor Público\",\n",
    "                                                                           \"03. Portabilidade\",\n",
    "                                                                           \"07. Blend Interno\",\n",
    "                                                                           \"99. Não encontrada\",\n",
    "                                                                           \"01. Fopag\",\n",
    "                                                                           \"-99999\",\n",
    "                                                                           \"00. Dominio X Nao Previsto\"])\n",
    "massa_flagRenda.set_bom_arqv()\n",
    "massa_flagRenda.converte_massa()"
   ]
  },
  {
   "cell_type": "code",
   "execution_count": null,
   "metadata": {
    "application/vnd.databricks.v1+cell": {
     "cellMetadata": {
      "byteLimit": 2048000,
      "rowLimit": 10000
     },
     "inputWidgets": {},
     "nuid": "d73eafea-318e-4e4a-ad29-bf306686123d",
     "showTitle": false,
     "title": ""
    }
   },
   "outputs": [],
   "source": [
    "massa_flagRenda.get_massa_final()"
   ]
  },
  {
   "cell_type": "markdown",
   "metadata": {
    "application/vnd.databricks.v1+cell": {
     "cellMetadata": {
      "byteLimit": 2048000,
      "rowLimit": 10000
     },
     "inputWidgets": {},
     "nuid": "eb740731-8c51-4001-b344-5b6c3a5fa1c8",
     "showTitle": false,
     "title": ""
    }
   },
   "source": [
    "### Execução Modular e Geração de CSV"
   ]
  },
  {
   "cell_type": "code",
   "execution_count": null,
   "metadata": {
    "application/vnd.databricks.v1+cell": {
     "cellMetadata": {
      "byteLimit": 2048000,
      "rowLimit": 10000
     },
     "inputWidgets": {},
     "nuid": "c329dc19-e497-47f5-830a-6863a4bb2de5",
     "showTitle": false,
     "title": ""
    }
   },
   "outputs": [],
   "source": [
    "listaResultado = rp.execucaoModular(massa_flagRenda.get_massa_json(),rp.DefineFlagRenda)"
   ]
  },
  {
   "cell_type": "markdown",
   "metadata": {
    "application/vnd.databricks.v1+cell": {
     "cellMetadata": {
      "byteLimit": 2048000,
      "rowLimit": 10000
     },
     "inputWidgets": {},
     "nuid": "fb9de440-abae-4f4f-851b-56bd80fee5f5",
     "showTitle": false,
     "title": ""
    }
   },
   "source": [
    "##### Valida se todas condições estão sendo abordadas"
   ]
  },
  {
   "cell_type": "code",
   "execution_count": null,
   "metadata": {
    "application/vnd.databricks.v1+cell": {
     "cellMetadata": {
      "byteLimit": 2048000,
      "rowLimit": 10000
     },
     "inputWidgets": {},
     "nuid": "e17e53fa-0887-472c-8f5f-289f18d97ab0",
     "showTitle": false,
     "title": ""
    }
   },
   "outputs": [],
   "source": [
    "import pandas as pd\n",
    "results = []\n",
    "for caso in listaResultado:\n",
    "    results.append(caso['payloadHomol']['saidas']['flagTipoRenda'])\n",
    "    \n",
    "freqzinha = pd.DataFrame(results, columns=['valor'])\n",
    "freqzinha['Freq'] = freqzinha['valor'].map(freqzinha['valor'].value_counts())\n",
    "freqzinha = freqzinha.drop_duplicates().reset_index(drop=True)\n",
    "freqzinha"
   ]
  },
  {
   "cell_type": "code",
   "execution_count": null,
   "metadata": {
    "application/vnd.databricks.v1+cell": {
     "cellMetadata": {
      "byteLimit": 2048000,
      "rowLimit": 10000
     },
     "inputWidgets": {},
     "nuid": "2078b0b0-6495-4f94-98d6-a217b919260e",
     "showTitle": false,
     "title": ""
    }
   },
   "outputs": [],
   "source": [
    "# Renomeação das colunas para o cabeçalho do RMA\n",
    "massa_flagRenda.rename_cabecalho()"
   ]
  },
  {
   "cell_type": "code",
   "execution_count": null,
   "metadata": {
    "application/vnd.databricks.v1+cell": {
     "cellMetadata": {
      "byteLimit": 2048000,
      "rowLimit": 10000
     },
     "inputWidgets": {},
     "nuid": "70c8cc47-b4fa-4b18-9081-7194de90794e",
     "showTitle": false,
     "title": ""
    }
   },
   "outputs": [],
   "source": [
    "massa_flagRenda.atribui_expected(listaResultado,\"payloadHomol.saidas.flagTipoRenda\",\"flagTipoRenda\")\n",
    "massa_flagRenda.get_massa_dm()"
   ]
  },
  {
   "cell_type": "markdown",
   "metadata": {
    "application/vnd.databricks.v1+cell": {
     "cellMetadata": {
      "byteLimit": 2048000,
      "rowLimit": 10000
     },
     "inputWidgets": {},
     "nuid": "12a6211e-1068-4b86-9a7b-64b0e7d36065",
     "showTitle": false,
     "title": ""
    }
   },
   "source": [
    "### Conversão da massa para CSV"
   ]
  },
  {
   "cell_type": "code",
   "execution_count": null,
   "metadata": {
    "application/vnd.databricks.v1+cell": {
     "cellMetadata": {
      "byteLimit": 2048000,
      "rowLimit": 10000
     },
     "inputWidgets": {},
     "nuid": "5cd78e58-1843-46b5-86b6-608b7bb094f7",
     "showTitle": false,
     "title": ""
    }
   },
   "outputs": [],
   "source": [
    "massa_flagRenda.get_massa_dm().to_csv('C:/Users/T51657/Desktop/Homologação/Modelos Online/v2/massas/Modulares/massaFlagTipoRenda.csv',index=False)"
   ]
  }
 ],
 "metadata": {
  "application/vnd.databricks.v1+notebook": {
   "dashboards": [],
   "language": "python",
   "notebookMetadata": {
    "pythonIndentUnit": 4
   },
   "notebookName": "homol_modular_flagRenda",
   "widgets": {}
  },
  "kernelspec": {
   "display_name": "Python 3",
   "language": "python",
   "name": "python3"
  },
  "language_info": {
   "codemirror_mode": {
    "name": "ipython",
    "version": 3
   },
   "file_extension": ".py",
   "mimetype": "text/x-python",
   "name": "python",
   "nbconvert_exporter": "python",
   "pygments_lexer": "ipython3",
   "version": "3.12.0"
  }
 },
 "nbformat": 4,
 "nbformat_minor": 0
}
