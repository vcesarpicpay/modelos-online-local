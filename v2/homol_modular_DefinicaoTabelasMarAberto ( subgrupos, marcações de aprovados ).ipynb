{
 "cells": [
  {
   "cell_type": "code",
   "execution_count": 2,
   "metadata": {
    "application/vnd.databricks.v1+cell": {
     "cellMetadata": {
      "byteLimit": 2048000,
      "rowLimit": 10000
     },
     "inputWidgets": {},
     "nuid": "6b01e65b-20e0-41f4-9132-0cd228cd517e",
     "showTitle": false,
     "title": ""
    }
   },
   "outputs": [],
   "source": [
    "# dbutils.library.restartPython()"
   ]
  },
  {
   "cell_type": "markdown",
   "metadata": {
    "application/vnd.databricks.v1+cell": {
     "cellMetadata": {
      "byteLimit": 2048000,
      "rowLimit": 10000
     },
     "inputWidgets": {},
     "nuid": "b3b97d92-0875-4e4c-955e-6a4fd7e0382d",
     "showTitle": false,
     "title": ""
    }
   },
   "source": [
    "# Import de Funções e Libs"
   ]
  },
  {
   "cell_type": "markdown",
   "metadata": {
    "application/vnd.databricks.v1+cell": {
     "cellMetadata": {
      "byteLimit": 2048000,
      "rowLimit": 10000
     },
     "inputWidgets": {},
     "nuid": "405da4ba-d5f5-455b-a186-c9d95020d656",
     "showTitle": false,
     "title": ""
    }
   },
   "source": [
    "As bibliotecas e funções utilizadas ao longo do código devem ser adicionadas aqui"
   ]
  },
  {
   "cell_type": "code",
   "execution_count": 3,
   "metadata": {
    "application/vnd.databricks.v1+cell": {
     "cellMetadata": {
      "byteLimit": 2048000,
      "rowLimit": 10000
     },
     "inputWidgets": {},
     "nuid": "35818e65-0b3a-4169-95bd-6cd1200b6873",
     "showTitle": false,
     "title": ""
    }
   },
   "outputs": [],
   "source": [
    "import numpy as np\n",
    "import pandas as pd\n",
    "import requests\n",
    "import json\n",
    "import sherlock\n",
    "import regras_politica as rp"
   ]
  },
  {
   "cell_type": "markdown",
   "metadata": {
    "application/vnd.databricks.v1+cell": {
     "cellMetadata": {
      "byteLimit": 2048000,
      "rowLimit": 10000
     },
     "inputWidgets": {},
     "nuid": "3b7b68fb-aa65-4c07-9239-80ff0bcf60b8",
     "showTitle": false,
     "title": ""
    }
   },
   "source": [
    "### Testes Modulares - Referente ao tópico 4 - Tabelas tópico 4.3"
   ]
  },
  {
   "cell_type": "markdown",
   "metadata": {
    "application/vnd.databricks.v1+cell": {
     "cellMetadata": {
      "byteLimit": 2048000,
      "rowLimit": 10000
     },
     "inputWidgets": {},
     "nuid": "53c9e1f4-296e-473a-ae84-1d12f5c9a473",
     "showTitle": false,
     "title": ""
    }
   },
   "source": [
    "### Geração de Massa"
   ]
  },
  {
   "cell_type": "code",
   "execution_count": 4,
   "metadata": {
    "application/vnd.databricks.v1+cell": {
     "cellMetadata": {
      "byteLimit": 2048000,
      "rowLimit": 10000
     },
     "inputWidgets": {},
     "nuid": "3ad16f05-f504-4bef-8a27-b4759d823845",
     "showTitle": false,
     "title": ""
    }
   },
   "outputs": [],
   "source": [
    "#Gerando a massa modelo passando o caminho do JSON como nome da variável\n",
    "base_entrada = pd.DataFrame({'payloadHomol.intermediarias.faixaScoreExterno':[\"R10\"],\n",
    "                             'payloadHomol.intermediarias.segmentacaoPolitica':[\"P1 - Funcionarios\"],\n",
    "                             'payloadHomol.intermediarias.faixaRendaLiquida':[\"d. >= 10k\"],\n",
    "                             'payloadHomol.intermediarias.admissaoMeses':[0],\n",
    "                             'payloadHomol.intermediarias.cpf5e6Digito':[99]\n",
    "                            })"
   ]
  },
  {
   "cell_type": "code",
   "execution_count": 5,
   "metadata": {
    "application/vnd.databricks.v1+cell": {
     "cellMetadata": {
      "byteLimit": 2048000,
      "rowLimit": 10000
     },
     "inputWidgets": {},
     "nuid": "17fabf92-6aa2-4318-9a02-88c781717310",
     "showTitle": false,
     "title": ""
    }
   },
   "outputs": [
    {
     "name": "stdout",
     "output_type": "stream",
     "text": [
      "--------------------------------------\n",
      "Payload setado com sucesso\n",
      "--------------------------------------\n",
      "Conversao concluida com sucesso\n"
     ]
    }
   ],
   "source": [
    "#Criação das massas com casos forçados\n",
    "massa_TabelaMarAberto = sherlock.Gera_Massa(base_entrada)\n",
    "massa_TabelaMarAberto.gera_cenario('payloadHomol.intermediarias.faixaScoreExterno',[\"R1\",\"R2\",\"R3\",\n",
    "                                                                                            \"R4\",\"R5\",\"R6\",\n",
    "                                                                                            \"R7\",\"R8\",\"R9\",\n",
    "                                                                                            \"R10\"])\n",
    "massa_TabelaMarAberto.gera_cenario('payloadHomol.intermediarias.segmentacaoPolitica',[\"N1 - FOPAG\",\n",
    "                                                                                      \"N2.1 - Varejo\",\n",
    "                                                                                      \"N2.2 - Varejo+\",\n",
    "                                                                                      \"N2.3 - Alta Renda\",\n",
    "                                                                                      \"N2.1 - Varejo\"])\n",
    "massa_TabelaMarAberto.gera_cenario('payloadHomol.intermediarias.faixaRendaLiquida',['a. Sem renda',\n",
    "                                                                                  'b. < 4k',\n",
    "                                                                                  'c. 4k - 10k',\n",
    "                                                                                  'd. >= 10k',\n",
    "                                                                                  'z. Verificar'])\n",
    "massa_TabelaMarAberto.gera_cenario('payloadHomol.intermediarias.admissaoMeses',[0,1,2,3,4,5])\n",
    "massa_TabelaMarAberto.gera_cenario('payloadHomol.intermediarias.cpf5e6Digito',[0,43,44,45,46,88,89,90,91,99])\n",
    "\n",
    "\n",
    "massa_TabelaMarAberto.get_massa_final()\n",
    "\n",
    "massa_TabelaMarAberto.set_bom_arqv()\n",
    "massa_TabelaMarAberto.converte_massa()"
   ]
  },
  {
   "cell_type": "code",
   "execution_count": 6,
   "metadata": {
    "application/vnd.databricks.v1+cell": {
     "cellMetadata": {
      "byteLimit": 2048000,
      "rowLimit": 10000
     },
     "inputWidgets": {},
     "nuid": "75db4464-f28d-428f-8931-bef5f3c148e0",
     "showTitle": false,
     "title": ""
    }
   },
   "outputs": [
    {
     "data": {
      "text/html": [
       "<div>\n",
       "<style scoped>\n",
       "    .dataframe tbody tr th:only-of-type {\n",
       "        vertical-align: middle;\n",
       "    }\n",
       "\n",
       "    .dataframe tbody tr th {\n",
       "        vertical-align: top;\n",
       "    }\n",
       "\n",
       "    .dataframe thead th {\n",
       "        text-align: right;\n",
       "    }\n",
       "</style>\n",
       "<table border=\"1\" class=\"dataframe\">\n",
       "  <thead>\n",
       "    <tr style=\"text-align: right;\">\n",
       "      <th></th>\n",
       "      <th>payloadHomol.intermediarias.faixaScoreExterno</th>\n",
       "      <th>payloadHomol.intermediarias.segmentacaoPolitica</th>\n",
       "      <th>payloadHomol.intermediarias.faixaRendaLiquida</th>\n",
       "      <th>payloadHomol.intermediarias.admissaoMeses</th>\n",
       "      <th>payloadHomol.intermediarias.cpf5e6Digito</th>\n",
       "    </tr>\n",
       "  </thead>\n",
       "  <tbody>\n",
       "    <tr>\n",
       "      <th>0</th>\n",
       "      <td>R1</td>\n",
       "      <td>N1 - FOPAG</td>\n",
       "      <td>a. Sem renda</td>\n",
       "      <td>0</td>\n",
       "      <td>0</td>\n",
       "    </tr>\n",
       "    <tr>\n",
       "      <th>1</th>\n",
       "      <td>R1</td>\n",
       "      <td>N1 - FOPAG</td>\n",
       "      <td>a. Sem renda</td>\n",
       "      <td>0</td>\n",
       "      <td>43</td>\n",
       "    </tr>\n",
       "    <tr>\n",
       "      <th>2</th>\n",
       "      <td>R1</td>\n",
       "      <td>N1 - FOPAG</td>\n",
       "      <td>a. Sem renda</td>\n",
       "      <td>0</td>\n",
       "      <td>44</td>\n",
       "    </tr>\n",
       "    <tr>\n",
       "      <th>3</th>\n",
       "      <td>R1</td>\n",
       "      <td>N1 - FOPAG</td>\n",
       "      <td>a. Sem renda</td>\n",
       "      <td>0</td>\n",
       "      <td>45</td>\n",
       "    </tr>\n",
       "    <tr>\n",
       "      <th>4</th>\n",
       "      <td>R1</td>\n",
       "      <td>N1 - FOPAG</td>\n",
       "      <td>a. Sem renda</td>\n",
       "      <td>0</td>\n",
       "      <td>46</td>\n",
       "    </tr>\n",
       "    <tr>\n",
       "      <th>...</th>\n",
       "      <td>...</td>\n",
       "      <td>...</td>\n",
       "      <td>...</td>\n",
       "      <td>...</td>\n",
       "      <td>...</td>\n",
       "    </tr>\n",
       "    <tr>\n",
       "      <th>14995</th>\n",
       "      <td>R10</td>\n",
       "      <td>N2.1 - Varejo</td>\n",
       "      <td>z. Verificar</td>\n",
       "      <td>5</td>\n",
       "      <td>88</td>\n",
       "    </tr>\n",
       "    <tr>\n",
       "      <th>14996</th>\n",
       "      <td>R10</td>\n",
       "      <td>N2.1 - Varejo</td>\n",
       "      <td>z. Verificar</td>\n",
       "      <td>5</td>\n",
       "      <td>89</td>\n",
       "    </tr>\n",
       "    <tr>\n",
       "      <th>14997</th>\n",
       "      <td>R10</td>\n",
       "      <td>N2.1 - Varejo</td>\n",
       "      <td>z. Verificar</td>\n",
       "      <td>5</td>\n",
       "      <td>90</td>\n",
       "    </tr>\n",
       "    <tr>\n",
       "      <th>14998</th>\n",
       "      <td>R10</td>\n",
       "      <td>N2.1 - Varejo</td>\n",
       "      <td>z. Verificar</td>\n",
       "      <td>5</td>\n",
       "      <td>91</td>\n",
       "    </tr>\n",
       "    <tr>\n",
       "      <th>14999</th>\n",
       "      <td>R10</td>\n",
       "      <td>N2.1 - Varejo</td>\n",
       "      <td>z. Verificar</td>\n",
       "      <td>5</td>\n",
       "      <td>99</td>\n",
       "    </tr>\n",
       "  </tbody>\n",
       "</table>\n",
       "<p>15000 rows × 5 columns</p>\n",
       "</div>"
      ],
      "text/plain": [
       "      payloadHomol.intermediarias.faixaScoreExterno  \\\n",
       "0                                                R1   \n",
       "1                                                R1   \n",
       "2                                                R1   \n",
       "3                                                R1   \n",
       "4                                                R1   \n",
       "...                                             ...   \n",
       "14995                                           R10   \n",
       "14996                                           R10   \n",
       "14997                                           R10   \n",
       "14998                                           R10   \n",
       "14999                                           R10   \n",
       "\n",
       "      payloadHomol.intermediarias.segmentacaoPolitica  \\\n",
       "0                                          N1 - FOPAG   \n",
       "1                                          N1 - FOPAG   \n",
       "2                                          N1 - FOPAG   \n",
       "3                                          N1 - FOPAG   \n",
       "4                                          N1 - FOPAG   \n",
       "...                                               ...   \n",
       "14995                                   N2.1 - Varejo   \n",
       "14996                                   N2.1 - Varejo   \n",
       "14997                                   N2.1 - Varejo   \n",
       "14998                                   N2.1 - Varejo   \n",
       "14999                                   N2.1 - Varejo   \n",
       "\n",
       "      payloadHomol.intermediarias.faixaRendaLiquida  \\\n",
       "0                                      a. Sem renda   \n",
       "1                                      a. Sem renda   \n",
       "2                                      a. Sem renda   \n",
       "3                                      a. Sem renda   \n",
       "4                                      a. Sem renda   \n",
       "...                                             ...   \n",
       "14995                                  z. Verificar   \n",
       "14996                                  z. Verificar   \n",
       "14997                                  z. Verificar   \n",
       "14998                                  z. Verificar   \n",
       "14999                                  z. Verificar   \n",
       "\n",
       "       payloadHomol.intermediarias.admissaoMeses  \\\n",
       "0                                              0   \n",
       "1                                              0   \n",
       "2                                              0   \n",
       "3                                              0   \n",
       "4                                              0   \n",
       "...                                          ...   \n",
       "14995                                          5   \n",
       "14996                                          5   \n",
       "14997                                          5   \n",
       "14998                                          5   \n",
       "14999                                          5   \n",
       "\n",
       "       payloadHomol.intermediarias.cpf5e6Digito  \n",
       "0                                             0  \n",
       "1                                            43  \n",
       "2                                            44  \n",
       "3                                            45  \n",
       "4                                            46  \n",
       "...                                         ...  \n",
       "14995                                        88  \n",
       "14996                                        89  \n",
       "14997                                        90  \n",
       "14998                                        91  \n",
       "14999                                        99  \n",
       "\n",
       "[15000 rows x 5 columns]"
      ]
     },
     "execution_count": 6,
     "metadata": {},
     "output_type": "execute_result"
    }
   ],
   "source": [
    "massa_TabelaMarAberto.get_massa_final()"
   ]
  },
  {
   "cell_type": "markdown",
   "metadata": {
    "application/vnd.databricks.v1+cell": {
     "cellMetadata": {
      "byteLimit": 2048000,
      "rowLimit": 10000
     },
     "inputWidgets": {},
     "nuid": "eb740731-8c51-4001-b344-5b6c3a5fa1c8",
     "showTitle": false,
     "title": ""
    }
   },
   "source": [
    "### Execução Modular e Geração de CSV"
   ]
  },
  {
   "cell_type": "code",
   "execution_count": 7,
   "metadata": {
    "application/vnd.databricks.v1+cell": {
     "cellMetadata": {
      "byteLimit": 2048000,
      "rowLimit": 10000
     },
     "inputWidgets": {},
     "nuid": "8aeca2b3-ed0d-463d-97f4-dd3f48444bcb",
     "showTitle": false,
     "title": ""
    }
   },
   "outputs": [],
   "source": [
    "#EXEC MULTI NUCLEOS\n",
    "#listaResultado = rp.execucaoModularConcurrent(massa_TabelaMarAberto.get_massa_json(),rp.SubGruposMarAberto)"
   ]
  },
  {
   "cell_type": "code",
   "execution_count": 8,
   "metadata": {
    "application/vnd.databricks.v1+cell": {
     "cellMetadata": {
      "byteLimit": 2048000,
      "rowLimit": 10000
     },
     "inputWidgets": {},
     "nuid": "c329dc19-e497-47f5-830a-6863a4bb2de5",
     "showTitle": false,
     "title": ""
    }
   },
   "outputs": [
    {
     "ename": "KeyError",
     "evalue": "'limiteTeto'",
     "output_type": "error",
     "traceback": [
      "\u001b[1;31m---------------------------------------------------------------------------\u001b[0m",
      "\u001b[1;31mKeyError\u001b[0m                                  Traceback (most recent call last)",
      "File \u001b[1;32mc:\\Users\\T51657\\AppData\\Local\\Programs\\Python\\Python311\\Lib\\site-packages\\pandas\\core\\indexes\\base.py:3805\u001b[0m, in \u001b[0;36mIndex.get_loc\u001b[1;34m(self, key)\u001b[0m\n\u001b[0;32m   3804\u001b[0m \u001b[38;5;28;01mtry\u001b[39;00m:\n\u001b[1;32m-> 3805\u001b[0m     \u001b[38;5;28;01mreturn\u001b[39;00m \u001b[38;5;28;43mself\u001b[39;49m\u001b[38;5;241;43m.\u001b[39;49m\u001b[43m_engine\u001b[49m\u001b[38;5;241;43m.\u001b[39;49m\u001b[43mget_loc\u001b[49m\u001b[43m(\u001b[49m\u001b[43mcasted_key\u001b[49m\u001b[43m)\u001b[49m\n\u001b[0;32m   3806\u001b[0m \u001b[38;5;28;01mexcept\u001b[39;00m \u001b[38;5;167;01mKeyError\u001b[39;00m \u001b[38;5;28;01mas\u001b[39;00m err:\n",
      "File \u001b[1;32mindex.pyx:167\u001b[0m, in \u001b[0;36mpandas._libs.index.IndexEngine.get_loc\u001b[1;34m()\u001b[0m\n",
      "File \u001b[1;32mindex.pyx:196\u001b[0m, in \u001b[0;36mpandas._libs.index.IndexEngine.get_loc\u001b[1;34m()\u001b[0m\n",
      "File \u001b[1;32mpandas\\\\_libs\\\\hashtable_class_helper.pxi:7081\u001b[0m, in \u001b[0;36mpandas._libs.hashtable.PyObjectHashTable.get_item\u001b[1;34m()\u001b[0m\n",
      "File \u001b[1;32mpandas\\\\_libs\\\\hashtable_class_helper.pxi:7089\u001b[0m, in \u001b[0;36mpandas._libs.hashtable.PyObjectHashTable.get_item\u001b[1;34m()\u001b[0m\n",
      "\u001b[1;31mKeyError\u001b[0m: 'limiteTeto'",
      "\nThe above exception was the direct cause of the following exception:\n",
      "\u001b[1;31mKeyError\u001b[0m                                  Traceback (most recent call last)",
      "Cell \u001b[1;32mIn[8], line 2\u001b[0m\n\u001b[0;32m      1\u001b[0m \u001b[38;5;66;03m#EXEC NORMAL\u001b[39;00m\n\u001b[1;32m----> 2\u001b[0m listaResultado \u001b[38;5;241m=\u001b[39m \u001b[43mrp\u001b[49m\u001b[38;5;241;43m.\u001b[39;49m\u001b[43mexecucaoModular\u001b[49m\u001b[43m(\u001b[49m\u001b[43mmassa_TabelaMarAberto\u001b[49m\u001b[38;5;241;43m.\u001b[39;49m\u001b[43mget_massa_json\u001b[49m\u001b[43m(\u001b[49m\u001b[43m)\u001b[49m\u001b[43m,\u001b[49m\u001b[43mrp\u001b[49m\u001b[38;5;241;43m.\u001b[39;49m\u001b[43mSubGruposMarAberto\u001b[49m\u001b[43m)\u001b[49m\n",
      "File \u001b[1;32mc:\\Users\\T51657\\Desktop\\Homologação\\Modelos Online\\v2\\regras_politica.py:59\u001b[0m, in \u001b[0;36mexecucaoModular\u001b[1;34m(payload_entrada, modulo)\u001b[0m\n\u001b[0;32m     56\u001b[0m lista_resultado \u001b[38;5;241m=\u001b[39m []\n\u001b[0;32m     58\u001b[0m \u001b[38;5;28;01mfor\u001b[39;00m payload \u001b[38;5;129;01min\u001b[39;00m lista_payloads:\n\u001b[1;32m---> 59\u001b[0m     payload \u001b[38;5;241m=\u001b[39m \u001b[43mmodulo\u001b[49m\u001b[43m(\u001b[49m\u001b[43mpayload\u001b[49m\u001b[43m)\u001b[49m\n\u001b[0;32m     60\u001b[0m     lista_resultado\u001b[38;5;241m.\u001b[39mappend(payload)\n\u001b[0;32m     62\u001b[0m \u001b[38;5;28;01mreturn\u001b[39;00m lista_resultado\n",
      "File \u001b[1;32mc:\\Users\\T51657\\Desktop\\Homologação\\Modelos Online\\v2\\regras_politica.py:1514\u001b[0m, in \u001b[0;36mSubGruposMarAberto\u001b[1;34m(payload)\u001b[0m\n\u001b[0;32m   1512\u001b[0m segmentacao         \u001b[38;5;241m=\u001b[39m linha_tab\u001b[38;5;241m.\u001b[39miloc[\u001b[38;5;241m0\u001b[39m][\u001b[38;5;124m'\u001b[39m\u001b[38;5;124mSEGMENTAÇÃO FINAL\u001b[39m\u001b[38;5;124m'\u001b[39m]\n\u001b[0;32m   1513\u001b[0m alavancagem         \u001b[38;5;241m=\u001b[39m linha_tab\u001b[38;5;241m.\u001b[39miloc[\u001b[38;5;241m0\u001b[39m][\u001b[38;5;124m'\u001b[39m\u001b[38;5;124malavancagem\u001b[39m\u001b[38;5;124m'\u001b[39m]\n\u001b[1;32m-> 1514\u001b[0m limiteTeto          \u001b[38;5;241m=\u001b[39m \u001b[43mlinha_tab\u001b[49m\u001b[38;5;241;43m.\u001b[39;49m\u001b[43miloc\u001b[49m\u001b[43m[\u001b[49m\u001b[38;5;241;43m0\u001b[39;49m\u001b[43m]\u001b[49m\u001b[43m[\u001b[49m\u001b[38;5;124;43m'\u001b[39;49m\u001b[38;5;124;43mlimiteTeto\u001b[39;49m\u001b[38;5;124;43m'\u001b[39;49m\u001b[43m]\u001b[49m\n\u001b[0;32m   1515\u001b[0m limitePiso          \u001b[38;5;241m=\u001b[39m linha_tab\u001b[38;5;241m.\u001b[39miloc[\u001b[38;5;241m0\u001b[39m][\u001b[38;5;124m'\u001b[39m\u001b[38;5;124mlimitePiso\u001b[39m\u001b[38;5;124m'\u001b[39m]\n\u001b[0;32m   1516\u001b[0m limiteFixo          \u001b[38;5;241m=\u001b[39m linha_tab\u001b[38;5;241m.\u001b[39miloc[\u001b[38;5;241m0\u001b[39m][\u001b[38;5;124m'\u001b[39m\u001b[38;5;124mlimiteFixo\u001b[39m\u001b[38;5;124m'\u001b[39m]\n",
      "File \u001b[1;32mc:\\Users\\T51657\\AppData\\Local\\Programs\\Python\\Python311\\Lib\\site-packages\\pandas\\core\\series.py:1121\u001b[0m, in \u001b[0;36mSeries.__getitem__\u001b[1;34m(self, key)\u001b[0m\n\u001b[0;32m   1118\u001b[0m     \u001b[38;5;28;01mreturn\u001b[39;00m \u001b[38;5;28mself\u001b[39m\u001b[38;5;241m.\u001b[39m_values[key]\n\u001b[0;32m   1120\u001b[0m \u001b[38;5;28;01melif\u001b[39;00m key_is_scalar:\n\u001b[1;32m-> 1121\u001b[0m     \u001b[38;5;28;01mreturn\u001b[39;00m \u001b[38;5;28;43mself\u001b[39;49m\u001b[38;5;241;43m.\u001b[39;49m\u001b[43m_get_value\u001b[49m\u001b[43m(\u001b[49m\u001b[43mkey\u001b[49m\u001b[43m)\u001b[49m\n\u001b[0;32m   1123\u001b[0m \u001b[38;5;66;03m# Convert generator to list before going through hashable part\u001b[39;00m\n\u001b[0;32m   1124\u001b[0m \u001b[38;5;66;03m# (We will iterate through the generator there to check for slices)\u001b[39;00m\n\u001b[0;32m   1125\u001b[0m \u001b[38;5;28;01mif\u001b[39;00m is_iterator(key):\n",
      "File \u001b[1;32mc:\\Users\\T51657\\AppData\\Local\\Programs\\Python\\Python311\\Lib\\site-packages\\pandas\\core\\series.py:1237\u001b[0m, in \u001b[0;36mSeries._get_value\u001b[1;34m(self, label, takeable)\u001b[0m\n\u001b[0;32m   1234\u001b[0m     \u001b[38;5;28;01mreturn\u001b[39;00m \u001b[38;5;28mself\u001b[39m\u001b[38;5;241m.\u001b[39m_values[label]\n\u001b[0;32m   1236\u001b[0m \u001b[38;5;66;03m# Similar to Index.get_value, but we do not fall back to positional\u001b[39;00m\n\u001b[1;32m-> 1237\u001b[0m loc \u001b[38;5;241m=\u001b[39m \u001b[38;5;28;43mself\u001b[39;49m\u001b[38;5;241;43m.\u001b[39;49m\u001b[43mindex\u001b[49m\u001b[38;5;241;43m.\u001b[39;49m\u001b[43mget_loc\u001b[49m\u001b[43m(\u001b[49m\u001b[43mlabel\u001b[49m\u001b[43m)\u001b[49m\n\u001b[0;32m   1239\u001b[0m \u001b[38;5;28;01mif\u001b[39;00m is_integer(loc):\n\u001b[0;32m   1240\u001b[0m     \u001b[38;5;28;01mreturn\u001b[39;00m \u001b[38;5;28mself\u001b[39m\u001b[38;5;241m.\u001b[39m_values[loc]\n",
      "File \u001b[1;32mc:\\Users\\T51657\\AppData\\Local\\Programs\\Python\\Python311\\Lib\\site-packages\\pandas\\core\\indexes\\base.py:3812\u001b[0m, in \u001b[0;36mIndex.get_loc\u001b[1;34m(self, key)\u001b[0m\n\u001b[0;32m   3807\u001b[0m     \u001b[38;5;28;01mif\u001b[39;00m \u001b[38;5;28misinstance\u001b[39m(casted_key, \u001b[38;5;28mslice\u001b[39m) \u001b[38;5;129;01mor\u001b[39;00m (\n\u001b[0;32m   3808\u001b[0m         \u001b[38;5;28misinstance\u001b[39m(casted_key, abc\u001b[38;5;241m.\u001b[39mIterable)\n\u001b[0;32m   3809\u001b[0m         \u001b[38;5;129;01mand\u001b[39;00m \u001b[38;5;28many\u001b[39m(\u001b[38;5;28misinstance\u001b[39m(x, \u001b[38;5;28mslice\u001b[39m) \u001b[38;5;28;01mfor\u001b[39;00m x \u001b[38;5;129;01min\u001b[39;00m casted_key)\n\u001b[0;32m   3810\u001b[0m     ):\n\u001b[0;32m   3811\u001b[0m         \u001b[38;5;28;01mraise\u001b[39;00m InvalidIndexError(key)\n\u001b[1;32m-> 3812\u001b[0m     \u001b[38;5;28;01mraise\u001b[39;00m \u001b[38;5;167;01mKeyError\u001b[39;00m(key) \u001b[38;5;28;01mfrom\u001b[39;00m \u001b[38;5;21;01merr\u001b[39;00m\n\u001b[0;32m   3813\u001b[0m \u001b[38;5;28;01mexcept\u001b[39;00m \u001b[38;5;167;01mTypeError\u001b[39;00m:\n\u001b[0;32m   3814\u001b[0m     \u001b[38;5;66;03m# If we have a listlike key, _check_indexing_error will raise\u001b[39;00m\n\u001b[0;32m   3815\u001b[0m     \u001b[38;5;66;03m#  InvalidIndexError. Otherwise we fall through and re-raise\u001b[39;00m\n\u001b[0;32m   3816\u001b[0m     \u001b[38;5;66;03m#  the TypeError.\u001b[39;00m\n\u001b[0;32m   3817\u001b[0m     \u001b[38;5;28mself\u001b[39m\u001b[38;5;241m.\u001b[39m_check_indexing_error(key)\n",
      "\u001b[1;31mKeyError\u001b[0m: 'limiteTeto'"
     ]
    }
   ],
   "source": [
    "#EXEC NORMAL\n",
    "listaResultado = rp.execucaoModular(massa_TabelaMarAberto.get_massa_json(),rp.SubGruposMarAberto)"
   ]
  },
  {
   "cell_type": "code",
   "execution_count": null,
   "metadata": {
    "application/vnd.databricks.v1+cell": {
     "cellMetadata": {
      "byteLimit": 2048000,
      "rowLimit": 10000
     },
     "inputWidgets": {},
     "nuid": "a1b38fc4-4f05-4532-adcb-b302064f9d53",
     "showTitle": false,
     "title": ""
    }
   },
   "outputs": [],
   "source": [
    "print(json.dumps(listaResultado[0],indent = 4))"
   ]
  },
  {
   "cell_type": "markdown",
   "metadata": {
    "application/vnd.databricks.v1+cell": {
     "cellMetadata": {
      "byteLimit": 2048000,
      "rowLimit": 10000
     },
     "inputWidgets": {},
     "nuid": "fb9de440-abae-4f4f-851b-56bd80fee5f5",
     "showTitle": false,
     "title": ""
    }
   },
   "source": [
    "##### Valida se todas condições estão sendo abordadas"
   ]
  },
  {
   "cell_type": "code",
   "execution_count": null,
   "metadata": {
    "application/vnd.databricks.v1+cell": {
     "cellMetadata": {
      "byteLimit": 2048000,
      "rowLimit": 10000
     },
     "inputWidgets": {},
     "nuid": "62bd3b85-2b1a-4b16-85af-3056368e2668",
     "showTitle": false,
     "title": ""
    }
   },
   "outputs": [],
   "source": [
    "# buscando um perfil de cliente para análise\n",
    "for payload in listaResultado:\n",
    "    if (payload['payloadHomol']['intermediarias']['faixaScoreExterno']  == \"R1\"\n",
    "        and\n",
    "        payload['payloadHomol']['intermediarias']['segmentacaoPolitica'] == \"N1 - FOPAG\"\n",
    "        and \n",
    "        payload['payloadHomol']['intermediarias']['faixaRendaLiquida'] == \"b. < 4k\"\n",
    "        and\n",
    "        payload['payloadHomol']['intermediarias']['admissaoMeses'] == 1\n",
    "        ):\n",
    "        print(json.dumps(payload,indent = 4))\n",
    "        break"
   ]
  },
  {
   "cell_type": "code",
   "execution_count": null,
   "metadata": {
    "application/vnd.databricks.v1+cell": {
     "cellMetadata": {
      "byteLimit": 2048000,
      "rowLimit": 10000
     },
     "inputWidgets": {},
     "nuid": "bfeb2e6b-deac-489e-adf7-9f407045e0c5",
     "showTitle": false,
     "title": ""
    }
   },
   "outputs": [],
   "source": [
    "# mudando o max de display de linhas dos dataframes desse notebook\n",
    "pd.set_option('display.max_rows', 300) \n",
    "import pandas as pd\n",
    "\n",
    "# fazendo freq para analisar se todos os cenários da tabela são abordados na massa\n",
    "results = []\n",
    "for caso in listaResultado:\n",
    "    results.append(caso['payloadHomol']['intermediarias']['cenario'])\n",
    "    \n",
    "freqzinha = pd.DataFrame(results, columns=['valor'])\n",
    "freqzinha['Freq'] = freqzinha['valor'].map(freqzinha['valor'].value_counts())\n",
    "freqzinha = freqzinha.drop_duplicates().reset_index(drop=True)\n",
    "freqzinha.sort_values(by='valor', ascending=True)"
   ]
  },
  {
   "cell_type": "code",
   "execution_count": null,
   "metadata": {
    "application/vnd.databricks.v1+cell": {
     "cellMetadata": {
      "byteLimit": 2048000,
      "rowLimit": 10000
     },
     "inputWidgets": {},
     "nuid": "2078b0b0-6495-4f94-98d6-a217b919260e",
     "showTitle": false,
     "title": ""
    }
   },
   "outputs": [],
   "source": [
    "# Renomeação das colunas para o cabeçalho do RMA\n",
    "massa_TabelaMarAberto.rename_cabecalho()"
   ]
  },
  {
   "cell_type": "code",
   "execution_count": null,
   "metadata": {
    "application/vnd.databricks.v1+cell": {
     "cellMetadata": {
      "byteLimit": 2048000,
      "rowLimit": 10000
     },
     "inputWidgets": {},
     "nuid": "38b8cfa0-bbde-454a-8161-58eab64c4ee2",
     "showTitle": false,
     "title": ""
    }
   },
   "outputs": [],
   "source": [
    "massa_TabelaMarAberto.get_massa_dm()"
   ]
  },
  {
   "cell_type": "code",
   "execution_count": null,
   "metadata": {
    "application/vnd.databricks.v1+cell": {
     "cellMetadata": {
      "byteLimit": 2048000,
      "rowLimit": 10000
     },
     "inputWidgets": {},
     "nuid": "70c8cc47-b4fa-4b18-9081-7194de90794e",
     "showTitle": false,
     "title": ""
    }
   },
   "outputs": [],
   "source": [
    "massa_TabelaMarAberto.atribui_expected(listaResultado,\"payloadHomol.intermediarias.segmentacao\",\"segmentacaoSubgrupo\")\n",
    "massa_TabelaMarAberto.atribui_expected(listaResultado,\"payloadHomol.intermediarias.alavancagem\",\"alavancagem\")\n",
    "massa_TabelaMarAberto.atribui_expected(listaResultado,\"payloadHomol.intermediarias.limiteTeto\",\"limiteTeto\")\n",
    "massa_TabelaMarAberto.atribui_expected(listaResultado,\"payloadHomol.intermediarias.limitePiso\",\"limitePiso\")\n",
    "massa_TabelaMarAberto.atribui_expected(listaResultado,\"payloadHomol.intermediarias.limiteFixo\",\"limiteFixo\")\n",
    "massa_TabelaMarAberto.atribui_expected(listaResultado,\"payloadHomol.intermediarias.aprovadoBAUAux\",\"aprovadoBAUAux\")\n",
    "massa_TabelaMarAberto.atribui_expected(listaResultado,\"payloadHomol.intermediarias.aprovadoSLAux\",\"aprovadoSmallLimitsAux\")\n",
    "\n",
    "massa_TabelaMarAberto.get_massa_dm()"
   ]
  },
  {
   "cell_type": "markdown",
   "metadata": {
    "application/vnd.databricks.v1+cell": {
     "cellMetadata": {
      "byteLimit": 2048000,
      "rowLimit": 10000
     },
     "inputWidgets": {},
     "nuid": "12a6211e-1068-4b86-9a7b-64b0e7d36065",
     "showTitle": false,
     "title": ""
    }
   },
   "source": [
    "### Conversão da massa para CSV"
   ]
  },
  {
   "cell_type": "code",
   "execution_count": null,
   "metadata": {
    "application/vnd.databricks.v1+cell": {
     "cellMetadata": {
      "byteLimit": 2048000,
      "rowLimit": 10000
     },
     "inputWidgets": {},
     "nuid": "5cd78e58-1843-46b5-86b6-608b7bb094f7",
     "showTitle": false,
     "title": ""
    }
   },
   "outputs": [],
   "source": [
    "massa_TabelaMarAberto.get_massa_dm().to_csv('C:/Users/T51657/Desktop/Homologação/Modelos Online/v2/massas/Modulares/massaDefinicaoTabelasSubGruposMarAberto.csv',index=False)"
   ]
  }
 ],
 "metadata": {
  "application/vnd.databricks.v1+notebook": {
   "dashboards": [],
   "language": "python",
   "notebookMetadata": {
    "pythonIndentUnit": 4
   },
   "notebookName": "homol_modular_DefinicaoTabelasMarAberto ( subgrupos, marcações de aprovados )",
   "widgets": {}
  },
  "kernelspec": {
   "display_name": "Python 3",
   "language": "python",
   "name": "python3"
  },
  "language_info": {
   "codemirror_mode": {
    "name": "ipython",
    "version": 3
   },
   "file_extension": ".py",
   "mimetype": "text/x-python",
   "name": "python",
   "nbconvert_exporter": "python",
   "pygments_lexer": "ipython3",
   "version": "3.11.8"
  }
 },
 "nbformat": 4,
 "nbformat_minor": 0
}
