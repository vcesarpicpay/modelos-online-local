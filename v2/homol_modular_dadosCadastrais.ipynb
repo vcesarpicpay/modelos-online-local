{
 "cells": [
  {
   "cell_type": "code",
   "execution_count": null,
   "metadata": {
    "application/vnd.databricks.v1+cell": {
     "cellMetadata": {
      "byteLimit": 2048000,
      "rowLimit": 10000
     },
     "inputWidgets": {},
     "nuid": "f080c6d5-3c16-4ab8-987c-674652bb70d0",
     "showTitle": false,
     "title": ""
    }
   },
   "outputs": [],
   "source": [
    "dbutils.library.restartPython()"
   ]
  },
  {
   "cell_type": "markdown",
   "metadata": {
    "application/vnd.databricks.v1+cell": {
     "cellMetadata": {
      "byteLimit": 2048000,
      "rowLimit": 10000
     },
     "inputWidgets": {},
     "nuid": "29d9597e-4ddd-48c0-a79c-1c2f1a05d817",
     "showTitle": false,
     "title": ""
    }
   },
   "source": [
    "# Import de Funções e Libs"
   ]
  },
  {
   "cell_type": "markdown",
   "metadata": {
    "application/vnd.databricks.v1+cell": {
     "cellMetadata": {
      "byteLimit": 2048000,
      "rowLimit": 10000
     },
     "inputWidgets": {},
     "nuid": "086ba727-64bb-4ffb-8b2d-8120717eb595",
     "showTitle": false,
     "title": ""
    }
   },
   "source": [
    "As bibliotecas e funções utilizadas ao longo do código devem ser adicionadas aqui"
   ]
  },
  {
   "cell_type": "code",
   "execution_count": null,
   "metadata": {
    "application/vnd.databricks.v1+cell": {
     "cellMetadata": {
      "byteLimit": 2048000,
      "rowLimit": 10000
     },
     "inputWidgets": {},
     "nuid": "0079f4cf-bd14-4963-a936-614199f354be",
     "showTitle": false,
     "title": ""
    }
   },
   "outputs": [],
   "source": [
    "import numpy as np\n",
    "import pandas as pd\n",
    "import requests\n",
    "import json\n",
    "import sherlock\n",
    "import regras_politica as rp"
   ]
  },
  {
   "cell_type": "markdown",
   "metadata": {
    "application/vnd.databricks.v1+cell": {
     "cellMetadata": {
      "byteLimit": 2048000,
      "rowLimit": 10000
     },
     "inputWidgets": {},
     "nuid": "a40df83c-91bd-4e95-967e-1dbcb0350251",
     "showTitle": false,
     "title": ""
    }
   },
   "source": [
    "# Testes Modulares"
   ]
  },
  {
   "cell_type": "markdown",
   "metadata": {
    "application/vnd.databricks.v1+cell": {
     "cellMetadata": {
      "byteLimit": 2048000,
      "rowLimit": 10000
     },
     "inputWidgets": {},
     "nuid": "7c67e265-5579-4e54-a9ad-5005db8534d5",
     "showTitle": false,
     "title": ""
    }
   },
   "source": [
    "### Geração de Massa"
   ]
  },
  {
   "cell_type": "code",
   "execution_count": null,
   "metadata": {
    "application/vnd.databricks.v1+cell": {
     "cellMetadata": {
      "byteLimit": 2048000,
      "rowLimit": 10000
     },
     "inputWidgets": {},
     "nuid": "00a378cc-d5a3-4a13-8fdb-6102a850e155",
     "showTitle": false,
     "title": ""
    }
   },
   "outputs": [],
   "source": [
    "#Gerando a massa modelo passando o caminho do JSON como nome da variável\n",
    "base_entrada = pd.DataFrame({'etapa':['BUREAU CADASTRAL'],\n",
    "                             'flagErroReceitaFederal':[False],\n",
    "                             'flagErroCredilink':[False],\n",
    "                             \"marcacaoMesa\":[\"XPTO\"],\n",
    "                             'solicitante.credilink.obito':[\"NAO\"],\n",
    "                             'solicitante.credilink.situacaoDocumento':[\"regular\"]\n",
    "                             })"
   ]
  },
  {
   "cell_type": "code",
   "execution_count": null,
   "metadata": {
    "application/vnd.databricks.v1+cell": {
     "cellMetadata": {
      "byteLimit": 2048000,
      "rowLimit": 10000
     },
     "inputWidgets": {},
     "nuid": "42e50835-9f3a-4bb0-9811-f8d19359f35c",
     "showTitle": false,
     "title": ""
    }
   },
   "outputs": [],
   "source": [
    "# Teste de casos de erro na chamada de origens\n",
    "massa_validaDadosCadastrais1 = sherlock.Gera_Massa(base_entrada)\n",
    "massa_validaDadosCadastrais1.gera_cenario('etapa',['BUREAU CADASTRAL'])\n",
    "massa_validaDadosCadastrais1.gera_cenario('flagErroReceitaFederal',[False]) # a regra de erro bacen é executada no decision flow, testaremos no e2e\n",
    "massa_validaDadosCadastrais1.gera_cenario('flagErroCredilink',[False]) # a regra de erro bacen é executada no decision flow, testaremos no e2e\n",
    "massa_validaDadosCadastrais1.gera_cenario('marcacaoMesa',[\"XPTO\",\"MESA\"]) \n",
    "massa_validaDadosCadastrais1.gera_cenario('solicitante.credilink.obito',[\"NAO\",\"SIM\",\"-99999\"]) \n",
    "massa_validaDadosCadastrais1.gera_cenario('solicitante.credilink.situacaoDocumento',[\"regular\",\"xyz\",\"-99999\"]) \n",
    "\n",
    "massa_validaDadosCadastrais1 = massa_validaDadosCadastrais1.get_massa_final()\n",
    "\n",
    "massa_validaDadosCadastrais = sherlock.Gera_Massa(base_entrada)\n",
    "massa_validaDadosCadastrais.empilha_massas([\n",
    "                                           massa_validaDadosCadastrais1\n",
    "                                           ])\n",
    "       \n",
    "massa_validaDadosCadastrais.set_bom_arqv()\n",
    "massa_validaDadosCadastrais.converte_massa()"
   ]
  },
  {
   "cell_type": "markdown",
   "metadata": {
    "application/vnd.databricks.v1+cell": {
     "cellMetadata": {
      "byteLimit": 2048000,
      "rowLimit": 10000
     },
     "inputWidgets": {},
     "nuid": "5349f7f7-35c9-432c-9dd2-ca690129bc1a",
     "showTitle": false,
     "title": ""
    }
   },
   "source": [
    "### Execução Modular e Geração de CSV"
   ]
  },
  {
   "cell_type": "code",
   "execution_count": null,
   "metadata": {
    "application/vnd.databricks.v1+cell": {
     "cellMetadata": {
      "byteLimit": 2048000,
      "rowLimit": 10000
     },
     "inputWidgets": {},
     "nuid": "e62974bd-d966-4928-82b2-137ede797bfe",
     "showTitle": false,
     "title": ""
    }
   },
   "outputs": [],
   "source": [
    "#Execução modular\n",
    "listaResultado = rp.execucaoModular(massa_validaDadosCadastrais.get_massa_json(),rp.validaDadosCadastrais)"
   ]
  },
  {
   "cell_type": "code",
   "execution_count": null,
   "metadata": {
    "application/vnd.databricks.v1+cell": {
     "cellMetadata": {
      "byteLimit": 2048000,
      "rowLimit": 10000
     },
     "inputWidgets": {},
     "nuid": "db36f68d-3c3a-4601-a458-ce6e8748330a",
     "showTitle": false,
     "title": ""
    }
   },
   "outputs": [],
   "source": [
    "import pandas as pd\n",
    "results = []\n",
    "for caso in listaResultado:\n",
    "    results.append(caso['payloadHomol']['intermediarias']['passouDadosCadastrais'])\n",
    "    \n",
    "freqzinha = pd.DataFrame(results, columns=['valor'])\n",
    "freqzinha['Freq'] = freqzinha['valor'].map(freqzinha['valor'].value_counts())\n",
    "freqzinha = freqzinha.drop_duplicates().reset_index(drop=True)\n",
    "\n",
    "freqzinha = freqzinha.sort_values('valor', ascending=True)\n",
    "freqzinha"
   ]
  },
  {
   "cell_type": "code",
   "execution_count": null,
   "metadata": {
    "application/vnd.databricks.v1+cell": {
     "cellMetadata": {
      "byteLimit": 2048000,
      "rowLimit": 10000
     },
     "inputWidgets": {},
     "nuid": "5da40499-2c00-464c-8176-5d7764b2f654",
     "showTitle": false,
     "title": ""
    }
   },
   "outputs": [],
   "source": [
    "# Renomeação das colunas para o cabeçalho do RMA\n",
    "massa_validaDadosCadastrais.rename_cabecalho()\n",
    "\n",
    "#Contagem da qtd de regras negativas em que o cliente se enquadrou\n",
    "tam = 0\n",
    "for x in listaResultado:\n",
    "    t = len(x['payloadHomol']['saidas']['regrasNegativas'])\n",
    "    x['payloadHomol']['saidas']['qtdNegativas'] = t\n",
    "    if t > tam:\n",
    "        tam = t\n",
    "\n",
    "print(\"tam: \"+str(tam))\n",
    "\n",
    "for y in range (0,tam):\n",
    "    massa_validaDadosCadastrais.atribui_expected(listaResultado,\"payloadHomol.saidas.regrasNegativas.\"+str(y)+\".nomeRegra\",\"regrasNegativas#\"+str(y+1)+\".nomeRegra\")\n",
    "    massa_validaDadosCadastrais.atribui_expected(listaResultado,\"payloadHomol.saidas.regrasNegativas.\"+str(y)+\".descricao\",\"regrasNegativas#\"+str(y+1)+\".descRegra\")\n",
    "\n",
    "massa_validaDadosCadastrais.atribui_expected(listaResultado,'payloadHomol.saidas.statusDecisao','statusDecisao')\n",
    "massa_validaDadosCadastrais.atribui_expected(listaResultado,'payloadHomol.saidas.vlrLimiteAprovado','vlrLimiteAprovado')\n",
    "massa_validaDadosCadastrais.atribui_expected(listaResultado,'payloadHomol.saidas.qtdNegativas','versionamentoPolitica')\n",
    "\n",
    "massa_validaDadosCadastrais.get_massa_dm()"
   ]
  },
  {
   "cell_type": "markdown",
   "metadata": {
    "application/vnd.databricks.v1+cell": {
     "cellMetadata": {
      "byteLimit": 2048000,
      "rowLimit": 10000
     },
     "inputWidgets": {},
     "nuid": "1483061c-0274-484f-be51-212755c89044",
     "showTitle": false,
     "title": ""
    }
   },
   "source": [
    "### Conversão da massa para CSV"
   ]
  },
  {
   "cell_type": "code",
   "execution_count": null,
   "metadata": {
    "application/vnd.databricks.v1+cell": {
     "cellMetadata": {
      "byteLimit": 2048000,
      "rowLimit": 10000
     },
     "inputWidgets": {},
     "nuid": "b545c6ca-1290-44be-8c6e-d122bcb6f7c6",
     "showTitle": false,
     "title": ""
    }
   },
   "outputs": [],
   "source": [
    "massa_validaDadosCadastrais.get_massa_dm().to_csv('C:/Users/T51657/Desktop/Homologação/Modelos Online/v2/massas/Modulares/massaValidaDadosCadastrais.csv',index=False)"
   ]
  },
  {
   "cell_type": "markdown",
   "metadata": {
    "application/vnd.databricks.v1+cell": {
     "cellMetadata": {
      "byteLimit": 2048000,
      "rowLimit": 10000
     },
     "inputWidgets": {},
     "nuid": "45dec028-c61d-42c7-ab73-85971764fde1",
     "showTitle": false,
     "title": ""
    }
   },
   "source": [
    "#"
   ]
  }
 ],
 "metadata": {
  "application/vnd.databricks.v1+notebook": {
   "dashboards": [],
   "language": "python",
   "notebookMetadata": {
    "pythonIndentUnit": 4
   },
   "notebookName": "homol_modular_dadosCadastrais",
   "widgets": {}
  },
  "kernelspec": {
   "display_name": "Python 3",
   "language": "python",
   "name": "python3"
  },
  "language_info": {
   "codemirror_mode": {
    "name": "ipython",
    "version": 3
   },
   "file_extension": ".py",
   "mimetype": "text/x-python",
   "name": "python",
   "nbconvert_exporter": "python",
   "pygments_lexer": "ipython3",
   "version": "3.12.0"
  }
 },
 "nbformat": 4,
 "nbformat_minor": 0
}
