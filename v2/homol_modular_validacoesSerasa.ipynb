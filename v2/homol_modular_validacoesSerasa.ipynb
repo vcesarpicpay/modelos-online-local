{
 "cells": [
  {
   "cell_type": "code",
   "execution_count": null,
   "metadata": {
    "application/vnd.databricks.v1+cell": {
     "cellMetadata": {
      "byteLimit": 2048000,
      "rowLimit": 10000
     },
     "inputWidgets": {},
     "nuid": "6da3bcf2-11f6-4c72-9538-a6d1eec33746",
     "showTitle": false,
     "title": ""
    }
   },
   "outputs": [],
   "source": [
    "dbutils.library.restartPython()"
   ]
  },
  {
   "cell_type": "markdown",
   "metadata": {
    "application/vnd.databricks.v1+cell": {
     "cellMetadata": {
      "byteLimit": 2048000,
      "rowLimit": 10000
     },
     "inputWidgets": {},
     "nuid": "7d8b26a6-24e8-44b4-aa55-da5130cf9f7c",
     "showTitle": false,
     "title": ""
    }
   },
   "source": [
    "# Import de Funções e Libs"
   ]
  },
  {
   "cell_type": "markdown",
   "metadata": {
    "application/vnd.databricks.v1+cell": {
     "cellMetadata": {
      "byteLimit": 2048000,
      "rowLimit": 10000
     },
     "inputWidgets": {},
     "nuid": "ab39fa76-1fbb-423c-95ed-84149af77d41",
     "showTitle": false,
     "title": ""
    }
   },
   "source": [
    "As bibliotecas e funções utilizadas ao longo do código devem ser adicionadas aqui"
   ]
  },
  {
   "cell_type": "code",
   "execution_count": null,
   "metadata": {
    "application/vnd.databricks.v1+cell": {
     "cellMetadata": {
      "byteLimit": 2048000,
      "rowLimit": 10000
     },
     "inputWidgets": {},
     "nuid": "616e34ec-abd2-4eb9-b10b-69dda8fd49d4",
     "showTitle": false,
     "title": ""
    }
   },
   "outputs": [],
   "source": [
    "import numpy as np\n",
    "import pandas as pd\n",
    "import requests\n",
    "import json\n",
    "import sherlock\n",
    "import regras_politica as rp"
   ]
  },
  {
   "cell_type": "markdown",
   "metadata": {
    "application/vnd.databricks.v1+cell": {
     "cellMetadata": {
      "byteLimit": 2048000,
      "rowLimit": 10000
     },
     "inputWidgets": {},
     "nuid": "8fdba3b2-3820-40f1-8e7f-d38b7b2d90fe",
     "showTitle": false,
     "title": ""
    }
   },
   "source": [
    "# Testes Modulares"
   ]
  },
  {
   "cell_type": "markdown",
   "metadata": {
    "application/vnd.databricks.v1+cell": {
     "cellMetadata": {
      "byteLimit": 2048000,
      "rowLimit": 10000
     },
     "inputWidgets": {},
     "nuid": "e9f32472-65d1-467d-bfe5-d48a035f86d5",
     "showTitle": false,
     "title": ""
    }
   },
   "source": [
    "### Geração de Massa"
   ]
  },
  {
   "cell_type": "code",
   "execution_count": null,
   "metadata": {
    "application/vnd.databricks.v1+cell": {
     "cellMetadata": {
      "byteLimit": 2048000,
      "rowLimit": 10000
     },
     "inputWidgets": {},
     "nuid": "b6ca18f4-2135-465e-b4c7-0c74f333f558",
     "showTitle": false,
     "title": ""
    }
   },
   "outputs": [],
   "source": [
    "#Gerando a massa modelo passando o caminho do JSON como nome da variável\n",
    "base_entrada = pd.DataFrame({'etapa':['SERASA'],\n",
    "                             'solicitante.rendaLiquidaPicpay':[2500],\n",
    "                             'solicitante.listaRestritivosSerasa.0.tipo': ['N'],\n",
    "                             'solicitante.listaRestritivosSerasa.0.montanteTotal': [0],\n",
    "                             'solicitante.listaRestritivosSerasa.0.valorTotal':[0],\n",
    "                             'solicitante.listaRestritivosSerasa.1.tipo': ['N'],\n",
    "                             'solicitante.listaRestritivosSerasa.1.montanteTotal': [0],\n",
    "                             'solicitante.listaRestritivosSerasa.1.valorTotal':[0],\n",
    "                             'solicitante.listaRestritivosSerasa.2.tipo': ['N'],\n",
    "                             'solicitante.listaRestritivosSerasa.2.montanteTotal': [0],\n",
    "                             'solicitante.listaRestritivosSerasa.2.valorTotal':[0],\n",
    "                             'solicitante.credilink.situacaoDocumento':['REGULAR'],\n",
    "                             'solicitante.credilink.obito':['NAO'],\n",
    "                             'marcacaoMesa': ['N'],\n",
    "                             'solicitante.numeroDocumento': ['1111117811111'],\n",
    "                             'solicitante.limites.limiteDisponivel': [1200],\n",
    "                             'solicitante.qtdIF': [2],\n",
    "                             \"flagErroSerasa\": [False],\n",
    "                             \"limitePoliticaConcessao\":[10000]         \n",
    "                             })"
   ]
  },
  {
   "cell_type": "code",
   "execution_count": null,
   "metadata": {
    "application/vnd.databricks.v1+cell": {
     "cellMetadata": {
      "byteLimit": 2048000,
      "rowLimit": 10000
     },
     "inputWidgets": {},
     "nuid": "1e5e4c35-3e1f-4186-86fd-2c1d6df56f28",
     "showTitle": false,
     "title": ""
    }
   },
   "outputs": [],
   "source": [
    "#Criação das massas com casos forçados\n",
    "\n",
    "# Teste de casos de erro na chamada de bacen\n",
    "massa_validacaoSerasaErro = sherlock.Gera_Massa(base_entrada)\n",
    "massa_validacaoSerasaErro.gera_cenario('marcacaoMesa',[\"N\",\"MESA\"])\n",
    "massa_validacaoSerasaErro.gera_cenario('limitePoliticaConcessao',[7000,10000])\n",
    "massa_validacaoSerasaErro.gera_cenario('flagErroSerasa',[False])\n",
    "massa_validacaoSerasaErro = massa_validacaoSerasaErro.get_massa_final()\n",
    "\n",
    "# Teste caso a renda vier nula\n",
    "massa_validacaoSerasaRenda = sherlock.Gera_Massa(base_entrada)\n",
    "massa_validacaoSerasaRenda.gera_cenario('marcacaoMesa',[\"N\",\"MESA\"])\n",
    "massa_validacaoSerasaRenda.gera_cenario('limitePoliticaConcessao',[7000,10000])\n",
    "massa_validacaoSerasaRenda.gera_cenario('solicitante.rendaLiquidaPicpay',[-99999,0,10000])\n",
    "massa_validacaoSerasaRenda = massa_validacaoSerasaRenda.get_massa_final()\n",
    "\n",
    "# Teste se qtdIF vier nulo\n",
    "massa_validacaoQtdIF = sherlock.Gera_Massa(base_entrada)\n",
    "massa_validacaoQtdIF.gera_cenario('marcacaoMesa',[\"N\",\"MESA\"])\n",
    "massa_validacaoQtdIF.gera_cenario('limitePoliticaConcessao',[7000,10000])\n",
    "massa_validacaoQtdIF.gera_cenario('solicitante.qtdIF',[-99999,0,10000])\n",
    "massa_validacaoQtdIF = massa_validacaoQtdIF.get_massa_final()\n",
    "\n",
    "# Teste se elegivel small limit vier nulo\n",
    "massa_validacaoSL = sherlock.Gera_Massa(base_entrada)\n",
    "massa_validacaoSL.gera_cenario('marcacaoMesa',[\"N\",\"MESA\"])\n",
    "massa_validacaoSL.gera_cenario('limitePoliticaConcessao',[7000,10000])\n",
    "massa_validacaoSL = massa_validacaoSL.get_massa_final()\n",
    "\n",
    "# Teste de erro nos dados - posição 0\n",
    "massa_validacaoeErroDados1 = sherlock.Gera_Massa(base_entrada)\n",
    "massa_validacaoeErroDados1.gera_cenario('marcacaoMesa',[\"N\",\"MESA\"])\n",
    "massa_validacaoeErroDados1.gera_cenario('solicitante.listaRestritivosSerasa.0.tipo',[\"N\",\"-99999\"])\n",
    "massa_validacaoeErroDados1.gera_cenario('solicitante.listaRestritivosSerasa.0.montanteTotal',[0,-99999])\n",
    "massa_validacaoeErroDados1.gera_cenario('solicitante.listaRestritivosSerasa.0.valorTotal',[0,-99999])\n",
    "massa_validacaoeErroDados1 = massa_validacaoeErroDados1.get_massa_final()\n",
    "\n",
    "# Teste de erro nos dados - posição 1\n",
    "massa_validacaoeErroDados2 = sherlock.Gera_Massa(base_entrada)\n",
    "massa_validacaoeErroDados2.gera_cenario('marcacaoMesa',[\"N\",\"MESA\"])\n",
    "massa_validacaoeErroDados2.gera_cenario('solicitante.listaRestritivosSerasa.1.tipo',[\"N\",\"-99999\"])\n",
    "massa_validacaoeErroDados2.gera_cenario('solicitante.listaRestritivosSerasa.1.montanteTotal',[0,-9999])\n",
    "massa_validacaoeErroDados2.gera_cenario('solicitante.listaRestritivosSerasa.1.valorTotal',[0,-99999])\n",
    "massa_validacaoeErroDados2 = massa_validacaoeErroDados2.get_massa_final()\n",
    "\n",
    "# Teste de erro nos dados - posição 2\n",
    "massa_validacaoeErroDados3 = sherlock.Gera_Massa(base_entrada)\n",
    "massa_validacaoeErroDados3.gera_cenario('marcacaoMesa',[\"N\",\"MESA\"])\n",
    "massa_validacaoeErroDados3.gera_cenario('solicitante.listaRestritivosSerasa.2.tipo',[\"N\",\"-99999\"])\n",
    "massa_validacaoeErroDados3.gera_cenario('solicitante.listaRestritivosSerasa.2.montanteTotal',[0,-99999])\n",
    "massa_validacaoeErroDados3.gera_cenario('solicitante.listaRestritivosSerasa.2.valorTotal',[0,-99999])\n",
    "massa_validacaoeErroDados3 = massa_validacaoeErroDados3.get_massa_final()\n",
    "\n",
    "massa_validacaoSerasa1 = sherlock.Gera_Massa(base_entrada)\n",
    "massa_validacaoSerasa1.gera_cenario('marcacaoMesa',[\"N\",\"MESA\"])\n",
    "massa_validacaoSerasa1.gera_cenario('solicitante.listaRestritivosSerasa.0.tipo',['CHEQUE_SEM_FUNDO','ACAO','REFIN','PEFIN','PROTESTO','DIVIDA_VENCIDA','N'])\n",
    "massa_validacaoSerasa1.gera_cenario('solicitante.listaRestritivosSerasa.0.montanteTotal',[0,1,2])\n",
    "massa_validacaoSerasa1.gera_cenario('solicitante.listaRestritivosSerasa.0.valorTotal',[0,500,1000])\n",
    "massa_validacaoSerasa1.gera_cenario('solicitante.rendaLiquidaPicpay',[0,500,1000,5000,10000])\n",
    "massa_validacaoSerasa1 = massa_validacaoSerasa1.get_massa_final()\n",
    "\n",
    "massa_validacaoSerasa2 = sherlock.Gera_Massa(base_entrada)\n",
    "massa_validacaoSerasa2.gera_cenario('marcacaoMesa',[\"N\",\"MESA\"])\n",
    "massa_validacaoSerasa2.gera_cenario('solicitante.listaRestritivosSerasa.1.tipo',['CHEQUE_SEM_FUNDO','ACAO','REFIN','PEFIN','PROTESTO','DIVIDA_VENCIDA','N'])\n",
    "massa_validacaoSerasa2.gera_cenario('solicitante.listaRestritivosSerasa.1.montanteTotal',[0,1,2])\n",
    "massa_validacaoSerasa2.gera_cenario('solicitante.listaRestritivosSerasa.1.valorTotal',[0,300,700])\n",
    "massa_validacaoSerasa2.gera_cenario('solicitante.rendaLiquidaPicpay',[0,500,1000,5000,10000])\n",
    "massa_validacaoSerasa2 = massa_validacaoSerasa2.get_massa_final()\n",
    "\n",
    "massa_validacaoSerasa3 = sherlock.Gera_Massa(base_entrada)\n",
    "massa_validacaoSerasa3.gera_cenario('marcacaoMesa',[\"N\",\"MESA\"])\n",
    "massa_validacaoSerasa3.gera_cenario('solicitante.listaRestritivosSerasa.2.tipo',['CHEQUE_SEM_FUNDO','ACAO','REFIN','PEFIN','PROTESTO','DIVIDA_VENCIDA','N'])\n",
    "massa_validacaoSerasa3.gera_cenario('solicitante.listaRestritivosSerasa.2.montanteTotal',[0,1,2])\n",
    "massa_validacaoSerasa3.gera_cenario('solicitante.listaRestritivosSerasa.2.valorTotal',[0,100,200])\n",
    "massa_validacaoSerasa3.gera_cenario('solicitante.rendaLiquidaPicpay',[0,500,1000,5000,10000])\n",
    "massa_validacaoSerasa3 = massa_validacaoSerasa3.get_massa_final()\n",
    "\n",
    "massa_validacao0IF = sherlock.Gera_Massa(base_entrada)\n",
    "massa_validacao0IF.gera_cenario('marcacaoMesa',[\"N\",\"MESA\"])\n",
    "massa_validacao0IF.gera_cenario('solicitante.rendaLiquidaPicpay',[2500,3442.36,3442.37,3442.38,5000])\n",
    "massa_validacao0IF.gera_cenario('solicitante.numeroDocumento',['11111179111111','11111180111111','11111559411111','11111495111111'])\n",
    "massa_validacao0IF.gera_cenario('solicitante.qtdIF',[0, 1])\n",
    "\n",
    "massa_validacao0IF.gera_cenario('solicitante.limites.limiteDisponivel',[500])\n",
    "massa_validacao0IF.gera_cenario('solicitante.listaRestritivosSerasa.0.tipo',['CHEQUE_SEM_FUNDO','N'])\n",
    "massa_validacao0IF.gera_cenario('solicitante.listaRestritivosSerasa.0.montanteTotal',[0,1])\n",
    "massa_validacao0IF.gera_cenario('solicitante.listaRestritivosSerasa.0.valorTotal',[0])\n",
    "massa_validacao0IF.gera_cenario('solicitante.rendaLiquidaPicpay',[0,500,1000,5000,10000])\n",
    "massa_validacao0IF.gera_cenario('limitePoliticaConcessao',[9000])\n",
    "massa_validacao0IF = massa_validacao0IF.get_massa_final()\n",
    "\n",
    "\n",
    "massa_validacaoSerasa = sherlock.Gera_Massa(base_entrada)\n",
    "massa_validacaoSerasa.empilha_massas([massa_validacaoSerasaErro,\n",
    "                                     massa_validacaoSerasaRenda,\n",
    "                                     massa_validacaoQtdIF,\n",
    "                                     massa_validacaoSL,\n",
    "                                     massa_validacaoeErroDados1,\n",
    "                                     massa_validacaoeErroDados2,\n",
    "                                     massa_validacaoeErroDados3,\n",
    "                                     massa_validacaoSerasa1,\n",
    "                                     massa_validacaoSerasa2,\n",
    "                                     massa_validacaoSerasa3,\n",
    "                                     massa_validacao0IF\n",
    "                                     ])\n",
    "\n",
    "massa_validacaoSerasa.set_bom_arqv()\n",
    "massa_validacaoSerasa.converte_massa()"
   ]
  },
  {
   "cell_type": "code",
   "execution_count": null,
   "metadata": {
    "application/vnd.databricks.v1+cell": {
     "cellMetadata": {
      "byteLimit": 2048000,
      "rowLimit": 10000
     },
     "inputWidgets": {},
     "nuid": "1d918a9e-c97a-4c5e-8151-2af287a5e9c8",
     "showTitle": false,
     "title": ""
    }
   },
   "outputs": [],
   "source": [
    "#Execução modular\n",
    "listaResultado = rp.execucaoModular(massa_validacaoSerasa.get_massa_json(),rp.validaSerasa0IF)"
   ]
  },
  {
   "cell_type": "code",
   "execution_count": null,
   "metadata": {
    "application/vnd.databricks.v1+cell": {
     "cellMetadata": {
      "byteLimit": 2048000,
      "rowLimit": 10000
     },
     "inputWidgets": {},
     "nuid": "8cfc0332-f03d-4667-8fec-c84bfaf11d9f",
     "showTitle": false,
     "title": ""
    }
   },
   "outputs": [],
   "source": [
    "results = []\n",
    "for caso in listaResultado:\n",
    "    results.append(caso['payloadHomol']['intermediarias']['passou0IF'])\n",
    "    \n",
    "freqzinha = pd.DataFrame(results, columns=['valor'])\n",
    "freqzinha['Freq'] = freqzinha['valor'].map(freqzinha['valor'].value_counts())\n",
    "freqzinha = freqzinha.drop_duplicates().reset_index(drop=True)\n",
    "\n",
    "freqzinha = freqzinha.sort_values('valor', ascending=True)\n",
    "freqzinha"
   ]
  },
  {
   "cell_type": "code",
   "execution_count": null,
   "metadata": {
    "application/vnd.databricks.v1+cell": {
     "cellMetadata": {
      "byteLimit": 2048000,
      "rowLimit": 10000
     },
     "inputWidgets": {},
     "nuid": "5fd17574-238c-4171-9cd5-6a450b4896f9",
     "showTitle": false,
     "title": ""
    }
   },
   "outputs": [],
   "source": [
    "results = []\n",
    "for caso in listaResultado:\n",
    "    results.append(caso['payloadHomol']['intermediarias']['passouRegrasSerasa'])\n",
    "    \n",
    "freqzinha = pd.DataFrame(results, columns=['valor'])\n",
    "freqzinha['Freq'] = freqzinha['valor'].map(freqzinha['valor'].value_counts())\n",
    "freqzinha = freqzinha.drop_duplicates().reset_index(drop=True)\n",
    "\n",
    "freqzinha = freqzinha.sort_values('valor', ascending=True)\n",
    "freqzinha"
   ]
  },
  {
   "cell_type": "markdown",
   "metadata": {
    "application/vnd.databricks.v1+cell": {
     "cellMetadata": {
      "byteLimit": 2048000,
      "rowLimit": 10000
     },
     "inputWidgets": {},
     "nuid": "4c84ff59-f054-4237-9d6b-cd592b1199ec",
     "showTitle": false,
     "title": ""
    }
   },
   "source": [
    "### Execução Modular e Geração de CSV"
   ]
  },
  {
   "cell_type": "code",
   "execution_count": null,
   "metadata": {
    "application/vnd.databricks.v1+cell": {
     "cellMetadata": {
      "byteLimit": 2048000,
      "rowLimit": 10000
     },
     "inputWidgets": {},
     "nuid": "f0d295d7-76e1-4ac2-861d-e0f0f82d07cf",
     "showTitle": false,
     "title": ""
    }
   },
   "outputs": [],
   "source": [
    "# Renomeação das colunas para o cabeçalho do RMA\n",
    "massa_validacaoSerasa.rename_cabecalho()\n",
    "\n",
    "#Contagem da qtd de regras negativas em que o cliente se enquadrou\n",
    "tam = 0\n",
    "for x in listaResultado:\n",
    "    t = len(x['payloadHomol']['saidas']['regrasNegativas'])\n",
    "    x['payloadHomol']['saidas']['qtdNegativas'] = t\n",
    "    if t > tam:\n",
    "        tam = t\n",
    "\n",
    "print(\"tam: \"+str(tam))\n",
    "\n",
    "for y in range (0,tam):\n",
    "    massa_validacaoSerasa.atribui_expected(listaResultado,\"payloadHomol.saidas.regrasNegativas.\"+str(y)+\".nomeRegra\",\"regrasNegativas#\"+str(y+1)+\".nomeRegra\")\n",
    "    massa_validacaoSerasa.atribui_expected(listaResultado,\"payloadHomol.saidas.regrasNegativas.\"+str(y)+\".descricao\",\"regrasNegativas#\"+str(y+1)+\".descRegra\")\n",
    "\n",
    "massa_validacaoSerasa.atribui_expected(listaResultado,'payloadHomol.saidas.statusDecisao','statusDecisao')\n",
    "massa_validacaoSerasa.atribui_expected(listaResultado,'payloadHomol.saidas.vlrLimiteAprovado','vlrLimiteAprovado')\n",
    "massa_validacaoSerasa.atribui_expected(listaResultado,'payloadHomol.saidas.limiteFinal','limite')\n",
    "massa_validacaoSerasa.atribui_expected(listaResultado,'payloadHomol.saidas.flagSmallLimit','flagSmallLimit')\n",
    "massa_validacaoSerasa.atribui_expected(listaResultado,'payloadHomol.saidas.qtdNegativas','versionamentoPolitica')\n",
    "\n",
    "massa_validacaoSerasa.get_massa_dm()"
   ]
  },
  {
   "cell_type": "markdown",
   "metadata": {
    "application/vnd.databricks.v1+cell": {
     "cellMetadata": {
      "byteLimit": 2048000,
      "rowLimit": 10000
     },
     "inputWidgets": {},
     "nuid": "02233352-6dd5-4c69-b264-87c5762527fd",
     "showTitle": false,
     "title": ""
    }
   },
   "source": [
    "### Conversão da massa para CSV"
   ]
  },
  {
   "cell_type": "code",
   "execution_count": null,
   "metadata": {
    "application/vnd.databricks.v1+cell": {
     "cellMetadata": {
      "byteLimit": 2048000,
      "rowLimit": 10000
     },
     "inputWidgets": {},
     "nuid": "00d7933b-8f66-4ba2-8468-ab4c5cd0f86a",
     "showTitle": false,
     "title": ""
    }
   },
   "outputs": [],
   "source": [
    "massa_validacaoSerasa.get_massa_dm().to_csv('C:/Users/T51657/Desktop/Homologação/Modelos Online/v2/massas/Modulares/massaValidacoesSerasa.csv',index=False)"
   ]
  },
  {
   "cell_type": "markdown",
   "metadata": {
    "application/vnd.databricks.v1+cell": {
     "cellMetadata": {
      "byteLimit": 2048000,
      "rowLimit": 10000
     },
     "inputWidgets": {},
     "nuid": "d8bfd0fa-7016-4404-bcad-f9081f2b31b6",
     "showTitle": false,
     "title": ""
    }
   },
   "source": [
    "#"
   ]
  },
  {
   "cell_type": "code",
   "execution_count": null,
   "metadata": {
    "application/vnd.databricks.v1+cell": {
     "cellMetadata": {
      "byteLimit": 2048000,
      "rowLimit": 10000
     },
     "inputWidgets": {},
     "nuid": "803be56c-e0b7-45b9-aad9-7a25d5f37107",
     "showTitle": false,
     "title": ""
    }
   },
   "outputs": [],
   "source": [
    "dataID = 1\n",
    "print(json.dumps(listaResultado[dataID-1],indent=4))"
   ]
  }
 ],
 "metadata": {
  "application/vnd.databricks.v1+notebook": {
   "dashboards": [],
   "language": "python",
   "notebookMetadata": {
    "pythonIndentUnit": 4
   },
   "notebookName": "homol_modular_validacoesSerasa",
   "widgets": {}
  },
  "kernelspec": {
   "display_name": "Python 3",
   "language": "python",
   "name": "python3"
  },
  "language_info": {
   "codemirror_mode": {
    "name": "ipython",
    "version": 3
   },
   "file_extension": ".py",
   "mimetype": "text/x-python",
   "name": "python",
   "nbconvert_exporter": "python",
   "pygments_lexer": "ipython3",
   "version": "3.12.0"
  }
 },
 "nbformat": 4,
 "nbformat_minor": 0
}
