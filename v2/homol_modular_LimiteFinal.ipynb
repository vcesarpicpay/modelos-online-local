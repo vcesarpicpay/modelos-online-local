{
 "cells": [
  {
   "cell_type": "code",
   "execution_count": 1,
   "metadata": {
    "application/vnd.databricks.v1+cell": {
     "cellMetadata": {
      "byteLimit": 2048000,
      "rowLimit": 10000
     },
     "inputWidgets": {},
     "nuid": "6b01e65b-20e0-41f4-9132-0cd228cd517e",
     "showTitle": false,
     "title": ""
    }
   },
   "outputs": [],
   "source": [
    "# dbutils.library.restartPython()"
   ]
  },
  {
   "cell_type": "markdown",
   "metadata": {
    "application/vnd.databricks.v1+cell": {
     "cellMetadata": {
      "byteLimit": 2048000,
      "rowLimit": 10000
     },
     "inputWidgets": {},
     "nuid": "b3b97d92-0875-4e4c-955e-6a4fd7e0382d",
     "showTitle": false,
     "title": ""
    }
   },
   "source": [
    "# Import de Funções e Libs"
   ]
  },
  {
   "cell_type": "markdown",
   "metadata": {
    "application/vnd.databricks.v1+cell": {
     "cellMetadata": {
      "byteLimit": 2048000,
      "rowLimit": 10000
     },
     "inputWidgets": {},
     "nuid": "405da4ba-d5f5-455b-a186-c9d95020d656",
     "showTitle": false,
     "title": ""
    }
   },
   "source": [
    "As bibliotecas e funções utilizadas ao longo do código devem ser adicionadas aqui"
   ]
  },
  {
   "cell_type": "code",
   "execution_count": 2,
   "metadata": {
    "application/vnd.databricks.v1+cell": {
     "cellMetadata": {
      "byteLimit": 2048000,
      "rowLimit": 10000
     },
     "inputWidgets": {},
     "nuid": "35818e65-0b3a-4169-95bd-6cd1200b6873",
     "showTitle": false,
     "title": ""
    }
   },
   "outputs": [],
   "source": [
    "import numpy as np\n",
    "import pandas as pd\n",
    "import requests\n",
    "import json\n",
    "import sherlock\n",
    "import regras_politica as rp"
   ]
  },
  {
   "cell_type": "markdown",
   "metadata": {
    "application/vnd.databricks.v1+cell": {
     "cellMetadata": {
      "byteLimit": 2048000,
      "rowLimit": 10000
     },
     "inputWidgets": {},
     "nuid": "3b7b68fb-aa65-4c07-9239-80ff0bcf60b8",
     "showTitle": false,
     "title": ""
    }
   },
   "source": [
    "### Testes Modulares - Referente ao tópico 3/4 - 3.6.1 / 4.4.1 Limite Final"
   ]
  },
  {
   "cell_type": "markdown",
   "metadata": {
    "application/vnd.databricks.v1+cell": {
     "cellMetadata": {
      "byteLimit": 2048000,
      "rowLimit": 10000
     },
     "inputWidgets": {},
     "nuid": "53c9e1f4-296e-473a-ae84-1d12f5c9a473",
     "showTitle": false,
     "title": ""
    }
   },
   "source": [
    "### Geração de Massa"
   ]
  },
  {
   "cell_type": "code",
   "execution_count": 3,
   "metadata": {
    "application/vnd.databricks.v1+cell": {
     "cellMetadata": {
      "byteLimit": 2048000,
      "rowLimit": 10000
     },
     "inputWidgets": {},
     "nuid": "3ad16f05-f504-4bef-8a27-b4759d823845",
     "showTitle": false,
     "title": ""
    }
   },
   "outputs": [],
   "source": [
    "#Gerando a massa modelo passando o caminho do JSON como nome da variável\n",
    "base_entrada = pd.DataFrame({'solicitante.rendaLiquidaPicpay':[100],\n",
    "                             'payloadHomol.intermediarias.alavancagem' :[1],\n",
    "                             'payloadHomol.intermediarias.limitePiso':[100],\n",
    "                             'payloadHomol.intermediarias.limiteTeto':[40000],\n",
    "                             'payloadHomol.intermediarias.limiteFixo':[0]\n",
    "                            })"
   ]
  },
  {
   "cell_type": "code",
   "execution_count": 4,
   "metadata": {
    "application/vnd.databricks.v1+cell": {
     "cellMetadata": {
      "byteLimit": 2048000,
      "rowLimit": 10000
     },
     "inputWidgets": {},
     "nuid": "17fabf92-6aa2-4318-9a02-88c781717310",
     "showTitle": false,
     "title": ""
    }
   },
   "outputs": [
    {
     "name": "stdout",
     "output_type": "stream",
     "text": [
      "--------------------------------------\n",
      "Payload setado com sucesso\n",
      "--------------------------------------\n",
      "Conversao concluida com sucesso\n"
     ]
    }
   ],
   "source": [
    "#Criação das massas com casos forçados\n",
    "#Digito CPF Concomitante CP\n",
    "massa_limiteFinal = sherlock.Gera_Massa(base_entrada)\n",
    "massa_limiteFinal.gera_cenario('solicitante.rendaLiquidaPicpay',[-99999,100,1000,10000,3733,7311,983.20])\n",
    "massa_limiteFinal.gera_cenario('payloadHomol.intermediarias.alavancagem',[0.2,0.5,0.6,0.8,1])\n",
    "massa_limiteFinal.gera_cenario('payloadHomol.intermediarias.limitePiso',[100,200,300,1000,4000,4500,6000,7500,10000])\n",
    "massa_limiteFinal.gera_cenario('payloadHomol.intermediarias.limiteFixo',[0,100,200])\n",
    "massa_limiteFinal.gera_cenario('payloadHomol.intermediarias.limiteTeto',[100,200,700,1100,2000,2300,2400,2500,3000,3200,3400,3600,3800,4000,4500,5000,5500,6000,7000,7500,9500,9600,10000,12000,15000,20000,30000,40000])\n",
    "\n",
    "massa_limiteFinal.set_bom_arqv()\n",
    "massa_limiteFinal.converte_massa()"
   ]
  },
  {
   "cell_type": "code",
   "execution_count": 5,
   "metadata": {
    "application/vnd.databricks.v1+cell": {
     "cellMetadata": {
      "byteLimit": 2048000,
      "rowLimit": 10000
     },
     "inputWidgets": {},
     "nuid": "d73eafea-318e-4e4a-ad29-bf306686123d",
     "showTitle": false,
     "title": ""
    }
   },
   "outputs": [
    {
     "data": {
      "text/html": [
       "<div>\n",
       "<style scoped>\n",
       "    .dataframe tbody tr th:only-of-type {\n",
       "        vertical-align: middle;\n",
       "    }\n",
       "\n",
       "    .dataframe tbody tr th {\n",
       "        vertical-align: top;\n",
       "    }\n",
       "\n",
       "    .dataframe thead th {\n",
       "        text-align: right;\n",
       "    }\n",
       "</style>\n",
       "<table border=\"1\" class=\"dataframe\">\n",
       "  <thead>\n",
       "    <tr style=\"text-align: right;\">\n",
       "      <th></th>\n",
       "      <th>solicitante.rendaLiquidaPicpay</th>\n",
       "      <th>payloadHomol.intermediarias.alavancagem</th>\n",
       "      <th>payloadHomol.intermediarias.limitePiso</th>\n",
       "      <th>payloadHomol.intermediarias.limiteFixo</th>\n",
       "      <th>payloadHomol.intermediarias.limiteTeto</th>\n",
       "    </tr>\n",
       "  </thead>\n",
       "  <tbody>\n",
       "    <tr>\n",
       "      <th>0</th>\n",
       "      <td>-99999.0</td>\n",
       "      <td>0.2</td>\n",
       "      <td>100</td>\n",
       "      <td>0</td>\n",
       "      <td>100</td>\n",
       "    </tr>\n",
       "    <tr>\n",
       "      <th>1</th>\n",
       "      <td>-99999.0</td>\n",
       "      <td>0.2</td>\n",
       "      <td>100</td>\n",
       "      <td>0</td>\n",
       "      <td>200</td>\n",
       "    </tr>\n",
       "    <tr>\n",
       "      <th>2</th>\n",
       "      <td>-99999.0</td>\n",
       "      <td>0.2</td>\n",
       "      <td>100</td>\n",
       "      <td>0</td>\n",
       "      <td>700</td>\n",
       "    </tr>\n",
       "    <tr>\n",
       "      <th>3</th>\n",
       "      <td>-99999.0</td>\n",
       "      <td>0.2</td>\n",
       "      <td>100</td>\n",
       "      <td>0</td>\n",
       "      <td>1100</td>\n",
       "    </tr>\n",
       "    <tr>\n",
       "      <th>4</th>\n",
       "      <td>-99999.0</td>\n",
       "      <td>0.2</td>\n",
       "      <td>100</td>\n",
       "      <td>0</td>\n",
       "      <td>2000</td>\n",
       "    </tr>\n",
       "    <tr>\n",
       "      <th>...</th>\n",
       "      <td>...</td>\n",
       "      <td>...</td>\n",
       "      <td>...</td>\n",
       "      <td>...</td>\n",
       "      <td>...</td>\n",
       "    </tr>\n",
       "    <tr>\n",
       "      <th>26455</th>\n",
       "      <td>983.2</td>\n",
       "      <td>1.0</td>\n",
       "      <td>10000</td>\n",
       "      <td>200</td>\n",
       "      <td>12000</td>\n",
       "    </tr>\n",
       "    <tr>\n",
       "      <th>26456</th>\n",
       "      <td>983.2</td>\n",
       "      <td>1.0</td>\n",
       "      <td>10000</td>\n",
       "      <td>200</td>\n",
       "      <td>15000</td>\n",
       "    </tr>\n",
       "    <tr>\n",
       "      <th>26457</th>\n",
       "      <td>983.2</td>\n",
       "      <td>1.0</td>\n",
       "      <td>10000</td>\n",
       "      <td>200</td>\n",
       "      <td>20000</td>\n",
       "    </tr>\n",
       "    <tr>\n",
       "      <th>26458</th>\n",
       "      <td>983.2</td>\n",
       "      <td>1.0</td>\n",
       "      <td>10000</td>\n",
       "      <td>200</td>\n",
       "      <td>30000</td>\n",
       "    </tr>\n",
       "    <tr>\n",
       "      <th>26459</th>\n",
       "      <td>983.2</td>\n",
       "      <td>1.0</td>\n",
       "      <td>10000</td>\n",
       "      <td>200</td>\n",
       "      <td>40000</td>\n",
       "    </tr>\n",
       "  </tbody>\n",
       "</table>\n",
       "<p>26460 rows × 5 columns</p>\n",
       "</div>"
      ],
      "text/plain": [
       "       solicitante.rendaLiquidaPicpay  \\\n",
       "0                            -99999.0   \n",
       "1                            -99999.0   \n",
       "2                            -99999.0   \n",
       "3                            -99999.0   \n",
       "4                            -99999.0   \n",
       "...                               ...   \n",
       "26455                           983.2   \n",
       "26456                           983.2   \n",
       "26457                           983.2   \n",
       "26458                           983.2   \n",
       "26459                           983.2   \n",
       "\n",
       "       payloadHomol.intermediarias.alavancagem  \\\n",
       "0                                          0.2   \n",
       "1                                          0.2   \n",
       "2                                          0.2   \n",
       "3                                          0.2   \n",
       "4                                          0.2   \n",
       "...                                        ...   \n",
       "26455                                      1.0   \n",
       "26456                                      1.0   \n",
       "26457                                      1.0   \n",
       "26458                                      1.0   \n",
       "26459                                      1.0   \n",
       "\n",
       "       payloadHomol.intermediarias.limitePiso  \\\n",
       "0                                         100   \n",
       "1                                         100   \n",
       "2                                         100   \n",
       "3                                         100   \n",
       "4                                         100   \n",
       "...                                       ...   \n",
       "26455                                   10000   \n",
       "26456                                   10000   \n",
       "26457                                   10000   \n",
       "26458                                   10000   \n",
       "26459                                   10000   \n",
       "\n",
       "       payloadHomol.intermediarias.limiteFixo  \\\n",
       "0                                           0   \n",
       "1                                           0   \n",
       "2                                           0   \n",
       "3                                           0   \n",
       "4                                           0   \n",
       "...                                       ...   \n",
       "26455                                     200   \n",
       "26456                                     200   \n",
       "26457                                     200   \n",
       "26458                                     200   \n",
       "26459                                     200   \n",
       "\n",
       "       payloadHomol.intermediarias.limiteTeto  \n",
       "0                                         100  \n",
       "1                                         200  \n",
       "2                                         700  \n",
       "3                                        1100  \n",
       "4                                        2000  \n",
       "...                                       ...  \n",
       "26455                                   12000  \n",
       "26456                                   15000  \n",
       "26457                                   20000  \n",
       "26458                                   30000  \n",
       "26459                                   40000  \n",
       "\n",
       "[26460 rows x 5 columns]"
      ]
     },
     "execution_count": 5,
     "metadata": {},
     "output_type": "execute_result"
    }
   ],
   "source": [
    "massa_limiteFinal.get_massa_final()"
   ]
  },
  {
   "cell_type": "markdown",
   "metadata": {
    "application/vnd.databricks.v1+cell": {
     "cellMetadata": {
      "byteLimit": 2048000,
      "rowLimit": 10000
     },
     "inputWidgets": {},
     "nuid": "eb740731-8c51-4001-b344-5b6c3a5fa1c8",
     "showTitle": false,
     "title": ""
    }
   },
   "source": [
    "### Execução Modular e Geração de CSV"
   ]
  },
  {
   "cell_type": "code",
   "execution_count": 6,
   "metadata": {
    "application/vnd.databricks.v1+cell": {
     "cellMetadata": {
      "byteLimit": 2048000,
      "rowLimit": 10000
     },
     "inputWidgets": {},
     "nuid": "c329dc19-e497-47f5-830a-6863a4bb2de5",
     "showTitle": false,
     "title": ""
    }
   },
   "outputs": [
    {
     "name": "stdout",
     "output_type": "stream",
     "text": [
      "{\n",
      "    \"marcacaoMesa\": \"\",\n",
      "    \"etapa\": \"\",\n",
      "    \"flagErroBacen\": false,\n",
      "    \"flagErroSerasa\": false,\n",
      "    \"flagErroAurora\": false,\n",
      "    \"flagErroVisaoCliente\": false,\n",
      "    \"flagErroReceitaFederal\": false,\n",
      "    \"flagErroCredilink\": false,\n",
      "    \"limitePoliticaConcessao\": -1,\n",
      "    \"mensagemFiltro\": \"99. Accepted\",\n",
      "    \"mensagemFiltroPolitica\": \"99. Accepted\",\n",
      "    \"mensagemFiltroFinal\": \"99. Accepted\",\n",
      "    \"solicitante\": {\n",
      "        \"credilink\": {\n",
      "            \"situacaoDocumento\": \"REGULAR\",\n",
      "            \"obito\": \"NAO\"\n",
      "        },\n",
      "        \"limites\": {\n",
      "            \"limiteDisponivel\": 10000,\n",
      "            \"valorContratadoCartao\": 0\n",
      "        },\n",
      "        \"atrasos\": {\n",
      "            \"qtdDiasAtrasoCartao\": 0,\n",
      "            \"qtdDiasAtrasoParcelados\": 0,\n",
      "            \"qtdDiasAtrasoBNPLMova\": 0,\n",
      "            \"qtdDiasAtrasoP2PL\": 0\n",
      "        },\n",
      "        \"restritivosBVS\": {\n",
      "            \"vlrMaxRestritivosBVSM1\": 0,\n",
      "            \"vlrMaxRestritivosBVSM2\": 0,\n",
      "            \"vlrMaxRestritivosBVSM3\": 0\n",
      "        },\n",
      "        \"ghAppcardsBlendInternoOnline\": \"B\",\n",
      "        \"scoreAppcardsBlendInternoOnline\": 500,\n",
      "        \"ghAppcardsBlendExternoOnline\": \"B\",\n",
      "        \"scoreAppcardsBlendExternoOnline\": 500,\n",
      "        \"ghBlendIntExt\": \"E\",\n",
      "        \"scoreBlendIntExt\": 500,\n",
      "        \"ghSerasa\": \"F\",\n",
      "        \"scoreSerasaAl\": 450,\n",
      "        \"blendFinalAl\": 450,\n",
      "        \"ghFinalScr\": \"E\",\n",
      "        \"origemBlend\": \"Interno + Serasa\",\n",
      "        \"idade\": 30,\n",
      "        \"vlrMaxRestritivosSerasa90Dias\": 0,\n",
      "        \"indFNV\": false,\n",
      "        \"indReneg\": false,\n",
      "        \"maxDiasAtraso\": 0,\n",
      "        \"qtdIF\": 3,\n",
      "        \"numeroDocumento\": \"123456789\",\n",
      "        \"dataAdmissaoFopag\": \"2002-11-05T17:18:43.888Z\",\n",
      "        \"dataRegistroPrimeiroContrato\": \"2002-11-05T17:18:43.888Z\",\n",
      "        \"dataRegistro\": \"2002-11-05T17:18:43.888Z\",\n",
      "        \"saldoMinimo30d\": 0,\n",
      "        \"flagFuncionario\": 0,\n",
      "        \"flagMAT30d\": 0,\n",
      "        \"flagMAT35d\": 0,\n",
      "        \"flagMAT60d\": 0,\n",
      "        \"flagMAT90d\": 0,\n",
      "        \"fonteRenda\": \"XYZ\",\n",
      "        \"flagPortabilidade\": 0,\n",
      "        \"rendaLiquidaPicpay\": -99999.0,\n",
      "        \"rendaLiquidaPicpayBatch\": 10000,\n",
      "        \"consumerID\": 999999999999999999,\n",
      "        \"scoreAppSerasa\": 999,\n",
      "        \"scoreInternoLongo\": 999,\n",
      "        \"scoreInterno\": 999,\n",
      "        \"investimentoTotal\": 0,\n",
      "        \"saldoInvestimento\": 0,\n",
      "        \"flagInvestimentoPrincipalidade\": 0,\n",
      "        \"flagPrincipalidadeAll\": 0,\n",
      "        \"flagPrincipalidade\": 0,\n",
      "        \"mesFlagPrincipalidade\": 0,\n",
      "        \"flagAllowlist\": \"-99999\",\n",
      "        \"flagBlocklist\": \"-99999\",\n",
      "        \"scoreInternoCurto\": 959,\n",
      "        \"scoreExterno\": 959,\n",
      "        \"flagCartaoCreditoContratado\": 0,\n",
      "        \"flagLimiteGarantidoContratado\": 0,\n",
      "        \"saldoMedio\": 0,\n",
      "        \"flagCadastroIrregular\": 0,\n",
      "        \"flagCadastroNegado\": 0,\n",
      "        \"flagCadastroEmAndamento\": 0,\n",
      "        \"flagContaInativa\": 0,\n",
      "        \"flagContaTeste\": 0,\n",
      "        \"flagOSDefasado\": 0,\n",
      "        \"statusCPF\": 0,\n",
      "        \"flagFraudePicpay\": 0,\n",
      "        \"flagFraudeCartaoPicpay\": 0,\n",
      "        \"flagHoldForced\": 0,\n",
      "        \"flagChargebackPicpay\": 0,\n",
      "        \"flagReneg\": 0,\n",
      "        \"flagBloqueados\": 0,\n",
      "        \"flagDesenrola\": 0,\n",
      "        \"flagFNV\": 0,\n",
      "        \"flagCartaoDebitoContratado\": 0,\n",
      "        \"flagSmallLimits\": 0,\n",
      "        \"mensagemFiltro\": \"99. Accepted\",\n",
      "        \"flagCCRot\": 0,\n",
      "        \"mediaSaldoTotal\": 0,\n",
      "        \"listaRestritivosSerasa\": [\n",
      "            {\n",
      "                \"tipo\": \"N\",\n",
      "                \"montanteTotal\": 0,\n",
      "                \"valorTotal\": 0\n",
      "            }\n",
      "        ],\n",
      "        \"listaRestritivosBacen\": [\n",
      "            {\n",
      "                \"saldoVencido\": 0,\n",
      "                \"prejuizo\": 0,\n",
      "                \"creditoAVencerAdpos\": 0,\n",
      "                \"creditoFinanciadoCartoes\": 0,\n",
      "                \"creditoVencidoCartao\": 0,\n",
      "                \"creditoAVencerCartao\": 0,\n",
      "                \"limiteCartaoDisponivel\": 0,\n",
      "                \"limiteChequeDisponivel\": 0,\n",
      "                \"saldoBacenCheque\": 0,\n",
      "                \"renegociacaoBacen\": 0\n",
      "            }\n",
      "        ]\n",
      "    },\n",
      "    \"payloadHomol\": {\n",
      "        \"saidas\": {\n",
      "            \"mensagemFiltro\": \"99. Accepted\",\n",
      "            \"mensagemFinal\": \"99. Accepted\",\n",
      "            \"statusDecisao\": \"APROVADO\",\n",
      "            \"regrasNegativas\": [],\n",
      "            \"listaLogs\": [],\n",
      "            \"vlrLimiteAprovado\": 0,\n",
      "            \"ghFinal\": \"B\",\n",
      "            \"scoreFinal\": 600,\n",
      "            \"origemModeloApplication\": \"\"\n",
      "        },\n",
      "        \"intermediarias\": {\n",
      "            \"clienteBlindado\": 0,\n",
      "            \"clienteBloqueado\": 0,\n",
      "            \"MATRecorrente\": 0,\n",
      "            \"alavancagem\": 0.2,\n",
      "            \"limitePiso\": 100.0,\n",
      "            \"limiteTeto\": 4000.0,\n",
      "            \"flagConcomitanteSLCP\": 0,\n",
      "            \"digitoCPFConcomitanteCP\": 99,\n",
      "            \"aprovadoBAUAux\": 0,\n",
      "            \"aprovadoSLAux\": 0,\n",
      "            \"admissaoMeses\": 0,\n",
      "            \"cpf6e7Digito\": 99,\n",
      "            \"faixaRendaBruta\": \"z. Verificar\",\n",
      "            \"faixaRendaLiquida\": \"z. Verificar\",\n",
      "            \"faixaRiscoInternoAgrupada\": \"R1\",\n",
      "            \"faixaScoreExterno\": \"R1\",\n",
      "            \"segmentacaoPolitica\": \"P1 - Funcionarios\",\n",
      "            \"principalidadeDeInvestimento\": 0,\n",
      "            \"faixaScoreAppcardBlend\": \"R1\",\n",
      "            \"principalidadeAll\": 0,\n",
      "            \"clienteFoPag\": 0,\n",
      "            \"segmentacaoNegocio\": \"xpto\",\n",
      "            \"recorrenciaPrincipalidade\": 0,\n",
      "            \"flagClienteExistente\": 0,\n",
      "            \"serasaInvalido\": 0,\n",
      "            \"semInfoScore\": 0,\n",
      "            \"saldoFinanciadoCartoes\": 0,\n",
      "            \"usoChequeEspecial\": 0,\n",
      "            \"limiteFixo\": 100.0,\n",
      "            \"flagNaoCliente\": 0,\n",
      "            \"flagClienteNovo\": 0\n",
      "        }\n",
      "    },\n",
      "    \"idSolicitacao\": 41\n",
      "}\n"
     ]
    }
   ],
   "source": [
    "listaResultado = rp.execucaoModular(massa_limiteFinal.get_massa_json(),rp.LimiteFinal)"
   ]
  },
  {
   "cell_type": "markdown",
   "metadata": {
    "application/vnd.databricks.v1+cell": {
     "cellMetadata": {},
     "inputWidgets": {},
     "nuid": "fb9de440-abae-4f4f-851b-56bd80fee5f5",
     "showTitle": false,
     "title": ""
    }
   },
   "source": [
    "##### Valida se todas condições estão sendo abordadas"
   ]
  },
  {
   "cell_type": "code",
   "execution_count": 7,
   "metadata": {
    "application/vnd.databricks.v1+cell": {
     "cellMetadata": {
      "byteLimit": 2048000,
      "rowLimit": 10000
     },
     "inputWidgets": {},
     "nuid": "e17e53fa-0887-472c-8f5f-289f18d97ab0",
     "showTitle": false,
     "title": ""
    }
   },
   "outputs": [
    {
     "data": {
      "text/html": [
       "<div>\n",
       "<style scoped>\n",
       "    .dataframe tbody tr th:only-of-type {\n",
       "        vertical-align: middle;\n",
       "    }\n",
       "\n",
       "    .dataframe tbody tr th {\n",
       "        vertical-align: top;\n",
       "    }\n",
       "\n",
       "    .dataframe thead th {\n",
       "        text-align: right;\n",
       "    }\n",
       "</style>\n",
       "<table border=\"1\" class=\"dataframe\">\n",
       "  <thead>\n",
       "    <tr style=\"text-align: right;\">\n",
       "      <th></th>\n",
       "      <th>valor</th>\n",
       "      <th>Freq</th>\n",
       "    </tr>\n",
       "  </thead>\n",
       "  <tbody>\n",
       "    <tr>\n",
       "      <th>0</th>\n",
       "      <td>100.0</td>\n",
       "      <td>9405</td>\n",
       "    </tr>\n",
       "    <tr>\n",
       "      <th>1</th>\n",
       "      <td>200.0</td>\n",
       "      <td>9489</td>\n",
       "    </tr>\n",
       "    <tr>\n",
       "      <th>2</th>\n",
       "      <td>300.0</td>\n",
       "      <td>312</td>\n",
       "    </tr>\n",
       "    <tr>\n",
       "      <th>3</th>\n",
       "      <td>700.0</td>\n",
       "      <td>267</td>\n",
       "    </tr>\n",
       "    <tr>\n",
       "      <th>4</th>\n",
       "      <td>1000.0</td>\n",
       "      <td>675</td>\n",
       "    </tr>\n",
       "    <tr>\n",
       "      <th>5</th>\n",
       "      <td>1100.0</td>\n",
       "      <td>231</td>\n",
       "    </tr>\n",
       "    <tr>\n",
       "      <th>6</th>\n",
       "      <td>2000.0</td>\n",
       "      <td>315</td>\n",
       "    </tr>\n",
       "    <tr>\n",
       "      <th>7</th>\n",
       "      <td>2300.0</td>\n",
       "      <td>215</td>\n",
       "    </tr>\n",
       "    <tr>\n",
       "      <th>8</th>\n",
       "      <td>2400.0</td>\n",
       "      <td>215</td>\n",
       "    </tr>\n",
       "    <tr>\n",
       "      <th>9</th>\n",
       "      <td>2500.0</td>\n",
       "      <td>215</td>\n",
       "    </tr>\n",
       "    <tr>\n",
       "      <th>10</th>\n",
       "      <td>3000.0</td>\n",
       "      <td>291</td>\n",
       "    </tr>\n",
       "    <tr>\n",
       "      <th>11</th>\n",
       "      <td>3200.0</td>\n",
       "      <td>211</td>\n",
       "    </tr>\n",
       "    <tr>\n",
       "      <th>12</th>\n",
       "      <td>3400.0</td>\n",
       "      <td>211</td>\n",
       "    </tr>\n",
       "    <tr>\n",
       "      <th>13</th>\n",
       "      <td>4000.0</td>\n",
       "      <td>1137</td>\n",
       "    </tr>\n",
       "    <tr>\n",
       "      <th>14</th>\n",
       "      <td>4500.0</td>\n",
       "      <td>547</td>\n",
       "    </tr>\n",
       "    <tr>\n",
       "      <th>15</th>\n",
       "      <td>5000.0</td>\n",
       "      <td>213</td>\n",
       "    </tr>\n",
       "    <tr>\n",
       "      <th>16</th>\n",
       "      <td>5500.0</td>\n",
       "      <td>135</td>\n",
       "    </tr>\n",
       "    <tr>\n",
       "      <th>17</th>\n",
       "      <td>6000.0</td>\n",
       "      <td>509</td>\n",
       "    </tr>\n",
       "    <tr>\n",
       "      <th>18</th>\n",
       "      <td>7000.0</td>\n",
       "      <td>91</td>\n",
       "    </tr>\n",
       "    <tr>\n",
       "      <th>19</th>\n",
       "      <td>7500.0</td>\n",
       "      <td>348</td>\n",
       "    </tr>\n",
       "    <tr>\n",
       "      <th>20</th>\n",
       "      <td>10000.0</td>\n",
       "      <td>344</td>\n",
       "    </tr>\n",
       "    <tr>\n",
       "      <th>21</th>\n",
       "      <td>500.0</td>\n",
       "      <td>156</td>\n",
       "    </tr>\n",
       "    <tr>\n",
       "      <th>22</th>\n",
       "      <td>600.0</td>\n",
       "      <td>156</td>\n",
       "    </tr>\n",
       "    <tr>\n",
       "      <th>23</th>\n",
       "      <td>800.0</td>\n",
       "      <td>150</td>\n",
       "    </tr>\n",
       "    <tr>\n",
       "      <th>24</th>\n",
       "      <td>8000.0</td>\n",
       "      <td>64</td>\n",
       "    </tr>\n",
       "    <tr>\n",
       "      <th>25</th>\n",
       "      <td>750.0</td>\n",
       "      <td>75</td>\n",
       "    </tr>\n",
       "    <tr>\n",
       "      <th>26</th>\n",
       "      <td>1850.0</td>\n",
       "      <td>96</td>\n",
       "    </tr>\n",
       "    <tr>\n",
       "      <th>27</th>\n",
       "      <td>2250.0</td>\n",
       "      <td>92</td>\n",
       "    </tr>\n",
       "    <tr>\n",
       "      <th>28</th>\n",
       "      <td>1450.0</td>\n",
       "      <td>96</td>\n",
       "    </tr>\n",
       "    <tr>\n",
       "      <th>29</th>\n",
       "      <td>4400.0</td>\n",
       "      <td>70</td>\n",
       "    </tr>\n",
       "    <tr>\n",
       "      <th>30</th>\n",
       "      <td>5850.0</td>\n",
       "      <td>66</td>\n",
       "    </tr>\n",
       "    <tr>\n",
       "      <th>31</th>\n",
       "      <td>7300.0</td>\n",
       "      <td>63</td>\n",
       "    </tr>\n",
       "  </tbody>\n",
       "</table>\n",
       "</div>"
      ],
      "text/plain": [
       "      valor  Freq\n",
       "0     100.0  9405\n",
       "1     200.0  9489\n",
       "2     300.0   312\n",
       "3     700.0   267\n",
       "4    1000.0   675\n",
       "5    1100.0   231\n",
       "6    2000.0   315\n",
       "7    2300.0   215\n",
       "8    2400.0   215\n",
       "9    2500.0   215\n",
       "10   3000.0   291\n",
       "11   3200.0   211\n",
       "12   3400.0   211\n",
       "13   4000.0  1137\n",
       "14   4500.0   547\n",
       "15   5000.0   213\n",
       "16   5500.0   135\n",
       "17   6000.0   509\n",
       "18   7000.0    91\n",
       "19   7500.0   348\n",
       "20  10000.0   344\n",
       "21    500.0   156\n",
       "22    600.0   156\n",
       "23    800.0   150\n",
       "24   8000.0    64\n",
       "25    750.0    75\n",
       "26   1850.0    96\n",
       "27   2250.0    92\n",
       "28   1450.0    96\n",
       "29   4400.0    70\n",
       "30   5850.0    66\n",
       "31   7300.0    63"
      ]
     },
     "execution_count": 7,
     "metadata": {},
     "output_type": "execute_result"
    }
   ],
   "source": [
    "import pandas as pd\n",
    "results = []\n",
    "for caso in listaResultado:\n",
    "    results.append(caso['payloadHomol']['saidas']['limiteFinal'])\n",
    "    \n",
    "freqzinha = pd.DataFrame(results, columns=['valor'])\n",
    "freqzinha['Freq'] = freqzinha['valor'].map(freqzinha['valor'].value_counts())\n",
    "freqzinha = freqzinha.drop_duplicates().reset_index(drop=True)\n",
    "freqzinha"
   ]
  },
  {
   "cell_type": "code",
   "execution_count": 8,
   "metadata": {
    "application/vnd.databricks.v1+cell": {
     "cellMetadata": {
      "byteLimit": 2048000,
      "rowLimit": 10000
     },
     "inputWidgets": {},
     "nuid": "2078b0b0-6495-4f94-98d6-a217b919260e",
     "showTitle": false,
     "title": ""
    }
   },
   "outputs": [],
   "source": [
    "# Renomeação das colunas para o cabeçalho do RMA\n",
    "massa_limiteFinal.rename_cabecalho()"
   ]
  },
  {
   "cell_type": "code",
   "execution_count": 9,
   "metadata": {
    "application/vnd.databricks.v1+cell": {
     "cellMetadata": {
      "byteLimit": 2048000,
      "rowLimit": 10000
     },
     "inputWidgets": {},
     "nuid": "70c8cc47-b4fa-4b18-9081-7194de90794e",
     "showTitle": false,
     "title": ""
    }
   },
   "outputs": [],
   "source": [
    "massa_limiteFinal.rename_variavel(\"payloadParam.solicitante.rendaLiquidaPicpay\",\"rendaLiquidaPicpay\")\n",
    "\n",
    "massa_limiteFinal.atribui_expected(listaResultado,\"payloadHomol.saidas.limiteFinal\",\"limite\")\n",
    "\n",
    "massa_limiteFinal.get_massa_dm()\n",
    "\n",
    "massa_limiteFinal.rename_variavel(\"rendaLiquidaPicpay\",\"payloadParam.solicitante.rendaLiquidaPicpay\")\n"
   ]
  },
  {
   "cell_type": "markdown",
   "metadata": {
    "application/vnd.databricks.v1+cell": {
     "cellMetadata": {
      "byteLimit": 2048000,
      "rowLimit": 10000
     },
     "inputWidgets": {},
     "nuid": "12a6211e-1068-4b86-9a7b-64b0e7d36065",
     "showTitle": false,
     "title": ""
    }
   },
   "source": [
    "### Conversão da massa para CSV"
   ]
  },
  {
   "cell_type": "code",
   "execution_count": 10,
   "metadata": {
    "application/vnd.databricks.v1+cell": {
     "cellMetadata": {
      "byteLimit": 2048000,
      "rowLimit": 10000
     },
     "inputWidgets": {},
     "nuid": "5cd78e58-1843-46b5-86b6-608b7bb094f7",
     "showTitle": false,
     "title": ""
    }
   },
   "outputs": [],
   "source": [
    "massa_limiteFinal.get_massa_dm().to_csv('C:/Users/T51657/Desktop/Homologação/Modelos Online/v2/massas/Modulares/massaLimiteFinalV2.csv',index=False)"
   ]
  },
  {
   "cell_type": "markdown",
   "metadata": {},
   "source": [
    "### Teste Casos especificos "
   ]
  },
  {
   "cell_type": "code",
   "execution_count": 12,
   "metadata": {},
   "outputs": [
    {
     "name": "stdout",
     "output_type": "stream",
     "text": [
      "--------------------------------------\n",
      "Payload setado com sucesso\n",
      "--------------------------------------\n",
      "Conversao concluida com sucesso\n"
     ]
    },
    {
     "data": {
      "text/html": [
       "<div>\n",
       "<style scoped>\n",
       "    .dataframe tbody tr th:only-of-type {\n",
       "        vertical-align: middle;\n",
       "    }\n",
       "\n",
       "    .dataframe tbody tr th {\n",
       "        vertical-align: top;\n",
       "    }\n",
       "\n",
       "    .dataframe thead th {\n",
       "        text-align: right;\n",
       "    }\n",
       "</style>\n",
       "<table border=\"1\" class=\"dataframe\">\n",
       "  <thead>\n",
       "    <tr style=\"text-align: right;\">\n",
       "      <th></th>\n",
       "      <th>Data-ID</th>\n",
       "      <th>Result-State</th>\n",
       "      <th>Result-Detail</th>\n",
       "      <th>rendaLiquidaPicpay</th>\n",
       "      <th>alavancagem</th>\n",
       "      <th>limitePiso</th>\n",
       "      <th>limiteFixo</th>\n",
       "      <th>limiteTeto</th>\n",
       "      <th>result:limite</th>\n",
       "      <th>expected:limite</th>\n",
       "    </tr>\n",
       "  </thead>\n",
       "  <tbody>\n",
       "    <tr>\n",
       "      <th>0</th>\n",
       "      <td>1</td>\n",
       "      <td></td>\n",
       "      <td></td>\n",
       "      <td>10000</td>\n",
       "      <td>0.3</td>\n",
       "      <td>4000</td>\n",
       "      <td>0</td>\n",
       "      <td>4000</td>\n",
       "      <td></td>\n",
       "      <td>4000</td>\n",
       "    </tr>\n",
       "  </tbody>\n",
       "</table>\n",
       "</div>"
      ],
      "text/plain": [
       "   Data-ID Result-State Result-Detail  rendaLiquidaPicpay  alavancagem  \\\n",
       "0        1                                          10000          0.3   \n",
       "\n",
       "   limitePiso  limiteFixo  limiteTeto result:limite  expected:limite  \n",
       "0        4000           0        4000                           4000  "
      ]
     },
     "execution_count": 12,
     "metadata": {},
     "output_type": "execute_result"
    }
   ],
   "source": [
    "#Criação das massas com casos forçados\n",
    "#Digito CPF Concomitante CP\n",
    "massa_limiteFinal = sherlock.Gera_Massa(base_entrada)\n",
    "massa_limiteFinal.gera_cenario('solicitante.rendaLiquidaPicpay',[10000])\n",
    "massa_limiteFinal.gera_cenario('payloadHomol.intermediarias.alavancagem',[0.3])\n",
    "massa_limiteFinal.gera_cenario('payloadHomol.intermediarias.limitePiso',[4000])\n",
    "massa_limiteFinal.gera_cenario('payloadHomol.intermediarias.limiteFixo',[0])\n",
    "massa_limiteFinal.gera_cenario('payloadHomol.intermediarias.limiteTeto',[4000])\n",
    "\n",
    "massa_limiteFinal.set_bom_arqv()\n",
    "massa_limiteFinal.converte_massa()\n",
    "\n",
    "massa_limiteFinal.get_massa_final()\n",
    "\n",
    "listaResultado = rp.execucaoModular(massa_limiteFinal.get_massa_json(),rp.LimiteFinal)\n",
    "\n",
    "# Renomeação das colunas para o cabeçalho do RMA\n",
    "massa_limiteFinal.rename_cabecalho()\n",
    "\n",
    "massa_limiteFinal.atribui_expected(listaResultado,\"payloadHomol.saidas.limiteFinal\",\"limite\")\n",
    "\n",
    "massa_limiteFinal.get_massa_dm()\n",
    "\n"
   ]
  }
 ],
 "metadata": {
  "application/vnd.databricks.v1+notebook": {
   "dashboards": [],
   "language": "python",
   "notebookMetadata": {
    "pythonIndentUnit": 4
   },
   "notebookName": "homol_modular_LimiteFinal",
   "widgets": {}
  },
  "kernelspec": {
   "display_name": "Python 3",
   "language": "python",
   "name": "python3"
  },
  "language_info": {
   "codemirror_mode": {
    "name": "ipython",
    "version": 3
   },
   "file_extension": ".py",
   "mimetype": "text/x-python",
   "name": "python",
   "nbconvert_exporter": "python",
   "pygments_lexer": "ipython3",
   "version": "3.11.8"
  }
 },
 "nbformat": 4,
 "nbformat_minor": 0
}
